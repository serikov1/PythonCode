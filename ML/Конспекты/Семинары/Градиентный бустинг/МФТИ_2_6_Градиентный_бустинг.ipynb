{
  "nbformat": 4,
  "nbformat_minor": 0,
  "metadata": {
    "colab": {
      "provenance": [],
      "toc_visible": true,
      "collapsed_sections": [
        "iG687RUYHnuU"
      ]
    },
    "kernelspec": {
      "display_name": "Python 3",
      "language": "python",
      "name": "python3"
    },
    "language_info": {
      "codemirror_mode": {
        "name": "ipython",
        "version": 3
      },
      "file_extension": ".py",
      "mimetype": "text/x-python",
      "name": "python",
      "nbconvert_exporter": "python",
      "pygments_lexer": "ipython3",
      "version": "3.7.6"
    },
    "toc": {
      "base_numbering": 1,
      "nav_menu": {},
      "number_sections": true,
      "sideBar": true,
      "skip_h1_title": false,
      "title_cell": "Table of Contents",
      "title_sidebar": "Contents",
      "toc_cell": false,
      "toc_position": {},
      "toc_section_display": true,
      "toc_window_display": false
    },
    "varInspector": {
      "cols": {
        "lenName": 16,
        "lenType": 16,
        "lenVar": 40
      },
      "kernels_config": {
        "python": {
          "delete_cmd_postfix": "",
          "delete_cmd_prefix": "del ",
          "library": "var_list.py",
          "varRefreshCmd": "print(var_dic_list())"
        },
        "r": {
          "delete_cmd_postfix": ") ",
          "delete_cmd_prefix": "rm(",
          "library": "var_list.r",
          "varRefreshCmd": "cat(var_dic_list()) "
        }
      },
      "types_to_exclude": [
        "module",
        "function",
        "builtin_function_or_method",
        "instance",
        "_Feature"
      ],
      "window_display": false
    },
    "widgets": {
      "application/vnd.jupyter.widget-state+json": {
        "58b6e04061ba42489d29c331fa337777": {
          "model_module": "catboost-widget",
          "model_name": "CatboostWidgetModel",
          "model_module_version": "^1.0.0",
          "state": {
            "_dom_classes": [],
            "_model_module": "catboost-widget",
            "_model_module_version": "^1.0.0",
            "_model_name": "CatboostWidgetModel",
            "_view_count": null,
            "_view_module": "catboost-widget",
            "_view_module_version": "^1.0.0",
            "_view_name": "CatboostWidgetView",
            "data": {
              "catboost_info": {
                "path": "catboost_info",
                "name": "catboost_info",
                "content": {
                  "passed_iterations": 446,
                  "total_iterations": 1000,
                  "data": {
                    "iterations": [
                      {
                        "learn": [
                          0.06187285398,
                          75141.1274,
                          54681.32146
                        ],
                        "iteration": 0,
                        "passed_time": 0.03471203231,
                        "remaining_time": 34.67732028,
                        "test": [
                          0.06080101547,
                          80955.65807,
                          57389.27167
                        ]
                      },
                      {
                        "learn": [
                          0.1137752709,
                          73032.94061,
                          52908.77438
                        ],
                        "iteration": 1,
                        "passed_time": 0.06284185535,
                        "remaining_time": 31.35808582,
                        "test": [
                          0.1094517317,
                          78831.01747,
                          55447.57133
                        ]
                      },
                      {
                        "learn": [
                          0.1620801922,
                          71014.67172,
                          51259.00282
                        ],
                        "iteration": 2,
                        "passed_time": 0.08122914304,
                        "remaining_time": 26.99515187,
                        "test": [
                          0.1569803896,
                          76698.56507,
                          53600.76975
                        ]
                      },
                      {
                        "learn": [
                          0.2091070395,
                          68993.10813,
                          49737.68717
                        ],
                        "iteration": 3,
                        "passed_time": 0.09915402392,
                        "remaining_time": 24.68935195,
                        "test": [
                          0.2013045156,
                          74655.01977,
                          52011.16897
                        ]
                      },
                      {
                        "learn": [
                          0.2543419008,
                          66991.04077,
                          48131.0115
                        ],
                        "iteration": 4,
                        "passed_time": 0.1135687963,
                        "remaining_time": 22.60019046,
                        "test": [
                          0.2441975448,
                          72622.72645,
                          50372.91925
                        ]
                      },
                      {
                        "learn": [
                          0.291865109,
                          65283.71376,
                          46785.31917
                        ],
                        "iteration": 5,
                        "passed_time": 0.1383792153,
                        "remaining_time": 22.92482333,
                        "test": [
                          0.2812645756,
                          70819.5113,
                          48851.92435
                        ]
                      },
                      {
                        "learn": [
                          0.3312551085,
                          63442.03337,
                          45284.29529
                        ],
                        "iteration": 6,
                        "passed_time": 0.1564137397,
                        "remaining_time": 22.18840622,
                        "test": [
                          0.3190185625,
                          68934.40592,
                          47206.34428
                        ]
                      },
                      {
                        "learn": [
                          0.3656859397,
                          61787.27249,
                          43921.74378
                        ],
                        "iteration": 7,
                        "passed_time": 0.1798386374,
                        "remaining_time": 22.29999104,
                        "test": [
                          0.3526249859,
                          67211.93009,
                          45685.87068
                        ]
                      },
                      {
                        "learn": [
                          0.3994708388,
                          60119.29871,
                          42457.34968
                        ],
                        "iteration": 8,
                        "passed_time": 0.1997907325,
                        "remaining_time": 21.99917955,
                        "test": [
                          0.3835621262,
                          65586.28882,
                          44096.74682
                        ]
                      },
                      {
                        "learn": [
                          0.4318227365,
                          58477.49772,
                          41038.40695
                        ],
                        "iteration": 9,
                        "passed_time": 0.2198671027,
                        "remaining_time": 21.76684317,
                        "test": [
                          0.4158901753,
                          63843.34831,
                          42586.87674
                        ]
                      },
                      {
                        "learn": [
                          0.4593496325,
                          57043.36104,
                          39810.95711
                        ],
                        "iteration": 10,
                        "passed_time": 0.2463159422,
                        "remaining_time": 22.14604244,
                        "test": [
                          0.4426321208,
                          62364.77628,
                          41260.64326
                        ]
                      },
                      {
                        "learn": [
                          0.4850490075,
                          55671.10032,
                          38585.17121
                        ],
                        "iteration": 11,
                        "passed_time": 0.2605840177,
                        "remaining_time": 21.45475079,
                        "test": [
                          0.4674034749,
                          60963.17322,
                          39936.27874
                        ]
                      },
                      {
                        "learn": [
                          0.5103491664,
                          54286.28275,
                          37330.79052
                        ],
                        "iteration": 12,
                        "passed_time": 0.2742423819,
                        "remaining_time": 20.82132546,
                        "test": [
                          0.4912450377,
                          59583.04984,
                          38681.15121
                        ]
                      },
                      {
                        "learn": [
                          0.5336918435,
                          52976.51207,
                          36263.38079
                        ],
                        "iteration": 13,
                        "passed_time": 0.2872202067,
                        "remaining_time": 20.22850885,
                        "test": [
                          0.5155826617,
                          58140.43005,
                          37530.3664
                        ]
                      },
                      {
                        "learn": [
                          0.5554217984,
                          51727.43428,
                          35277.86195
                        ],
                        "iteration": 14,
                        "passed_time": 0.3019778103,
                        "remaining_time": 19.82987621,
                        "test": [
                          0.5367033173,
                          56858.84004,
                          36489.32572
                        ]
                      },
                      {
                        "learn": [
                          0.5754359524,
                          50549.68607,
                          34217.10296
                        ],
                        "iteration": 15,
                        "passed_time": 0.3198441588,
                        "remaining_time": 19.67041577,
                        "test": [
                          0.556707432,
                          55617.77686,
                          35424.84845
                        ]
                      },
                      {
                        "learn": [
                          0.5934449102,
                          49465.97305,
                          33373.71011
                        ],
                        "iteration": 16,
                        "passed_time": 0.3354583366,
                        "remaining_time": 19.39738499,
                        "test": [
                          0.5720607123,
                          54646.13869,
                          34559.64116
                        ]
                      },
                      {
                        "learn": [
                          0.6121054301,
                          48317.41656,
                          32524.5073
                        ],
                        "iteration": 17,
                        "passed_time": 0.3491806453,
                        "remaining_time": 19.04974409,
                        "test": [
                          0.5908330393,
                          53434.1222,
                          33738.09878
                        ]
                      },
                      {
                        "learn": [
                          0.6280208331,
                          47315.79745,
                          31678.49637
                        ],
                        "iteration": 18,
                        "passed_time": 0.373779983,
                        "remaining_time": 19.2988507,
                        "test": [
                          0.6082266426,
                          52286.05188,
                          32867.37167
                        ]
                      },
                      {
                        "learn": [
                          0.6439254179,
                          46293.21489,
                          30828.38477
                        ],
                        "iteration": 19,
                        "passed_time": 0.3946490096,
                        "remaining_time": 19.33780147,
                        "test": [
                          0.6237902264,
                          51236.9698,
                          32064.20615
                        ]
                      },
                      {
                        "learn": [
                          0.6579737862,
                          45370.81198,
                          30121.14766
                        ],
                        "iteration": 20,
                        "passed_time": 0.4104780782,
                        "remaining_time": 19.13609707,
                        "test": [
                          0.6362675816,
                          50380.1441,
                          31380.57803
                        ]
                      },
                      {
                        "learn": [
                          0.6717907017,
                          44444.93707,
                          29329.36626
                        ],
                        "iteration": 21,
                        "passed_time": 0.4419572123,
                        "remaining_time": 19.64700698,
                        "test": [
                          0.6490997945,
                          49483.47739,
                          30604.52569
                        ]
                      },
                      {
                        "learn": [
                          0.6835011284,
                          43644.84327,
                          28648.38063
                        ],
                        "iteration": 22,
                        "passed_time": 0.4607118375,
                        "remaining_time": 19.57023762,
                        "test": [
                          0.661559996,
                          48596.97604,
                          29888.51254
                        ]
                      },
                      {
                        "learn": [
                          0.696600667,
                          42732.09312,
                          27992.27688
                        ],
                        "iteration": 23,
                        "passed_time": 0.4838929636,
                        "remaining_time": 19.67831385,
                        "test": [
                          0.6749328487,
                          47627.18824,
                          29219.26639
                        ]
                      },
                      {
                        "learn": [
                          0.7103576702,
                          41752.05648,
                          27272.09974
                        ],
                        "iteration": 24,
                        "passed_time": 0.5060499933,
                        "remaining_time": 19.73594974,
                        "test": [
                          0.6884786362,
                          46624.2993,
                          28574.71577
                        ]
                      },
                      {
                        "learn": [
                          0.7207187318,
                          40998.48033,
                          26645.98806
                        ],
                        "iteration": 25,
                        "passed_time": 0.5240264581,
                        "remaining_time": 19.63083731,
                        "test": [
                          0.6993690779,
                          45802.0825,
                          27942.63254
                        ]
                      },
                      {
                        "learn": [
                          0.7307212114,
                          40257.60439,
                          26094.59999
                        ],
                        "iteration": 26,
                        "passed_time": 0.5386658219,
                        "remaining_time": 19.41192018,
                        "test": [
                          0.7092353824,
                          45044.2312,
                          27417.02184
                        ]
                      },
                      {
                        "learn": [
                          0.7403801544,
                          39528.99738,
                          25592.31228
                        ],
                        "iteration": 27,
                        "passed_time": 0.5520333742,
                        "remaining_time": 19.16344428,
                        "test": [
                          0.7185590075,
                          44316.15545,
                          26882.76048
                        ]
                      },
                      {
                        "learn": [
                          0.7504139032,
                          38757.6155,
                          25051.35072
                        ],
                        "iteration": 28,
                        "passed_time": 0.5736516747,
                        "remaining_time": 19.20744055,
                        "test": [
                          0.7293592794,
                          43457.52321,
                          26356.96315
                        ]
                      },
                      {
                        "learn": [
                          0.7593053971,
                          38060.98569,
                          24567.96895
                        ],
                        "iteration": 29,
                        "passed_time": 0.5935964868,
                        "remaining_time": 19.19295307,
                        "test": [
                          0.7377005135,
                          42782.59472,
                          25925.33932
                        ]
                      },
                      {
                        "learn": [
                          0.7678779446,
                          37377.05323,
                          24138.38048
                        ],
                        "iteration": 30,
                        "passed_time": 0.6211215452,
                        "remaining_time": 19.41505733,
                        "test": [
                          0.7459783606,
                          42102.09991,
                          25488.72501
                        ]
                      },
                      {
                        "learn": [
                          0.7740749341,
                          36874.74826,
                          23815.95026
                        ],
                        "iteration": 31,
                        "passed_time": 0.643668591,
                        "remaining_time": 19.47097488,
                        "test": [
                          0.7521274621,
                          41589.3954,
                          25133.09693
                        ]
                      },
                      {
                        "learn": [
                          0.78277534,
                          36157.75172,
                          23378.36794
                        ],
                        "iteration": 32,
                        "passed_time": 0.6564309214,
                        "remaining_time": 19.23541518,
                        "test": [
                          0.76054979,
                          40876.71729,
                          24677.21154
                        ]
                      },
                      {
                        "learn": [
                          0.7891858479,
                          35620.23139,
                          22966.60459
                        ],
                        "iteration": 33,
                        "passed_time": 0.677204081,
                        "remaining_time": 19.24056301,
                        "test": [
                          0.7656603147,
                          40438.15396,
                          24302.72505
                        ]
                      },
                      {
                        "learn": [
                          0.7947682902,
                          35145.44827,
                          22636.22368
                        ],
                        "iteration": 34,
                        "passed_time": 0.6958666605,
                        "remaining_time": 19.18603792,
                        "test": [
                          0.7710203641,
                          39973.008,
                          24006.00911
                        ]
                      },
                      {
                        "learn": [
                          0.8012271425,
                          34587.99566,
                          22285.39737
                        ],
                        "iteration": 35,
                        "passed_time": 0.7163784367,
                        "remaining_time": 19.18302258,
                        "test": [
                          0.7759749765,
                          39538.17925,
                          23665.07488
                        ]
                      },
                      {
                        "learn": [
                          0.8063492845,
                          34139.4412,
                          21963.25594
                        ],
                        "iteration": 36,
                        "passed_time": 0.7369559924,
                        "remaining_time": 19.18077353,
                        "test": [
                          0.7810141896,
                          39090.96465,
                          23367.76664
                        ]
                      },
                      {
                        "learn": [
                          0.8108585744,
                          33739.6198,
                          21694.12516
                        ],
                        "iteration": 37,
                        "passed_time": 0.7580572404,
                        "remaining_time": 19.19081751,
                        "test": [
                          0.7857636568,
                          38664.72927,
                          23110.11873
                        ]
                      },
                      {
                        "learn": [
                          0.8159820735,
                          33279.50988,
                          21400.09347
                        ],
                        "iteration": 38,
                        "passed_time": 0.7822741641,
                        "remaining_time": 19.27603774,
                        "test": [
                          0.7897993054,
                          38298.82708,
                          22860.32579
                        ]
                      },
                      {
                        "learn": [
                          0.8215136555,
                          32775.50205,
                          21088.27141
                        ],
                        "iteration": 39,
                        "passed_time": 0.8063953826,
                        "remaining_time": 19.35348918,
                        "test": [
                          0.7947052683,
                          37849.25212,
                          22599.3996
                        ]
                      },
                      {
                        "learn": [
                          0.826909425,
                          32276.28678,
                          20818.30685
                        ],
                        "iteration": 40,
                        "passed_time": 0.8219396423,
                        "remaining_time": 19.22536871,
                        "test": [
                          0.7993764046,
                          37416.17644,
                          22343.21266
                        ]
                      },
                      {
                        "learn": [
                          0.831771051,
                          31819.78356,
                          20541.63952
                        ],
                        "iteration": 41,
                        "passed_time": 0.8337326837,
                        "remaining_time": 19.0170455,
                        "test": [
                          0.8033151792,
                          37047.06629,
                          22085.19705
                        ]
                      },
                      {
                        "learn": [
                          0.8357230904,
                          31443.80667,
                          20328.77332
                        ],
                        "iteration": 42,
                        "passed_time": 0.8480877292,
                        "remaining_time": 18.87488272,
                        "test": [
                          0.8073864316,
                          36661.63581,
                          21939.98071
                        ]
                      },
                      {
                        "learn": [
                          0.8400393935,
                          31027.97097,
                          20072.46784
                        ],
                        "iteration": 43,
                        "passed_time": 0.8700181824,
                        "remaining_time": 18.90312233,
                        "test": [
                          0.8115660673,
                          36261.68295,
                          21703.99391
                        ]
                      },
                      {
                        "learn": [
                          0.8437070002,
                          30670.20076,
                          19874.74139
                        ],
                        "iteration": 44,
                        "passed_time": 0.8932372277,
                        "remaining_time": 18.95647894,
                        "test": [
                          0.8148086504,
                          35948.33238,
                          21563.16621
                        ]
                      },
                      {
                        "learn": [
                          0.8471030129,
                          30335.16203,
                          19669.23079
                        ],
                        "iteration": 45,
                        "passed_time": 0.9191800868,
                        "remaining_time": 19.06299571,
                        "test": [
                          0.8176225081,
                          35674.18168,
                          21370.10052
                        ]
                      },
                      {
                        "learn": [
                          0.8502810823,
                          30018.23788,
                          19472.86589
                        ],
                        "iteration": 46,
                        "passed_time": 0.9422655931,
                        "remaining_time": 19.10593852,
                        "test": [
                          0.8208851966,
                          35353.64043,
                          21206.90389
                        ]
                      },
                      {
                        "learn": [
                          0.8530736259,
                          29736.97145,
                          19274.80073
                        ],
                        "iteration": 47,
                        "passed_time": 0.9720603838,
                        "remaining_time": 19.27919761,
                        "test": [
                          0.82345071,
                          35099.53702,
                          21038.81385
                        ]
                      },
                      {
                        "learn": [
                          0.8562838603,
                          29410.31167,
                          19109.06046
                        ],
                        "iteration": 48,
                        "passed_time": 0.9897867958,
                        "remaining_time": 19.20994373,
                        "test": [
                          0.826489782,
                          34796.12866,
                          20860.41095
                        ]
                      },
                      {
                        "learn": [
                          0.8591158571,
                          29119.09762,
                          18965.39781
                        ],
                        "iteration": 49,
                        "passed_time": 1.010952099,
                        "remaining_time": 19.20808988,
                        "test": [
                          0.8288013192,
                          34563.57109,
                          20734.27287
                        ]
                      },
                      {
                        "learn": [
                          0.8622427304,
                          28794.14043,
                          18743.74566
                        ],
                        "iteration": 50,
                        "passed_time": 1.025606459,
                        "remaining_time": 19.08432411,
                        "test": [
                          0.8322180762,
                          34216.92558,
                          20510.79743
                        ]
                      },
                      {
                        "learn": [
                          0.8648126395,
                          28524.29371,
                          18578.66452
                        ],
                        "iteration": 51,
                        "passed_time": 1.044040649,
                        "remaining_time": 19.03366415,
                        "test": [
                          0.8336892602,
                          34066.58092,
                          20383.89316
                        ]
                      },
                      {
                        "learn": [
                          0.8666881773,
                          28325.73505,
                          18481.31961
                        ],
                        "iteration": 52,
                        "passed_time": 1.066068962,
                        "remaining_time": 19.04843975,
                        "test": [
                          0.835701985,
                          33859.81325,
                          20279.80532
                        ]
                      },
                      {
                        "learn": [
                          0.8695127851,
                          28024.04594,
                          18313.13193
                        ],
                        "iteration": 53,
                        "passed_time": 1.092179745,
                        "remaining_time": 19.1333711,
                        "test": [
                          0.838314368,
                          33589.5445,
                          20128.7582
                        ]
                      },
                      {
                        "learn": [
                          0.8715780584,
                          27801.38751,
                          18191.09295
                        ],
                        "iteration": 54,
                        "passed_time": 1.108845594,
                        "remaining_time": 19.05198339,
                        "test": [
                          0.8404384976,
                          33368.17532,
                          20011.59362
                        ]
                      },
                      {
                        "learn": [
                          0.8736810001,
                          27572.82057,
                          18085.309
                        ],
                        "iteration": 55,
                        "passed_time": 1.120321682,
                        "remaining_time": 18.88542264,
                        "test": [
                          0.8428277275,
                          33117.41014,
                          19924.3103
                        ]
                      },
                      {
                        "learn": [
                          0.8755625333,
                          27366.70028,
                          18003.12769
                        ],
                        "iteration": 56,
                        "passed_time": 1.138183414,
                        "remaining_time": 18.82994665,
                        "test": [
                          0.8450193337,
                          32885.70542,
                          19848.20229
                        ]
                      },
                      {
                        "learn": [
                          0.8783697588,
                          27056.25225,
                          17828.17225
                        ],
                        "iteration": 57,
                        "passed_time": 1.155415948,
                        "remaining_time": 18.76554868,
                        "test": [
                          0.8480294919,
                          32564.77322,
                          19665.04013
                        ]
                      },
                      {
                        "learn": [
                          0.8804832112,
                          26820.15684,
                          17700.06434
                        ],
                        "iteration": 58,
                        "passed_time": 1.175574958,
                        "remaining_time": 18.74942433,
                        "test": [
                          0.8491356182,
                          32446.04447,
                          19591.75286
                        ]
                      },
                      {
                        "learn": [
                          0.8826559702,
                          26575.24974,
                          17565.77302
                        ],
                        "iteration": 59,
                        "passed_time": 1.187420588,
                        "remaining_time": 18.60292255,
                        "test": [
                          0.8509518094,
                          32250.15114,
                          19487.53275
                        ]
                      },
                      {
                        "learn": [
                          0.8848951591,
                          26320.47058,
                          17426.26819
                        ],
                        "iteration": 60,
                        "passed_time": 1.198985177,
                        "remaining_time": 18.45650953,
                        "test": [
                          0.8528998602,
                          32038.70422,
                          19386.97413
                        ]
                      },
                      {
                        "learn": [
                          0.8871100875,
                          26066.00195,
                          17274.89964
                        ],
                        "iteration": 61,
                        "passed_time": 1.211181639,
                        "remaining_time": 18.32400608,
                        "test": [
                          0.8552379462,
                          31783.06443,
                          19277.13185
                        ]
                      },
                      {
                        "learn": [
                          0.8892241001,
                          25820.7884,
                          17141.39489
                        ],
                        "iteration": 62,
                        "passed_time": 1.228982099,
                        "remaining_time": 18.27867027,
                        "test": [
                          0.8573613394,
                          31549.10375,
                          19179.64404
                        ]
                      },
                      {
                        "learn": [
                          0.8909642215,
                          25617.18293,
                          16997.59763
                        ],
                        "iteration": 63,
                        "passed_time": 1.242131852,
                        "remaining_time": 18.16617833,
                        "test": [
                          0.858715825,
                          31398.95253,
                          19067.89239
                        ]
                      },
                      {
                        "learn": [
                          0.8926277817,
                          25421.01097,
                          16904.33413
                        ],
                        "iteration": 64,
                        "passed_time": 1.255004204,
                        "remaining_time": 18.05275277,
                        "test": [
                          0.8607739465,
                          31169.41539,
                          18995.03298
                        ]
                      },
                      {
                        "learn": [
                          0.894126126,
                          25243.01687,
                          16810.39669
                        ],
                        "iteration": 65,
                        "passed_time": 1.270048822,
                        "remaining_time": 17.97311515,
                        "test": [
                          0.8621503838,
                          31014.95683,
                          18924.69645
                        ]
                      },
                      {
                        "learn": [
                          0.8956554863,
                          25060.03452,
                          16716.35893
                        ],
                        "iteration": 66,
                        "passed_time": 1.283742113,
                        "remaining_time": 17.87658793,
                        "test": [
                          0.8626533301,
                          30958.32586,
                          18874.37698
                        ]
                      },
                      {
                        "learn": [
                          0.8968626124,
                          24914.65735,
                          16644.51412
                        ],
                        "iteration": 67,
                        "passed_time": 1.310775391,
                        "remaining_time": 17.9653333,
                        "test": [
                          0.8637923963,
                          30829.68423,
                          18814.93033
                        ]
                      },
                      {
                        "learn": [
                          0.8983601681,
                          24733.11543,
                          16527.76027
                        ],
                        "iteration": 68,
                        "passed_time": 1.33496121,
                        "remaining_time": 18.0123027,
                        "test": [
                          0.8653426483,
                          30653.73755,
                          18719.67178
                        ]
                      },
                      {
                        "learn": [
                          0.8998198791,
                          24554.86954,
                          16414.07172
                        ],
                        "iteration": 69,
                        "passed_time": 1.373659862,
                        "remaining_time": 18.25005245,
                        "test": [
                          0.8657253556,
                          30610.14633,
                          18685.54466
                        ]
                      },
                      {
                        "learn": [
                          0.9011861726,
                          24386.85051,
                          16331.38664
                        ],
                        "iteration": 70,
                        "passed_time": 1.387657584,
                        "remaining_time": 18.15681543,
                        "test": [
                          0.8668303533,
                          30483.9348,
                          18656.12899
                        ]
                      },
                      {
                        "learn": [
                          0.9030073439,
                          24161.07656,
                          16208.76138
                        ],
                        "iteration": 71,
                        "passed_time": 1.421386782,
                        "remaining_time": 18.32009631,
                        "test": [
                          0.8678016762,
                          30372.55832,
                          18575.36382
                        ]
                      },
                      {
                        "learn": [
                          0.9043049158,
                          23998.91844,
                          16124.77676
                        ],
                        "iteration": 72,
                        "passed_time": 1.445816529,
                        "remaining_time": 18.35988935,
                        "test": [
                          0.8686380706,
                          30276.32508,
                          18536.46344
                        ]
                      },
                      {
                        "learn": [
                          0.905865848,
                          23802.38429,
                          16015.32882
                        ],
                        "iteration": 73,
                        "passed_time": 1.473167163,
                        "remaining_time": 18.4344972,
                        "test": [
                          0.8702678273,
                          30087.92556,
                          18457.88241
                        ]
                      },
                      {
                        "learn": [
                          0.9069660771,
                          23662.87569,
                          15931.39979
                        ],
                        "iteration": 74,
                        "passed_time": 1.504977807,
                        "remaining_time": 18.56139295,
                        "test": [
                          0.8716916188,
                          29922.36479,
                          18369.39603
                        ]
                      },
                      {
                        "learn": [
                          0.907985059,
                          23532.93153,
                          15873.06824
                        ],
                        "iteration": 75,
                        "passed_time": 1.526429465,
                        "remaining_time": 18.55816876,
                        "test": [
                          0.8719487721,
                          29892.36482,
                          18357.36157
                        ]
                      },
                      {
                        "learn": [
                          0.9087872632,
                          23430.12462,
                          15823.3882
                        ],
                        "iteration": 76,
                        "passed_time": 1.547640423,
                        "remaining_time": 18.55158584,
                        "test": [
                          0.8723152905,
                          29849.55401,
                          18320.72548
                        ]
                      },
                      {
                        "learn": [
                          0.9103535976,
                          23228.07866,
                          15716.56198
                        ],
                        "iteration": 77,
                        "passed_time": 1.575053315,
                        "remaining_time": 18.61793791,
                        "test": [
                          0.8735851534,
                          29700.75172,
                          18244.38334
                        ]
                      },
                      {
                        "learn": [
                          0.9112707435,
                          23108.95338,
                          15663.28799
                        ],
                        "iteration": 78,
                        "passed_time": 1.593803773,
                        "remaining_time": 18.58092753,
                        "test": [
                          0.8739037498,
                          29663.30152,
                          18222.05928
                        ]
                      },
                      {
                        "learn": [
                          0.9123630122,
                          22966.27582,
                          15564.96641
                        ],
                        "iteration": 79,
                        "passed_time": 1.611395779,
                        "remaining_time": 18.53105146,
                        "test": [
                          0.8747195539,
                          29567.18958,
                          18174.54656
                        ]
                      },
                      {
                        "learn": [
                          0.9133353426,
                          22838.51529,
                          15493.86489
                        ],
                        "iteration": 80,
                        "passed_time": 1.630664675,
                        "remaining_time": 18.50099798,
                        "test": [
                          0.8759976672,
                          29415.98043,
                          18128.72859
                        ]
                      },
                      {
                        "learn": [
                          0.914400795,
                          22697.69318,
                          15422.59167
                        ],
                        "iteration": 81,
                        "passed_time": 1.653516888,
                        "remaining_time": 18.51132321,
                        "test": [
                          0.8766808635,
                          29334.83419,
                          18092.29386
                        ]
                      },
                      {
                        "learn": [
                          0.9152301086,
                          22587.47415,
                          15345.67999
                        ],
                        "iteration": 82,
                        "passed_time": 1.674386208,
                        "remaining_time": 18.49894159,
                        "test": [
                          0.8775675847,
                          29229.17846,
                          18007.75841
                        ]
                      },
                      {
                        "learn": [
                          0.916166009,
                          22462.4398,
                          15268.1048
                        ],
                        "iteration": 83,
                        "passed_time": 1.689543688,
                        "remaining_time": 18.42407164,
                        "test": [
                          0.8783068625,
                          29140.79827,
                          17956.06524
                        ]
                      },
                      {
                        "learn": [
                          0.916951335,
                          22356.98231,
                          15206.844
                        ],
                        "iteration": 84,
                        "passed_time": 1.727227808,
                        "remaining_time": 18.59309934,
                        "test": [
                          0.878774963,
                          29084.69828,
                          17939.16306
                        ]
                      },
                      {
                        "learn": [
                          0.9177304645,
                          22251.86302,
                          15148.34261
                        ],
                        "iteration": 85,
                        "passed_time": 1.758240632,
                        "remaining_time": 18.68641788,
                        "test": [
                          0.8791084293,
                          29044.66759,
                          17916.62144
                        ]
                      },
                      {
                        "learn": [
                          0.9189519935,
                          22086.04862,
                          15040.27563
                        ],
                        "iteration": 86,
                        "passed_time": 1.772209993,
                        "remaining_time": 18.59801981,
                        "test": [
                          0.8796611581,
                          28978.1939,
                          17841.7712
                        ]
                      },
                      {
                        "learn": [
                          0.9199816537,
                          21945.30602,
                          14956.78349
                        ],
                        "iteration": 87,
                        "passed_time": 1.786828334,
                        "remaining_time": 18.5180391,
                        "test": [
                          0.8804991703,
                          28877.11887,
                          17797.63834
                        ]
                      },
                      {
                        "learn": [
                          0.9207183608,
                          21844.05019,
                          14902.65888
                        ],
                        "iteration": 88,
                        "passed_time": 1.801910483,
                        "remaining_time": 18.44427472,
                        "test": [
                          0.8812553735,
                          28785.60643,
                          17777.07688
                        ]
                      },
                      {
                        "learn": [
                          0.9215725446,
                          21726.05715,
                          14850.90542
                        ],
                        "iteration": 89,
                        "passed_time": 1.825431436,
                        "remaining_time": 18.45714008,
                        "test": [
                          0.8814682856,
                          28759.78819,
                          17771.45377
                        ]
                      },
                      {
                        "learn": [
                          0.922461089,
                          21602.63381,
                          14782.90789
                        ],
                        "iteration": 90,
                        "passed_time": 1.846541375,
                        "remaining_time": 18.44512209,
                        "test": [
                          0.8819858751,
                          28696.92716,
                          17743.33802
                        ]
                      },
                      {
                        "learn": [
                          0.9232459233,
                          21493.02685,
                          14722.49387
                        ],
                        "iteration": 91,
                        "passed_time": 1.866319519,
                        "remaining_time": 18.41976221,
                        "test": [
                          0.8826893946,
                          28611.26358,
                          17689.97771
                        ]
                      },
                      {
                        "learn": [
                          0.9242360329,
                          21353.94936,
                          14639.55051
                        ],
                        "iteration": 92,
                        "passed_time": 1.886402184,
                        "remaining_time": 18.39749227,
                        "test": [
                          0.8833671612,
                          28528.4925,
                          17650.70377
                        ]
                      },
                      {
                        "learn": [
                          0.9251473361,
                          21225.1362,
                          14569.75252
                        ],
                        "iteration": 93,
                        "passed_time": 1.902035291,
                        "remaining_time": 18.3323827,
                        "test": [
                          0.8840622424,
                          28443.35674,
                          17607.42356
                        ]
                      },
                      {
                        "learn": [
                          0.9259320097,
                          21113.59252,
                          14493.01025
                        ],
                        "iteration": 94,
                        "passed_time": 1.930007719,
                        "remaining_time": 18.385863,
                        "test": [
                          0.8846978875,
                          28365.27723,
                          17570.59674
                        ]
                      },
                      {
                        "learn": [
                          0.9265766895,
                          21021.50649,
                          14427.87973
                        ],
                        "iteration": 95,
                        "passed_time": 1.962407236,
                        "remaining_time": 18.47933481,
                        "test": [
                          0.8851467577,
                          28310.01049,
                          17515.69496
                        ]
                      },
                      {
                        "learn": [
                          0.9270154017,
                          20958.60951,
                          14395.34498
                        ],
                        "iteration": 96,
                        "passed_time": 1.982099879,
                        "remaining_time": 18.45191949,
                        "test": [
                          0.8853673945,
                          28282.80518,
                          17503.87135
                        ]
                      },
                      {
                        "learn": [
                          0.9278249363,
                          20842.05047,
                          14327.50652
                        ],
                        "iteration": 97,
                        "passed_time": 2.0182095,
                        "remaining_time": 18.57576499,
                        "test": [
                          0.8858966054,
                          28217.44471,
                          17457.73454
                        ]
                      },
                      {
                        "learn": [
                          0.9285048195,
                          20743.65299,
                          14290.81891
                        ],
                        "iteration": 98,
                        "passed_time": 2.036064092,
                        "remaining_time": 18.53023986,
                        "test": [
                          0.8863025864,
                          28167.201,
                          17438.09924
                        ]
                      },
                      {
                        "learn": [
                          0.9290586353,
                          20663.15459,
                          14244.61164
                        ],
                        "iteration": 99,
                        "passed_time": 2.054743198,
                        "remaining_time": 18.49268878,
                        "test": [
                          0.8866686659,
                          28121.81849,
                          17415.36843
                        ]
                      },
                      {
                        "learn": [
                          0.9294628194,
                          20604.20696,
                          14218.28589
                        ],
                        "iteration": 100,
                        "passed_time": 2.08234631,
                        "remaining_time": 18.53494389,
                        "test": [
                          0.8869037644,
                          28092.63491,
                          17400.36626
                        ]
                      },
                      {
                        "learn": [
                          0.9300642494,
                          20516.17881,
                          14166.27604
                        ],
                        "iteration": 101,
                        "passed_time": 2.094931069,
                        "remaining_time": 18.44360882,
                        "test": [
                          0.8873131889,
                          28041.73913,
                          17375.67683
                        ]
                      },
                      {
                        "learn": [
                          0.9306961586,
                          20423.28082,
                          14104.75496
                        ],
                        "iteration": 102,
                        "passed_time": 2.125250545,
                        "remaining_time": 18.50824989,
                        "test": [
                          0.8876671197,
                          27997.66724,
                          17351.66193
                        ]
                      },
                      {
                        "learn": [
                          0.9311917504,
                          20350.12636,
                          14068.82337
                        ],
                        "iteration": 103,
                        "passed_time": 2.143692396,
                        "remaining_time": 18.46873449,
                        "test": [
                          0.8879078096,
                          27967.65658,
                          17350.18564
                        ]
                      },
                      {
                        "learn": [
                          0.931832816,
                          20255.10655,
                          14007.00681
                        ],
                        "iteration": 104,
                        "passed_time": 2.163255487,
                        "remaining_time": 18.43917773,
                        "test": [
                          0.8883134373,
                          27917.00748,
                          17298.73862
                        ]
                      },
                      {
                        "learn": [
                          0.932582989,
                          20143.34551,
                          13953.12752
                        ],
                        "iteration": 105,
                        "passed_time": 2.185478518,
                        "remaining_time": 18.43224335,
                        "test": [
                          0.888725068,
                          27865.51469,
                          17280.21318
                        ]
                      },
                      {
                        "learn": [
                          0.9330874568,
                          20067.83973,
                          13899.52215
                        ],
                        "iteration": 106,
                        "passed_time": 2.205916878,
                        "remaining_time": 18.41012871,
                        "test": [
                          0.8890977314,
                          27818.81429,
                          17252.23081
                        ]
                      },
                      {
                        "learn": [
                          0.9332904652,
                          20037.37432,
                          13888.01085
                        ],
                        "iteration": 107,
                        "passed_time": 2.226768538,
                        "remaining_time": 18.39145866,
                        "test": [
                          0.889402185,
                          27780.60336,
                          17241.53083
                        ]
                      },
                      {
                        "learn": [
                          0.9338340864,
                          19955.56424,
                          13845.0715
                        ],
                        "iteration": 108,
                        "passed_time": 2.248266829,
                        "remaining_time": 18.37803435,
                        "test": [
                          0.8899521155,
                          27711.44992,
                          17191.32901
                        ]
                      },
                      {
                        "learn": [
                          0.9345352383,
                          19849.54934,
                          13779.93648
                        ],
                        "iteration": 109,
                        "passed_time": 2.267926805,
                        "remaining_time": 18.3495896,
                        "test": [
                          0.8902770177,
                          27670.51243,
                          17146.64415
                        ]
                      },
                      {
                        "learn": [
                          0.935009284,
                          19777.55114,
                          13730.74393
                        ],
                        "iteration": 110,
                        "passed_time": 2.288249886,
                        "remaining_time": 18.32661395,
                        "test": [
                          0.8905502011,
                          27636.04456,
                          17112.43307
                        ]
                      },
                      {
                        "learn": [
                          0.9356339809,
                          19682.26977,
                          13662.55278
                        ],
                        "iteration": 111,
                        "passed_time": 2.308671575,
                        "remaining_time": 18.30446749,
                        "test": [
                          0.8912340176,
                          27549.57756,
                          17044.06301
                        ]
                      },
                      {
                        "learn": [
                          0.9358833155,
                          19644.11119,
                          13637.55259
                        ],
                        "iteration": 112,
                        "passed_time": 2.334837318,
                        "remaining_time": 18.32743983,
                        "test": [
                          0.8913533373,
                          27534.46203,
                          17028.84048
                        ]
                      },
                      {
                        "learn": [
                          0.9363486461,
                          19572.69724,
                          13607.26935
                        ],
                        "iteration": 113,
                        "passed_time": 2.353712028,
                        "remaining_time": 18.29288471,
                        "test": [
                          0.891696895,
                          27490.89343,
                          17018.16705
                        ]
                      },
                      {
                        "learn": [
                          0.9368096349,
                          19501.69175,
                          13578.23923
                        ],
                        "iteration": 114,
                        "passed_time": 2.37293236,
                        "remaining_time": 18.26126208,
                        "test": [
                          0.8920800745,
                          27442.21854,
                          16993.01729
                        ]
                      },
                      {
                        "learn": [
                          0.9372746011,
                          19429.81078,
                          13529.35747
                        ],
                        "iteration": 115,
                        "passed_time": 2.387681642,
                        "remaining_time": 18.19578079,
                        "test": [
                          0.8925402724,
                          27383.64575,
                          16961.44852
                        ]
                      },
                      {
                        "learn": [
                          0.9376750235,
                          19367.6941,
                          13491.00553
                        ],
                        "iteration": 116,
                        "passed_time": 2.40471489,
                        "remaining_time": 18.14840383,
                        "test": [
                          0.8928363047,
                          27345.90122,
                          16913.16618
                        ]
                      },
                      {
                        "learn": [
                          0.9378990528,
                          19332.85383,
                          13480.04894
                        ],
                        "iteration": 117,
                        "passed_time": 2.419335942,
                        "remaining_time": 18.08351102,
                        "test": [
                          0.893042526,
                          27319.5769,
                          16907.83754
                        ]
                      },
                      {
                        "learn": [
                          0.938040012,
                          19310.90013,
                          13473.70522
                        ],
                        "iteration": 118,
                        "passed_time": 2.440702412,
                        "remaining_time": 18.06940189,
                        "test": [
                          0.8930608961,
                          27317.23071,
                          16903.10141
                        ]
                      },
                      {
                        "learn": [
                          0.9384128247,
                          19252.71571,
                          13438.98
                        ],
                        "iteration": 119,
                        "passed_time": 2.453247643,
                        "remaining_time": 17.99048271,
                        "test": [
                          0.8933508726,
                          27280.16882,
                          16896.06317
                        ]
                      },
                      {
                        "learn": [
                          0.9389898298,
                          19162.31493,
                          13385.71401
                        ],
                        "iteration": 120,
                        "passed_time": 2.462851586,
                        "remaining_time": 17.89129375,
                        "test": [
                          0.8937171656,
                          27233.28081,
                          16864.65498
                        ]
                      },
                      {
                        "learn": [
                          0.9394407159,
                          19091.37559,
                          13350.06204
                        ],
                        "iteration": 121,
                        "passed_time": 2.476987829,
                        "remaining_time": 17.82619109,
                        "test": [
                          0.8939931476,
                          27197.89983,
                          16858.06141
                        ]
                      },
                      {
                        "learn": [
                          0.9400760863,
                          18990.96093,
                          13280.30125
                        ],
                        "iteration": 122,
                        "passed_time": 2.490965992,
                        "remaining_time": 17.76079004,
                        "test": [
                          0.8944405339,
                          27140.44679,
                          16840.22616
                        ]
                      },
                      {
                        "learn": [
                          0.9404583265,
                          18930.29464,
                          13247.37281
                        ],
                        "iteration": 123,
                        "passed_time": 2.502201435,
                        "remaining_time": 17.67684239,
                        "test": [
                          0.8947095298,
                          27105.84389,
                          16824.07743
                        ]
                      },
                      {
                        "learn": [
                          0.9407489977,
                          18884.03105,
                          13228.17503
                        ],
                        "iteration": 124,
                        "passed_time": 2.508284707,
                        "remaining_time": 17.55799295,
                        "test": [
                          0.8951033451,
                          27055.10475,
                          16806.08339
                        ]
                      },
                      {
                        "learn": [
                          0.9411962706,
                          18812.62031,
                          13176.21438
                        ],
                        "iteration": 125,
                        "passed_time": 2.520120844,
                        "remaining_time": 17.48083823,
                        "test": [
                          0.8954805677,
                          27006.41403,
                          16757.46709
                        ]
                      },
                      {
                        "learn": [
                          0.9415882901,
                          18749.80757,
                          13133.30007
                        ],
                        "iteration": 126,
                        "passed_time": 2.555137965,
                        "remaining_time": 17.56405861,
                        "test": [
                          0.8958210442,
                          26962.39087,
                          16732.21159
                        ]
                      },
                      {
                        "learn": [
                          0.9419312553,
                          18694.68166,
                          13094.39193
                        ],
                        "iteration": 127,
                        "passed_time": 2.566373709,
                        "remaining_time": 17.48342089,
                        "test": [
                          0.8959531434,
                          26945.29126,
                          16705.84987
                        ]
                      },
                      {
                        "learn": [
                          0.9421554211,
                          18658.56274,
                          13071.77734
                        ],
                        "iteration": 128,
                        "passed_time": 2.576578812,
                        "remaining_time": 17.39690035,
                        "test": [
                          0.896021023,
                          26936.50034,
                          16699.97967
                        ]
                      },
                      {
                        "learn": [
                          0.9427349432,
                          18564.86105,
                          13006.75721
                        ],
                        "iteration": 129,
                        "passed_time": 2.5875354,
                        "remaining_time": 17.31658306,
                        "test": [
                          0.8962537232,
                          26906.34214,
                          16674.14306
                        ]
                      },
                      {
                        "learn": [
                          0.9430195274,
                          18518.67368,
                          12974.35892
                        ],
                        "iteration": 130,
                        "passed_time": 2.601090069,
                        "remaining_time": 17.25455931,
                        "test": [
                          0.8966228939,
                          26858.42771,
                          16652.67696
                        ]
                      },
                      {
                        "learn": [
                          0.943382915,
                          18459.52867,
                          12932.48659
                        ],
                        "iteration": 131,
                        "passed_time": 2.612942796,
                        "remaining_time": 17.18207839,
                        "test": [
                          0.8968758238,
                          26825.55071,
                          16630.62494
                        ]
                      },
                      {
                        "learn": [
                          0.9437677528,
                          18396.68512,
                          12898.21571
                        ],
                        "iteration": 132,
                        "passed_time": 2.623618629,
                        "remaining_time": 17.10283723,
                        "test": [
                          0.8972090614,
                          26782.17331,
                          16625.81771
                        ]
                      },
                      {
                        "learn": [
                          0.9443640964,
                          18298.8766,
                          12841.82282
                        ],
                        "iteration": 133,
                        "passed_time": 2.642842831,
                        "remaining_time": 17.07986486,
                        "test": [
                          0.8976186022,
                          26728.76715,
                          16591.26509
                        ]
                      },
                      {
                        "learn": [
                          0.944459374,
                          18283.20128,
                          12837.05857
                        ],
                        "iteration": 134,
                        "passed_time": 2.663200741,
                        "remaining_time": 17.06421216,
                        "test": [
                          0.8975312056,
                          26740.17306,
                          16595.37859
                        ]
                      },
                      {
                        "learn": [
                          0.9446226697,
                          18256.30416,
                          12821.4173
                        ],
                        "iteration": 135,
                        "passed_time": 2.682697589,
                        "remaining_time": 17.04301998,
                        "test": [
                          0.8976981213,
                          26718.38508,
                          16592.59596
                        ]
                      },
                      {
                        "learn": [
                          0.9448904025,
                          18212.11881,
                          12795.86279
                        ],
                        "iteration": 136,
                        "passed_time": 2.697133349,
                        "remaining_time": 16.98997139,
                        "test": [
                          0.8979935567,
                          26679.77746,
                          16580.73661
                        ]
                      },
                      {
                        "learn": [
                          0.9454219274,
                          18124.07926,
                          12741.93623
                        ],
                        "iteration": 137,
                        "passed_time": 2.718827878,
                        "remaining_time": 16.98282341,
                        "test": [
                          0.8984673937,
                          26617.73932,
                          16556.66535
                        ]
                      },
                      {
                        "learn": [
                          0.9457877712,
                          18063.23311,
                          12710.78488
                        ],
                        "iteration": 138,
                        "passed_time": 2.74009061,
                        "remaining_time": 16.97279148,
                        "test": [
                          0.8986940334,
                          26588.01485,
                          16546.8171
                        ]
                      },
                      {
                        "learn": [
                          0.9459390462,
                          18038.01348,
                          12701.39777
                        ],
                        "iteration": 139,
                        "passed_time": 2.766334489,
                        "remaining_time": 16.99319758,
                        "test": [
                          0.8986801317,
                          26589.83905,
                          16546.14117
                        ]
                      },
                      {
                        "learn": [
                          0.9463347447,
                          17971.87772,
                          12675.97064
                        ],
                        "iteration": 140,
                        "passed_time": 2.794539277,
                        "remaining_time": 17.02488822,
                        "test": [
                          0.8986473223,
                          26594.14386,
                          16551.49484
                        ]
                      },
                      {
                        "learn": [
                          0.9467362912,
                          17904.51483,
                          12627.51239
                        ],
                        "iteration": 141,
                        "passed_time": 2.815611925,
                        "remaining_time": 17.01264107,
                        "test": [
                          0.8988611339,
                          26566.07781,
                          16519.77493
                        ]
                      },
                      {
                        "learn": [
                          0.9471140431,
                          17840.91149,
                          12588.30865
                        ],
                        "iteration": 142,
                        "passed_time": 2.833604564,
                        "remaining_time": 16.98181197,
                        "test": [
                          0.8990652223,
                          26539.2604,
                          16500.77749
                        ]
                      },
                      {
                        "learn": [
                          0.9472617317,
                          17815.98293,
                          12579.96779
                        ],
                        "iteration": 143,
                        "passed_time": 2.839925289,
                        "remaining_time": 16.88177811,
                        "test": [
                          0.899292485,
                          26509.36593,
                          16491.90305
                        ]
                      },
                      {
                        "learn": [
                          0.9475776559,
                          17762.54019,
                          12548.55216
                        ],
                        "iteration": 144,
                        "passed_time": 2.870331129,
                        "remaining_time": 16.92505597,
                        "test": [
                          0.899484576,
                          26484.07169,
                          16474.16826
                        ]
                      },
                      {
                        "learn": [
                          0.9479561863,
                          17698.29429,
                          12508.96203
                        ],
                        "iteration": 145,
                        "passed_time": 2.885922695,
                        "remaining_time": 16.88067111,
                        "test": [
                          0.8996119985,
                          26467.27956,
                          16451.64604
                        ]
                      },
                      {
                        "learn": [
                          0.9483441365,
                          17632.20668,
                          12476.50613
                        ],
                        "iteration": 146,
                        "passed_time": 2.89851753,
                        "remaining_time": 16.8192888,
                        "test": [
                          0.8998505406,
                          26435.81506,
                          16438.1903
                        ]
                      },
                      {
                        "learn": [
                          0.9486543515,
                          17579.18259,
                          12440.62883
                        ],
                        "iteration": 147,
                        "passed_time": 2.911102484,
                        "remaining_time": 16.75850889,
                        "test": [
                          0.8999536259,
                          26422.20617,
                          16417.36198
                        ]
                      },
                      {
                        "learn": [
                          0.9489520651,
                          17528.14447,
                          12407.23817
                        ],
                        "iteration": 148,
                        "passed_time": 2.926487159,
                        "remaining_time": 16.71436625,
                        "test": [
                          0.9001657905,
                          26394.17501,
                          16392.98778
                        ]
                      },
                      {
                        "learn": [
                          0.949256422,
                          17475.8134,
                          12367.22554
                        ],
                        "iteration": 149,
                        "passed_time": 2.938995599,
                        "remaining_time": 16.6543084,
                        "test": [
                          0.9002294486,
                          26385.7587,
                          16383.47054
                        ]
                      },
                      {
                        "learn": [
                          0.949455066,
                          17441.57389,
                          12353.81411
                        ],
                        "iteration": 150,
                        "passed_time": 2.95162764,
                        "remaining_time": 16.59557528,
                        "test": [
                          0.9002370202,
                          26384.75748,
                          16375.04969
                        ]
                      },
                      {
                        "learn": [
                          0.9498628971,
                          17371.0661,
                          12324.20276
                        ],
                        "iteration": 151,
                        "passed_time": 2.96675241,
                        "remaining_time": 16.55135555,
                        "test": [
                          0.9002779475,
                          26379.34481,
                          16365.85512
                        ]
                      },
                      {
                        "learn": [
                          0.950201695,
                          17312.27474,
                          12286.30298
                        ],
                        "iteration": 152,
                        "passed_time": 2.988207761,
                        "remaining_time": 16.54256192,
                        "test": [
                          0.9005083849,
                          26348.84852,
                          16344.25639
                        ]
                      },
                      {
                        "learn": [
                          0.9505295252,
                          17255.19592,
                          12254.03145
                        ],
                        "iteration": 153,
                        "passed_time": 2.994073151,
                        "remaining_time": 16.4479603,
                        "test": [
                          0.9007743076,
                          26313.61216,
                          16319.33451
                        ]
                      },
                      {
                        "learn": [
                          0.9509558968,
                          17180.67625,
                          12208.35147
                        ],
                        "iteration": 154,
                        "passed_time": 3.015167072,
                        "remaining_time": 16.43752372,
                        "test": [
                          0.901011194,
                          26282.1835,
                          16296.84079
                        ]
                      },
                      {
                        "learn": [
                          0.9512499112,
                          17129.10064,
                          12182.41414
                        ],
                        "iteration": 155,
                        "passed_time": 3.023270752,
                        "remaining_time": 16.35666997,
                        "test": [
                          0.9010285764,
                          26279.87583,
                          16286.16841
                        ]
                      },
                      {
                        "learn": [
                          0.9517252698,
                          17045.38375,
                          12138.38073
                        ],
                        "iteration": 156,
                        "passed_time": 3.030527262,
                        "remaining_time": 16.27219415,
                        "test": [
                          0.9010273799,
                          26280.03467,
                          16278.23259
                        ]
                      },
                      {
                        "learn": [
                          0.9519053897,
                          17013.55464,
                          12125.69757
                        ],
                        "iteration": 157,
                        "passed_time": 3.036372058,
                        "remaining_time": 16.18117261,
                        "test": [
                          0.9012541833,
                          26249.90604,
                          16267.82792
                        ]
                      },
                      {
                        "learn": [
                          0.9520586921,
                          16986.4175,
                          12116.64263
                        ],
                        "iteration": 158,
                        "passed_time": 3.040735518,
                        "remaining_time": 16.08338724,
                        "test": [
                          0.9015104118,
                          26215.82692,
                          16256.61287
                        ]
                      },
                      {
                        "learn": [
                          0.9522415824,
                          16953.98598,
                          12102.38211
                        ],
                        "iteration": 159,
                        "passed_time": 3.046426377,
                        "remaining_time": 15.99373848,
                        "test": [
                          0.901553369,
                          26210.10915,
                          16252.8225
                        ]
                      },
                      {
                        "learn": [
                          0.9525320825,
                          16902.34433,
                          12073.92465
                        ],
                        "iteration": 160,
                        "passed_time": 3.054662668,
                        "remaining_time": 15.91839738,
                        "test": [
                          0.9016234726,
                          26200.77541,
                          16244.75384
                        ]
                      },
                      {
                        "learn": [
                          0.9529105608,
                          16834.82532,
                          12030.8908
                        ],
                        "iteration": 161,
                        "passed_time": 3.061983663,
                        "remaining_time": 15.83915006,
                        "test": [
                          0.9018403864,
                          26171.87397,
                          16232.83982
                        ]
                      },
                      {
                        "learn": [
                          0.9530409118,
                          16811.50845,
                          12022.4442
                        ],
                        "iteration": 162,
                        "passed_time": 3.068472133,
                        "remaining_time": 15.75651028,
                        "test": [
                          0.9019320377,
                          26159.65282,
                          16226.19637
                        ]
                      },
                      {
                        "learn": [
                          0.9531445644,
                          16792.9442,
                          12014.75402
                        ],
                        "iteration": 163,
                        "passed_time": 3.080755967,
                        "remaining_time": 15.70434139,
                        "test": [
                          0.9020237945,
                          26147.41189,
                          16215.95259
                        ]
                      },
                      {
                        "learn": [
                          0.9534878226,
                          16731.31943,
                          11981.56288
                        ],
                        "iteration": 164,
                        "passed_time": 3.093886691,
                        "remaining_time": 15.65694174,
                        "test": [
                          0.9022930137,
                          26111.46321,
                          16196.57701
                        ]
                      },
                      {
                        "learn": [
                          0.9535770117,
                          16715.27021,
                          11974.91578
                        ],
                        "iteration": 165,
                        "passed_time": 3.102847382,
                        "remaining_time": 15.58900432,
                        "test": [
                          0.9024191244,
                          26094.6067,
                          16193.8656
                        ]
                      },
                      {
                        "learn": [
                          0.9537249491,
                          16688.61546,
                          11963.7417
                        ],
                        "iteration": 166,
                        "passed_time": 3.114955302,
                        "remaining_time": 15.53747165,
                        "test": [
                          0.9025239003,
                          26080.59361,
                          16191.39836
                        ]
                      },
                      {
                        "learn": [
                          0.9540519443,
                          16629.54722,
                          11925.17575
                        ],
                        "iteration": 167,
                        "passed_time": 3.131401326,
                        "remaining_time": 15.50789228,
                        "test": [
                          0.9027442947,
                          26051.09268,
                          16174.89549
                        ]
                      },
                      {
                        "learn": [
                          0.9541584168,
                          16610.26876,
                          11916.12655
                        ],
                        "iteration": 168,
                        "passed_time": 3.143433565,
                        "remaining_time": 15.45676504,
                        "test": [
                          0.9028667787,
                          26034.68313,
                          16160.90058
                        ]
                      },
                      {
                        "learn": [
                          0.9544632025,
                          16554.95854,
                          11891.42307
                        ],
                        "iteration": 169,
                        "passed_time": 3.155701531,
                        "remaining_time": 15.40724865,
                        "test": [
                          0.9031888374,
                          25991.48649,
                          16146.4593
                        ]
                      },
                      {
                        "learn": [
                          0.9545986597,
                          16530.31739,
                          11876.86808
                        ],
                        "iteration": 170,
                        "passed_time": 3.17064282,
                        "remaining_time": 15.37112806,
                        "test": [
                          0.9032803054,
                          25979.2051,
                          16130.36904
                        ]
                      },
                      {
                        "learn": [
                          0.9547069638,
                          16510.58923,
                          11868.4295
                        ],
                        "iteration": 171,
                        "passed_time": 3.177617755,
                        "remaining_time": 15.29690408,
                        "test": [
                          0.9034966113,
                          25950.13862,
                          16128.70251
                        ]
                      },
                      {
                        "learn": [
                          0.9549859447,
                          16459.66248,
                          11839.79462
                        ],
                        "iteration": 172,
                        "passed_time": 3.189692335,
                        "remaining_time": 15.24783561,
                        "test": [
                          0.9035680377,
                          25940.53342,
                          16120.92863
                        ]
                      },
                      {
                        "learn": [
                          0.9552068422,
                          16419.22656,
                          11812.20989
                        ],
                        "iteration": 173,
                        "passed_time": 3.203993284,
                        "remaining_time": 15.20976122,
                        "test": [
                          0.903698758,
                          25922.94535,
                          16103.18039
                        ]
                      },
                      {
                        "learn": [
                          0.9554561736,
                          16373.46575,
                          11793.45397
                        ],
                        "iteration": 174,
                        "passed_time": 3.226262891,
                        "remaining_time": 15.20952506,
                        "test": [
                          0.9037716992,
                          25913.12612,
                          16098.1922
                        ]
                      },
                      {
                        "learn": [
                          0.9555184598,
                          16362.01414,
                          11788.29337
                        ],
                        "iteration": 175,
                        "passed_time": 3.23064413,
                        "remaining_time": 15.12528843,
                        "test": [
                          0.9038370468,
                          25904.32597,
                          16098.05633
                        ]
                      },
                      {
                        "learn": [
                          0.9558133811,
                          16307.68226,
                          11759.06178
                        ],
                        "iteration": 176,
                        "passed_time": 3.2454146,
                        "remaining_time": 15.09026111,
                        "test": [
                          0.9040325772,
                          25877.97662,
                          16091.2718
                        ]
                      },
                      {
                        "learn": [
                          0.9558950224,
                          16292.60986,
                          11752.10047
                        ],
                        "iteration": 177,
                        "passed_time": 3.249516119,
                        "remaining_time": 15.00619241,
                        "test": [
                          0.9041699933,
                          25859.44261,
                          16090.62605
                        ]
                      },
                      {
                        "learn": [
                          0.9562110593,
                          16234.13208,
                          11717.94075
                        ],
                        "iteration": 178,
                        "passed_time": 3.26457869,
                        "remaining_time": 14.97329109,
                        "test": [
                          0.9043706367,
                          25832.35691,
                          16074.93911
                        ]
                      },
                      {
                        "learn": [
                          0.9564469964,
                          16190.33783,
                          11691.48971
                        ],
                        "iteration": 179,
                        "passed_time": 3.277853798,
                        "remaining_time": 14.93244508,
                        "test": [
                          0.90449356,
                          25815.74894,
                          16066.8372
                        ]
                      },
                      {
                        "learn": [
                          0.9567581624,
                          16132.39793,
                          11654.07301
                        ],
                        "iteration": 180,
                        "passed_time": 3.293821951,
                        "remaining_time": 14.90408938,
                        "test": [
                          0.9047551977,
                          25780.36386,
                          16046.85396
                        ]
                      },
                      {
                        "learn": [
                          0.9570354756,
                          16080.58557,
                          11622.01485
                        ],
                        "iteration": 181,
                        "passed_time": 3.306156914,
                        "remaining_time": 14.85954042,
                        "test": [
                          0.9047771517,
                          25777.39249,
                          16021.41688
                        ]
                      },
                      {
                        "learn": [
                          0.9573305363,
                          16025.2734,
                          11590.96041
                        ],
                        "iteration": 182,
                        "passed_time": 3.324773361,
                        "remaining_time": 14.84338708,
                        "test": [
                          0.9049228033,
                          25757.67057,
                          16002.99112
                        ]
                      },
                      {
                        "learn": [
                          0.9577102433,
                          15953.81122,
                          11547.58585
                        ],
                        "iteration": 183,
                        "passed_time": 3.339326407,
                        "remaining_time": 14.80918667,
                        "test": [
                          0.905331931,
                          25702.19176,
                          15983.05383
                        ]
                      },
                      {
                        "learn": [
                          0.9580021207,
                          15898.6605,
                          11518.54041
                        ],
                        "iteration": 184,
                        "passed_time": 3.352707729,
                        "remaining_time": 14.77003675,
                        "test": [
                          0.9053541912,
                          25699.16979,
                          15976.42711
                        ]
                      },
                      {
                        "learn": [
                          0.9582536182,
                          15850.98575,
                          11481.1337
                        ],
                        "iteration": 185,
                        "passed_time": 3.36845055,
                        "remaining_time": 14.74149864,
                        "test": [
                          0.9055842244,
                          25667.92034,
                          15962.85719
                        ]
                      },
                      {
                        "learn": [
                          0.9585113687,
                          15801.97642,
                          11439.27137
                        ],
                        "iteration": 186,
                        "passed_time": 3.38300379,
                        "remaining_time": 14.70792557,
                        "test": [
                          0.9057642276,
                          25643.44079,
                          15936.41221
                        ]
                      },
                      {
                        "learn": [
                          0.9587421075,
                          15757.97385,
                          11408.46341
                        ],
                        "iteration": 187,
                        "passed_time": 3.395980743,
                        "remaining_time": 14.66774661,
                        "test": [
                          0.9060249824,
                          25607.93791,
                          15914.7981
                        ]
                      },
                      {
                        "learn": [
                          0.9589107188,
                          15725.7413,
                          11395.19895
                        ],
                        "iteration": 188,
                        "passed_time": 3.408748553,
                        "remaining_time": 14.62695808,
                        "test": [
                          0.9061195088,
                          25595.05558,
                          15913.66729
                        ]
                      },
                      {
                        "learn": [
                          0.9590205468,
                          15704.7105,
                          11387.38388
                        ],
                        "iteration": 189,
                        "passed_time": 3.424149541,
                        "remaining_time": 14.59769015,
                        "test": [
                          0.9061155812,
                          25595.59097,
                          15913.65007
                        ]
                      },
                      {
                        "learn": [
                          0.9592309499,
                          15664.34183,
                          11360.73248
                        ],
                        "iteration": 190,
                        "passed_time": 3.439261507,
                        "remaining_time": 14.56734324,
                        "test": [
                          0.9063050784,
                          25569.74673,
                          15895.2071
                        ]
                      },
                      {
                        "learn": [
                          0.9593804284,
                          15635.59904,
                          11343.36024
                        ],
                        "iteration": 191,
                        "passed_time": 3.45207522,
                        "remaining_time": 14.52748322,
                        "test": [
                          0.9063487743,
                          25563.78363,
                          15886.86504
                        ]
                      },
                      {
                        "learn": [
                          0.959606394,
                          15592.04816,
                          11318.2723
                        ],
                        "iteration": 192,
                        "passed_time": 3.464775128,
                        "remaining_time": 14.48742761,
                        "test": [
                          0.906578654,
                          25532.38946,
                          15877.27797
                        ]
                      },
                      {
                        "learn": [
                          0.9598359347,
                          15547.68336,
                          11283.71035
                        ],
                        "iteration": 193,
                        "passed_time": 3.480701458,
                        "remaining_time": 14.46105863,
                        "test": [
                          0.9067894807,
                          25503.56334,
                          15860.70631
                        ]
                      },
                      {
                        "learn": [
                          0.9601116661,
                          15494.22305,
                          11252.97307
                        ],
                        "iteration": 194,
                        "passed_time": 3.493824188,
                        "remaining_time": 14.42322293,
                        "test": [
                          0.9067309973,
                          25511.56299,
                          15850.2901
                        ]
                      },
                      {
                        "learn": [
                          0.9603206774,
                          15453.57556,
                          11229.59432
                        ],
                        "iteration": 195,
                        "passed_time": 3.507225929,
                        "remaining_time": 14.38678391,
                        "test": [
                          0.9068618492,
                          25493.66096,
                          15844.38143
                        ]
                      },
                      {
                        "learn": [
                          0.960612071,
                          15396.72769,
                          11190.17659
                        ],
                        "iteration": 196,
                        "passed_time": 3.522174774,
                        "remaining_time": 14.35688499,
                        "test": [
                          0.9069352683,
                          25483.61089,
                          15824.3569
                        ]
                      },
                      {
                        "learn": [
                          0.9608131174,
                          15357.38293,
                          11161.08868
                        ],
                        "iteration": 197,
                        "passed_time": 3.537121165,
                        "remaining_time": 14.32712714,
                        "test": [
                          0.9070519492,
                          25467.6307,
                          15820.3822
                        ]
                      },
                      {
                        "learn": [
                          0.9609564228,
                          15329.27644,
                          11142.86489
                        ],
                        "iteration": 198,
                        "passed_time": 3.551695188,
                        "remaining_time": 14.29601933,
                        "test": [
                          0.9071173273,
                          25458.67236,
                          15817.39402
                        ]
                      },
                      {
                        "learn": [
                          0.9611767483,
                          15285.96317,
                          11122.16055
                        ],
                        "iteration": 199,
                        "passed_time": 3.564786717,
                        "remaining_time": 14.25914687,
                        "test": [
                          0.9072652007,
                          25438.39862,
                          15817.58024
                        ]
                      },
                      {
                        "learn": [
                          0.9613532467,
                          15251.17705,
                          11107.25664
                        ],
                        "iteration": 200,
                        "passed_time": 3.580600097,
                        "remaining_time": 14.23333073,
                        "test": [
                          0.9072413004,
                          25441.6765,
                          15825.52369
                        ]
                      },
                      {
                        "learn": [
                          0.9616034915,
                          15201.71978,
                          11080.7638
                        ],
                        "iteration": 201,
                        "passed_time": 3.593307836,
                        "remaining_time": 14.19534482,
                        "test": [
                          0.9071486099,
                          25454.38481,
                          15818.45383
                        ]
                      },
                      {
                        "learn": [
                          0.9618112569,
                          15160.53537,
                          11062.58385
                        ],
                        "iteration": 202,
                        "passed_time": 3.607639013,
                        "remaining_time": 14.16398174,
                        "test": [
                          0.9071788527,
                          25450.23908,
                          15803.16314
                        ]
                      },
                      {
                        "learn": [
                          0.9620157457,
                          15119.89092,
                          11033.78759
                        ],
                        "iteration": 203,
                        "passed_time": 3.622429124,
                        "remaining_time": 14.13457638,
                        "test": [
                          0.9073632627,
                          25424.9452,
                          15788.64599
                        ]
                      },
                      {
                        "learn": [
                          0.9623002428,
                          15063.16147,
                          11001.85972
                        ],
                        "iteration": 204,
                        "passed_time": 3.636768295,
                        "remaining_time": 14.10356485,
                        "test": [
                          0.9075505978,
                          25399.22433,
                          15772.1665
                        ]
                      },
                      {
                        "learn": [
                          0.9624612149,
                          15030.96841,
                          10982.41383
                        ],
                        "iteration": 205,
                        "passed_time": 3.650888374,
                        "remaining_time": 14.07187072,
                        "test": [
                          0.9076335595,
                          25387.82547,
                          15760.24173
                        ]
                      },
                      {
                        "learn": [
                          0.9626950372,
                          14984.08268,
                          10941.0927
                        ],
                        "iteration": 206,
                        "passed_time": 3.687609713,
                        "remaining_time": 14.12692996,
                        "test": [
                          0.9077520605,
                          25371.53465,
                          15750.39315
                        ]
                      },
                      {
                        "learn": [
                          0.9628268998,
                          14957.57698,
                          10929.98783
                        ],
                        "iteration": 207,
                        "passed_time": 3.703346326,
                        "remaining_time": 14.10120332,
                        "test": [
                          0.9077526492,
                          25371.4537,
                          15749.13016
                        ]
                      },
                      {
                        "learn": [
                          0.9630184003,
                          14918.99959,
                          10908.45272
                        ],
                        "iteration": 208,
                        "passed_time": 3.716491636,
                        "remaining_time": 14.065765,
                        "test": [
                          0.9079481531,
                          25344.55402,
                          15739.56047
                        ]
                      },
                      {
                        "learn": [
                          0.963171518,
                          14888.08243,
                          10888.40688
                        ],
                        "iteration": 209,
                        "passed_time": 3.72828752,
                        "remaining_time": 14.02546258,
                        "test": [
                          0.9081287831,
                          25319.67546,
                          15719.64985
                        ]
                      },
                      {
                        "learn": [
                          0.9632879924,
                          14864.52112,
                          10868.57855
                        ],
                        "iteration": 210,
                        "passed_time": 3.741011536,
                        "remaining_time": 13.98890096,
                        "test": [
                          0.9081846026,
                          25311.98237,
                          15710.83588
                        ]
                      },
                      {
                        "learn": [
                          0.9635159314,
                          14818.30356,
                          10823.57366
                        ],
                        "iteration": 211,
                        "passed_time": 3.756579788,
                        "remaining_time": 13.96313619,
                        "test": [
                          0.9084415213,
                          25276.54346,
                          15694.00291
                        ]
                      },
                      {
                        "learn": [
                          0.9637713439,
                          14766.34351,
                          10786.142
                        ],
                        "iteration": 212,
                        "passed_time": 3.769528652,
                        "remaining_time": 13.92778896,
                        "test": [
                          0.9085174421,
                          25266.06156,
                          15677.45343
                        ]
                      },
                      {
                        "learn": [
                          0.9639539755,
                          14729.07732,
                          10765.15634
                        ],
                        "iteration": 213,
                        "passed_time": 3.782197887,
                        "remaining_time": 13.89162402,
                        "test": [
                          0.908536102,
                          25263.48464,
                          15673.93972
                        ]
                      },
                      {
                        "learn": [
                          0.9640830352,
                          14702.68558,
                          10748.37812
                        ],
                        "iteration": 214,
                        "passed_time": 3.797428772,
                        "remaining_time": 13.86503063,
                        "test": [
                          0.9088115914,
                          25225.40912,
                          15657.92434
                        ]
                      },
                      {
                        "learn": [
                          0.9643006771,
                          14658.0718,
                          10715.98782
                        ],
                        "iteration": 215,
                        "passed_time": 3.810851364,
                        "remaining_time": 13.83197902,
                        "test": [
                          0.9090303604,
                          25195.13196,
                          15638.70721
                        ]
                      },
                      {
                        "learn": [
                          0.9644864401,
                          14619.8851,
                          10690.2259
                        ],
                        "iteration": 216,
                        "passed_time": 3.824597516,
                        "remaining_time": 13.80027583,
                        "test": [
                          0.9091078684,
                          25184.39629,
                          15633.87777
                        ]
                      },
                      {
                        "learn": [
                          0.9647086429,
                          14574.07617,
                          10663.01909
                        ],
                        "iteration": 217,
                        "passed_time": 3.837941841,
                        "remaining_time": 13.76729596,
                        "test": [
                          0.9092782425,
                          25160.78159,
                          15632.97653
                        ]
                      },
                      {
                        "learn": [
                          0.964919913,
                          14530.38716,
                          10641.06581
                        ],
                        "iteration": 218,
                        "passed_time": 3.850848235,
                        "remaining_time": 13.73293366,
                        "test": [
                          0.9091395321,
                          25180.00922,
                          15629.15261
                        ]
                      },
                      {
                        "learn": [
                          0.9651458079,
                          14483.52808,
                          10604.78638
                        ],
                        "iteration": 219,
                        "passed_time": 3.864662801,
                        "remaining_time": 13.70198629,
                        "test": [
                          0.9093019802,
                          25157.48967,
                          15603.6654
                        ]
                      },
                      {
                        "learn": [
                          0.9652502399,
                          14461.81364,
                          10585.52298
                        ],
                        "iteration": 220,
                        "passed_time": 3.879781032,
                        "remaining_time": 13.67578925,
                        "test": [
                          0.909331985,
                          25153.32801,
                          15600.34329
                        ]
                      },
                      {
                        "learn": [
                          0.9654755566,
                          14414.85234,
                          10547.47199
                        ],
                        "iteration": 221,
                        "passed_time": 3.894732726,
                        "remaining_time": 13.64910838,
                        "test": [
                          0.9093968328,
                          25144.33129,
                          15605.10222
                        ]
                      },
                      {
                        "learn": [
                          0.9656850759,
                          14371.0459,
                          10522.51686
                        ],
                        "iteration": 222,
                        "passed_time": 3.907710876,
                        "remaining_time": 13.61565628,
                        "test": [
                          0.9093959548,
                          25144.45311,
                          15611.59486
                        ]
                      },
                      {
                        "learn": [
                          0.965884732,
                          14329.17706,
                          10493.05687
                        ],
                        "iteration": 223,
                        "passed_time": 3.92051593,
                        "remaining_time": 13.58178733,
                        "test": [
                          0.90942321,
                          25140.6709,
                          15607.7489
                        ]
                      },
                      {
                        "learn": [
                          0.9660528377,
                          14293.82938,
                          10466.26761
                        ],
                        "iteration": 224,
                        "passed_time": 3.93283341,
                        "remaining_time": 13.54642619,
                        "test": [
                          0.9095959573,
                          25116.68542,
                          15597.449
                        ]
                      },
                      {
                        "learn": [
                          0.9662770312,
                          14246.55161,
                          10437.52675
                        ],
                        "iteration": 225,
                        "passed_time": 3.945253652,
                        "remaining_time": 13.51162091,
                        "test": [
                          0.9097742998,
                          25091.899,
                          15586.30115
                        ]
                      },
                      {
                        "learn": [
                          0.9664761354,
                          14204.43273,
                          10411.01234
                        ],
                        "iteration": 226,
                        "passed_time": 3.975836641,
                        "remaining_time": 13.53886222,
                        "test": [
                          0.909696724,
                          25102.68366,
                          15586.30496
                        ]
                      },
                      {
                        "learn": [
                          0.9666030284,
                          14177.52425,
                          10397.60128
                        ],
                        "iteration": 227,
                        "passed_time": 4.008030321,
                        "remaining_time": 13.57105003,
                        "test": [
                          0.9095793006,
                          25118.99915,
                          15590.01992
                        ]
                      },
                      {
                        "learn": [
                          0.9667768716,
                          14140.57657,
                          10366.32388
                        ],
                        "iteration": 228,
                        "passed_time": 4.022901913,
                        "remaining_time": 13.54435535,
                        "test": [
                          0.9095817218,
                          25118.66284,
                          15585.31057
                        ]
                      },
                      {
                        "learn": [
                          0.9669452175,
                          14104.705,
                          10343.45961
                        ],
                        "iteration": 229,
                        "passed_time": 4.046349214,
                        "remaining_time": 13.54647345,
                        "test": [
                          0.9095682186,
                          25120.5384,
                          15591.59311
                        ]
                      },
                      {
                        "learn": [
                          0.9671019735,
                          14071.22081,
                          10325.52626
                        ],
                        "iteration": 230,
                        "passed_time": 4.063862532,
                        "remaining_time": 13.52861596,
                        "test": [
                          0.909775789,
                          25091.69193,
                          15584.14009
                        ]
                      },
                      {
                        "learn": [
                          0.9672885379,
                          14031.26521,
                          10299.0794
                        ],
                        "iteration": 231,
                        "passed_time": 4.076879925,
                        "remaining_time": 13.49587837,
                        "test": [
                          0.9098134922,
                          25086.44868,
                          15565.32499
                        ]
                      },
                      {
                        "learn": [
                          0.9674926203,
                          13987.42715,
                          10274.21948
                        ],
                        "iteration": 232,
                        "passed_time": 4.089500967,
                        "remaining_time": 13.46200533,
                        "test": [
                          0.9099162553,
                          25072.15222,
                          15546.77756
                        ]
                      },
                      {
                        "learn": [
                          0.9676845851,
                          13946.06624,
                          10240.99196
                        ],
                        "iteration": 233,
                        "passed_time": 4.108026308,
                        "remaining_time": 13.44764168,
                        "test": [
                          0.9099484391,
                          25067.67311,
                          15541.40628
                        ]
                      },
                      {
                        "learn": [
                          0.9679493038,
                          13888.82766,
                          10200.93183
                        ],
                        "iteration": 234,
                        "passed_time": 4.121370661,
                        "remaining_time": 13.41637683,
                        "test": [
                          0.9099788113,
                          25063.44539,
                          15532.39065
                        ]
                      },
                      {
                        "learn": [
                          0.9680909833,
                          13858.09601,
                          10174.76806
                        ],
                        "iteration": 235,
                        "passed_time": 4.133977143,
                        "remaining_time": 13.38287516,
                        "test": [
                          0.9100015562,
                          25060.27892,
                          15527.17972
                        ]
                      },
                      {
                        "learn": [
                          0.9682289552,
                          13828.10294,
                          10151.73955
                        ],
                        "iteration": 236,
                        "passed_time": 4.163114881,
                        "remaining_time": 13.40277069,
                        "test": [
                          0.9100902994,
                          25047.92049,
                          15513.87671
                        ]
                      },
                      {
                        "learn": [
                          0.9683628561,
                          13798.93251,
                          10129.26311
                        ],
                        "iteration": 237,
                        "passed_time": 4.177764988,
                        "remaining_time": 13.37586941,
                        "test": [
                          0.9101514712,
                          25039.39812,
                          15499.85266
                        ]
                      },
                      {
                        "learn": [
                          0.9685307038,
                          13762.27939,
                          10095.95137
                        ],
                        "iteration": 238,
                        "passed_time": 4.193226513,
                        "remaining_time": 13.35165429,
                        "test": [
                          0.9102116544,
                          25031.01065,
                          15488.49683
                        ]
                      },
                      {
                        "learn": [
                          0.9685618071,
                          13755.4766,
                          10092.00581
                        ],
                        "iteration": 239,
                        "passed_time": 4.199703207,
                        "remaining_time": 13.29906016,
                        "test": [
                          0.910211834,
                          25030.98562,
                          15488.59122
                        ]
                      },
                      {
                        "learn": [
                          0.968750266,
                          13714.18545,
                          10068.72581
                        ],
                        "iteration": 240,
                        "passed_time": 4.206379864,
                        "remaining_time": 13.24747849,
                        "test": [
                          0.9103231384,
                          25015.46618,
                          15483.5798
                        ]
                      },
                      {
                        "learn": [
                          0.9688839056,
                          13684.82964,
                          10048.21905
                        ],
                        "iteration": 241,
                        "passed_time": 4.211931669,
                        "remaining_time": 13.19274465,
                        "test": [
                          0.910332265,
                          25014.19321,
                          15476.80188
                        ]
                      },
                      {
                        "learn": [
                          0.9690364369,
                          13651.24688,
                          10029.55052
                        ],
                        "iteration": 242,
                        "passed_time": 4.21750117,
                        "remaining_time": 13.13847072,
                        "test": [
                          0.9104015569,
                          25004.52633,
                          15468.13282
                        ]
                      },
                      {
                        "learn": [
                          0.9692200202,
                          13610.71751,
                          9997.002967
                        ],
                        "iteration": 243,
                        "passed_time": 4.222976991,
                        "remaining_time": 13.08430576,
                        "test": [
                          0.9103403269,
                          25013.0687,
                          15468.31427
                        ]
                      },
                      {
                        "learn": [
                          0.9693646793,
                          13578.69617,
                          9977.055792
                        ],
                        "iteration": 244,
                        "passed_time": 4.228510021,
                        "remaining_time": 13.03071455,
                        "test": [
                          0.9105135652,
                          24988.89217,
                          15455.8155
                        ]
                      },
                      {
                        "learn": [
                          0.9695094372,
                          13546.57718,
                          9958.478783
                        ],
                        "iteration": 245,
                        "passed_time": 4.234333225,
                        "remaining_time": 12.97840346,
                        "test": [
                          0.9104961906,
                          24991.31797,
                          15458.14374
                        ]
                      },
                      {
                        "learn": [
                          0.9696158311,
                          13522.92179,
                          9936.62008
                        ],
                        "iteration": 246,
                        "passed_time": 4.241137864,
                        "remaining_time": 12.92946078,
                        "test": [
                          0.9104949676,
                          24991.48872,
                          15447.94417
                        ]
                      },
                      {
                        "learn": [
                          0.9697708347,
                          13488.38437,
                          9917.045711
                        ],
                        "iteration": 247,
                        "passed_time": 4.248486092,
                        "remaining_time": 12.88250621,
                        "test": [
                          0.9106046103,
                          24976.17688,
                          15441.38434
                        ]
                      },
                      {
                        "learn": [
                          0.9699424986,
                          13450.03125,
                          9891.314351
                        ],
                        "iteration": 248,
                        "passed_time": 4.254010531,
                        "remaining_time": 12.83036911,
                        "test": [
                          0.910583907,
                          24979.06886,
                          15442.71909
                        ]
                      },
                      {
                        "learn": [
                          0.9700994595,
                          13414.8671,
                          9866.669737
                        ],
                        "iteration": 249,
                        "passed_time": 4.259719389,
                        "remaining_time": 12.77915817,
                        "test": [
                          0.9106526641,
                          24969.4631,
                          15432.3155
                        ]
                      },
                      {
                        "learn": [
                          0.9701452707,
                          13404.58658,
                          9862.952569
                        ],
                        "iteration": 250,
                        "passed_time": 4.26537546,
                        "remaining_time": 12.72815227,
                        "test": [
                          0.9106649872,
                          24967.7411,
                          15431.93278
                        ]
                      },
                      {
                        "learn": [
                          0.9703108893,
                          13367.35402,
                          9833.349383
                        ],
                        "iteration": 251,
                        "passed_time": 4.271074663,
                        "remaining_time": 12.67763432,
                        "test": [
                          0.9108999094,
                          24934.89095,
                          15412.79611
                        ]
                      },
                      {
                        "learn": [
                          0.970507371,
                          13323.04821,
                          9798.661912
                        ],
                        "iteration": 252,
                        "passed_time": 4.276770497,
                        "remaining_time": 12.62746072,
                        "test": [
                          0.9109594794,
                          24926.55414,
                          15398.95876
                        ]
                      },
                      {
                        "learn": [
                          0.9707023811,
                          13278.92807,
                          9765.988773
                        ],
                        "iteration": 253,
                        "passed_time": 4.28237858,
                        "remaining_time": 12.57737961,
                        "test": [
                          0.9109867313,
                          24922.73931,
                          15398.03391
                        ]
                      },
                      {
                        "learn": [
                          0.9708282953,
                          13250.36249,
                          9738.720257
                        ],
                        "iteration": 254,
                        "passed_time": 4.289358589,
                        "remaining_time": 12.53165548,
                        "test": [
                          0.911131853,
                          24902.41478,
                          15367.04051
                        ]
                      },
                      {
                        "learn": [
                          0.9709879865,
                          13214.04527,
                          9712.164995
                        ],
                        "iteration": 255,
                        "passed_time": 4.296719032,
                        "remaining_time": 12.48733969,
                        "test": [
                          0.9111613,
                          24898.28866,
                          15362.64168
                        ]
                      },
                      {
                        "learn": [
                          0.9711046953,
                          13187.43993,
                          9689.013408
                        ],
                        "iteration": 256,
                        "passed_time": 4.302629682,
                        "remaining_time": 12.43912005,
                        "test": [
                          0.9112496354,
                          24885.90696,
                          15346.2751
                        ]
                      },
                      {
                        "learn": [
                          0.9712264812,
                          13159.61984,
                          9672.136188
                        ],
                        "iteration": 257,
                        "passed_time": 4.308520841,
                        "remaining_time": 12.39117234,
                        "test": [
                          0.9113282424,
                          24874.88368,
                          15338.19175
                        ]
                      },
                      {
                        "learn": [
                          0.9713423991,
                          13133.08547,
                          9658.892993
                        ],
                        "iteration": 258,
                        "passed_time": 4.31395132,
                        "remaining_time": 12.34223138,
                        "test": [
                          0.9112420859,
                          24886.9654,
                          15345.31162
                        ]
                      },
                      {
                        "learn": [
                          0.9714691206,
                          13104.0166,
                          9637.211783
                        ],
                        "iteration": 259,
                        "passed_time": 4.319512642,
                        "remaining_time": 12.29399752,
                        "test": [
                          0.9112482053,
                          24886.10747,
                          15344.59582
                        ]
                      },
                      {
                        "learn": [
                          0.9714941251,
                          13098.27315,
                          9633.192706
                        ],
                        "iteration": 260,
                        "passed_time": 4.324993891,
                        "remaining_time": 12.24586393,
                        "test": [
                          0.9112484206,
                          24886.07729,
                          15344.73872
                        ]
                      },
                      {
                        "learn": [
                          0.971633402,
                          13066.23553,
                          9609.783021
                        ],
                        "iteration": 261,
                        "passed_time": 4.330738503,
                        "remaining_time": 12.19879777,
                        "test": [
                          0.9112898315,
                          24880.27076,
                          15340.79581
                        ]
                      },
                      {
                        "learn": [
                          0.9716893947,
                          13053.33347,
                          9598.732015
                        ],
                        "iteration": 262,
                        "passed_time": 4.336277943,
                        "remaining_time": 12.15147089,
                        "test": [
                          0.9113087794,
                          24877.61349,
                          15344.35153
                        ]
                      },
                      {
                        "learn": [
                          0.9718155118,
                          13024.22625,
                          9584.695812
                        ],
                        "iteration": 263,
                        "passed_time": 4.341903818,
                        "remaining_time": 12.10470155,
                        "test": [
                          0.9112980951,
                          24879.11191,
                          15348.67486
                        ]
                      },
                      {
                        "learn": [
                          0.9719194824,
                          13000.18132,
                          9567.743231
                        ],
                        "iteration": 264,
                        "passed_time": 4.348379579,
                        "remaining_time": 12.06059996,
                        "test": [
                          0.9113720567,
                          24868.73737,
                          15332.40936
                        ]
                      },
                      {
                        "learn": [
                          0.9720198912,
                          12976.91783,
                          9552.069195
                        ],
                        "iteration": 265,
                        "passed_time": 4.354132407,
                        "remaining_time": 12.01478642,
                        "test": [
                          0.9113308847,
                          24874.51306,
                          15336.73585
                        ]
                      },
                      {
                        "learn": [
                          0.9721712087,
                          12941.78043,
                          9528.680561
                        ],
                        "iteration": 266,
                        "passed_time": 4.359794656,
                        "remaining_time": 11.96902428,
                        "test": [
                          0.9113829404,
                          24867.21035,
                          15328.96983
                        ]
                      },
                      {
                        "learn": [
                          0.9722810776,
                          12916.2079,
                          9507.999858
                        ],
                        "iteration": 267,
                        "passed_time": 4.365592703,
                        "remaining_time": 11.92393231,
                        "test": [
                          0.9114470197,
                          24858.21794,
                          15323.66573
                        ]
                      },
                      {
                        "learn": [
                          0.9723060719,
                          12910.38328,
                          9503.921925
                        ],
                        "iteration": 268,
                        "passed_time": 4.371114808,
                        "remaining_time": 11.87838262,
                        "test": [
                          0.9114558379,
                          24856.98021,
                          15323.38756
                        ]
                      },
                      {
                        "learn": [
                          0.9724497399,
                          12876.85207,
                          9473.822754
                        ],
                        "iteration": 269,
                        "passed_time": 4.376725662,
                        "remaining_time": 11.83336938,
                        "test": [
                          0.9114984912,
                          24850.99247,
                          15318.14714
                        ]
                      },
                      {
                        "learn": [
                          0.9726242168,
                          12836.0125,
                          9446.541635
                        ],
                        "iteration": 270,
                        "passed_time": 4.382435466,
                        "remaining_time": 11.78891312,
                        "test": [
                          0.9114402926,
                          24859.16213,
                          15317.62903
                        ]
                      },
                      {
                        "learn": [
                          0.9727384799,
                          12809.19655,
                          9435.494034
                        ],
                        "iteration": 271,
                        "passed_time": 4.388133307,
                        "remaining_time": 11.74470973,
                        "test": [
                          0.9115506312,
                          24843.67099,
                          15313.8472
                        ]
                      },
                      {
                        "learn": [
                          0.9728675588,
                          12778.83583,
                          9405.231132
                        ],
                        "iteration": 272,
                        "passed_time": 4.393636039,
                        "remaining_time": 11.70026887,
                        "test": [
                          0.9116582577,
                          24828.55132,
                          15300.2828
                        ]
                      },
                      {
                        "learn": [
                          0.9729734788,
                          12753.86833,
                          9391.677628
                        ],
                        "iteration": 273,
                        "passed_time": 4.399530327,
                        "remaining_time": 11.6571497,
                        "test": [
                          0.9116526091,
                          24829.34509,
                          15303.97226
                        ]
                      },
                      {
                        "learn": [
                          0.9731408291,
                          12714.32055,
                          9362.128901
                        ],
                        "iteration": 274,
                        "passed_time": 4.406696653,
                        "remaining_time": 11.61765481,
                        "test": [
                          0.9118271758,
                          24804.80265,
                          15294.93708
                        ]
                      },
                      {
                        "learn": [
                          0.9732429414,
                          12690.1291,
                          9345.597262
                        ],
                        "iteration": 275,
                        "passed_time": 4.412627047,
                        "remaining_time": 11.57515211,
                        "test": [
                          0.9118077054,
                          24807.5412,
                          15295.60028
                        ]
                      },
                      {
                        "learn": [
                          0.9733672179,
                          12660.62436,
                          9324.94671
                        ],
                        "iteration": 276,
                        "passed_time": 4.418293266,
                        "remaining_time": 11.53222394,
                        "test": [
                          0.9118623795,
                          24799.8504,
                          15289.2538
                        ]
                      },
                      {
                        "learn": [
                          0.9734597467,
                          12638.61216,
                          9314.221339
                        ],
                        "iteration": 277,
                        "passed_time": 4.423967647,
                        "remaining_time": 11.48958504,
                        "test": [
                          0.9119154065,
                          24792.38901,
                          15287.48239
                        ]
                      },
                      {
                        "learn": [
                          0.9735483543,
                          12617.49681,
                          9298.571383
                        ],
                        "iteration": 278,
                        "passed_time": 4.430804364,
                        "remaining_time": 11.45021486,
                        "test": [
                          0.9118668187,
                          24799.22585,
                          15296.53957
                        ]
                      },
                      {
                        "learn": [
                          0.9737280632,
                          12574.56298,
                          9265.704548
                        ],
                        "iteration": 279,
                        "passed_time": 4.451335412,
                        "remaining_time": 11.44629106,
                        "test": [
                          0.911807314,
                          24807.59626,
                          15294.59053
                        ]
                      },
                      {
                        "learn": [
                          0.9737984581,
                          12557.70509,
                          9258.656398
                        ],
                        "iteration": 280,
                        "passed_time": 4.465438353,
                        "remaining_time": 11.42580134,
                        "test": [
                          0.9117605136,
                          24814.17759,
                          15302.78579
                        ]
                      },
                      {
                        "learn": [
                          0.9739587453,
                          12519.23547,
                          9232.807372
                        ],
                        "iteration": 281,
                        "passed_time": 4.475789784,
                        "remaining_time": 11.39580519,
                        "test": [
                          0.9118515924,
                          24801.36797,
                          15294.68315
                        ]
                      },
                      {
                        "learn": [
                          0.9740750364,
                          12491.25093,
                          9213.828514
                        ],
                        "iteration": 282,
                        "passed_time": 4.488176461,
                        "remaining_time": 11.37110432,
                        "test": [
                          0.9118848254,
                          24796.69232,
                          15286.73351
                        ]
                      },
                      {
                        "learn": [
                          0.9741986938,
                          12461.42483,
                          9192.323528
                        ],
                        "iteration": 283,
                        "passed_time": 4.497410811,
                        "remaining_time": 11.33854275,
                        "test": [
                          0.911980781,
                          24783.1871,
                          15282.44767
                        ]
                      },
                      {
                        "learn": [
                          0.9742837691,
                          12440.86318,
                          9175.149914
                        ],
                        "iteration": 284,
                        "passed_time": 4.512273425,
                        "remaining_time": 11.32026491,
                        "test": [
                          0.911995278,
                          24781.14609,
                          15279.62685
                        ]
                      },
                      {
                        "learn": [
                          0.9744392869,
                          12403.18833,
                          9145.416323
                        ],
                        "iteration": 285,
                        "passed_time": 4.524938244,
                        "remaining_time": 11.29652415,
                        "test": [
                          0.9121536417,
                          24758.83933,
                          15263.69143
                        ]
                      },
                      {
                        "learn": [
                          0.9745985643,
                          12364.48373,
                          9118.922662
                        ],
                        "iteration": 286,
                        "passed_time": 4.537997625,
                        "remaining_time": 11.27384079,
                        "test": [
                          0.9121086581,
                          24765.17766,
                          15258.95373
                        ]
                      },
                      {
                        "learn": [
                          0.9746824743,
                          12344.04468,
                          9101.620297
                        ],
                        "iteration": 287,
                        "passed_time": 4.552899129,
                        "remaining_time": 11.2557784,
                        "test": [
                          0.9121400121,
                          24760.75995,
                          15248.84522
                        ]
                      },
                      {
                        "learn": [
                          0.9747738809,
                          12321.741,
                          9088.300529
                        ],
                        "iteration": 288,
                        "passed_time": 4.581257174,
                        "remaining_time": 11.27084377,
                        "test": [
                          0.9121881708,
                          24753.97296,
                          15244.21056
                        ]
                      },
                      {
                        "learn": [
                          0.9749027082,
                          12290.23778,
                          9064.954764
                        ],
                        "iteration": 289,
                        "passed_time": 4.593545635,
                        "remaining_time": 11.2462669,
                        "test": [
                          0.91226816,
                          24742.69601,
                          15237.25613
                        ]
                      },
                      {
                        "learn": [
                          0.9750028838,
                          12265.68509,
                          9047.097223
                        ],
                        "iteration": 290,
                        "passed_time": 4.599348158,
                        "remaining_time": 11.20597197,
                        "test": [
                          0.9122484985,
                          24745.46838,
                          15233.40913
                        ]
                      },
                      {
                        "learn": [
                          0.9751356607,
                          12233.06594,
                          9026.655734
                        ],
                        "iteration": 291,
                        "passed_time": 4.605080672,
                        "remaining_time": 11.16574355,
                        "test": [
                          0.9122165333,
                          24749.97497,
                          15237.03072
                        ]
                      },
                      {
                        "learn": [
                          0.9753068165,
                          12190.88956,
                          9004.794773
                        ],
                        "iteration": 292,
                        "passed_time": 4.610733278,
                        "remaining_time": 11.12555777,
                        "test": [
                          0.912272248,
                          24742.11953,
                          15237.97474
                        ]
                      },
                      {
                        "learn": [
                          0.975340325,
                          12182.61527,
                          9001.533486
                        ],
                        "iteration": 293,
                        "passed_time": 4.616179558,
                        "remaining_time": 11.08511146,
                        "test": [
                          0.9122842149,
                          24740.43195,
                          15237.71822
                        ]
                      },
                      {
                        "learn": [
                          0.9754104523,
                          12165.28046,
                          8992.363955
                        ],
                        "iteration": 294,
                        "passed_time": 4.621821041,
                        "remaining_time": 11.04536893,
                        "test": [
                          0.9123014912,
                          24737.99541,
                          15237.84607
                        ]
                      },
                      {
                        "learn": [
                          0.975560758,
                          12128.04281,
                          8972.246743
                        ],
                        "iteration": 295,
                        "passed_time": 4.627490329,
                        "remaining_time": 11.00592294,
                        "test": [
                          0.9124227421,
                          24720.88827,
                          15225.82897
                        ]
                      },
                      {
                        "learn": [
                          0.9756606026,
                          12103.24336,
                          8955.92183
                        ],
                        "iteration": 296,
                        "passed_time": 4.633263305,
                        "remaining_time": 10.96694984,
                        "test": [
                          0.912406525,
                          24723.177,
                          15224.62772
                        ]
                      },
                      {
                        "learn": [
                          0.9758067237,
                          12066.85788,
                          8930.097287
                        ],
                        "iteration": 297,
                        "passed_time": 4.638931463,
                        "remaining_time": 10.92795264,
                        "test": [
                          0.9125237879,
                          24706.6228,
                          15212.54896
                        ]
                      },
                      {
                        "learn": [
                          0.9758922999,
                          12045.4976,
                          8913.259916
                        ],
                        "iteration": 298,
                        "passed_time": 4.64601231,
                        "remaining_time": 10.8924904,
                        "test": [
                          0.9125495236,
                          24702.98816,
                          15213.24918
                        ]
                      },
                      {
                        "learn": [
                          0.9759886309,
                          12021.40744,
                          8894.112979
                        ],
                        "iteration": 299,
                        "passed_time": 4.653571298,
                        "remaining_time": 10.85833303,
                        "test": [
                          0.9126363932,
                          24690.71565,
                          15201.0274
                        ]
                      },
                      {
                        "learn": [
                          0.9760578007,
                          12004.07987,
                          8879.907722
                        ],
                        "iteration": 300,
                        "passed_time": 4.660169221,
                        "remaining_time": 10.82212055,
                        "test": [
                          0.9126512804,
                          24688.61186,
                          15199.65095
                        ]
                      },
                      {
                        "learn": [
                          0.976131856,
                          11985.50067,
                          8870.256839
                        ],
                        "iteration": 301,
                        "passed_time": 4.665764537,
                        "remaining_time": 10.78378691,
                        "test": [
                          0.9127572272,
                          24673.63469,
                          15193.87974
                        ]
                      },
                      {
                        "learn": [
                          0.9762974344,
                          11943.85532,
                          8847.556838
                        ],
                        "iteration": 302,
                        "passed_time": 4.67134082,
                        "remaining_time": 10.74562558,
                        "test": [
                          0.9128915129,
                          24654.63831,
                          15183.14644
                        ]
                      },
                      {
                        "learn": [
                          0.9763485863,
                          11930.9605,
                          8839.065655
                        ],
                        "iteration": 303,
                        "passed_time": 4.676868179,
                        "remaining_time": 10.70756662,
                        "test": [
                          0.9128787426,
                          24656.44545,
                          15186.3852
                        ]
                      },
                      {
                        "learn": [
                          0.9764227692,
                          11912.23502,
                          8824.076099
                        ],
                        "iteration": 304,
                        "passed_time": 4.682197411,
                        "remaining_time": 10.66926951,
                        "test": [
                          0.9127928172,
                          24668.60146,
                          15186.85018
                        ]
                      },
                      {
                        "learn": [
                          0.9765685539,
                          11875.34955,
                          8797.805255
                        ],
                        "iteration": 305,
                        "passed_time": 4.687924063,
                        "remaining_time": 10.63208921,
                        "test": [
                          0.9127930317,
                          24668.57112,
                          15176.96918
                        ]
                      },
                      {
                        "learn": [
                          0.9766835819,
                          11846.16487,
                          8775.548739
                        ],
                        "iteration": 306,
                        "passed_time": 4.693517971,
                        "remaining_time": 10.59481418,
                        "test": [
                          0.9128658848,
                          24658.26485,
                          15170.11875
                        ]
                      },
                      {
                        "learn": [
                          0.9768641407,
                          11800.20827,
                          8742.65218
                        ],
                        "iteration": 307,
                        "passed_time": 4.699152874,
                        "remaining_time": 10.55783698,
                        "test": [
                          0.912851891,
                          24660.24484,
                          15170.59854
                        ]
                      },
                      {
                        "learn": [
                          0.9769674256,
                          11773.83912,
                          8730.459871
                        ],
                        "iteration": 308,
                        "passed_time": 4.704503348,
                        "remaining_time": 10.52042658,
                        "test": [
                          0.9129829535,
                          24641.69453,
                          15164.69291
                        ]
                      },
                      {
                        "learn": [
                          0.9770686069,
                          11747.94961,
                          8718.598042
                        ],
                        "iteration": 309,
                        "passed_time": 4.709919669,
                        "remaining_time": 10.48336959,
                        "test": [
                          0.9129612089,
                          24644.77318,
                          15171.27673
                        ]
                      },
                      {
                        "learn": [
                          0.9771879678,
                          11717.33492,
                          8693.594756
                        ],
                        "iteration": 310,
                        "passed_time": 4.71528661,
                        "remaining_time": 10.44640667,
                        "test": [
                          0.9129831855,
                          24641.66169,
                          15168.68235
                        ]
                      },
                      {
                        "learn": [
                          0.9772351998,
                          11705.19834,
                          8685.086719
                        ],
                        "iteration": 311,
                        "passed_time": 4.720666893,
                        "remaining_time": 10.40967571,
                        "test": [
                          0.9129375381,
                          24648.12411,
                          15170.18333
                        ]
                      },
                      {
                        "learn": [
                          0.9773072446,
                          11686.66167,
                          8673.28468
                        ],
                        "iteration": 312,
                        "passed_time": 4.725900853,
                        "remaining_time": 10.37282392,
                        "test": [
                          0.9129342508,
                          24648.58944,
                          15166.68227
                        ]
                      },
                      {
                        "learn": [
                          0.9774674953,
                          11645.3244,
                          8647.680178
                        ],
                        "iteration": 313,
                        "passed_time": 4.73123926,
                        "remaining_time": 10.3364017,
                        "test": [
                          0.9129077587,
                          24652.33915,
                          15162.84202
                        ]
                      },
                      {
                        "learn": [
                          0.9775882345,
                          11614.08207,
                          8623.363349
                        ],
                        "iteration": 314,
                        "passed_time": 4.736917252,
                        "remaining_time": 10.30091529,
                        "test": [
                          0.9128782601,
                          24656.51374,
                          15162.85118
                        ]
                      },
                      {
                        "learn": [
                          0.9777030967,
                          11584.28224,
                          8601.551881
                        ],
                        "iteration": 315,
                        "passed_time": 4.742492787,
                        "remaining_time": 10.26539578,
                        "test": [
                          0.9129121688,
                          24651.71499,
                          15166.10423
                        ]
                      },
                      {
                        "learn": [
                          0.9778141782,
                          11555.39021,
                          8573.499491
                        ],
                        "iteration": 316,
                        "passed_time": 4.748147001,
                        "remaining_time": 10.23023471,
                        "test": [
                          0.9129844237,
                          24641.48636,
                          15157.09345
                        ]
                      },
                      {
                        "learn": [
                          0.9779314164,
                          11524.81826,
                          8545.749214
                        ],
                        "iteration": 317,
                        "passed_time": 4.753899762,
                        "remaining_time": 10.19547056,
                        "test": [
                          0.9129783228,
                          24642.35019,
                          15150.70714
                        ]
                      },
                      {
                        "learn": [
                          0.9779785312,
                          11512.50936,
                          8537.790193
                        ],
                        "iteration": 318,
                        "passed_time": 4.759503444,
                        "remaining_time": 10.16057005,
                        "test": [
                          0.913006982,
                          24638.29207,
                          15149.14192
                        ]
                      },
                      {
                        "learn": [
                          0.9780558229,
                          11492.28811,
                          8521.649463
                        ],
                        "iteration": 319,
                        "passed_time": 4.765059735,
                        "remaining_time": 10.12575194,
                        "test": [
                          0.9130505824,
                          24632.11701,
                          15141.81055
                        ]
                      },
                      {
                        "learn": [
                          0.9781424902,
                          11469.57157,
                          8500.704781
                        ],
                        "iteration": 320,
                        "passed_time": 4.770456481,
                        "remaining_time": 10.09077866,
                        "test": [
                          0.9130939793,
                          24625.96924,
                          15128.74419
                        ]
                      },
                      {
                        "learn": [
                          0.9781822144,
                          11459.14434,
                          8493.744326
                        ],
                        "iteration": 321,
                        "passed_time": 4.775973885,
                        "remaining_time": 10.05624315,
                        "test": [
                          0.9130924848,
                          24626.18097,
                          15129.57093
                        ]
                      },
                      {
                        "learn": [
                          0.9782584228,
                          11439.11373,
                          8477.970196
                        ],
                        "iteration": 322,
                        "passed_time": 4.781606011,
                        "remaining_time": 10.02212777,
                        "test": [
                          0.9131065233,
                          24624.19191,
                          15126.28155
                        ]
                      },
                      {
                        "learn": [
                          0.9783050044,
                          11426.85294,
                          8470.540971
                        ],
                        "iteration": 323,
                        "passed_time": 4.787292121,
                        "remaining_time": 9.988300844,
                        "test": [
                          0.9131210859,
                          24622.12844,
                          15128.20867
                        ]
                      },
                      {
                        "learn": [
                          0.9783732066,
                          11408.87761,
                          8463.992063
                        ],
                        "iteration": 324,
                        "passed_time": 4.79287656,
                        "remaining_time": 9.954435933,
                        "test": [
                          0.9130041793,
                          24638.68895,
                          15135.3408
                        ]
                      },
                      {
                        "learn": [
                          0.9784809613,
                          11380.41997,
                          8445.706844
                        ],
                        "iteration": 325,
                        "passed_time": 4.798387993,
                        "remaining_time": 9.920593581,
                        "test": [
                          0.91308402,
                          24627.38025,
                          15133.18935
                        ]
                      },
                      {
                        "learn": [
                          0.9785869285,
                          11352.36482,
                          8421.085904
                        ],
                        "iteration": 326,
                        "passed_time": 4.804039011,
                        "remaining_time": 9.887211786,
                        "test": [
                          0.9131488075,
                          24618.19986,
                          15115.34047
                        ]
                      },
                      {
                        "learn": [
                          0.9786522933,
                          11335.02466,
                          8410.946176
                        ],
                        "iteration": 327,
                        "passed_time": 4.817258618,
                        "remaining_time": 9.869505462,
                        "test": [
                          0.9131012688,
                          24624.93642,
                          15119.71765
                        ]
                      },
                      {
                        "learn": [
                          0.9787632419,
                          11305.53102,
                          8391.396044
                        ],
                        "iteration": 328,
                        "passed_time": 4.842968235,
                        "remaining_time": 9.877299957,
                        "test": [
                          0.9132120657,
                          24609.23287,
                          15108.12545
                        ]
                      },
                      {
                        "learn": [
                          0.9788544747,
                          11281.22068,
                          8373.774336
                        ],
                        "iteration": 329,
                        "passed_time": 4.848998283,
                        "remaining_time": 9.844935907,
                        "test": [
                          0.9132590294,
                          24602.57356,
                          15109.11716
                        ]
                      },
                      {
                        "learn": [
                          0.9789593602,
                          11253.20748,
                          8356.087136
                        ],
                        "iteration": 330,
                        "passed_time": 4.860125628,
                        "remaining_time": 9.823033369,
                        "test": [
                          0.913342052,
                          24590.79678,
                          15098.46411
                        ]
                      },
                      {
                        "learn": [
                          0.9790119064,
                          11239.147,
                          8344.968555
                        ],
                        "iteration": 331,
                        "passed_time": 4.868566804,
                        "remaining_time": 9.795791039,
                        "test": [
                          0.9133452969,
                          24590.33637,
                          15101.34916
                        ]
                      },
                      {
                        "learn": [
                          0.9790475661,
                          11229.59503,
                          8334.213926
                        ],
                        "iteration": 332,
                        "passed_time": 4.876572118,
                        "remaining_time": 9.767788596,
                        "test": [
                          0.9133256086,
                          24593.12973,
                          15100.90737
                        ]
                      },
                      {
                        "learn": [
                          0.9790774675,
                          11221.57926,
                          8327.966067
                        ],
                        "iteration": 333,
                        "passed_time": 4.882075603,
                        "remaining_time": 9.73491722,
                        "test": [
                          0.9133562825,
                          24588.77761,
                          15100.40534
                        ]
                      },
                      {
                        "learn": [
                          0.9791816428,
                          11193.60774,
                          8308.172264
                        ],
                        "iteration": 334,
                        "passed_time": 4.890513083,
                        "remaining_time": 9.708033434,
                        "test": [
                          0.9133686899,
                          24587.017,
                          15104.70259
                        ]
                      },
                      {
                        "learn": [
                          0.9792528633,
                          11174.44442,
                          8292.658244
                        ],
                        "iteration": 335,
                        "passed_time": 4.898539698,
                        "remaining_time": 9.680447498,
                        "test": [
                          0.9134252332,
                          24578.99185,
                          15101.03901
                        ]
                      },
                      {
                        "learn": [
                          0.9792717059,
                          11169.36895,
                          8289.193554
                        ],
                        "iteration": 336,
                        "passed_time": 4.904092593,
                        "remaining_time": 9.648110947,
                        "test": [
                          0.9134909812,
                          24569.65698,
                          15093.08723
                        ]
                      },
                      {
                        "learn": [
                          0.9793247472,
                          11155.06923,
                          8278.284442
                        ],
                        "iteration": 337,
                        "passed_time": 4.912406691,
                        "remaining_time": 9.621340915,
                        "test": [
                          0.9134279888,
                          24578.60068,
                          15096.94864
                        ]
                      },
                      {
                        "learn": [
                          0.9794134268,
                          11131.12054,
                          8257.667503
                        ],
                        "iteration": 338,
                        "passed_time": 4.919056353,
                        "remaining_time": 9.591434363,
                        "test": [
                          0.913479295,
                          24571.31645,
                          15088.00798
                        ]
                      },
                      {
                        "learn": [
                          0.979482939,
                          11112.31208,
                          8245.059186
                        ],
                        "iteration": 339,
                        "passed_time": 4.94246026,
                        "remaining_time": 9.594187563,
                        "test": [
                          0.9135189702,
                          24565.68205,
                          15084.9206
                        ]
                      },
                      {
                        "learn": [
                          0.9795203813,
                          11102.16783,
                          8239.363356
                        ],
                        "iteration": 340,
                        "passed_time": 4.949131124,
                        "remaining_time": 9.564449884,
                        "test": [
                          0.9134846026,
                          24570.56277,
                          15085.28802
                        ]
                      },
                      {
                        "learn": [
                          0.9796059987,
                          11078.9366,
                          8223.79007
                        ],
                        "iteration": 341,
                        "passed_time": 4.956979524,
                        "remaining_time": 9.537112652,
                        "test": [
                          0.913548961,
                          24561.42211,
                          15083.50654
                        ]
                      },
                      {
                        "learn": [
                          0.9796917142,
                          11055.62982,
                          8205.323937
                        ],
                        "iteration": 342,
                        "passed_time": 4.964882792,
                        "remaining_time": 9.509994153,
                        "test": [
                          0.9135676233,
                          24558.77091,
                          15081.16623
                        ]
                      },
                      {
                        "learn": [
                          0.9797435611,
                          11041.50832,
                          8196.226834
                        ],
                        "iteration": 343,
                        "passed_time": 4.970384621,
                        "remaining_time": 9.478407882,
                        "test": [
                          0.9135728093,
                          24558.03413,
                          15079.37823
                        ]
                      },
                      {
                        "learn": [
                          0.9798268959,
                          11018.77259,
                          8181.891713
                        ],
                        "iteration": 344,
                        "passed_time": 5.009583297,
                        "remaining_time": 9.510947999,
                        "test": [
                          0.9135540267,
                          24560.70249,
                          15081.06804
                        ]
                      },
                      {
                        "learn": [
                          0.9799384294,
                          10988.26995,
                          8164.054268
                        ],
                        "iteration": 345,
                        "passed_time": 5.022863778,
                        "remaining_time": 9.494083558,
                        "test": [
                          0.9136346046,
                          24549.25308,
                          15070.68213
                        ]
                      },
                      {
                        "learn": [
                          0.9800535925,
                          10956.68559,
                          8141.759787
                        ],
                        "iteration": 346,
                        "passed_time": 5.032353246,
                        "remaining_time": 9.470105677,
                        "test": [
                          0.913629814,
                          24549.93394,
                          15062.735
                        ]
                      },
                      {
                        "learn": [
                          0.9801799969,
                          10921.91303,
                          8121.831358
                        ],
                        "iteration": 347,
                        "passed_time": 5.041430571,
                        "remaining_time": 9.445438886,
                        "test": [
                          0.9137111615,
                          24538.37006,
                          15061.21441
                        ]
                      },
                      {
                        "learn": [
                          0.9802776648,
                          10894.96961,
                          8105.497643
                        ],
                        "iteration": 348,
                        "passed_time": 5.049625719,
                        "remaining_time": 9.419215882,
                        "test": [
                          0.9137132719,
                          24538.06999,
                          15061.17507
                        ]
                      },
                      {
                        "learn": [
                          0.9803982708,
                          10861.60607,
                          8080.232006
                        ],
                        "iteration": 349,
                        "passed_time": 5.055404869,
                        "remaining_time": 9.388609043,
                        "test": [
                          0.9138170599,
                          24523.30803,
                          15057.84872
                        ]
                      },
                      {
                        "learn": [
                          0.9804303171,
                          10852.72379,
                          8072.307741
                        ],
                        "iteration": 350,
                        "passed_time": 5.06075807,
                        "remaining_time": 9.35735609,
                        "test": [
                          0.9138186269,
                          24523.08509,
                          15058.50439
                        ]
                      },
                      {
                        "learn": [
                          0.9804960831,
                          10834.47257,
                          8062.225001
                        ],
                        "iteration": 351,
                        "passed_time": 5.066162421,
                        "remaining_time": 9.326344457,
                        "test": [
                          0.9137845175,
                          24527.93755,
                          15060.46437
                        ]
                      },
                      {
                        "learn": [
                          0.980580501,
                          10810.99996,
                          8044.124914
                        ],
                        "iteration": 352,
                        "passed_time": 5.071596487,
                        "remaining_time": 9.295532371,
                        "test": [
                          0.9138106673,
                          24524.21752,
                          15060.62679
                        ]
                      },
                      {
                        "learn": [
                          0.9806562474,
                          10789.89505,
                          8027.518594
                        ],
                        "iteration": 353,
                        "passed_time": 5.077093114,
                        "remaining_time": 9.264977829,
                        "test": [
                          0.9137967655,
                          24526.19524,
                          15060.71145
                        ]
                      },
                      {
                        "learn": [
                          0.9807795769,
                          10755.44358,
                          8005.755189
                        ],
                        "iteration": 354,
                        "passed_time": 5.084994448,
                        "remaining_time": 9.238933574,
                        "test": [
                          0.9139149931,
                          24509.37065,
                          15057.16351
                        ]
                      },
                      {
                        "learn": [
                          0.9808844683,
                          10726.05566,
                          7986.968476
                        ],
                        "iteration": 355,
                        "passed_time": 5.093205684,
                        "remaining_time": 9.213551855,
                        "test": [
                          0.9140238266,
                          24493.87268,
                          15048.03647
                        ]
                      },
                      {
                        "learn": [
                          0.9809517808,
                          10707.15392,
                          7977.764792
                        ],
                        "iteration": 356,
                        "passed_time": 5.098846637,
                        "remaining_time": 9.18363694,
                        "test": [
                          0.9140278439,
                          24493.30043,
                          15047.84044
                        ]
                      },
                      {
                        "learn": [
                          0.9810705156,
                          10673.73087,
                          7957.218015
                        ],
                        "iteration": 357,
                        "passed_time": 5.104529685,
                        "remaining_time": 9.153933122,
                        "test": [
                          0.914054313,
                          24489.52964,
                          15054.9406
                        ]
                      },
                      {
                        "learn": [
                          0.9810977661,
                          10666.04525,
                          7950.125761
                        ],
                        "iteration": 358,
                        "passed_time": 5.110068961,
                        "remaining_time": 9.124106418,
                        "test": [
                          0.9140876354,
                          24484.78171,
                          15048.38431
                        ]
                      },
                      {
                        "learn": [
                          0.9811078108,
                          10663.21088,
                          7948.527439
                        ],
                        "iteration": 359,
                        "passed_time": 5.117396024,
                        "remaining_time": 9.097592932,
                        "test": [
                          0.9140818631,
                          24485.60424,
                          15049.64418
                        ]
                      },
                      {
                        "learn": [
                          0.9811735115,
                          10644.6532,
                          7939.491367
                        ],
                        "iteration": 360,
                        "passed_time": 5.125324972,
                        "remaining_time": 9.072251128,
                        "test": [
                          0.9140853666,
                          24485.10501,
                          15051.04032
                        ]
                      },
                      {
                        "learn": [
                          0.9812538192,
                          10621.92562,
                          7922.104002
                        ],
                        "iteration": 361,
                        "passed_time": 5.13126406,
                        "remaining_time": 9.043498537,
                        "test": [
                          0.9140162437,
                          24494.95281,
                          15054.64307
                        ]
                      },
                      {
                        "learn": [
                          0.9813137497,
                          10604.93317,
                          7912.70734
                        ],
                        "iteration": 362,
                        "passed_time": 5.136948258,
                        "remaining_time": 9.014424354,
                        "test": [
                          0.9141333536,
                          24478.26607,
                          15046.77864
                        ]
                      },
                      {
                        "learn": [
                          0.9813444948,
                          10596.20525,
                          7908.093145
                        ],
                        "iteration": 363,
                        "passed_time": 5.142596615,
                        "remaining_time": 8.985416064,
                        "test": [
                          0.9141498374,
                          24475.91641,
                          15046.39582
                        ]
                      },
                      {
                        "learn": [
                          0.981459017,
                          10563.63126,
                          7888.450843
                        ],
                        "iteration": 364,
                        "passed_time": 5.148063432,
                        "remaining_time": 8.956219943,
                        "test": [
                          0.9142223597,
                          24465.57616,
                          15041.00738
                        ]
                      },
                      {
                        "learn": [
                          0.9815339664,
                          10542.25861,
                          7870.628447
                        ],
                        "iteration": 365,
                        "passed_time": 5.15354925,
                        "remaining_time": 8.927186405,
                        "test": [
                          0.9142124169,
                          24466.99406,
                          15040.09312
                        ]
                      },
                      {
                        "learn": [
                          0.9816413431,
                          10511.56325,
                          7848.158502
                        ],
                        "iteration": 366,
                        "passed_time": 5.159040975,
                        "remaining_time": 8.898291382,
                        "test": [
                          0.9142591667,
                          24460.32653,
                          15033.63012
                        ]
                      },
                      {
                        "learn": [
                          0.9817632815,
                          10476.59614,
                          7816.186822
                        ],
                        "iteration": 367,
                        "passed_time": 5.164412366,
                        "remaining_time": 8.869316889,
                        "test": [
                          0.9142684772,
                          24458.99843,
                          15031.71762
                        ]
                      },
                      {
                        "learn": [
                          0.981843025,
                          10453.6656,
                          7795.100124
                        ],
                        "iteration": 368,
                        "passed_time": 5.169865554,
                        "remaining_time": 8.840610203,
                        "test": [
                          0.9143024401,
                          24454.15319,
                          15024.34539
                        ]
                      },
                      {
                        "learn": [
                          0.9819222595,
                          10430.83148,
                          7781.771394
                        ],
                        "iteration": 369,
                        "passed_time": 5.175357685,
                        "remaining_time": 8.812095517,
                        "test": [
                          0.9144001071,
                          24440.21437,
                          15016.04727
                        ]
                      },
                      {
                        "learn": [
                          0.9819786376,
                          10414.55373,
                          7764.743921
                        ],
                        "iteration": 370,
                        "passed_time": 5.181362481,
                        "remaining_time": 8.784574125,
                        "test": [
                          0.9144356452,
                          24435.14048,
                          15006.59088
                        ]
                      },
                      {
                        "learn": [
                          0.9820518223,
                          10393.38549,
                          7746.703299
                        ],
                        "iteration": 371,
                        "passed_time": 5.186714225,
                        "remaining_time": 8.75606595,
                        "test": [
                          0.9144317037,
                          24435.70327,
                          15008.59911
                        ]
                      },
                      {
                        "learn": [
                          0.9821270455,
                          10371.58259,
                          7729.483007
                        ],
                        "iteration": 372,
                        "passed_time": 5.192687873,
                        "remaining_time": 8.728727337,
                        "test": [
                          0.9144960939,
                          24426.5076,
                          14999.9874
                        ]
                      },
                      {
                        "learn": [
                          0.9821904666,
                          10353.16478,
                          7717.184029
                        ],
                        "iteration": 373,
                        "passed_time": 5.198134199,
                        "remaining_time": 8.700620344,
                        "test": [
                          0.9144965922,
                          24426.43643,
                          14998.78514
                        ]
                      },
                      {
                        "learn": [
                          0.9822670133,
                          10330.89147,
                          7701.66451
                        ],
                        "iteration": 374,
                        "passed_time": 5.2039785,
                        "remaining_time": 8.673297499,
                        "test": [
                          0.9145221572,
                          24422.78448,
                          14992.97995
                        ]
                      },
                      {
                        "learn": [
                          0.9822953539,
                          10322.63284,
                          7697.437352
                        ],
                        "iteration": 375,
                        "passed_time": 5.209542179,
                        "remaining_time": 8.645623191,
                        "test": [
                          0.9145324887,
                          24421.30847,
                          14991.75831
                        ]
                      },
                      {
                        "learn": [
                          0.9823602224,
                          10303.70481,
                          7685.347093
                        ],
                        "iteration": 376,
                        "passed_time": 5.216215721,
                        "remaining_time": 8.619900251,
                        "test": [
                          0.9144530476,
                          24432.65549,
                          14997.29287
                        ]
                      },
                      {
                        "learn": [
                          0.9824196383,
                          10286.33723,
                          7673.872746
                        ],
                        "iteration": 377,
                        "passed_time": 5.223607927,
                        "remaining_time": 8.595460663,
                        "test": [
                          0.914354565,
                          24446.71503,
                          15000.06874
                        ]
                      },
                      {
                        "learn": [
                          0.982472013,
                          10271.00349,
                          7666.546034
                        ],
                        "iteration": 378,
                        "passed_time": 5.229196234,
                        "remaining_time": 8.568155308,
                        "test": [
                          0.9144325884,
                          24435.57695,
                          14998.52316
                        ]
                      },
                      {
                        "learn": [
                          0.9825178327,
                          10257.57005,
                          7657.063745
                        ],
                        "iteration": 379,
                        "passed_time": 5.238107274,
                        "remaining_time": 8.546385553,
                        "test": [
                          0.9143215547,
                          24451.42582,
                          15008.80549
                        ]
                      },
                      {
                        "learn": [
                          0.9826029654,
                          10232.56399,
                          7639.47572
                        ],
                        "iteration": 380,
                        "passed_time": 5.249698314,
                        "remaining_time": 8.529037418,
                        "test": [
                          0.9143819124,
                          24442.81168,
                          15003.03363
                        ]
                      },
                      {
                        "learn": [
                          0.9826316202,
                          10224.13343,
                          7632.717987
                        ],
                        "iteration": 381,
                        "passed_time": 5.263513256,
                        "remaining_time": 8.515317257,
                        "test": [
                          0.9144209686,
                          24437.23604,
                          14998.00388
                        ]
                      },
                      {
                        "learn": [
                          0.982701418,
                          10203.56905,
                          7614.994948
                        ],
                        "iteration": 382,
                        "passed_time": 5.27704149,
                        "remaining_time": 8.501134724,
                        "test": [
                          0.9144905181,
                          24427.30403,
                          14996.69362
                        ]
                      },
                      {
                        "learn": [
                          0.9827679176,
                          10183.93776,
                          7601.136479
                        ],
                        "iteration": 383,
                        "passed_time": 5.289591203,
                        "remaining_time": 8.485385889,
                        "test": [
                          0.9145689851,
                          24416.09371,
                          14982.71508
                        ]
                      },
                      {
                        "learn": [
                          0.9828321629,
                          10164.93596,
                          7587.834504
                        ],
                        "iteration": 384,
                        "passed_time": 5.304927399,
                        "remaining_time": 8.474104807,
                        "test": [
                          0.9145160738,
                          24423.65353,
                          14985.31419
                        ]
                      },
                      {
                        "learn": [
                          0.9829042627,
                          10143.56866,
                          7575.921722
                        ],
                        "iteration": 385,
                        "passed_time": 5.31858383,
                        "remaining_time": 8.460130755,
                        "test": [
                          0.914491604,
                          24427.14893,
                          14987.31679
                        ]
                      },
                      {
                        "learn": [
                          0.9829907192,
                          10117.88713,
                          7560.748739
                        ],
                        "iteration": 386,
                        "passed_time": 5.331746148,
                        "remaining_time": 8.445375682,
                        "test": [
                          0.9145464296,
                          24419.31667,
                          14977.22425
                        ]
                      },
                      {
                        "learn": [
                          0.9830521577,
                          10099.59742,
                          7549.490688
                        ],
                        "iteration": 387,
                        "passed_time": 5.346610005,
                        "remaining_time": 8.433312688,
                        "test": [
                          0.9146508323,
                          24404.39499,
                          14966.92753
                        ]
                      },
                      {
                        "learn": [
                          0.9831492271,
                          10070.63297,
                          7530.285828
                        ],
                        "iteration": 388,
                        "passed_time": 5.35938945,
                        "remaining_time": 8.417961322,
                        "test": [
                          0.9146920229,
                          24398.50533,
                          14958.97481
                        ]
                      },
                      {
                        "learn": [
                          0.9832287218,
                          10046.85044,
                          7512.095278
                        ],
                        "iteration": 389,
                        "passed_time": 5.372270621,
                        "remaining_time": 8.402782254,
                        "test": [
                          0.9147495163,
                          24390.28225,
                          14947.94908
                        ]
                      },
                      {
                        "learn": [
                          0.9832806453,
                          10031.28597,
                          7497.111738
                        ],
                        "iteration": 390,
                        "passed_time": 5.385396326,
                        "remaining_time": 8.387995811,
                        "test": [
                          0.9147554686,
                          24389.43075,
                          14945.25493
                        ]
                      },
                      {
                        "learn": [
                          0.9833357963,
                          10014.72753,
                          7485.234987
                        ],
                        "iteration": 391,
                        "passed_time": 5.403534266,
                        "remaining_time": 8.380991923,
                        "test": [
                          0.9147987726,
                          24383.23509,
                          14938.57708
                        ]
                      },
                      {
                        "learn": [
                          0.9833931507,
                          9997.47847,
                          7471.293138
                        ],
                        "iteration": 392,
                        "passed_time": 5.418515144,
                        "remaining_time": 8.369055197,
                        "test": [
                          0.9148521922,
                          24375.58997,
                          14936.72269
                        ]
                      },
                      {
                        "learn": [
                          0.9834032683,
                          9994.43257,
                          7469.601101
                        ],
                        "iteration": 393,
                        "passed_time": 5.432636209,
                        "remaining_time": 8.355780565,
                        "test": [
                          0.9148913305,
                          24369.98719,
                          14932.7091
                        ]
                      },
                      {
                        "learn": [
                          0.983520134,
                          9959.182545,
                          7443.980793
                        ],
                        "iteration": 394,
                        "passed_time": 5.447410706,
                        "remaining_time": 8.343502474,
                        "test": [
                          0.9149926486,
                          24355.47718,
                          14924.0682
                        ]
                      },
                      {
                        "learn": [
                          0.9836273152,
                          9926.743629,
                          7426.850573
                        ],
                        "iteration": 395,
                        "passed_time": 5.460511473,
                        "remaining_time": 8.328658914,
                        "test": [
                          0.9149422248,
                          24362.69957,
                          14924.06446
                        ]
                      },
                      {
                        "learn": [
                          0.983680677,
                          9910.553818,
                          7417.627397
                        ],
                        "iteration": 396,
                        "passed_time": 5.474922479,
                        "remaining_time": 8.315814244,
                        "test": [
                          0.9149461959,
                          24362.13085,
                          14921.27198
                        ]
                      },
                      {
                        "learn": [
                          0.9837534179,
                          9888.441748,
                          7404.518864
                        ],
                        "iteration": 397,
                        "passed_time": 5.487722671,
                        "remaining_time": 8.300525246,
                        "test": [
                          0.9150004242,
                          24354.36325,
                          14922.50375
                        ]
                      },
                      {
                        "learn": [
                          0.9838258505,
                          9866.374171,
                          7388.922647
                        ],
                        "iteration": 398,
                        "passed_time": 5.500000975,
                        "remaining_time": 8.284462621,
                        "test": [
                          0.9150275599,
                          24350.47543,
                          14921.05603
                        ]
                      },
                      {
                        "learn": [
                          0.9839116499,
                          9840.170169,
                          7372.912653
                        ],
                        "iteration": 399,
                        "passed_time": 5.511935337,
                        "remaining_time": 8.267903006,
                        "test": [
                          0.9150752175,
                          24343.64588,
                          14921.44181
                        ]
                      },
                      {
                        "learn": [
                          0.9839697327,
                          9822.391445,
                          7360.258713
                        ],
                        "iteration": 400,
                        "passed_time": 5.52733748,
                        "remaining_time": 8.25654651,
                        "test": [
                          0.9151436143,
                          24333.84095,
                          14918.07692
                        ]
                      },
                      {
                        "learn": [
                          0.9839878091,
                          9816.851802,
                          7355.869187
                        ],
                        "iteration": 401,
                        "passed_time": 5.541323088,
                        "remaining_time": 8.243062703,
                        "test": [
                          0.9151324154,
                          24335.44662,
                          14919.7763
                        ]
                      },
                      {
                        "learn": [
                          0.9840606216,
                          9794.506201,
                          7341.535659
                        ],
                        "iteration": 402,
                        "passed_time": 5.55592961,
                        "remaining_time": 8.230496221,
                        "test": [
                          0.9151422425,
                          24334.03764,
                          14916.57708
                        ]
                      },
                      {
                        "learn": [
                          0.9841178467,
                          9776.90843,
                          7330.458508
                        ],
                        "iteration": 403,
                        "passed_time": 5.569761013,
                        "remaining_time": 8.216776147,
                        "test": [
                          0.9151344422,
                          24335.15603,
                          14916.53016
                        ]
                      },
                      {
                        "learn": [
                          0.9841872159,
                          9755.533542,
                          7315.211163
                        ],
                        "iteration": 404,
                        "passed_time": 5.585565852,
                        "remaining_time": 8.205954771,
                        "test": [
                          0.9151965703,
                          24326.2468,
                          14912.92642
                        ]
                      },
                      {
                        "learn": [
                          0.9842689951,
                          9730.274417,
                          7297.703154
                        ],
                        "iteration": 405,
                        "passed_time": 5.597747906,
                        "remaining_time": 8.189808513,
                        "test": [
                          0.9152529112,
                          24318.16464,
                          14899.33514
                        ]
                      },
                      {
                        "learn": [
                          0.9843400224,
                          9708.282907,
                          7281.7955
                        ],
                        "iteration": 406,
                        "passed_time": 5.612167734,
                        "remaining_time": 8.176942178,
                        "test": [
                          0.9152953981,
                          24312.06808,
                          14893.09801
                        ]
                      },
                      {
                        "learn": [
                          0.9843552635,
                          9703.557449,
                          7278.028886
                        ],
                        "iteration": 407,
                        "passed_time": 5.6253179,
                        "remaining_time": 8.162225973,
                        "test": [
                          0.9153407888,
                          24305.55314,
                          14887.29578
                        ]
                      },
                      {
                        "learn": [
                          0.9844091405,
                          9686.834585,
                          7266.946383
                        ],
                        "iteration": 408,
                        "passed_time": 5.637785232,
                        "remaining_time": 8.146530738,
                        "test": [
                          0.9153507733,
                          24304.11982,
                          14886.13448
                        ]
                      },
                      {
                        "learn": [
                          0.9844369974,
                          9678.176763,
                          7261.240975
                        ],
                        "iteration": 409,
                        "passed_time": 5.651806868,
                        "remaining_time": 8.133087932,
                        "test": [
                          0.915418157,
                          24294.44444,
                          14880.79126
                        ]
                      },
                      {
                        "learn": [
                          0.9844871405,
                          9662.572917,
                          7251.940496
                        ],
                        "iteration": 410,
                        "passed_time": 5.667092765,
                        "remaining_time": 8.121454108,
                        "test": [
                          0.9154430175,
                          24290.87385,
                          14878.01902
                        ]
                      },
                      {
                        "learn": [
                          0.9844939999,
                          9660.436432,
                          7250.784786
                        ],
                        "iteration": 411,
                        "passed_time": 5.678710982,
                        "remaining_time": 8.104568101,
                        "test": [
                          0.9154386571,
                          24291.50014,
                          14878.41983
                        ]
                      },
                      {
                        "learn": [
                          0.9845542218,
                          9641.658671,
                          7239.532312
                        ],
                        "iteration": 412,
                        "passed_time": 5.691381048,
                        "remaining_time": 8.089202603,
                        "test": [
                          0.9154678943,
                          24287.30037,
                          14871.17141
                        ]
                      },
                      {
                        "learn": [
                          0.9846346203,
                          9616.532492,
                          7220.02085
                        ],
                        "iteration": 413,
                        "passed_time": 5.708039032,
                        "remaining_time": 8.079494862,
                        "test": [
                          0.9155469677,
                          24275.93825,
                          14860.42454
                        ]
                      },
                      {
                        "learn": [
                          0.9847052805,
                          9594.395419,
                          7204.555524
                        ],
                        "iteration": 414,
                        "passed_time": 5.720468056,
                        "remaining_time": 8.063792319,
                        "test": [
                          0.9155380304,
                          24277.22272,
                          14860.38765
                        ]
                      },
                      {
                        "learn": [
                          0.9848241042,
                          9557.053643,
                          7177.937513
                        ],
                        "iteration": 415,
                        "passed_time": 5.733325769,
                        "remaining_time": 8.048707329,
                        "test": [
                          0.9156671204,
                          24258.66321,
                          14849.02217
                        ]
                      },
                      {
                        "learn": [
                          0.9848830605,
                          9538.471628,
                          7160.65362
                        ],
                        "iteration": 416,
                        "passed_time": 5.748957813,
                        "remaining_time": 8.037511763,
                        "test": [
                          0.9156350357,
                          24263.27741,
                          14852.454
                        ]
                      },
                      {
                        "learn": [
                          0.9849442631,
                          9519.143273,
                          7145.240635
                        ],
                        "iteration": 417,
                        "passed_time": 5.763729394,
                        "remaining_time": 8.025096907,
                        "test": [
                          0.9156823714,
                          24256.46962,
                          14849.63662
                        ]
                      },
                      {
                        "learn": [
                          0.984950942,
                          9517.031629,
                          7143.944832
                        ],
                        "iteration": 418,
                        "passed_time": 5.778793689,
                        "remaining_time": 8.01307669,
                        "test": [
                          0.9156785587,
                          24257.01803,
                          14849.68319
                        ]
                      },
                      {
                        "learn": [
                          0.9850085574,
                          9498.796163,
                          7132.64815
                        ],
                        "iteration": 419,
                        "passed_time": 5.793664927,
                        "remaining_time": 8.000775375,
                        "test": [
                          0.9156753248,
                          24257.48317,
                          14849.7399
                        ]
                      },
                      {
                        "learn": [
                          0.9850689174,
                          9479.654386,
                          7118.468886
                        ],
                        "iteration": 420,
                        "passed_time": 5.807621476,
                        "remaining_time": 7.987203882,
                        "test": [
                          0.9155979366,
                          24268.61166,
                          14852.62191
                        ]
                      },
                      {
                        "learn": [
                          0.9851220848,
                          9462.7615,
                          7107.809132
                        ],
                        "iteration": 421,
                        "passed_time": 5.820665512,
                        "remaining_time": 7.972380725,
                        "test": [
                          0.9156355687,
                          24263.20077,
                          14850.65531
                        ]
                      },
                      {
                        "learn": [
                          0.9851781983,
                          9444.899799,
                          7093.948706
                        ],
                        "iteration": 422,
                        "passed_time": 5.834337593,
                        "remaining_time": 7.958422674,
                        "test": [
                          0.915649169,
                          24261.24497,
                          14851.23579
                        ]
                      },
                      {
                        "learn": [
                          0.9851874713,
                          9441.944823,
                          7090.955977
                        ],
                        "iteration": 423,
                        "passed_time": 5.854677021,
                        "remaining_time": 7.9535235,
                        "test": [
                          0.9156533281,
                          24260.64684,
                          14848.95149
                        ]
                      },
                      {
                        "learn": [
                          0.9852576369,
                          9419.555448,
                          7076.124711
                        ],
                        "iteration": 424,
                        "passed_time": 5.869412226,
                        "remaining_time": 7.940969482,
                        "test": [
                          0.9158197269,
                          24236.70437,
                          14838.96255
                        ]
                      },
                      {
                        "learn": [
                          0.9852981318,
                          9406.609561,
                          7064.011908
                        ],
                        "iteration": 425,
                        "passed_time": 5.881499809,
                        "remaining_time": 7.924837771,
                        "test": [
                          0.9158122331,
                          24237.78313,
                          14833.72155
                        ]
                      },
                      {
                        "learn": [
                          0.9853142848,
                          9401.440578,
                          7060.019342
                        ],
                        "iteration": 426,
                        "passed_time": 5.887322143,
                        "remaining_time": 7.900317536,
                        "test": [
                          0.9158610406,
                          24230.75624,
                          14828.78551
                        ]
                      },
                      {
                        "learn": [
                          0.9853738677,
                          9382.349442,
                          7049.293975
                        ],
                        "iteration": 427,
                        "passed_time": 5.894902451,
                        "remaining_time": 7.878234117,
                        "test": [
                          0.9158209167,
                          24236.53309,
                          14832.45865
                        ]
                      },
                      {
                        "learn": [
                          0.9854340205,
                          9363.036184,
                          7036.743859
                        ],
                        "iteration": 428,
                        "passed_time": 5.902817249,
                        "remaining_time": 7.856663517,
                        "test": [
                          0.9157720768,
                          24243.56297,
                          14834.7536
                        ]
                      },
                      {
                        "learn": [
                          0.9854778374,
                          9348.942795,
                          7024.829785
                        ],
                        "iteration": 429,
                        "passed_time": 5.910160255,
                        "remaining_time": 7.834398478,
                        "test": [
                          0.9157827462,
                          24242.02742,
                          14830.86789
                        ]
                      },
                      {
                        "learn": [
                          0.9855308489,
                          9331.863574,
                          7014.802161
                        ],
                        "iteration": 430,
                        "passed_time": 5.916469796,
                        "remaining_time": 7.810838316,
                        "test": [
                          0.9157835596,
                          24241.91034,
                          14830.72728
                        ]
                      },
                      {
                        "learn": [
                          0.9855376561,
                          9329.668185,
                          7013.718884
                        ],
                        "iteration": 431,
                        "passed_time": 5.928956198,
                        "remaining_time": 7.795479445,
                        "test": [
                          0.9157859673,
                          24241.56382,
                          14830.4666
                        ]
                      },
                      {
                        "learn": [
                          0.985596102,
                          9310.797344,
                          7003.949428
                        ],
                        "iteration": 432,
                        "passed_time": 5.942952146,
                        "remaining_time": 7.782110547,
                        "test": [
                          0.9157831916,
                          24241.96331,
                          14831.11597
                        ]
                      },
                      {
                        "learn": [
                          0.9856020038,
                          9308.889669,
                          7002.752942
                        ],
                        "iteration": 433,
                        "passed_time": 5.954460661,
                        "remaining_time": 7.76549478,
                        "test": [
                          0.9157795871,
                          24242.48208,
                          14831.08982
                        ]
                      },
                      {
                        "learn": [
                          0.9856219932,
                          9302.425449,
                          7000.560872
                        ],
                        "iteration": 434,
                        "passed_time": 5.966055665,
                        "remaining_time": 7.74901483,
                        "test": [
                          0.9157862946,
                          24241.5167,
                          14831.2918
                        ]
                      },
                      {
                        "learn": [
                          0.9856337407,
                          9298.624409,
                          6996.578492
                        ],
                        "iteration": 435,
                        "passed_time": 5.976779044,
                        "remaining_time": 7.731429772,
                        "test": [
                          0.91579864,
                          24239.73978,
                          14829.20314
                        ]
                      },
                      {
                        "learn": [
                          0.9856988305,
                          9277.53565,
                          6983.673334
                        ],
                        "iteration": 436,
                        "passed_time": 5.982442908,
                        "remaining_time": 7.707357797,
                        "test": [
                          0.9157237395,
                          24250.5185,
                          14832.57961
                        ]
                      },
                      {
                        "learn": [
                          0.9857544045,
                          9259.491984,
                          6973.954397
                        ],
                        "iteration": 437,
                        "passed_time": 5.990552444,
                        "remaining_time": 7.686507931,
                        "test": [
                          0.9156973308,
                          24254.31777,
                          14834.60267
                        ]
                      },
                      {
                        "learn": [
                          0.9858299793,
                          9234.897893,
                          6957.42578
                        ],
                        "iteration": 438,
                        "passed_time": 5.998239402,
                        "remaining_time": 7.665176092,
                        "test": [
                          0.915690634,
                          24255.28109,
                          14833.9262
                        ]
                      },
                      {
                        "learn": [
                          0.9858772763,
                          9219.472794,
                          6945.430121
                        ],
                        "iteration": 439,
                        "passed_time": 6.005793143,
                        "remaining_time": 7.643736727,
                        "test": [
                          0.9157256243,
                          24250.24733,
                          14825.79672
                        ]
                      },
                      {
                        "learn": [
                          0.9859235361,
                          9204.360946,
                          6934.726135
                        ],
                        "iteration": 440,
                        "passed_time": 6.063604021,
                        "remaining_time": 7.686064961,
                        "test": [
                          0.915774364,
                          24243.2338,
                          14824.0505
                        ]
                      },
                      {
                        "learn": [
                          0.9859904998,
                          9182.441634,
                          6918.866021
                        ],
                        "iteration": 441,
                        "passed_time": 6.079509341,
                        "remaining_time": 7.675036679,
                        "test": [
                          0.9158107978,
                          24237.98973,
                          14824.5928
                        ]
                      },
                      {
                        "learn": [
                          0.9859957687,
                          9180.714723,
                          6917.860733
                        ],
                        "iteration": 442,
                        "passed_time": 6.109062066,
                        "remaining_time": 7.681145758,
                        "test": [
                          0.9158068318,
                          24238.56063,
                          14824.81038
                        ]
                      },
                      {
                        "learn": [
                          0.986000844,
                          9179.050986,
                          6916.873926
                        ],
                        "iteration": 443,
                        "passed_time": 6.12899943,
                        "remaining_time": 7.67505334,
                        "test": [
                          0.9158028359,
                          24239.13583,
                          14825.02773
                        ]
                      },
                      {
                        "learn": [
                          0.9860576606,
                          9160.405112,
                          6904.440784
                        ],
                        "iteration": 444,
                        "passed_time": 6.156282575,
                        "remaining_time": 7.67806029,
                        "test": [
                          0.9158039416,
                          24238.97667,
                          14823.8478
                        ]
                      },
                      {
                        "learn": [
                          0.9861092607,
                          9143.438229,
                          6895.88238
                        ],
                        "iteration": 445,
                        "passed_time": 6.16460987,
                        "remaining_time": 7.657385354,
                        "test": [
                          0.9157941493,
                          24240.38616,
                          14816.02918
                        ]
                      },
                      {
                        "learn": [
                          0.9861703426,
                          9123.312812,
                          6879.451754
                        ],
                        "iteration": 446,
                        "passed_time": 6.172494973,
                        "remaining_time": 7.636218613,
                        "test": [
                          0.9158251437,
                          24235.92456,
                          14814.54023
                        ]
                      }
                    ],
                    "meta": {
                      "test_sets": [
                        "test"
                      ],
                      "test_metrics": [
                        {
                          "best_value": "Max",
                          "name": "R2"
                        },
                        {
                          "best_value": "Min",
                          "name": "RMSE"
                        },
                        {
                          "best_value": "Min",
                          "name": "MAE"
                        }
                      ],
                      "learn_metrics": [
                        {
                          "best_value": "Max",
                          "name": "R2"
                        },
                        {
                          "best_value": "Min",
                          "name": "RMSE"
                        },
                        {
                          "best_value": "Min",
                          "name": "MAE"
                        }
                      ],
                      "launch_mode": "Train",
                      "parameters": "",
                      "iteration_count": 1000,
                      "learn_sets": [
                        "learn"
                      ],
                      "name": "experiment"
                    }
                  }
                }
              }
            },
            "layout": "IPY_MODEL_64049b6ee72745388b0bd938cb2410c3"
          }
        },
        "31a414b60acb41c4b20114754423c670": {
          "model_module": "catboost-widget",
          "model_name": "CatboostWidgetModel",
          "model_module_version": "^1.0.0",
          "state": {
            "_dom_classes": [],
            "_model_module": "catboost-widget",
            "_model_module_version": "^1.0.0",
            "_model_name": "CatboostWidgetModel",
            "_view_count": null,
            "_view_module": "catboost-widget",
            "_view_module_version": "^1.0.0",
            "_view_name": "CatboostWidgetView",
            "data": {
              "catboost_info": {
                "path": "catboost_info",
                "name": "catboost_info",
                "content": {
                  "passed_iterations": 498,
                  "total_iterations": 1000,
                  "data": {
                    "iterations": [
                      {
                        "learn": [
                          0.06023610627,
                          75206.64809,
                          54807.52503
                        ],
                        "iteration": 0,
                        "passed_time": 0.1180254225,
                        "remaining_time": 117.9073971,
                        "test": [
                          0.05648378211,
                          81141.50993,
                          57618.15925
                        ]
                      },
                      {
                        "learn": [
                          0.1115056974,
                          73126.39751,
                          53011.17562
                        ],
                        "iteration": 1,
                        "passed_time": 0.1583215198,
                        "remaining_time": 79.00243836,
                        "test": [
                          0.1054496044,
                          79007.95235,
                          55733.26461
                        ]
                      },
                      {
                        "learn": [
                          0.1662648678,
                          70837.12172,
                          51069.68557
                        ],
                        "iteration": 2,
                        "passed_time": 0.2377682932,
                        "remaining_time": 79.01832944,
                        "test": [
                          0.159113129,
                          76601.4845,
                          53699.74084
                        ]
                      },
                      {
                        "learn": [
                          0.2175471928,
                          68623.98465,
                          49304.62699
                        ],
                        "iteration": 3,
                        "passed_time": 0.3161858917,
                        "remaining_time": 78.73028703,
                        "test": [
                          0.2084370732,
                          74320.92788,
                          51696.41769
                        ]
                      },
                      {
                        "learn": [
                          0.2624606896,
                          66625.34053,
                          47639.31311
                        ],
                        "iteration": 4,
                        "passed_time": 0.3735551033,
                        "remaining_time": 74.33746555,
                        "test": [
                          0.2529670677,
                          72200.17898,
                          49845.11501
                        ]
                      },
                      {
                        "learn": [
                          0.3028415998,
                          64775.77051,
                          46127.06613
                        ],
                        "iteration": 5,
                        "passed_time": 0.4567704706,
                        "remaining_time": 75.67164129,
                        "test": [
                          0.2931301936,
                          70232.49808,
                          48264.28725
                        ]
                      },
                      {
                        "learn": [
                          0.3380471134,
                          63119.04153,
                          44778.22801
                        ],
                        "iteration": 6,
                        "passed_time": 0.5547784148,
                        "remaining_time": 78.69928084,
                        "test": [
                          0.3251928935,
                          68621.18667,
                          46786.52553
                        ]
                      },
                      {
                        "learn": [
                          0.3728604914,
                          61436.84938,
                          43326.88878
                        ],
                        "iteration": 7,
                        "passed_time": 0.6446810254,
                        "remaining_time": 79.94044715,
                        "test": [
                          0.360564972,
                          66798.48486,
                          45219.17622
                        ]
                      },
                      {
                        "learn": [
                          0.4057227906,
                          59805.53681,
                          41890.15293
                        ],
                        "iteration": 8,
                        "passed_time": 0.7109048434,
                        "remaining_time": 78.2785222,
                        "test": [
                          0.3922421003,
                          65122.89619,
                          43655.26266
                        ]
                      },
                      {
                        "learn": [
                          0.4358450344,
                          58270.14017,
                          40547.40802
                        ],
                        "iteration": 9,
                        "passed_time": 0.7682499033,
                        "remaining_time": 76.05674043,
                        "test": [
                          0.4207944926,
                          63574.7618,
                          42289.99256
                        ]
                      },
                      {
                        "learn": [
                          0.4656686788,
                          56709.02381,
                          39238.61649
                        ],
                        "iteration": 10,
                        "passed_time": 0.8547386233,
                        "remaining_time": 76.84877259,
                        "test": [
                          0.4502742032,
                          61935.75827,
                          40857.39663
                        ]
                      },
                      {
                        "learn": [
                          0.4915721718,
                          55317.36847,
                          38102.51131
                        ],
                        "iteration": 11,
                        "passed_time": 0.946061815,
                        "remaining_time": 77.89242277,
                        "test": [
                          0.4751171366,
                          60520.09447,
                          39616.97618
                        ]
                      },
                      {
                        "learn": [
                          0.5168606622,
                          53924.11859,
                          36926.41859
                        ],
                        "iteration": 12,
                        "passed_time": 1.04311526,
                        "remaining_time": 79.19652012,
                        "test": [
                          0.499451241,
                          59100.55983,
                          38402.33335
                        ]
                      },
                      {
                        "learn": [
                          0.540234729,
                          52603.53582,
                          35776.83545
                        ],
                        "iteration": 13,
                        "passed_time": 1.124068316,
                        "remaining_time": 79.16652566,
                        "test": [
                          0.5238913095,
                          57639.66588,
                          37198.24209
                        ]
                      },
                      {
                        "learn": [
                          0.5605001716,
                          51431.14704,
                          34725.01395
                        ],
                        "iteration": 14,
                        "passed_time": 1.214331306,
                        "remaining_time": 79.74108908,
                        "test": [
                          0.5428402542,
                          56481.00185,
                          36169.48266
                        ]
                      },
                      {
                        "learn": [
                          0.5799809678,
                          50278.38744,
                          33724.00436
                        ],
                        "iteration": 15,
                        "passed_time": 1.319790042,
                        "remaining_time": 81.16708757,
                        "test": [
                          0.5633547768,
                          55199.19662,
                          35047.58606
                        ]
                      },
                      {
                        "learn": [
                          0.5962728357,
                          49293.63455,
                          32890.20993
                        ],
                        "iteration": 16,
                        "passed_time": 1.416904703,
                        "remaining_time": 81.93043077,
                        "test": [
                          0.5777673803,
                          54280.55645,
                          34319.7017
                        ]
                      },
                      {
                        "learn": [
                          0.6160584391,
                          48070.58622,
                          31930.31934
                        ],
                        "iteration": 17,
                        "passed_time": 1.486897263,
                        "remaining_time": 81.11850624,
                        "test": [
                          0.5960006645,
                          53095.62357,
                          33405.20973
                        ]
                      },
                      {
                        "learn": [
                          0.6322349471,
                          47047.01612,
                          31112.44974
                        ],
                        "iteration": 18,
                        "passed_time": 1.55837376,
                        "remaining_time": 80.4612978,
                        "test": [
                          0.6110215746,
                          52099.21231,
                          32633.65563
                        ]
                      },
                      {
                        "learn": [
                          0.6475837883,
                          46054.78874,
                          30284.33052
                        ],
                        "iteration": 19,
                        "passed_time": 1.656134355,
                        "remaining_time": 81.1505834,
                        "test": [
                          0.6256314781,
                          51111.43362,
                          31834.42166
                        ]
                      },
                      {
                        "learn": [
                          0.6585898484,
                          45329.93231,
                          29641.27158
                        ],
                        "iteration": 20,
                        "passed_time": 1.690311724,
                        "remaining_time": 78.80072277,
                        "test": [
                          0.6375059928,
                          50294.30554,
                          31228.6286
                        ]
                      },
                      {
                        "learn": [
                          0.6699103003,
                          44572.07387,
                          29056.59228
                        ],
                        "iteration": 21,
                        "passed_time": 1.766955026,
                        "remaining_time": 78.54918252,
                        "test": [
                          0.649824718,
                          49432.33709,
                          30617.24713
                        ]
                      },
                      {
                        "learn": [
                          0.6828750816,
                          43687.98752,
                          28339.85527
                        ],
                        "iteration": 22,
                        "passed_time": 1.854586733,
                        "remaining_time": 78.77961907,
                        "test": [
                          0.6636173216,
                          48449.04405,
                          29875.21292
                        ]
                      },
                      {
                        "learn": [
                          0.6927118453,
                          43005.08051,
                          27772.65614
                        ],
                        "iteration": 23,
                        "passed_time": 1.917053851,
                        "remaining_time": 77.96018994,
                        "test": [
                          0.6729590834,
                          47771.56246,
                          29339.51905
                        ]
                      },
                      {
                        "learn": [
                          0.7031127643,
                          42271.00938,
                          27287.04721
                        ],
                        "iteration": 24,
                        "passed_time": 1.997006918,
                        "remaining_time": 77.88326979,
                        "test": [
                          0.6832004466,
                          47017.62421,
                          28881.52701
                        ]
                      },
                      {
                        "learn": [
                          0.7130461714,
                          41557.83047,
                          26767.56905
                        ],
                        "iteration": 25,
                        "passed_time": 2.065649749,
                        "remaining_time": 77.38241753,
                        "test": [
                          0.6953907782,
                          46104.13984,
                          28300.07994
                        ]
                      },
                      {
                        "learn": [
                          0.7244827676,
                          40721.26295,
                          26227.68699
                        ],
                        "iteration": 26,
                        "passed_time": 2.180346571,
                        "remaining_time": 78.57323015,
                        "test": [
                          0.7061238684,
                          45284.60224,
                          27772.01705
                        ]
                      },
                      {
                        "learn": [
                          0.7352462706,
                          39917.91955,
                          25702.29778
                        ],
                        "iteration": 27,
                        "passed_time": 2.268769964,
                        "remaining_time": 78.75872874,
                        "test": [
                          0.7161440695,
                          44505.87936,
                          27247.43269
                        ]
                      },
                      {
                        "learn": [
                          0.7455311666,
                          39134.89336,
                          25163.67025
                        ],
                        "iteration": 28,
                        "passed_time": 2.350528244,
                        "remaining_time": 78.70216982,
                        "test": [
                          0.7274119138,
                          43613.5899,
                          26678.58016
                        ]
                      },
                      {
                        "learn": [
                          0.7513736599,
                          38683.02459,
                          24857.3379
                        ],
                        "iteration": 29,
                        "passed_time": 2.45437978,
                        "remaining_time": 79.35827956,
                        "test": [
                          0.7337449126,
                          43103.97852,
                          26322.96943
                        ]
                      },
                      {
                        "learn": [
                          0.7592113589,
                          38068.42009,
                          24392.02708
                        ],
                        "iteration": 30,
                        "passed_time": 2.551270503,
                        "remaining_time": 79.74777797,
                        "test": [
                          0.7417619728,
                          42450.07852,
                          25875.41792
                        ]
                      },
                      {
                        "learn": [
                          0.7666726011,
                          37473.97176,
                          23933.25892
                        ],
                        "iteration": 31,
                        "passed_time": 2.634861681,
                        "remaining_time": 79.70456586,
                        "test": [
                          0.749104331,
                          41842.24543,
                          25450.29349
                        ]
                      },
                      {
                        "learn": [
                          0.7729414953,
                          36967.13062,
                          23540.80258
                        ],
                        "iteration": 32,
                        "passed_time": 2.733446769,
                        "remaining_time": 80.0982735,
                        "test": [
                          0.7550136189,
                          41346.55896,
                          25079.3843
                        ]
                      },
                      {
                        "learn": [
                          0.7787030096,
                          36495.1043,
                          23175.95252
                        ],
                        "iteration": 33,
                        "passed_time": 2.826375305,
                        "remaining_time": 80.30231015,
                        "test": [
                          0.7613271134,
                          40810.31464,
                          24707.43047
                        ]
                      },
                      {
                        "learn": [
                          0.7849243532,
                          35978.45205,
                          22847.74917
                        ],
                        "iteration": 34,
                        "passed_time": 2.918945373,
                        "remaining_time": 80.47949386,
                        "test": [
                          0.7666252232,
                          40354.81475,
                          24338.88049
                        ]
                      },
                      {
                        "learn": [
                          0.7914619913,
                          35427.41514,
                          22486.33137
                        ],
                        "iteration": 35,
                        "passed_time": 2.992533099,
                        "remaining_time": 80.13338632,
                        "test": [
                          0.7736875067,
                          39739.52438,
                          23956.50585
                        ]
                      },
                      {
                        "learn": [
                          0.7968947481,
                          34962.89872,
                          22174.93833
                        ],
                        "iteration": 36,
                        "passed_time": 3.055967277,
                        "remaining_time": 79.53774293,
                        "test": [
                          0.7793461082,
                          39239.56607,
                          23626.01028
                        ]
                      },
                      {
                        "learn": [
                          0.8027038033,
                          34459.28103,
                          21851.34744
                        ],
                        "iteration": 37,
                        "passed_time": 3.146162514,
                        "remaining_time": 79.64758786,
                        "test": [
                          0.7850313637,
                          38730.75392,
                          23304.51396
                        ]
                      },
                      {
                        "learn": [
                          0.8074508894,
                          34042.1996,
                          21567.49139
                        ],
                        "iteration": 38,
                        "passed_time": 3.213340448,
                        "remaining_time": 79.18000437,
                        "test": [
                          0.7891877784,
                          38354.49711,
                          23020.88946
                        ]
                      },
                      {
                        "learn": [
                          0.8118048114,
                          33655.11767,
                          21318.66791
                        ],
                        "iteration": 39,
                        "passed_time": 3.306358926,
                        "remaining_time": 79.35261421,
                        "test": [
                          0.7936290931,
                          37948.32721,
                          22777.1466
                        ]
                      },
                      {
                        "learn": [
                          0.8164601475,
                          33236.2521,
                          21080.79827
                        ],
                        "iteration": 40,
                        "passed_time": 3.374896872,
                        "remaining_time": 78.93966098,
                        "test": [
                          0.7982595661,
                          37520.17675,
                          22534.37643
                        ]
                      },
                      {
                        "learn": [
                          0.8209123196,
                          32830.66737,
                          20857.30803
                        ],
                        "iteration": 41,
                        "passed_time": 3.478157847,
                        "remaining_time": 79.33512421,
                        "test": [
                          0.8023517053,
                          37137.69422,
                          22337.84823
                        ]
                      },
                      {
                        "learn": [
                          0.825140854,
                          32440.76088,
                          20630.98957
                        ],
                        "iteration": 42,
                        "passed_time": 3.54219417,
                        "remaining_time": 78.83441444,
                        "test": [
                          0.8070041033,
                          36698.00352,
                          22104.90435
                        ]
                      },
                      {
                        "learn": [
                          0.8295074708,
                          32033.14149,
                          20425.21116
                        ],
                        "iteration": 43,
                        "passed_time": 3.580707418,
                        "remaining_time": 77.79900663,
                        "test": [
                          0.8103325392,
                          36380.17763,
                          21945.89793
                        ]
                      },
                      {
                        "learn": [
                          0.8330707644,
                          31696.62762,
                          20225.34893
                        ],
                        "iteration": 44,
                        "passed_time": 3.626649405,
                        "remaining_time": 76.9655596,
                        "test": [
                          0.8139697009,
                          36029.66652,
                          21731.92084
                        ]
                      },
                      {
                        "learn": [
                          0.8360119487,
                          31416.14971,
                          20055.35216
                        ],
                        "iteration": 45,
                        "passed_time": 3.699534858,
                        "remaining_time": 76.72513597,
                        "test": [
                          0.8160231814,
                          35830.25942,
                          21589.20583
                        ]
                      },
                      {
                        "learn": [
                          0.8391863223,
                          31110.59716,
                          19845.19552
                        ],
                        "iteration": 46,
                        "passed_time": 3.765129166,
                        "remaining_time": 76.34400202,
                        "test": [
                          0.8187676878,
                          35562.00314,
                          21388.43991
                        ]
                      },
                      {
                        "learn": [
                          0.8428248121,
                          30756.63717,
                          19642.60963
                        ],
                        "iteration": 47,
                        "passed_time": 3.833877561,
                        "remaining_time": 76.03857163,
                        "test": [
                          0.8218440743,
                          35258.88191,
                          21176.74382
                        ]
                      },
                      {
                        "learn": [
                          0.8465418146,
                          30390.78265,
                          19442.77275
                        ],
                        "iteration": 48,
                        "passed_time": 3.890006794,
                        "remaining_time": 75.49788695,
                        "test": [
                          0.8261495299,
                          34830.22941,
                          20966.58152
                        ]
                      },
                      {
                        "learn": [
                          0.8478930329,
                          30256.68952,
                          19380.45988
                        ],
                        "iteration": 49,
                        "passed_time": 3.900924994,
                        "remaining_time": 74.1175749,
                        "test": [
                          0.827484998,
                          34696.19373,
                          20909.79206
                        ]
                      },
                      {
                        "learn": [
                          0.851499098,
                          29895.88409,
                          19187.77394
                        ],
                        "iteration": 50,
                        "passed_time": 3.939742766,
                        "remaining_time": 73.31011539,
                        "test": [
                          0.8300522413,
                          34437.06426,
                          20715.33887
                        ]
                      },
                      {
                        "learn": [
                          0.8539508238,
                          29648.06889,
                          19022.781
                        ],
                        "iteration": 51,
                        "passed_time": 4.011700619,
                        "remaining_time": 73.1363882,
                        "test": [
                          0.8326111176,
                          34176.82426,
                          20533.91381
                        ]
                      },
                      {
                        "learn": [
                          0.8570748571,
                          29329.26454,
                          18897.91071
                        ],
                        "iteration": 52,
                        "passed_time": 4.07627063,
                        "remaining_time": 72.83449598,
                        "test": [
                          0.8361143128,
                          33817.2987,
                          20429.99135
                        ]
                      },
                      {
                        "learn": [
                          0.8593377245,
                          29096.1599,
                          18759.60323
                        ],
                        "iteration": 53,
                        "passed_time": 4.159956959,
                        "remaining_time": 72.87628302,
                        "test": [
                          0.8372040668,
                          33704.67751,
                          20331.14562
                        ]
                      },
                      {
                        "learn": [
                          0.8612650554,
                          28896.13701,
                          18656.50646
                        ],
                        "iteration": 54,
                        "passed_time": 4.211120123,
                        "remaining_time": 72.35470029,
                        "test": [
                          0.8394119315,
                          33475.34315,
                          20251.86972
                        ]
                      },
                      {
                        "learn": [
                          0.8631909826,
                          28694.86706,
                          18556.52295
                        ],
                        "iteration": 55,
                        "passed_time": 4.255035278,
                        "remaining_time": 71.72773754,
                        "test": [
                          0.8413853326,
                          33269.02494,
                          20182.72774
                        ]
                      },
                      {
                        "learn": [
                          0.8650731664,
                          28496.7951,
                          18436.96415
                        ],
                        "iteration": 56,
                        "passed_time": 4.316654408,
                        "remaining_time": 71.41412469,
                        "test": [
                          0.8431897775,
                          33079.24478,
                          20105.68332
                        ]
                      },
                      {
                        "learn": [
                          0.866541589,
                          28341.3041,
                          18358.90955
                        ],
                        "iteration": 57,
                        "passed_time": 4.359245252,
                        "remaining_time": 70.80015564,
                        "test": [
                          0.8440787585,
                          32985.34588,
                          20058.71295
                        ]
                      },
                      {
                        "learn": [
                          0.8686497291,
                          28116.57017,
                          18229.52292
                        ],
                        "iteration": 58,
                        "passed_time": 4.4317126,
                        "remaining_time": 70.68206028,
                        "test": [
                          0.8462806603,
                          32751.61012,
                          19945.86184
                        ]
                      },
                      {
                        "learn": [
                          0.8702571186,
                          27944.00335,
                          18130.67195
                        ],
                        "iteration": 59,
                        "passed_time": 4.528994883,
                        "remaining_time": 70.95425317,
                        "test": [
                          0.8477981507,
                          32589.55009,
                          19874.26439
                        ]
                      },
                      {
                        "learn": [
                          0.8725620062,
                          27694.67788,
                          18021.53612
                        ],
                        "iteration": 60,
                        "passed_time": 4.591767442,
                        "remaining_time": 70.68310866,
                        "test": [
                          0.8496199906,
                          32393.91618,
                          19837.70463
                        ]
                      },
                      {
                        "learn": [
                          0.8739341031,
                          27545.18314,
                          17916.89845
                        ],
                        "iteration": 61,
                        "passed_time": 4.658926885,
                        "remaining_time": 70.48505513,
                        "test": [
                          0.8510951353,
                          32234.64142,
                          19745.47595
                        ]
                      },
                      {
                        "learn": [
                          0.8759981487,
                          27318.7573,
                          17837.75618
                        ],
                        "iteration": 62,
                        "passed_time": 4.72396805,
                        "remaining_time": 70.25965179,
                        "test": [
                          0.8530997225,
                          32016.93161,
                          19679.48773
                        ]
                      },
                      {
                        "learn": [
                          0.8774607668,
                          27157.16522,
                          17752.04779
                        ],
                        "iteration": 63,
                        "passed_time": 4.795002428,
                        "remaining_time": 70.12691051,
                        "test": [
                          0.8545821427,
                          31854.97517,
                          19619.26235
                        ]
                      },
                      {
                        "learn": [
                          0.8792470529,
                          26958.50005,
                          17630.45395
                        ],
                        "iteration": 64,
                        "passed_time": 4.860854463,
                        "remaining_time": 69.92152189,
                        "test": [
                          0.8554387087,
                          31761.01769,
                          19543.01154
                        ]
                      },
                      {
                        "learn": [
                          0.8809376701,
                          26769.11687,
                          17518.60059
                        ],
                        "iteration": 65,
                        "passed_time": 4.912895462,
                        "remaining_time": 69.52491457,
                        "test": [
                          0.8568451661,
                          31606.13632,
                          19432.41184
                        ]
                      },
                      {
                        "learn": [
                          0.8824281855,
                          26601.03078,
                          17427.77662
                        ],
                        "iteration": 66,
                        "passed_time": 4.956515906,
                        "remaining_time": 69.02133343,
                        "test": [
                          0.857963445,
                          31482.44587,
                          19381.18416
                        ]
                      },
                      {
                        "learn": [
                          0.8832319822,
                          26509.94393,
                          17400.71228
                        ],
                        "iteration": 67,
                        "passed_time": 5.035450764,
                        "remaining_time": 69.01529576,
                        "test": [
                          0.8590618729,
                          31360.47617,
                          19338.11498
                        ]
                      },
                      {
                        "learn": [
                          0.8852060862,
                          26284.89744,
                          17290.1772
                        ],
                        "iteration": 68,
                        "passed_time": 5.096678257,
                        "remaining_time": 68.76822402,
                        "test": [
                          0.8600472708,
                          31250.65225,
                          19277.59129
                        ]
                      },
                      {
                        "learn": [
                          0.8865984926,
                          26124.99819,
                          17214.36912
                        ],
                        "iteration": 69,
                        "passed_time": 5.154874278,
                        "remaining_time": 68.48618684,
                        "test": [
                          0.861341138,
                          31105.86022,
                          19224.76438
                        ]
                      },
                      {
                        "learn": [
                          0.8882472911,
                          25934.38089,
                          17127.8047
                        ],
                        "iteration": 70,
                        "passed_time": 5.247808286,
                        "remaining_time": 68.66498448,
                        "test": [
                          0.8620644025,
                          31024.62783,
                          19181.94676
                        ]
                      },
                      {
                        "learn": [
                          0.8897403142,
                          25760.55589,
                          17032.03905
                        ],
                        "iteration": 71,
                        "passed_time": 5.298780565,
                        "remaining_time": 68.29539394,
                        "test": [
                          0.8637480231,
                          30834.7056,
                          19097.78831
                        ]
                      },
                      {
                        "learn": [
                          0.8912436661,
                          25584.33511,
                          16949.54379
                        ],
                        "iteration": 72,
                        "passed_time": 5.361352949,
                        "remaining_time": 68.08183813,
                        "test": [
                          0.8646309441,
                          30734.63786,
                          19057.42248
                        ]
                      },
                      {
                        "learn": [
                          0.8925366912,
                          25431.7918,
                          16863.39506
                        ],
                        "iteration": 73,
                        "passed_time": 5.418501254,
                        "remaining_time": 67.80448866,
                        "test": [
                          0.8654327745,
                          30643.47756,
                          19001.46355
                        ]
                      },
                      {
                        "learn": [
                          0.8936810908,
                          25296.01508,
                          16781.02015
                        ],
                        "iteration": 74,
                        "passed_time": 5.502110804,
                        "remaining_time": 67.85936659,
                        "test": [
                          0.8666972564,
                          30499.16464,
                          18934.9988
                        ]
                      },
                      {
                        "learn": [
                          0.8947812234,
                          25164.79977,
                          16715.06852
                        ],
                        "iteration": 75,
                        "passed_time": 5.563903342,
                        "remaining_time": 67.64535116,
                        "test": [
                          0.8672714231,
                          30433.41017,
                          18895.21849
                        ]
                      },
                      {
                        "learn": [
                          0.896082159,
                          25008.74584,
                          16627.89745
                        ],
                        "iteration": 76,
                        "passed_time": 5.628549565,
                        "remaining_time": 67.46949673,
                        "test": [
                          0.8681605507,
                          30331.3046,
                          18849.38241
                        ]
                      },
                      {
                        "learn": [
                          0.8971438524,
                          24880.66491,
                          16594.43781
                        ],
                        "iteration": 77,
                        "passed_time": 5.67795325,
                        "remaining_time": 67.11631919,
                        "test": [
                          0.8690674269,
                          30226.80551,
                          18825.7479
                        ]
                      },
                      {
                        "learn": [
                          0.898508676,
                          24715.03981,
                          16497.38319
                        ],
                        "iteration": 78,
                        "passed_time": 5.708289885,
                        "remaining_time": 66.5485441,
                        "test": [
                          0.8696475378,
                          30159.76961,
                          18782.60309
                        ]
                      },
                      {
                        "learn": [
                          0.8988028988,
                          24679.18943,
                          16485.06845
                        ],
                        "iteration": 79,
                        "passed_time": 5.717462612,
                        "remaining_time": 65.75082003,
                        "test": [
                          0.8700935553,
                          30108.12766,
                          18778.96975
                        ]
                      },
                      {
                        "learn": [
                          0.8995040093,
                          24593.55005,
                          16453.62888
                        ],
                        "iteration": 80,
                        "passed_time": 5.752864305,
                        "remaining_time": 65.27015181,
                        "test": [
                          0.8702719478,
                          30087.44774,
                          18761.5436
                        ]
                      },
                      {
                        "learn": [
                          0.9003919545,
                          24484.65926,
                          16395.3942
                        ],
                        "iteration": 81,
                        "passed_time": 5.786923489,
                        "remaining_time": 64.78531418,
                        "test": [
                          0.871367425,
                          29960.143,
                          18729.75273
                        ]
                      },
                      {
                        "learn": [
                          0.9016104588,
                          24334.43813,
                          16317.67431
                        ],
                        "iteration": 82,
                        "passed_time": 5.818310243,
                        "remaining_time": 64.28181317,
                        "test": [
                          0.8723937435,
                          29840.3824,
                          18672.27654
                        ]
                      },
                      {
                        "learn": [
                          0.9023231289,
                          24246.14651,
                          16272.99931
                        ],
                        "iteration": 83,
                        "passed_time": 5.849939046,
                        "remaining_time": 63.79219245,
                        "test": [
                          0.8726502612,
                          29810.37433,
                          18664.10712
                        ]
                      },
                      {
                        "learn": [
                          0.9033330301,
                          24120.47789,
                          16233.03456
                        ],
                        "iteration": 84,
                        "passed_time": 5.88372867,
                        "remaining_time": 63.33660863,
                        "test": [
                          0.8733816303,
                          29724.65064,
                          18661.51877
                        ]
                      },
                      {
                        "learn": [
                          0.9046979711,
                          23949.58149,
                          16136.8652
                        ],
                        "iteration": 85,
                        "passed_time": 5.925370502,
                        "remaining_time": 62.9742865,
                        "test": [
                          0.8743382462,
                          29612.15123,
                          18588.87519
                        ]
                      },
                      {
                        "learn": [
                          0.9052706206,
                          23877.51911,
                          16108.35073
                        ],
                        "iteration": 86,
                        "passed_time": 5.974625102,
                        "remaining_time": 62.69922665,
                        "test": [
                          0.8755075881,
                          29474.05168,
                          18550.43557
                        ]
                      },
                      {
                        "learn": [
                          0.9066811068,
                          23699.08861,
                          15992.47834
                        ],
                        "iteration": 87,
                        "passed_time": 6.093900776,
                        "remaining_time": 63.15497168,
                        "test": [
                          0.8766580657,
                          29337.54561,
                          18461.40148
                        ]
                      },
                      {
                        "learn": [
                          0.907682285,
                          23571.61715,
                          15942.117
                        ],
                        "iteration": 88,
                        "passed_time": 6.148001624,
                        "remaining_time": 62.93066831,
                        "test": [
                          0.8772914647,
                          29262.11997,
                          18459.99955
                        ]
                      },
                      {
                        "learn": [
                          0.9085181622,
                          23464.66162,
                          15899.62368
                        ],
                        "iteration": 89,
                        "passed_time": 6.218598738,
                        "remaining_time": 62.8769428,
                        "test": [
                          0.8779209481,
                          29186.96748,
                          18439.42421
                        ]
                      },
                      {
                        "learn": [
                          0.9096010716,
                          23325.36758,
                          15830.62248
                        ],
                        "iteration": 90,
                        "passed_time": 6.324652454,
                        "remaining_time": 63.17702287,
                        "test": [
                          0.8789169162,
                          29067.66437,
                          18380.66629
                        ]
                      },
                      {
                        "learn": [
                          0.9111417665,
                          23125.74289,
                          15730.08151
                        ],
                        "iteration": 91,
                        "passed_time": 6.390993513,
                        "remaining_time": 63.07632728,
                        "test": [
                          0.8799744456,
                          28940.44872,
                          18331.96013
                        ]
                      },
                      {
                        "learn": [
                          0.9116291394,
                          23062.23523,
                          15716.1791
                        ],
                        "iteration": 92,
                        "passed_time": 6.456908659,
                        "remaining_time": 62.9722167,
                        "test": [
                          0.8804330665,
                          28885.10468,
                          18326.74951
                        ]
                      },
                      {
                        "learn": [
                          0.9127767778,
                          22911.99567,
                          15641.67615
                        ],
                        "iteration": 93,
                        "passed_time": 6.527832824,
                        "remaining_time": 62.91719721,
                        "test": [
                          0.8819620502,
                          28699.82371,
                          18265.34651
                        ]
                      },
                      {
                        "learn": [
                          0.9134724414,
                          22820.4435,
                          15581.4195
                        ],
                        "iteration": 94,
                        "passed_time": 6.590484181,
                        "remaining_time": 62.78303352,
                        "test": [
                          0.8824277833,
                          28643.14842,
                          18215.28041
                        ]
                      },
                      {
                        "learn": [
                          0.9136507379,
                          22796.91976,
                          15573.80981
                        ],
                        "iteration": 95,
                        "passed_time": 6.619192561,
                        "remaining_time": 62.33072995,
                        "test": [
                          0.8824600059,
                          28639.2231,
                          18210.93439
                        ]
                      },
                      {
                        "learn": [
                          0.9142571501,
                          22716.7298,
                          15517.35045
                        ],
                        "iteration": 96,
                        "passed_time": 6.688843033,
                        "remaining_time": 62.26830164,
                        "test": [
                          0.8828911685,
                          28586.64735,
                          18148.65325
                        ]
                      },
                      {
                        "learn": [
                          0.9149053998,
                          22630.69317,
                          15483.47166
                        ],
                        "iteration": 97,
                        "passed_time": 6.761796154,
                        "remaining_time": 62.23612379,
                        "test": [
                          0.8839676983,
                          28454.95178,
                          18120.00958
                        ]
                      },
                      {
                        "learn": [
                          0.9160209131,
                          22481.86986,
                          15422.18805
                        ],
                        "iteration": 98,
                        "passed_time": 6.826658764,
                        "remaining_time": 62.12949037,
                        "test": [
                          0.8850616559,
                          28320.49685,
                          18048.14658
                        ]
                      },
                      {
                        "learn": [
                          0.9171282293,
                          22333.15934,
                          15353.71488
                        ],
                        "iteration": 99,
                        "passed_time": 6.889181583,
                        "remaining_time": 62.00263424,
                        "test": [
                          0.8862636534,
                          28172.02319,
                          18006.31345
                        ]
                      },
                      {
                        "learn": [
                          0.9179938896,
                          22216.20949,
                          15273.43982
                        ],
                        "iteration": 100,
                        "passed_time": 6.952135763,
                        "remaining_time": 61.88089159,
                        "test": [
                          0.8868024021,
                          28105.22107,
                          17948.4415
                        ]
                      },
                      {
                        "learn": [
                          0.9183151552,
                          22172.64989,
                          15262.4603
                        ],
                        "iteration": 101,
                        "passed_time": 7.034682718,
                        "remaining_time": 61.93279491,
                        "test": [
                          0.8865345301,
                          28138.45567,
                          17954.04462
                        ]
                      },
                      {
                        "learn": [
                          0.9191090964,
                          22064.63252,
                          15215.64411
                        ],
                        "iteration": 102,
                        "passed_time": 7.101414631,
                        "remaining_time": 61.84435849,
                        "test": [
                          0.8873118452,
                          28041.90632,
                          17930.98138
                        ]
                      },
                      {
                        "learn": [
                          0.9194837524,
                          22013.47571,
                          15186.60354
                        ],
                        "iteration": 103,
                        "passed_time": 7.172704759,
                        "remaining_time": 61.79561023,
                        "test": [
                          0.8877165273,
                          27991.50944,
                          17905.08535
                        ]
                      },
                      {
                        "learn": [
                          0.9205747693,
                          21863.82275,
                          15122.074
                        ],
                        "iteration": 104,
                        "passed_time": 7.207263722,
                        "remaining_time": 61.43334316,
                        "test": [
                          0.8887593757,
                          27861.21868,
                          17881.15613
                        ]
                      },
                      {
                        "learn": [
                          0.9213793643,
                          21752.79819,
                          15071.58587
                        ],
                        "iteration": 105,
                        "passed_time": 7.243893749,
                        "remaining_time": 61.09472653,
                        "test": [
                          0.8896633829,
                          27747.77936,
                          17849.46881
                        ]
                      },
                      {
                        "learn": [
                          0.9220565463,
                          21658.91407,
                          15023.646
                        ],
                        "iteration": 106,
                        "passed_time": 7.295567036,
                        "remaining_time": 60.88730246,
                        "test": [
                          0.8905019964,
                          27642.12973,
                          17805.79599
                        ]
                      },
                      {
                        "learn": [
                          0.9224298656,
                          21606.98285,
                          15008.04982
                        ],
                        "iteration": 107,
                        "passed_time": 7.323583488,
                        "remaining_time": 60.48737473,
                        "test": [
                          0.8907045534,
                          27616.55073,
                          17790.88122
                        ]
                      },
                      {
                        "learn": [
                          0.9230638125,
                          21518.50949,
                          14943.51233
                        ],
                        "iteration": 108,
                        "passed_time": 7.354120959,
                        "remaining_time": 60.11487867,
                        "test": [
                          0.8910990152,
                          27566.66978,
                          17747.39639
                        ]
                      },
                      {
                        "learn": [
                          0.9240332349,
                          21382.50941,
                          14877.64139
                        ],
                        "iteration": 109,
                        "passed_time": 7.390928261,
                        "remaining_time": 59.79932866,
                        "test": [
                          0.8917424283,
                          27485.11389,
                          17723.4966
                        ]
                      },
                      {
                        "learn": [
                          0.9242000538,
                          21359.01909,
                          14869.52419
                        ],
                        "iteration": 110,
                        "passed_time": 7.430306759,
                        "remaining_time": 59.50939378,
                        "test": [
                          0.8917360811,
                          27485.91961,
                          17722.81531
                        ]
                      },
                      {
                        "learn": [
                          0.9247214099,
                          21285.43811,
                          14806.3656
                        ],
                        "iteration": 111,
                        "passed_time": 7.49175321,
                        "remaining_time": 59.39890045,
                        "test": [
                          0.8920507659,
                          27445.94464,
                          17691.21836
                        ]
                      },
                      {
                        "learn": [
                          0.9254214772,
                          21186.23298,
                          14761.832
                        ],
                        "iteration": 112,
                        "passed_time": 7.570064008,
                        "remaining_time": 59.42165287,
                        "test": [
                          0.892641178,
                          27370.78599,
                          17666.5204
                        ]
                      },
                      {
                        "learn": [
                          0.9257857821,
                          21134.42384,
                          14734.81882
                        ],
                        "iteration": 113,
                        "passed_time": 7.602452344,
                        "remaining_time": 59.08572611,
                        "test": [
                          0.8929829711,
                          27327.18174,
                          17655.54584
                        ]
                      },
                      {
                        "learn": [
                          0.9263403636,
                          21055.31003,
                          14698.5528
                        ],
                        "iteration": 114,
                        "passed_time": 7.634668964,
                        "remaining_time": 58.75375681,
                        "test": [
                          0.8932198448,
                          27296.92171,
                          17651.85554
                        ]
                      },
                      {
                        "learn": [
                          0.9268841461,
                          20977.44704,
                          14669.78459
                        ],
                        "iteration": 115,
                        "passed_time": 7.66830215,
                        "remaining_time": 58.43775087,
                        "test": [
                          0.8934163307,
                          27271.79565,
                          17653.03129
                        ]
                      },
                      {
                        "learn": [
                          0.92737121,
                          20907.45929,
                          14642.03343
                        ],
                        "iteration": 116,
                        "passed_time": 7.705112487,
                        "remaining_time": 58.15054979,
                        "test": [
                          0.8937802276,
                          27225.20029,
                          17648.99024
                        ]
                      },
                      {
                        "learn": [
                          0.9280190175,
                          20814.00911,
                          14593.55581
                        ],
                        "iteration": 117,
                        "passed_time": 7.731908445,
                        "remaining_time": 57.79273939,
                        "test": [
                          0.8942245327,
                          27168.20068,
                          17622.63932
                        ]
                      },
                      {
                        "learn": [
                          0.9286983788,
                          20715.55426,
                          14544.9422
                        ],
                        "iteration": 118,
                        "passed_time": 7.76180534,
                        "remaining_time": 57.46344962,
                        "test": [
                          0.8946928394,
                          27107.99219,
                          17587.51081
                        ]
                      },
                      {
                        "learn": [
                          0.9297610368,
                          20560.60555,
                          14439.64762
                        ],
                        "iteration": 119,
                        "passed_time": 7.796519409,
                        "remaining_time": 57.17447567,
                        "test": [
                          0.8951002492,
                          27055.504,
                          17546.89715
                        ]
                      },
                      {
                        "learn": [
                          0.9302793661,
                          20484.60146,
                          14388.14876
                        ],
                        "iteration": 120,
                        "passed_time": 7.857673814,
                        "remaining_time": 57.0817792,
                        "test": [
                          0.8953686275,
                          27020.87208,
                          17528.46522
                        ]
                      },
                      {
                        "learn": [
                          0.9308919769,
                          20394.40739,
                          14317.96593
                        ],
                        "iteration": 121,
                        "passed_time": 7.922909717,
                        "remaining_time": 57.01897321,
                        "test": [
                          0.895747619,
                          26971.89073,
                          17492.93808
                        ]
                      },
                      {
                        "learn": [
                          0.9313481301,
                          20326.98846,
                          14274.84782
                        ],
                        "iteration": 122,
                        "passed_time": 7.996116101,
                        "remaining_time": 57.01295789,
                        "test": [
                          0.8961784422,
                          26916.10233,
                          17459.49631
                        ]
                      },
                      {
                        "learn": [
                          0.9319620837,
                          20235.89223,
                          14213.16541
                        ],
                        "iteration": 123,
                        "passed_time": 8.098323982,
                        "remaining_time": 57.21074039,
                        "test": [
                          0.8967204819,
                          26845.74754,
                          17408.06097
                        ]
                      },
                      {
                        "learn": [
                          0.9325580426,
                          20147.07201,
                          14164.03133
                        ],
                        "iteration": 124,
                        "passed_time": 8.158740758,
                        "remaining_time": 57.1111853,
                        "test": [
                          0.8968786398,
                          26825.18443,
                          17387.57094
                        ]
                      },
                      {
                        "learn": [
                          0.9328020289,
                          20110.59572,
                          14152.67237
                        ],
                        "iteration": 125,
                        "passed_time": 8.225724361,
                        "remaining_time": 57.05780231,
                        "test": [
                          0.8966975451,
                          26848.72838,
                          17389.48139
                        ]
                      },
                      {
                        "learn": [
                          0.933324465,
                          20032.26745,
                          14095.11956
                        ],
                        "iteration": 126,
                        "passed_time": 8.275539919,
                        "remaining_time": 56.88619172,
                        "test": [
                          0.8971164278,
                          26794.23844,
                          17347.71408
                        ]
                      },
                      {
                        "learn": [
                          0.9339842976,
                          19932.89962,
                          14042.82474
                        ],
                        "iteration": 127,
                        "passed_time": 8.382308194,
                        "remaining_time": 57.10447457,
                        "test": [
                          0.8972279226,
                          26779.71606,
                          17323.35295
                        ]
                      },
                      {
                        "learn": [
                          0.9347244263,
                          19820.84676,
                          13972.95386
                        ],
                        "iteration": 128,
                        "passed_time": 8.424861941,
                        "remaining_time": 56.88414535,
                        "test": [
                          0.897877671,
                          26694.92811,
                          17278.5833
                        ]
                      },
                      {
                        "learn": [
                          0.935193829,
                          19749.45141,
                          13935.73778
                        ],
                        "iteration": 129,
                        "passed_time": 8.491497313,
                        "remaining_time": 56.82771279,
                        "test": [
                          0.8982173489,
                          26650.49498,
                          17253.17171
                        ]
                      },
                      {
                        "learn": [
                          0.9354223376,
                          19714.60207,
                          13926.45051
                        ],
                        "iteration": 130,
                        "passed_time": 8.558729469,
                        "remaining_time": 56.77508327,
                        "test": [
                          0.8985020822,
                          26613.19197,
                          17248.6199
                        ]
                      },
                      {
                        "learn": [
                          0.9357372701,
                          19666.4712,
                          13894.79797
                        ],
                        "iteration": 131,
                        "passed_time": 8.611900511,
                        "remaining_time": 56.62977003,
                        "test": [
                          0.8986764107,
                          26590.32731,
                          17235.87415
                        ]
                      },
                      {
                        "learn": [
                          0.9358816176,
                          19644.3713,
                          13888.75322
                        ],
                        "iteration": 132,
                        "passed_time": 8.666489423,
                        "remaining_time": 56.49508519,
                        "test": [
                          0.8985173698,
                          26611.18766,
                          17236.55419
                        ]
                      },
                      {
                        "learn": [
                          0.9364137782,
                          19562.68066,
                          13850.92675
                        ],
                        "iteration": 133,
                        "passed_time": 8.727885179,
                        "remaining_time": 56.4055863,
                        "test": [
                          0.8989658889,
                          26552.31628,
                          17218.01626
                        ]
                      },
                      {
                        "learn": [
                          0.9366649869,
                          19523.99949,
                          13833.73484
                        ],
                        "iteration": 134,
                        "passed_time": 8.805513208,
                        "remaining_time": 56.42051055,
                        "test": [
                          0.8992886234,
                          26509.87417,
                          17206.77392
                        ]
                      },
                      {
                        "learn": [
                          0.9372635661,
                          19431.5198,
                          13782.17381
                        ],
                        "iteration": 135,
                        "passed_time": 8.88089164,
                        "remaining_time": 56.41978218,
                        "test": [
                          0.8996199902,
                          26466.22602,
                          17169.25657
                        ]
                      },
                      {
                        "learn": [
                          0.9381371569,
                          19295.75575,
                          13696.79415
                        ],
                        "iteration": 136,
                        "passed_time": 8.933591029,
                        "remaining_time": 56.27510261,
                        "test": [
                          0.8999162056,
                          26427.14705,
                          17130.51147
                        ]
                      },
                      {
                        "learn": [
                          0.938564075,
                          19229.06007,
                          13642.21164
                        ],
                        "iteration": 137,
                        "passed_time": 8.991322727,
                        "remaining_time": 56.16318979,
                        "test": [
                          0.9002327064,
                          26385.32791,
                          17079.32888
                        ]
                      },
                      {
                        "learn": [
                          0.9389598126,
                          19167.02832,
                          13607.44872
                        ],
                        "iteration": 138,
                        "passed_time": 9.061484022,
                        "remaining_time": 56.12904851,
                        "test": [
                          0.9003094563,
                          26375.17699,
                          17064.09027
                        ]
                      },
                      {
                        "learn": [
                          0.93940464,
                          19097.06122,
                          13552.65095
                        ],
                        "iteration": 139,
                        "passed_time": 9.125647918,
                        "remaining_time": 56.0575515,
                        "test": [
                          0.9005364281,
                          26345.13486,
                          17045.54492
                        ]
                      },
                      {
                        "learn": [
                          0.9398610338,
                          19025.0074,
                          13506.71924
                        ],
                        "iteration": 140,
                        "passed_time": 9.187581809,
                        "remaining_time": 55.97257287,
                        "test": [
                          0.9007989773,
                          26310.34089,
                          17023.55208
                        ]
                      },
                      {
                        "learn": [
                          0.9401337159,
                          18981.8268,
                          13476.29119
                        ],
                        "iteration": 141,
                        "passed_time": 9.255763562,
                        "remaining_time": 55.92566997,
                        "test": [
                          0.9010022163,
                          26283.37529,
                          16998.49216
                        ]
                      },
                      {
                        "learn": [
                          0.9403708367,
                          18944.19752,
                          13458.59105
                        ],
                        "iteration": 142,
                        "passed_time": 9.309879997,
                        "remaining_time": 55.79417593,
                        "test": [
                          0.9008751545,
                          26300.237,
                          16996.5345
                        ]
                      },
                      {
                        "learn": [
                          0.9406582562,
                          18898.48575,
                          13437.48155
                        ],
                        "iteration": 143,
                        "passed_time": 9.369787966,
                        "remaining_time": 55.69818402,
                        "test": [
                          0.9011919218,
                          26258.18032,
                          16981.44748
                        ]
                      },
                      {
                        "learn": [
                          0.9408174925,
                          18873.11283,
                          13430.24197
                        ],
                        "iteration": 144,
                        "passed_time": 9.393996795,
                        "remaining_time": 55.392188,
                        "test": [
                          0.9011971258,
                          26257.48884,
                          16976.5858
                        ]
                      },
                      {
                        "learn": [
                          0.9409261771,
                          18855.77528,
                          13425.34564
                        ],
                        "iteration": 145,
                        "passed_time": 9.415810402,
                        "remaining_time": 55.07604167,
                        "test": [
                          0.9011557002,
                          26262.99282,
                          16977.70206
                        ]
                      },
                      {
                        "learn": [
                          0.9410877928,
                          18829.96455,
                          13417.62517
                        ],
                        "iteration": 146,
                        "passed_time": 9.435708197,
                        "remaining_time": 54.75278294,
                        "test": [
                          0.9013657453,
                          26235.07342,
                          16971.73507
                        ]
                      },
                      {
                        "learn": [
                          0.9413520127,
                          18787.69113,
                          13392.20757
                        ],
                        "iteration": 147,
                        "passed_time": 9.486417983,
                        "remaining_time": 54.61100082,
                        "test": [
                          0.9016372485,
                          26198.94087,
                          16954.83487
                        ]
                      },
                      {
                        "learn": [
                          0.9415418982,
                          18757.25186,
                          13377.52585
                        ],
                        "iteration": 148,
                        "passed_time": 9.548000585,
                        "remaining_time": 54.53254025,
                        "test": [
                          0.9017708955,
                          26181.13636,
                          16933.18888
                        ]
                      },
                      {
                        "learn": [
                          0.9422917543,
                          18636.56169,
                          13307.79288
                        ],
                        "iteration": 149,
                        "passed_time": 9.591765781,
                        "remaining_time": 54.35333943,
                        "test": [
                          0.9022140462,
                          26122.01283,
                          16905.61877
                        ]
                      },
                      {
                        "learn": [
                          0.9424493012,
                          18611.10486,
                          13299.35861
                        ],
                        "iteration": 150,
                        "passed_time": 9.628156695,
                        "remaining_time": 54.13447043,
                        "test": [
                          0.9023002205,
                          26110.50022,
                          16901.68073
                        ]
                      },
                      {
                        "learn": [
                          0.9429422519,
                          18531.22669,
                          13259.86819
                        ],
                        "iteration": 151,
                        "passed_time": 9.720124212,
                        "remaining_time": 54.22806139,
                        "test": [
                          0.9024522302,
                          26090.17984,
                          16885.35785
                        ]
                      },
                      {
                        "learn": [
                          0.9434501973,
                          18448.557,
                          13225.2924
                        ],
                        "iteration": 152,
                        "passed_time": 9.781195806,
                        "remaining_time": 54.14818855,
                        "test": [
                          0.9025736226,
                          26073.94094,
                          16882.24823
                        ]
                      },
                      {
                        "learn": [
                          0.9436940889,
                          18408.73095,
                          13200.88884
                        ],
                        "iteration": 153,
                        "passed_time": 9.842410916,
                        "remaining_time": 54.06934828,
                        "test": [
                          0.9026570461,
                          26062.77535,
                          16863.23668
                        ]
                      },
                      {
                        "learn": [
                          0.9441454117,
                          18334.80446,
                          13150.64219
                        ],
                        "iteration": 154,
                        "passed_time": 9.901452632,
                        "remaining_time": 53.97888693,
                        "test": [
                          0.902931637,
                          26025.98967,
                          16839.73922
                        ]
                      },
                      {
                        "learn": [
                          0.9443105978,
                          18307.67243,
                          13135.28845
                        ],
                        "iteration": 155,
                        "passed_time": 9.973447434,
                        "remaining_time": 53.95890791,
                        "test": [
                          0.9030401927,
                          26011.43261,
                          16835.36698
                        ]
                      },
                      {
                        "learn": [
                          0.9447571184,
                          18234.12877,
                          13097.30913
                        ],
                        "iteration": 156,
                        "passed_time": 10.02951905,
                        "remaining_time": 53.85276791,
                        "test": [
                          0.9032481871,
                          25983.51828,
                          16819.99222
                        ]
                      },
                      {
                        "learn": [
                          0.9451040267,
                          18176.78625,
                          13065.59762
                        ],
                        "iteration": 157,
                        "passed_time": 10.08789136,
                        "remaining_time": 53.7595223,
                        "test": [
                          0.9036387741,
                          25931.01752,
                          16809.58907
                        ]
                      },
                      {
                        "learn": [
                          0.945641632,
                          18087.56314,
                          13015.70684
                        ],
                        "iteration": 158,
                        "passed_time": 10.15258539,
                        "remaining_time": 53.70015291,
                        "test": [
                          0.9037175761,
                          25920.41245,
                          16791.51556
                        ]
                      },
                      {
                        "learn": [
                          0.9461064736,
                          18010.05985,
                          12977.56558
                        ],
                        "iteration": 159,
                        "passed_time": 10.19945057,
                        "remaining_time": 53.5471155,
                        "test": [
                          0.9039266563,
                          25892.25367,
                          16786.24614
                        ]
                      },
                      {
                        "learn": [
                          0.9464216044,
                          17957.32769,
                          12956.26069
                        ],
                        "iteration": 160,
                        "passed_time": 10.25898763,
                        "remaining_time": 53.46143243,
                        "test": [
                          0.9040565686,
                          25874.74174,
                          16780.80851
                        ]
                      },
                      {
                        "learn": [
                          0.9466922743,
                          17911.9114,
                          12932.51348
                        ],
                        "iteration": 161,
                        "passed_time": 10.31156155,
                        "remaining_time": 53.34005296,
                        "test": [
                          0.9042322733,
                          25851.03821,
                          16777.79457
                        ]
                      },
                      {
                        "learn": [
                          0.9472213557,
                          17822.80151,
                          12892.24174
                        ],
                        "iteration": 162,
                        "passed_time": 10.3795749,
                        "remaining_time": 53.29879875,
                        "test": [
                          0.9044671969,
                          25819.31171,
                          16760.30381
                        ]
                      },
                      {
                        "learn": [
                          0.9476265423,
                          17754.25605,
                          12845.57281
                        ],
                        "iteration": 163,
                        "passed_time": 10.45774168,
                        "remaining_time": 53.30897586,
                        "test": [
                          0.9048104352,
                          25772.88707,
                          16729.17987
                        ]
                      },
                      {
                        "learn": [
                          0.9479266905,
                          17703.30882,
                          12805.31029
                        ],
                        "iteration": 164,
                        "passed_time": 10.52361421,
                        "remaining_time": 53.25586586,
                        "test": [
                          0.9051067251,
                          25732.74509,
                          16701.14338
                        ]
                      },
                      {
                        "learn": [
                          0.948180114,
                          17660.17821,
                          12783.85187
                        ],
                        "iteration": 165,
                        "passed_time": 10.59247999,
                        "remaining_time": 53.21764042,
                        "test": [
                          0.9052165051,
                          25717.85594,
                          16688.29114
                        ]
                      },
                      {
                        "learn": [
                          0.9484135846,
                          17620.34999,
                          12760.84342
                        ],
                        "iteration": 166,
                        "passed_time": 10.66152711,
                        "remaining_time": 53.1799526,
                        "test": [
                          0.9051992836,
                          25720.19222,
                          16688.20202
                        ]
                      },
                      {
                        "learn": [
                          0.9487060419,
                          17570.33176,
                          12728.90623
                        ],
                        "iteration": 167,
                        "passed_time": 10.70426948,
                        "remaining_time": 53.01162029,
                        "test": [
                          0.9055642271,
                          25670.63844,
                          16657.83575
                        ]
                      },
                      {
                        "learn": [
                          0.9487581289,
                          17561.4085,
                          12724.96762
                        ],
                        "iteration": 168,
                        "passed_time": 10.76643254,
                        "remaining_time": 52.94026888,
                        "test": [
                          0.9055718579,
                          25669.60127,
                          16656.48856
                        ]
                      },
                      {
                        "learn": [
                          0.9490288728,
                          17514.95291,
                          12693.7126
                        ],
                        "iteration": 169,
                        "passed_time": 10.80904825,
                        "remaining_time": 52.77358851,
                        "test": [
                          0.9056739213,
                          25655.72492,
                          16646.95083
                        ]
                      },
                      {
                        "learn": [
                          0.9493417893,
                          17461.10719,
                          12660.42559
                        ],
                        "iteration": 170,
                        "passed_time": 10.86126582,
                        "remaining_time": 52.65490855,
                        "test": [
                          0.905904305,
                          25624.37477,
                          16625.15931
                        ]
                      },
                      {
                        "learn": [
                          0.9497569826,
                          17389.40459,
                          12616.79326
                        ],
                        "iteration": 171,
                        "passed_time": 10.90992295,
                        "remaining_time": 52.51986167,
                        "test": [
                          0.9059607404,
                          25616.6893,
                          16616.78366
                        ]
                      },
                      {
                        "learn": [
                          0.9500142948,
                          17344.81879,
                          12577.12002
                        ],
                        "iteration": 172,
                        "passed_time": 10.98500754,
                        "remaining_time": 52.51214586,
                        "test": [
                          0.9061668479,
                          25588.60163,
                          16586.73777
                        ]
                      },
                      {
                        "learn": [
                          0.9501332645,
                          17324.16552,
                          12570.12618
                        ],
                        "iteration": 173,
                        "passed_time": 11.05072888,
                        "remaining_time": 52.45920721,
                        "test": [
                          0.9060540549,
                          25603.97652,
                          16591.67263
                        ]
                      },
                      {
                        "learn": [
                          0.950434194,
                          17271.81357,
                          12535.9787
                        ],
                        "iteration": 174,
                        "passed_time": 11.14732656,
                        "remaining_time": 52.55168236,
                        "test": [
                          0.906199652,
                          25584.12835,
                          16571.02336
                        ]
                      },
                      {
                        "learn": [
                          0.9506142534,
                          17240.41308,
                          12508.59387
                        ],
                        "iteration": 175,
                        "passed_time": 11.20719107,
                        "remaining_time": 52.47003094,
                        "test": [
                          0.9063584147,
                          25562.46784,
                          16551.60799
                        ]
                      },
                      {
                        "learn": [
                          0.9508093862,
                          17206.31924,
                          12491.54644
                        ],
                        "iteration": 176,
                        "passed_time": 11.26221614,
                        "remaining_time": 52.36612366,
                        "test": [
                          0.9062969668,
                          25570.85355,
                          16551.76088
                        ]
                      },
                      {
                        "learn": [
                          0.9509856335,
                          17175.46692,
                          12467.26016
                        ],
                        "iteration": 177,
                        "passed_time": 11.33191309,
                        "remaining_time": 52.33052,
                        "test": [
                          0.9064491844,
                          25550.07559,
                          16537.92345
                        ]
                      },
                      {
                        "learn": [
                          0.95130244,
                          17119.86974,
                          12441.51815
                        ],
                        "iteration": 178,
                        "passed_time": 11.38320695,
                        "remaining_time": 52.21012797,
                        "test": [
                          0.9065937155,
                          25530.33121,
                          16525.40819
                        ]
                      },
                      {
                        "learn": [
                          0.9514462939,
                          17094.56476,
                          12414.54944
                        ],
                        "iteration": 179,
                        "passed_time": 11.46387758,
                        "remaining_time": 52.22433118,
                        "test": [
                          0.9067060497,
                          25514.97467,
                          16510.74114
                        ]
                      },
                      {
                        "learn": [
                          0.9516266083,
                          17062.7931,
                          12403.80582
                        ],
                        "iteration": 180,
                        "passed_time": 11.53102725,
                        "remaining_time": 52.17630561,
                        "test": [
                          0.9068816317,
                          25490.95339,
                          16509.94313
                        ]
                      },
                      {
                        "learn": [
                          0.9518136636,
                          17029.77106,
                          12390.98783
                        ],
                        "iteration": 181,
                        "passed_time": 11.59899408,
                        "remaining_time": 52.13174263,
                        "test": [
                          0.9070102285,
                          25473.34576,
                          16499.47285
                        ]
                      },
                      {
                        "learn": [
                          0.9518688507,
                          17020.01628,
                          12387.11148
                        ],
                        "iteration": 182,
                        "passed_time": 11.647835,
                        "remaining_time": 52.00153657,
                        "test": [
                          0.9070665663,
                          25465.62809,
                          16499.15331
                        ]
                      },
                      {
                        "learn": [
                          0.9519698103,
                          17002.15638,
                          12376.45536
                        ],
                        "iteration": 183,
                        "passed_time": 11.70183741,
                        "remaining_time": 51.89510505,
                        "test": [
                          0.9072404422,
                          25441.79419,
                          16492.78375
                        ]
                      },
                      {
                        "learn": [
                          0.9523456262,
                          16935.50841,
                          12326.37031
                        ],
                        "iteration": 184,
                        "passed_time": 11.77618133,
                        "remaining_time": 51.87885287,
                        "test": [
                          0.9076355806,
                          25387.54771,
                          16464.57899
                        ]
                      },
                      {
                        "learn": [
                          0.9527242779,
                          16868.09121,
                          12287.86933
                        ],
                        "iteration": 185,
                        "passed_time": 11.84066001,
                        "remaining_time": 51.81880242,
                        "test": [
                          0.9076700594,
                          25382.8088,
                          16456.7424
                        ]
                      },
                      {
                        "learn": [
                          0.9530387661,
                          16811.89252,
                          12241.59378
                        ],
                        "iteration": 186,
                        "passed_time": 11.88018024,
                        "remaining_time": 51.65019536,
                        "test": [
                          0.9080000036,
                          25337.41504,
                          16437.41365
                        ]
                      },
                      {
                        "learn": [
                          0.9534011805,
                          16746.8956,
                          12194.11038
                        ],
                        "iteration": 187,
                        "passed_time": 11.93781098,
                        "remaining_time": 51.56118361,
                        "test": [
                          0.9081606238,
                          25315.28743,
                          16415.54053
                        ]
                      },
                      {
                        "learn": [
                          0.9535367126,
                          16722.52378,
                          12174.67729
                        ],
                        "iteration": 188,
                        "passed_time": 12.0109069,
                        "remaining_time": 51.53886505,
                        "test": [
                          0.9082159321,
                          25307.66349,
                          16402.19991
                        ]
                      },
                      {
                        "learn": [
                          0.9536549861,
                          16701.22641,
                          12167.616
                        ],
                        "iteration": 189,
                        "passed_time": 12.07916664,
                        "remaining_time": 51.49539462,
                        "test": [
                          0.9081887161,
                          25311.41536,
                          16407.14249
                        ]
                      },
                      {
                        "learn": [
                          0.9539079106,
                          16655.5912,
                          12134.53667
                        ],
                        "iteration": 190,
                        "passed_time": 12.17256856,
                        "remaining_time": 51.55815689,
                        "test": [
                          0.9084025506,
                          25281.9222,
                          16394.918
                        ]
                      },
                      {
                        "learn": [
                          0.9540246837,
                          16634.47957,
                          12116.35352
                        ],
                        "iteration": 191,
                        "passed_time": 12.24769323,
                        "remaining_time": 51.54237568,
                        "test": [
                          0.9085468074,
                          25262.00611,
                          16382.83958
                        ]
                      },
                      {
                        "learn": [
                          0.9544172275,
                          16563.31357,
                          12063.35785
                        ],
                        "iteration": 192,
                        "passed_time": 12.31067997,
                        "remaining_time": 51.47522661,
                        "test": [
                          0.9089160243,
                          25210.96036,
                          16349.35727
                        ]
                      },
                      {
                        "learn": [
                          0.9545550688,
                          16538.25105,
                          12046.49703
                        ],
                        "iteration": 193,
                        "passed_time": 12.37833486,
                        "remaining_time": 51.42751492,
                        "test": [
                          0.9089156688,
                          25211.00957,
                          16342.07958
                        ]
                      },
                      {
                        "learn": [
                          0.9546964801,
                          16512.49991,
                          12029.94279
                        ],
                        "iteration": 194,
                        "passed_time": 12.4321077,
                        "remaining_time": 51.32229077,
                        "test": [
                          0.9089345549,
                          25208.39571,
                          16336.97868
                        ]
                      },
                      {
                        "learn": [
                          0.9548007731,
                          16493.4823,
                          12023.1677
                        ],
                        "iteration": 195,
                        "passed_time": 12.51104339,
                        "remaining_time": 51.32081064,
                        "test": [
                          0.9088948299,
                          25213.89337,
                          16343.95704
                        ]
                      },
                      {
                        "learn": [
                          0.9548986166,
                          16475.62077,
                          12014.79884
                        ],
                        "iteration": 196,
                        "passed_time": 12.57531541,
                        "remaining_time": 51.25877296,
                        "test": [
                          0.9089337559,
                          25208.5063,
                          16342.16725
                        ]
                      },
                      {
                        "learn": [
                          0.9550025819,
                          16456.62046,
                          12005.03277
                        ],
                        "iteration": 197,
                        "passed_time": 12.61869908,
                        "remaining_time": 51.11210435,
                        "test": [
                          0.9090649843,
                          25190.33675,
                          16336.3337
                        ]
                      },
                      {
                        "learn": [
                          0.9550513582,
                          16447.6987,
                          12001.08259
                        ],
                        "iteration": 198,
                        "passed_time": 12.65264612,
                        "remaining_time": 50.92849018,
                        "test": [
                          0.9090730176,
                          25189.22405,
                          16335.91441
                        ]
                      },
                      {
                        "learn": [
                          0.9553198935,
                          16398.49361,
                          11978.37451
                        ],
                        "iteration": 199,
                        "passed_time": 12.68443397,
                        "remaining_time": 50.73773588,
                        "test": [
                          0.9090032587,
                          25198.88475,
                          16340.56714
                        ]
                      },
                      {
                        "learn": [
                          0.9555869865,
                          16349.4059,
                          11949.32465
                        ],
                        "iteration": 200,
                        "passed_time": 12.71211738,
                        "remaining_time": 50.53224771,
                        "test": [
                          0.9091429848,
                          25179.53079,
                          16318.07111
                        ]
                      },
                      {
                        "learn": [
                          0.9556914573,
                          16330.16559,
                          11941.09905
                        ],
                        "iteration": 201,
                        "passed_time": 12.74741185,
                        "remaining_time": 50.35858741,
                        "test": [
                          0.9091674222,
                          25176.14435,
                          16314.60541
                        ]
                      },
                      {
                        "learn": [
                          0.9558510333,
                          16300.73273,
                          11920.27978
                        ],
                        "iteration": 202,
                        "passed_time": 12.78157084,
                        "remaining_time": 50.1818323,
                        "test": [
                          0.9093564154,
                          25149.93901,
                          16298.06741
                        ]
                      },
                      {
                        "learn": [
                          0.9560743035,
                          16259.46245,
                          11881.62485
                        ],
                        "iteration": 203,
                        "passed_time": 12.81340482,
                        "remaining_time": 49.99740312,
                        "test": [
                          0.9095370808,
                          25124.86282,
                          16273.46244
                        ]
                      },
                      {
                        "learn": [
                          0.9562024931,
                          16235.7199,
                          11863.05759
                        ],
                        "iteration": 204,
                        "passed_time": 12.84985282,
                        "remaining_time": 49.83235606,
                        "test": [
                          0.9096327874,
                          25111.56869,
                          16265.03125
                        ]
                      },
                      {
                        "learn": [
                          0.9564448682,
                          16190.73339,
                          11836.03619
                        ],
                        "iteration": 205,
                        "passed_time": 12.8802351,
                        "remaining_time": 49.64517801,
                        "test": [
                          0.9097825824,
                          25090.74728,
                          16253.36511
                        ]
                      },
                      {
                        "learn": [
                          0.9566505077,
                          16152.46703,
                          11806.9815
                        ],
                        "iteration": 206,
                        "passed_time": 12.91726511,
                        "remaining_time": 49.4849818,
                        "test": [
                          0.9097974537,
                          25088.67923,
                          16258.88778
                        ]
                      },
                      {
                        "learn": [
                          0.9567494793,
                          16134.01756,
                          11800.88001
                        ],
                        "iteration": 207,
                        "passed_time": 12.95402162,
                        "remaining_time": 49.32492847,
                        "test": [
                          0.9096895471,
                          25103.68117,
                          16263.69359
                        ]
                      },
                      {
                        "learn": [
                          0.9570040361,
                          16086.46802,
                          11772.29515
                        ],
                        "iteration": 208,
                        "passed_time": 12.98187754,
                        "remaining_time": 49.13236905,
                        "test": [
                          0.9097194046,
                          25099.53106,
                          16278.89766
                        ]
                      },
                      {
                        "learn": [
                          0.9571406845,
                          16060.88494,
                          11746.78096
                        ],
                        "iteration": 209,
                        "passed_time": 13.01730015,
                        "remaining_time": 48.96984344,
                        "test": [
                          0.9097319342,
                          25097.78929,
                          16279.45854
                        ]
                      },
                      {
                        "learn": [
                          0.957361533,
                          16019.45166,
                          11713.62315
                        ],
                        "iteration": 210,
                        "passed_time": 13.0498902,
                        "remaining_time": 48.79793066,
                        "test": [
                          0.9099863324,
                          25062.39838,
                          16249.42786
                        ]
                      },
                      {
                        "learn": [
                          0.9576126357,
                          15972.21184,
                          11684.08981
                        ],
                        "iteration": 211,
                        "passed_time": 13.08451266,
                        "remaining_time": 48.63488667,
                        "test": [
                          0.9101806568,
                          25035.33101,
                          16238.94341
                        ]
                      },
                      {
                        "learn": [
                          0.9577630142,
                          15943.8542,
                          11672.03167
                        ],
                        "iteration": 212,
                        "passed_time": 13.11948063,
                        "remaining_time": 48.47432515,
                        "test": [
                          0.9103240268,
                          25015.34228,
                          16232.84408
                        ]
                      },
                      {
                        "learn": [
                          0.957947946,
                          15908.91135,
                          11635.38183
                        ],
                        "iteration": 213,
                        "passed_time": 13.15087305,
                        "remaining_time": 48.30180475,
                        "test": [
                          0.9104601284,
                          24996.35212,
                          16216.6812
                        ]
                      },
                      {
                        "learn": [
                          0.9581283075,
                          15874.75799,
                          11604.59294
                        ],
                        "iteration": 214,
                        "passed_time": 13.21635869,
                        "remaining_time": 48.25507708,
                        "test": [
                          0.9106111962,
                          24975.25684,
                          16199.09735
                        ]
                      },
                      {
                        "learn": [
                          0.9583227341,
                          15837.85875,
                          11568.24038
                        ],
                        "iteration": 215,
                        "passed_time": 13.2533325,
                        "remaining_time": 48.10468832,
                        "test": [
                          0.9107041827,
                          24962.26323,
                          16178.00676
                        ]
                      },
                      {
                        "learn": [
                          0.9585214002,
                          15800.06593,
                          11540.04388
                        ],
                        "iteration": 216,
                        "passed_time": 13.28821902,
                        "remaining_time": 47.94781334,
                        "test": [
                          0.9108889148,
                          24936.42933,
                          16160.16942
                        ]
                      },
                      {
                        "learn": [
                          0.9586294685,
                          15779.46977,
                          11529.42323
                        ],
                        "iteration": 217,
                        "passed_time": 13.31908859,
                        "remaining_time": 47.77764806,
                        "test": [
                          0.9110336644,
                          24916.16807,
                          16151.69516
                        ]
                      },
                      {
                        "learn": [
                          0.9587263581,
                          15760.9812,
                          11509.94678
                        ],
                        "iteration": 218,
                        "passed_time": 13.35410879,
                        "remaining_time": 47.62355692,
                        "test": [
                          0.9110672055,
                          24911.47082,
                          16135.9739
                        ]
                      },
                      {
                        "learn": [
                          0.9588662704,
                          15734.24468,
                          11499.25859
                        ],
                        "iteration": 219,
                        "passed_time": 13.38798369,
                        "remaining_time": 47.46648761,
                        "test": [
                          0.9112097841,
                          24891.49356,
                          16130.52933
                        ]
                      },
                      {
                        "learn": [
                          0.9590562625,
                          15697.86527,
                          11471.00005
                        ],
                        "iteration": 220,
                        "passed_time": 13.42239984,
                        "remaining_time": 47.31244106,
                        "test": [
                          0.91131991,
                          24876.05239,
                          16114.56551
                        ]
                      },
                      {
                        "learn": [
                          0.9592235434,
                          15665.76463,
                          11450.58438
                        ],
                        "iteration": 221,
                        "passed_time": 13.47071997,
                        "remaining_time": 47.20819881,
                        "test": [
                          0.9113155902,
                          24876.65827,
                          16111.51382
                        ]
                      },
                      {
                        "learn": [
                          0.959300029,
                          15651.06536,
                          11444.18076
                        ],
                        "iteration": 222,
                        "passed_time": 13.54738206,
                        "remaining_time": 47.20321015,
                        "test": [
                          0.9112504187,
                          24885.79715,
                          16114.92055
                        ]
                      },
                      {
                        "learn": [
                          0.9593989539,
                          15632.03314,
                          11433.40499
                        ],
                        "iteration": 223,
                        "passed_time": 13.63144481,
                        "remaining_time": 47.22321952,
                        "test": [
                          0.9113759949,
                          24868.18483,
                          16101.73568
                        ]
                      },
                      {
                        "learn": [
                          0.9594836265,
                          15615.7245,
                          11418.62497
                        ],
                        "iteration": 224,
                        "passed_time": 13.70410597,
                        "remaining_time": 47.20303168,
                        "test": [
                          0.911388959,
                          24866.36589,
                          16094.22023
                        ]
                      },
                      {
                        "learn": [
                          0.9595238341,
                          15607.97421,
                          11414.46982
                        ],
                        "iteration": 225,
                        "passed_time": 13.77924619,
                        "remaining_time": 47.19086971,
                        "test": [
                          0.9114212404,
                          24861.83601,
                          16090.9569
                        ]
                      },
                      {
                        "learn": [
                          0.9598210415,
                          15550.56571,
                          11378.92435
                        ],
                        "iteration": 226,
                        "passed_time": 13.85736247,
                        "remaining_time": 47.18828718,
                        "test": [
                          0.9116690078,
                          24827.04062,
                          16074.86704
                        ]
                      },
                      {
                        "learn": [
                          0.9599657458,
                          15522.53782,
                          11359.98792
                        ],
                        "iteration": 227,
                        "passed_time": 13.95868327,
                        "remaining_time": 47.26361177,
                        "test": [
                          0.9117266679,
                          24818.93607,
                          16068.74909
                        ]
                      },
                      {
                        "learn": [
                          0.9600744537,
                          15501.44876,
                          11340.07264
                        ],
                        "iteration": 228,
                        "passed_time": 14.04352313,
                        "remaining_time": 47.28190539,
                        "test": [
                          0.9118063015,
                          24807.73865,
                          16054.54843
                        ]
                      },
                      {
                        "learn": [
                          0.9602180659,
                          15473.54428,
                          11314.16575
                        ],
                        "iteration": 229,
                        "passed_time": 14.11229915,
                        "remaining_time": 47.24552324,
                        "test": [
                          0.9119154519,
                          24792.38262,
                          16039.64457
                        ]
                      },
                      {
                        "learn": [
                          0.9603223696,
                          15453.24604,
                          11295.78375
                        ],
                        "iteration": 230,
                        "passed_time": 14.24471895,
                        "remaining_time": 47.42073105,
                        "test": [
                          0.9120089164,
                          24779.2258,
                          16020.56186
                        ]
                      },
                      {
                        "learn": [
                          0.9603580021,
                          15446.30558,
                          11290.66758
                        ],
                        "iteration": 231,
                        "passed_time": 14.35309488,
                        "remaining_time": 47.51369339,
                        "test": [
                          0.9120344318,
                          24775.63284,
                          16021.82773
                        ]
                      },
                      {
                        "learn": [
                          0.9605268178,
                          15413.38139,
                          11277.81915
                        ],
                        "iteration": 232,
                        "passed_time": 14.4502858,
                        "remaining_time": 47.56810818,
                        "test": [
                          0.9120871312,
                          24768.2103,
                          16012.0323
                        ]
                      },
                      {
                        "learn": [
                          0.9605925882,
                          15400.53512,
                          11271.42109
                        ],
                        "iteration": 233,
                        "passed_time": 14.57017866,
                        "remaining_time": 47.69554212,
                        "test": [
                          0.9121141247,
                          24764.40749,
                          16013.32039
                        ]
                      },
                      {
                        "learn": [
                          0.9607128074,
                          15377.02616,
                          11263.36659
                        ],
                        "iteration": 234,
                        "passed_time": 14.6944955,
                        "remaining_time": 47.83527257,
                        "test": [
                          0.9121078704,
                          24765.28864,
                          16012.70991
                        ]
                      },
                      {
                        "learn": [
                          0.9608173054,
                          15356.56227,
                          11248.77301
                        ],
                        "iteration": 235,
                        "passed_time": 14.80702961,
                        "remaining_time": 47.93462127,
                        "test": [
                          0.9121997233,
                          24752.3446,
                          16006.35777
                        ]
                      },
                      {
                        "learn": [
                          0.9609623131,
                          15328.12006,
                          11237.83144
                        ],
                        "iteration": 236,
                        "passed_time": 14.91137054,
                        "remaining_time": 48.00580473,
                        "test": [
                          0.9122042694,
                          24751.70378,
                          16013.03584
                        ]
                      },
                      {
                        "learn": [
                          0.9610724814,
                          15306.47603,
                          11230.7701
                        ],
                        "iteration": 237,
                        "passed_time": 15.01051376,
                        "remaining_time": 48.0588718,
                        "test": [
                          0.9121904444,
                          24753.6525,
                          16012.76627
                        ]
                      },
                      {
                        "learn": [
                          0.9612226389,
                          15276.9262,
                          11206.65001
                        ],
                        "iteration": 238,
                        "passed_time": 15.1163032,
                        "remaining_time": 48.13182733,
                        "test": [
                          0.9122511682,
                          24745.09196,
                          16004.90865
                        ]
                      },
                      {
                        "learn": [
                          0.9613865993,
                          15244.59466,
                          11184.87765
                        ],
                        "iteration": 239,
                        "passed_time": 15.22471024,
                        "remaining_time": 48.21158242,
                        "test": [
                          0.9123454843,
                          24731.78985,
                          16000.66813
                        ]
                      },
                      {
                        "learn": [
                          0.9614433156,
                          15233.39472,
                          11174.14419
                        ],
                        "iteration": 240,
                        "passed_time": 15.35597202,
                        "remaining_time": 48.36175421,
                        "test": [
                          0.9123652781,
                          24728.99728,
                          15997.98287
                        ]
                      },
                      {
                        "learn": [
                          0.9614703015,
                          15228.06285,
                          11170.78478
                        ],
                        "iteration": 241,
                        "passed_time": 15.46031754,
                        "remaining_time": 48.42529213,
                        "test": [
                          0.9124345338,
                          24719.22396,
                          15996.50054
                        ]
                      },
                      {
                        "learn": [
                          0.9616166382,
                          15199.11708,
                          11158.35735
                        ],
                        "iteration": 242,
                        "passed_time": 15.56169108,
                        "remaining_time": 48.4781899,
                        "test": [
                          0.9124415077,
                          24718.2396,
                          15993.57992
                        ]
                      },
                      {
                        "learn": [
                          0.9617182437,
                          15178.98677,
                          11153.4069
                        ],
                        "iteration": 243,
                        "passed_time": 15.65561059,
                        "remaining_time": 48.5067279,
                        "test": [
                          0.9122866697,
                          24740.08575,
                          16003.12102
                        ]
                      },
                      {
                        "learn": [
                          0.9618918451,
                          15144.53057,
                          11130.60714
                        ],
                        "iteration": 244,
                        "passed_time": 15.75009535,
                        "remaining_time": 48.53600811,
                        "test": [
                          0.9123237649,
                          24734.85373,
                          16005.32795
                        ]
                      },
                      {
                        "learn": [
                          0.9619284091,
                          15137.2634,
                          11126.46752
                        ],
                        "iteration": 245,
                        "passed_time": 15.83940644,
                        "remaining_time": 48.54842463,
                        "test": [
                          0.9123585074,
                          24729.95254,
                          16000.84764
                        ]
                      },
                      {
                        "learn": [
                          0.9620582258,
                          15111.4338,
                          11104.68188
                        ],
                        "iteration": 246,
                        "passed_time": 15.91837975,
                        "remaining_time": 48.52850184,
                        "test": [
                          0.9124011353,
                          24723.93762,
                          16006.84054
                        ]
                      },
                      {
                        "learn": [
                          0.9622974899,
                          15063.71145,
                          11072.09845
                        ],
                        "iteration": 247,
                        "passed_time": 15.99398203,
                        "remaining_time": 48.49788098,
                        "test": [
                          0.9126718204,
                          24685.70893,
                          15983.29976
                        ]
                      },
                      {
                        "learn": [
                          0.962496702,
                          15023.862,
                          11053.0048
                        ],
                        "iteration": 248,
                        "passed_time": 16.08844244,
                        "remaining_time": 48.5237762,
                        "test": [
                          0.912727158,
                          24677.88634,
                          15976.36993
                        ]
                      },
                      {
                        "learn": [
                          0.9626200072,
                          14999.14356,
                          11041.05974
                        ],
                        "iteration": 249,
                        "passed_time": 16.15620308,
                        "remaining_time": 48.46860924,
                        "test": [
                          0.9127480575,
                          24674.93132,
                          15972.44466
                        ]
                      },
                      {
                        "learn": [
                          0.9629181373,
                          14939.2098,
                          11003.55748
                        ],
                        "iteration": 250,
                        "passed_time": 16.24457129,
                        "remaining_time": 48.47483623,
                        "test": [
                          0.9130454195,
                          24632.8483,
                          15941.35398
                        ]
                      },
                      {
                        "learn": [
                          0.9630374122,
                          14915.16423,
                          10985.91289
                        ],
                        "iteration": 251,
                        "passed_time": 16.32446087,
                        "remaining_time": 48.45514574,
                        "test": [
                          0.9130337485,
                          24634.50136,
                          15938.58372
                        ]
                      },
                      {
                        "learn": [
                          0.96313084,
                          14896.30228,
                          10978.0325
                        ],
                        "iteration": 252,
                        "passed_time": 16.42336106,
                        "remaining_time": 48.49110953,
                        "test": [
                          0.9129444684,
                          24647.14308,
                          15946.26957
                        ]
                      },
                      {
                        "learn": [
                          0.963230185,
                          14876.2195,
                          10968.20462
                        ],
                        "iteration": 253,
                        "passed_time": 16.5256422,
                        "remaining_time": 48.53594125,
                        "test": [
                          0.9130363808,
                          24634.12853,
                          15937.4441
                        ]
                      },
                      {
                        "learn": [
                          0.9633960577,
                          14842.62743,
                          10940.7708
                        ],
                        "iteration": 254,
                        "passed_time": 16.61302154,
                        "remaining_time": 48.53608254,
                        "test": [
                          0.9130413956,
                          24633.41825,
                          15929.99701
                        ]
                      },
                      {
                        "learn": [
                          0.9635664272,
                          14808.04536,
                          10917.98535
                        ],
                        "iteration": 255,
                        "passed_time": 16.76921552,
                        "remaining_time": 48.7355326,
                        "test": [
                          0.9131752027,
                          24614.45868,
                          15919.23118
                        ]
                      },
                      {
                        "learn": [
                          0.9637512083,
                          14770.44646,
                          10891.71319
                        ],
                        "iteration": 256,
                        "passed_time": 16.90795548,
                        "remaining_time": 48.88175456,
                        "test": [
                          0.9133088117,
                          24595.5126,
                          15900.46775
                        ]
                      },
                      {
                        "learn": [
                          0.9638840869,
                          14743.34931,
                          10879.03677
                        ],
                        "iteration": 257,
                        "passed_time": 17.05095944,
                        "remaining_time": 49.03803065,
                        "test": [
                          0.9133477579,
                          24589.98719,
                          15897.70204
                        ]
                      },
                      {
                        "learn": [
                          0.9639686373,
                          14726.08147,
                          10871.5625
                        ],
                        "iteration": 258,
                        "passed_time": 17.18866938,
                        "remaining_time": 49.17684945,
                        "test": [
                          0.9132548737,
                          24603.16289,
                          15905.14887
                        ]
                      },
                      {
                        "learn": [
                          0.9641894309,
                          14680.89277,
                          10845.8126
                        ],
                        "iteration": 259,
                        "passed_time": 17.33319037,
                        "remaining_time": 49.33292643,
                        "test": [
                          0.9134391271,
                          24577.01949,
                          15889.86292
                        ]
                      },
                      {
                        "learn": [
                          0.9642855183,
                          14661.18356,
                          10833.10931
                        ],
                        "iteration": 260,
                        "passed_time": 17.48125766,
                        "remaining_time": 49.49674103,
                        "test": [
                          0.9134813411,
                          24571.02591,
                          15881.97699
                        ]
                      },
                      {
                        "learn": [
                          0.964460842,
                          14625.15314,
                          10814.58024
                        ],
                        "iteration": 261,
                        "passed_time": 17.58821902,
                        "remaining_time": 49.54238792,
                        "test": [
                          0.9134868395,
                          24570.24512,
                          15876.50529
                        ]
                      },
                      {
                        "learn": [
                          0.9645721468,
                          14602.23298,
                          10800.26869
                        ],
                        "iteration": 262,
                        "passed_time": 17.72370256,
                        "remaining_time": 49.66680147,
                        "test": [
                          0.9134754182,
                          24571.86694,
                          15875.81339
                        ]
                      },
                      {
                        "learn": [
                          0.9646213533,
                          14592.08879,
                          10797.02661
                        ],
                        "iteration": 263,
                        "passed_time": 17.80788146,
                        "remaining_time": 49.64621497,
                        "test": [
                          0.9134439016,
                          24576.34167,
                          15879.44701
                        ]
                      },
                      {
                        "learn": [
                          0.9647424536,
                          14567.09318,
                          10780.25624
                        ],
                        "iteration": 264,
                        "passed_time": 17.90110628,
                        "remaining_time": 49.65023817,
                        "test": [
                          0.9134520005,
                          24575.19186,
                          15876.77034
                        ]
                      },
                      {
                        "learn": [
                          0.9648536262,
                          14544.10889,
                          10769.02062
                        ],
                        "iteration": 265,
                        "passed_time": 17.99296199,
                        "remaining_time": 49.64975226,
                        "test": [
                          0.9134758526,
                          24571.80525,
                          15879.59339
                        ]
                      },
                      {
                        "learn": [
                          0.9648805252,
                          14538.54221,
                          10765.43908
                        ],
                        "iteration": 266,
                        "passed_time": 18.07116489,
                        "remaining_time": 49.6111006,
                        "test": [
                          0.9134907613,
                          24569.68821,
                          15881.37196
                        ]
                      },
                      {
                        "learn": [
                          0.9650192608,
                          14509.79733,
                          10742.73938
                        ],
                        "iteration": 267,
                        "passed_time": 18.15366724,
                        "remaining_time": 49.58389708,
                        "test": [
                          0.9135597386,
                          24559.89105,
                          15869.84395
                        ]
                      },
                      {
                        "learn": [
                          0.9652067674,
                          14470.85679,
                          10717.88448
                        ],
                        "iteration": 268,
                        "passed_time": 18.2252599,
                        "remaining_time": 49.52663563,
                        "test": [
                          0.9136834808,
                          24542.30559,
                          15860.72886
                        ]
                      },
                      {
                        "learn": [
                          0.9652751906,
                          14456.62083,
                          10711.31976
                        ],
                        "iteration": 269,
                        "passed_time": 18.29403964,
                        "remaining_time": 49.46166273,
                        "test": [
                          0.913637742,
                          24548.80717,
                          15863.37024
                        ]
                      },
                      {
                        "learn": [
                          0.9654960315,
                          14410.57731,
                          10678.36657
                        ],
                        "iteration": 270,
                        "passed_time": 18.34813022,
                        "remaining_time": 49.35714734,
                        "test": [
                          0.9137303929,
                          24535.63545,
                          15845.64014
                        ]
                      },
                      {
                        "learn": [
                          0.9655878766,
                          14391.38499,
                          10666.9717
                        ],
                        "iteration": 271,
                        "passed_time": 18.39213425,
                        "remaining_time": 49.22600638,
                        "test": [
                          0.913841681,
                          24519.80482,
                          15827.78958
                        ]
                      },
                      {
                        "learn": [
                          0.9657211892,
                          14363.48182,
                          10642.55961
                        ],
                        "iteration": 272,
                        "passed_time": 18.46478787,
                        "remaining_time": 49.17179773,
                        "test": [
                          0.9137242834,
                          24536.50423,
                          15831.60592
                        ]
                      },
                      {
                        "learn": [
                          0.9658218692,
                          14342.37287,
                          10623.96467
                        ],
                        "iteration": 273,
                        "passed_time": 18.55660358,
                        "remaining_time": 49.16822701,
                        "test": [
                          0.9137834344,
                          24528.09163,
                          15821.28421
                        ]
                      },
                      {
                        "learn": [
                          0.9659169062,
                          14322.41852,
                          10609.72212
                        ],
                        "iteration": 274,
                        "passed_time": 18.61948213,
                        "remaining_time": 49.0877256,
                        "test": [
                          0.9137716052,
                          24529.77423,
                          15820.19185
                        ]
                      },
                      {
                        "learn": [
                          0.9659499464,
                          14315.47474,
                          10606.23208
                        ],
                        "iteration": 275,
                        "passed_time": 18.69139698,
                        "remaining_time": 49.03105586,
                        "test": [
                          0.9138122748,
                          24523.98882,
                          15816.9363
                        ]
                      },
                      {
                        "learn": [
                          0.9660006676,
                          14304.80855,
                          10600.54504
                        ],
                        "iteration": 276,
                        "passed_time": 18.74703624,
                        "remaining_time": 48.93179494,
                        "test": [
                          0.9138249377,
                          24522.18719,
                          15816.90172
                        ]
                      },
                      {
                        "learn": [
                          0.9661084031,
                          14282.12636,
                          10579.66817
                        ],
                        "iteration": 277,
                        "passed_time": 18.82706982,
                        "remaining_time": 48.89620292,
                        "test": [
                          0.9138337122,
                          24520.93872,
                          15805.92475
                        ]
                      },
                      {
                        "learn": [
                          0.966165195,
                          14270.15513,
                          10573.88684
                        ],
                        "iteration": 278,
                        "passed_time": 18.87876751,
                        "remaining_time": 48.78706587,
                        "test": [
                          0.9138784717,
                          24514.56913,
                          15800.40449
                        ]
                      },
                      {
                        "learn": [
                          0.9662548365,
                          14251.23901,
                          10565.13513
                        ],
                        "iteration": 279,
                        "passed_time": 18.940669,
                        "remaining_time": 48.70457743,
                        "test": [
                          0.9138550254,
                          24517.90591,
                          15800.29381
                        ]
                      },
                      {
                        "learn": [
                          0.9663887095,
                          14222.94233,
                          10545.62261
                        ],
                        "iteration": 280,
                        "passed_time": 18.99866871,
                        "remaining_time": 48.61225198,
                        "test": [
                          0.9139666947,
                          24502.00953,
                          15785.73331
                        ]
                      },
                      {
                        "learn": [
                          0.966475026,
                          14204.66775,
                          10538.5486
                        ],
                        "iteration": 281,
                        "passed_time": 19.07681522,
                        "remaining_time": 48.57146571,
                        "test": [
                          0.9140542634,
                          24489.53672,
                          15785.8067
                        ]
                      },
                      {
                        "learn": [
                          0.9666926019,
                          14158.49883,
                          10508.31192
                        ],
                        "iteration": 282,
                        "passed_time": 19.14415501,
                        "remaining_time": 48.50303585,
                        "test": [
                          0.914103106,
                          24482.57707,
                          15782.40153
                        ]
                      },
                      {
                        "learn": [
                          0.9668475622,
                          14125.52472,
                          10480.21696
                        ],
                        "iteration": 283,
                        "passed_time": 19.20827277,
                        "remaining_time": 48.42649049,
                        "test": [
                          0.9140980217,
                          24483.30163,
                          15778.38732
                        ]
                      },
                      {
                        "learn": [
                          0.9668891757,
                          14116.65664,
                          10474.53096
                        ],
                        "iteration": 284,
                        "passed_time": 19.25976875,
                        "remaining_time": 48.31836722,
                        "test": [
                          0.9141560396,
                          24475.03227,
                          15777.39785
                        ]
                      },
                      {
                        "learn": [
                          0.9671238187,
                          14066.54819,
                          10441.37198
                        ],
                        "iteration": 285,
                        "passed_time": 19.31985092,
                        "remaining_time": 48.23207536,
                        "test": [
                          0.9143120011,
                          24452.78901,
                          15763.30786
                        ]
                      },
                      {
                        "learn": [
                          0.967185417,
                          14053.36416,
                          10432.27909
                        ],
                        "iteration": 286,
                        "passed_time": 19.38397398,
                        "remaining_time": 48.15600505,
                        "test": [
                          0.914335919,
                          24449.37605,
                          15757.46227
                        ]
                      },
                      {
                        "learn": [
                          0.9672251779,
                          14044.84745,
                          10427.80157
                        ],
                        "iteration": 287,
                        "passed_time": 19.45711429,
                        "remaining_time": 48.10231032,
                        "test": [
                          0.9143719123,
                          24444.23909,
                          15756.63924
                        ]
                      },
                      {
                        "learn": [
                          0.9673726439,
                          14013.21537,
                          10412.08007
                        ],
                        "iteration": 288,
                        "passed_time": 19.54582082,
                        "remaining_time": 48.08677717,
                        "test": [
                          0.9144483065,
                          24433.33254,
                          15744.62054
                        ]
                      },
                      {
                        "learn": [
                          0.9675129277,
                          13983.05747,
                          10382.0147
                        ],
                        "iteration": 289,
                        "passed_time": 19.60291573,
                        "remaining_time": 47.99334541,
                        "test": [
                          0.9145200175,
                          24423.09015,
                          15730.38414
                        ]
                      },
                      {
                        "learn": [
                          0.9676514005,
                          13953.22498,
                          10365.82978
                        ],
                        "iteration": 290,
                        "passed_time": 19.66463221,
                        "remaining_time": 47.91142349,
                        "test": [
                          0.9145428631,
                          24419.82625,
                          15729.2715
                        ]
                      },
                      {
                        "learn": [
                          0.967742694,
                          13933.52183,
                          10351.99575
                        ],
                        "iteration": 291,
                        "passed_time": 19.73937836,
                        "remaining_time": 47.86123246,
                        "test": [
                          0.9145748213,
                          24415.2597,
                          15724.80524
                        ]
                      },
                      {
                        "learn": [
                          0.9679097403,
                          13897.39722,
                          10328.71795
                        ],
                        "iteration": 292,
                        "passed_time": 19.80772843,
                        "remaining_time": 47.79544027,
                        "test": [
                          0.9147684978,
                          24387.56679,
                          15709.48127
                        ]
                      },
                      {
                        "learn": [
                          0.9680490851,
                          13867.19123,
                          10310.62058
                        ],
                        "iteration": 293,
                        "passed_time": 19.88078935,
                        "remaining_time": 47.74094314,
                        "test": [
                          0.9148183494,
                          24380.43365,
                          15703.26427
                        ]
                      },
                      {
                        "learn": [
                          0.9681626937,
                          13842.51533,
                          10294.6435
                        ],
                        "iteration": 294,
                        "passed_time": 19.92560086,
                        "remaining_time": 47.61880884,
                        "test": [
                          0.9148257902,
                          24379.36878,
                          15698.84915
                        ]
                      },
                      {
                        "learn": [
                          0.9682376141,
                          13826.21844,
                          10281.71262
                        ],
                        "iteration": 295,
                        "passed_time": 19.98249106,
                        "remaining_time": 47.52592469,
                        "test": [
                          0.9148450407,
                          24376.61359,
                          15695.45512
                        ]
                      },
                      {
                        "learn": [
                          0.9683955235,
                          13791.80652,
                          10254.92161
                        ],
                        "iteration": 296,
                        "passed_time": 20.04714668,
                        "remaining_time": 47.4516637,
                        "test": [
                          0.9149436576,
                          24362.49437,
                          15682.72192
                        ]
                      },
                      {
                        "learn": [
                          0.9685037339,
                          13768.17543,
                          10230.03939
                        ],
                        "iteration": 297,
                        "passed_time": 20.11877236,
                        "remaining_time": 47.39388657,
                        "test": [
                          0.9149618597,
                          24359.88745,
                          15672.88609
                        ]
                      },
                      {
                        "learn": [
                          0.968589605,
                          13749.3939,
                          10214.70841
                        ],
                        "iteration": 298,
                        "passed_time": 20.16844748,
                        "remaining_time": 47.28455413,
                        "test": [
                          0.9149406979,
                          24362.91824,
                          15664.08302
                        ]
                      },
                      {
                        "learn": [
                          0.9686530794,
                          13735.49444,
                          10208.16876
                        ],
                        "iteration": 299,
                        "passed_time": 20.2310402,
                        "remaining_time": 47.20576046,
                        "test": [
                          0.9148716018,
                          24372.81159,
                          15668.25561
                        ]
                      },
                      {
                        "learn": [
                          0.9686847064,
                          13728.56358,
                          10202.38258
                        ],
                        "iteration": 300,
                        "passed_time": 20.30291112,
                        "remaining_time": 47.14862084,
                        "test": [
                          0.9148790804,
                          24371.74097,
                          15664.98656
                        ]
                      },
                      {
                        "learn": [
                          0.9688135069,
                          13700.30154,
                          10184.02598
                        ],
                        "iteration": 301,
                        "passed_time": 20.37513848,
                        "remaining_time": 47.09220748,
                        "test": [
                          0.9148825945,
                          24371.23789,
                          15652.38302
                        ]
                      },
                      {
                        "learn": [
                          0.9689079247,
                          13679.54683,
                          10169.08337
                        ],
                        "iteration": 302,
                        "passed_time": 20.41628152,
                        "remaining_time": 46.96418555,
                        "test": [
                          0.9148434065,
                          24376.84749,
                          15654.35617
                        ]
                      },
                      {
                        "learn": [
                          0.9689419919,
                          13672.05052,
                          10165.06279
                        ],
                        "iteration": 303,
                        "passed_time": 20.48626862,
                        "remaining_time": 46.90277288,
                        "test": [
                          0.9148370781,
                          24377.75326,
                          15654.42041
                        ]
                      },
                      {
                        "learn": [
                          0.969013944,
                          13656.20432,
                          10154.17433
                        ],
                        "iteration": 304,
                        "passed_time": 20.58144688,
                        "remaining_time": 46.89870681,
                        "test": [
                          0.9149038372,
                          24368.19655,
                          15650.77927
                        ]
                      },
                      {
                        "learn": [
                          0.9690904379,
                          13639.33768,
                          10145.13197
                        ],
                        "iteration": 305,
                        "passed_time": 20.66809557,
                        "remaining_time": 46.87470041,
                        "test": [
                          0.9149196129,
                          24365.93767,
                          15649.15183
                        ]
                      },
                      {
                        "learn": [
                          0.9691911205,
                          13617.10566,
                          10132.60294
                        ],
                        "iteration": 306,
                        "passed_time": 20.73552019,
                        "remaining_time": 46.80689086,
                        "test": [
                          0.9149644447,
                          24359.5172,
                          15643.38381
                        ]
                      },
                      {
                        "learn": [
                          0.9692875984,
                          13595.76797,
                          10124.15923
                        ],
                        "iteration": 307,
                        "passed_time": 20.80395763,
                        "remaining_time": 46.74135935,
                        "test": [
                          0.9149514712,
                          24361.37534,
                          15641.34038
                        ]
                      },
                      {
                        "learn": [
                          0.9692978314,
                          13593.50281,
                          10122.74463
                        ],
                        "iteration": 308,
                        "passed_time": 20.86097849,
                        "remaining_time": 46.65027877,
                        "test": [
                          0.9149579802,
                          24360.4431,
                          15640.47066
                        ]
                      },
                      {
                        "learn": [
                          0.96940664,
                          13569.39373,
                          10103.32477
                        ],
                        "iteration": 309,
                        "passed_time": 20.91980707,
                        "remaining_time": 46.56344154,
                        "test": [
                          0.9149582546,
                          24360.4038,
                          15643.02443
                        ]
                      },
                      {
                        "learn": [
                          0.9695031768,
                          13547.96783,
                          10082.42672
                        ],
                        "iteration": 310,
                        "passed_time": 20.99214018,
                        "remaining_time": 46.50670283,
                        "test": [
                          0.9149457075,
                          24362.20081,
                          15640.56523
                        ]
                      },
                      {
                        "learn": [
                          0.9695335502,
                          13541.21956,
                          10080.01013
                        ],
                        "iteration": 311,
                        "passed_time": 21.03733228,
                        "remaining_time": 46.39001477,
                        "test": [
                          0.914920475,
                          24365.81422,
                          15641.45044
                        ]
                      },
                      {
                        "learn": [
                          0.9695934058,
                          13527.91122,
                          10065.84284
                        ],
                        "iteration": 312,
                        "passed_time": 21.07134195,
                        "remaining_time": 46.24923936,
                        "test": [
                          0.9149421579,
                          24362.70916,
                          15634.64195
                        ]
                      },
                      {
                        "learn": [
                          0.9696260672,
                          13520.64373,
                          10061.05356
                        ],
                        "iteration": 313,
                        "passed_time": 21.10827494,
                        "remaining_time": 46.1155306,
                        "test": [
                          0.9149530795,
                          24361.14499,
                          15632.53925
                        ]
                      },
                      {
                        "learn": [
                          0.9697050274,
                          13503.05813,
                          10049.19972
                        ],
                        "iteration": 314,
                        "passed_time": 21.14766992,
                        "remaining_time": 45.98779014,
                        "test": [
                          0.9149977301,
                          24354.74921,
                          15629.93961
                        ]
                      },
                      {
                        "learn": [
                          0.9697690827,
                          13488.77523,
                          10043.73487
                        ],
                        "iteration": 315,
                        "passed_time": 21.18762355,
                        "remaining_time": 45.86181806,
                        "test": [
                          0.9149688425,
                          24358.88728,
                          15629.20606
                        ]
                      },
                      {
                        "learn": [
                          0.9698928824,
                          13461.12771,
                          10029.39788
                        ],
                        "iteration": 316,
                        "passed_time": 21.22511446,
                        "remaining_time": 45.73108258,
                        "test": [
                          0.9150341656,
                          24349.52892,
                          15619.4653
                        ]
                      },
                      {
                        "learn": [
                          0.9699366285,
                          13451.34455,
                          10021.05522
                        ],
                        "iteration": 317,
                        "passed_time": 21.26083406,
                        "remaining_time": 45.59713468,
                        "test": [
                          0.915033792,
                          24349.58246,
                          15621.83121
                        ]
                      },
                      {
                        "learn": [
                          0.9700442494,
                          13427.2464,
                          10007.16872
                        ],
                        "iteration": 318,
                        "passed_time": 21.2978815,
                        "remaining_time": 45.46663732,
                        "test": [
                          0.9150048847,
                          24353.72423,
                          15624.52442
                        ]
                      },
                      {
                        "learn": [
                          0.9700938047,
                          13416.13557,
                          9996.182074
                        ],
                        "iteration": 319,
                        "passed_time": 21.33220348,
                        "remaining_time": 45.33093239,
                        "test": [
                          0.9150043523,
                          24353.80051,
                          15624.28336
                        ]
                      },
                      {
                        "learn": [
                          0.9702316789,
                          13385.17415,
                          9967.633202
                        ],
                        "iteration": 320,
                        "passed_time": 21.36634155,
                        "remaining_time": 45.19547013,
                        "test": [
                          0.9150581812,
                          24346.08748,
                          15614.11279
                        ]
                      },
                      {
                        "learn": [
                          0.9702613667,
                          13378.49801,
                          9963.20712
                        ],
                        "iteration": 321,
                        "passed_time": 21.40398524,
                        "remaining_time": 45.06801861,
                        "test": [
                          0.9150686231,
                          24344.59101,
                          15610.65256
                        ]
                      },
                      {
                        "learn": [
                          0.9703817777,
                          13351.38592,
                          9944.555856
                        ],
                        "iteration": 322,
                        "passed_time": 21.43606775,
                        "remaining_time": 44.92946708,
                        "test": [
                          0.9151178596,
                          24337.53345,
                          15606.73734
                        ]
                      },
                      {
                        "learn": [
                          0.9704894668,
                          13327.09162,
                          9921.151916
                        ],
                        "iteration": 323,
                        "passed_time": 21.47000963,
                        "remaining_time": 44.79545219,
                        "test": [
                          0.9151160322,
                          24337.79543,
                          15603.28824
                        ]
                      },
                      {
                        "learn": [
                          0.9706575591,
                          13289.0818,
                          9894.752387
                        ],
                        "iteration": 324,
                        "passed_time": 21.4992073,
                        "remaining_time": 44.65219977,
                        "test": [
                          0.9151418671,
                          24334.09147,
                          15592.21846
                        ]
                      },
                      {
                        "learn": [
                          0.9706927371,
                          13281.11341,
                          9888.477358
                        ],
                        "iteration": 325,
                        "passed_time": 21.53729361,
                        "remaining_time": 44.5280242,
                        "test": [
                          0.9151347589,
                          24335.11063,
                          15590.45154
                        ]
                      },
                      {
                        "learn": [
                          0.9707528943,
                          13267.47576,
                          9884.547534
                        ],
                        "iteration": 326,
                        "passed_time": 21.57419522,
                        "remaining_time": 44.40193696,
                        "test": [
                          0.9150690058,
                          24344.53616,
                          15590.77927
                        ]
                      },
                      {
                        "learn": [
                          0.9709120833,
                          13231.31974,
                          9849.388503
                        ],
                        "iteration": 327,
                        "passed_time": 21.60797041,
                        "remaining_time": 44.26998816,
                        "test": [
                          0.9150322344,
                          24349.80565,
                          15591.20626
                        ]
                      },
                      {
                        "learn": [
                          0.9709741904,
                          13217.18676,
                          9842.183842
                        ],
                        "iteration": 328,
                        "passed_time": 21.66807972,
                        "remaining_time": 44.19234497,
                        "test": [
                          0.915041683,
                          24348.45174,
                          15593.25562
                        ]
                      },
                      {
                        "learn": [
                          0.9710505132,
                          13199.79814,
                          9835.061062
                        ],
                        "iteration": 329,
                        "passed_time": 21.72518241,
                        "remaining_time": 44.10870367,
                        "test": [
                          0.9150218062,
                          24351.29985,
                          15597.46897
                        ]
                      },
                      {
                        "learn": [
                          0.9710941045,
                          13189.85647,
                          9828.396192
                        ],
                        "iteration": 330,
                        "passed_time": 21.75889576,
                        "remaining_time": 43.97794944,
                        "test": [
                          0.9150922976,
                          24341.19776,
                          15593.20761
                        ]
                      },
                      {
                        "learn": [
                          0.9712469632,
                          13154.93527,
                          9801.091971
                        ],
                        "iteration": 331,
                        "passed_time": 21.79010548,
                        "remaining_time": 43.84274235,
                        "test": [
                          0.9152206055,
                          24322.79926,
                          15576.19166
                        ]
                      },
                      {
                        "learn": [
                          0.971276252,
                          13148.23353,
                          9799.23269
                        ],
                        "iteration": 332,
                        "passed_time": 21.8260066,
                        "remaining_time": 43.71755677,
                        "test": [
                          0.9151424875,
                          24334.00252,
                          15579.95981
                        ]
                      },
                      {
                        "learn": [
                          0.971378541,
                          13124.80138,
                          9785.419758
                        ],
                        "iteration": 333,
                        "passed_time": 21.85827647,
                        "remaining_time": 43.58566506,
                        "test": [
                          0.9151505558,
                          24332.84565,
                          15579.29673
                        ]
                      },
                      {
                        "learn": [
                          0.9714404187,
                          13110.60622,
                          9777.991605
                        ],
                        "iteration": 334,
                        "passed_time": 21.90368967,
                        "remaining_time": 43.4804586,
                        "test": [
                          0.9151675815,
                          24330.40423,
                          15577.07631
                        ]
                      },
                      {
                        "learn": [
                          0.9714725206,
                          13103.23577,
                          9770.075432
                        ],
                        "iteration": 335,
                        "passed_time": 21.9494348,
                        "remaining_time": 43.376264,
                        "test": [
                          0.9151638256,
                          24330.94283,
                          15574.83253
                        ]
                      },
                      {
                        "learn": [
                          0.9716318075,
                          13066.60275,
                          9744.049199
                        ],
                        "iteration": 336,
                        "passed_time": 21.98746259,
                        "remaining_time": 43.25723353,
                        "test": [
                          0.9152445494,
                          24319.36432,
                          15571.13293
                        ]
                      },
                      {
                        "learn": [
                          0.9717728673,
                          13034.07567,
                          9714.911059
                        ],
                        "iteration": 337,
                        "passed_time": 22.0294604,
                        "remaining_time": 43.14645795,
                        "test": [
                          0.9153845866,
                          24299.26517,
                          15562.75853
                        ]
                      },
                      {
                        "learn": [
                          0.9719504117,
                          12993.01981,
                          9683.803531
                        ],
                        "iteration": 338,
                        "passed_time": 22.06304343,
                        "remaining_time": 43.01968056,
                        "test": [
                          0.9155381388,
                          24277.20714,
                          15549.3486
                        ]
                      },
                      {
                        "learn": [
                          0.9720392324,
                          12972.43192,
                          9674.391651
                        ],
                        "iteration": 339,
                        "passed_time": 22.09690298,
                        "remaining_time": 42.89398815,
                        "test": [
                          0.9155376253,
                          24277.28094,
                          15545.33717
                        ]
                      },
                      {
                        "learn": [
                          0.97206258,
                          12967.01471,
                          9669.010542
                        ],
                        "iteration": 340,
                        "passed_time": 22.13398491,
                        "remaining_time": 42.77506175,
                        "test": [
                          0.9155439797,
                          24276.36769,
                          15544.59349
                        ]
                      },
                      {
                        "learn": [
                          0.9721410572,
                          12948.78951,
                          9660.28272
                        ],
                        "iteration": 341,
                        "passed_time": 22.16972098,
                        "remaining_time": 42.65402457,
                        "test": [
                          0.9155590746,
                          24274.19813,
                          15540.87252
                        ]
                      },
                      {
                        "learn": [
                          0.9722108801,
                          12932.55253,
                          9646.832
                        ],
                        "iteration": 342,
                        "passed_time": 22.20945267,
                        "remaining_time": 42.54113821,
                        "test": [
                          0.9155199399,
                          24279.8225,
                          15537.22887
                        ]
                      },
                      {
                        "learn": [
                          0.9722442227,
                          12924.79169,
                          9640.004952
                        ],
                        "iteration": 343,
                        "passed_time": 22.24335193,
                        "remaining_time": 42.41755485,
                        "test": [
                          0.9155518394,
                          24275.23806,
                          15531.81902
                        ]
                      },
                      {
                        "learn": [
                          0.9722974519,
                          12912.39236,
                          9633.567988
                        ],
                        "iteration": 344,
                        "passed_time": 22.28668323,
                        "remaining_time": 42.3123986,
                        "test": [
                          0.9155281876,
                          24278.63726,
                          15530.47561
                        ]
                      },
                      {
                        "learn": [
                          0.9723499521,
                          12900.15115,
                          9624.879907
                        ],
                        "iteration": 345,
                        "passed_time": 22.35068492,
                        "remaining_time": 42.24667034,
                        "test": [
                          0.9154902082,
                          24284.0946,
                          15536.50841
                        ]
                      },
                      {
                        "learn": [
                          0.9723777562,
                          12893.66351,
                          9620.618725
                        ],
                        "iteration": 346,
                        "passed_time": 22.42222759,
                        "remaining_time": 42.19514299,
                        "test": [
                          0.9154999681,
                          24282.69231,
                          15536.03093
                        ]
                      },
                      {
                        "learn": [
                          0.9724922173,
                          12866.92139,
                          9601.797598
                        ],
                        "iteration": 347,
                        "passed_time": 22.48709429,
                        "remaining_time": 42.13099276,
                        "test": [
                          0.9155496277,
                          24275.55593,
                          15530.13725
                        ]
                      },
                      {
                        "learn": [
                          0.9725367038,
                          12856.51277,
                          9597.644347
                        ],
                        "iteration": 348,
                        "passed_time": 22.54836668,
                        "remaining_time": 42.06013384,
                        "test": [
                          0.9155526809,
                          24275.11711,
                          15532.05229
                        ]
                      },
                      {
                        "learn": [
                          0.9725481063,
                          12853.84355,
                          9594.536318
                        ],
                        "iteration": 349,
                        "passed_time": 22.62068187,
                        "remaining_time": 42.00983776,
                        "test": [
                          0.9155726495,
                          24272.24686,
                          15531.33916
                        ]
                      },
                      {
                        "learn": [
                          0.9726346114,
                          12833.57536,
                          9581.432526
                        ],
                        "iteration": 350,
                        "passed_time": 22.71959041,
                        "remaining_time": 42.0085874,
                        "test": [
                          0.9155688452,
                          24272.79371,
                          15525.8525
                        ]
                      },
                      {
                        "learn": [
                          0.9727290832,
                          12811.40394,
                          9564.789321
                        ],
                        "iteration": 351,
                        "passed_time": 22.79697233,
                        "remaining_time": 41.96715361,
                        "test": [
                          0.9156475666,
                          24261.47541,
                          15523.74646
                        ]
                      },
                      {
                        "learn": [
                          0.9728866219,
                          12774.34587,
                          9530.902694
                        ],
                        "iteration": 352,
                        "passed_time": 22.86470983,
                        "remaining_time": 41.90783926,
                        "test": [
                          0.9156597683,
                          24259.72062,
                          15518.46847
                        ]
                      },
                      {
                        "learn": [
                          0.9729324042,
                          12763.55625,
                          9521.162309
                        ],
                        "iteration": 353,
                        "passed_time": 22.91037824,
                        "remaining_time": 41.80820435,
                        "test": [
                          0.9156963021,
                          24254.46575,
                          15511.30813
                        ]
                      },
                      {
                        "learn": [
                          0.9729873011,
                          12750.60652,
                          9516.261731
                        ],
                        "iteration": 354,
                        "passed_time": 22.95481357,
                        "remaining_time": 41.7066331,
                        "test": [
                          0.915739768,
                          24248.21229,
                          15509.52835
                        ]
                      },
                      {
                        "learn": [
                          0.9729979524,
                          12748.09247,
                          9514.676191
                        ],
                        "iteration": 355,
                        "passed_time": 22.98784257,
                        "remaining_time": 41.58474892,
                        "test": [
                          0.9157529295,
                          24246.31842,
                          15506.90172
                        ]
                      },
                      {
                        "learn": [
                          0.973096414,
                          12724.8286,
                          9495.729026
                        ],
                        "iteration": 356,
                        "passed_time": 23.02735343,
                        "remaining_time": 41.47503713,
                        "test": [
                          0.9158492813,
                          24232.44942,
                          15491.49977
                        ]
                      },
                      {
                        "learn": [
                          0.9731132615,
                          12720.84371,
                          9493.111514
                        ],
                        "iteration": 357,
                        "passed_time": 23.06404528,
                        "remaining_time": 41.36066221,
                        "test": [
                          0.9158451143,
                          24233.0494,
                          15489.56966
                        ]
                      },
                      {
                        "learn": [
                          0.9732131369,
                          12697.19485,
                          9478.974003
                        ],
                        "iteration": 358,
                        "passed_time": 23.09433866,
                        "remaining_time": 41.23529549,
                        "test": [
                          0.9158327011,
                          24234.83657,
                          15490.18098
                        ]
                      },
                      {
                        "learn": [
                          0.9732275676,
                          12693.77424,
                          9475.817488
                        ],
                        "iteration": 359,
                        "passed_time": 23.1316587,
                        "remaining_time": 41.1229488,
                        "test": [
                          0.9158331148,
                          24234.777,
                          15490.34795
                        ]
                      },
                      {
                        "learn": [
                          0.9733796167,
                          12657.67697,
                          9446.836527
                        ],
                        "iteration": 360,
                        "passed_time": 23.16669713,
                        "remaining_time": 41.00697913,
                        "test": [
                          0.9158145305,
                          24237.45241,
                          15497.99596
                        ]
                      },
                      {
                        "learn": [
                          0.9735427222,
                          12618.84,
                          9418.727469
                        ],
                        "iteration": 361,
                        "passed_time": 23.19871532,
                        "remaining_time": 40.88613362,
                        "test": [
                          0.9159109605,
                          24223.56707,
                          15489.703
                        ]
                      },
                      {
                        "learn": [
                          0.9735584413,
                          12615.09083,
                          9414.415697
                        ],
                        "iteration": 362,
                        "passed_time": 23.23811309,
                        "remaining_time": 40.77872738,
                        "test": [
                          0.9159272667,
                          24221.21829,
                          15486.26434
                        ]
                      },
                      {
                        "learn": [
                          0.9736368723,
                          12596.36748,
                          9401.568185
                        ],
                        "iteration": 363,
                        "passed_time": 23.27437029,
                        "remaining_time": 40.66620744,
                        "test": [
                          0.9159641239,
                          24215.90847,
                          15476.91344
                        ]
                      },
                      {
                        "learn": [
                          0.9737774783,
                          12562.73163,
                          9372.703807
                        ],
                        "iteration": 364,
                        "passed_time": 23.30363187,
                        "remaining_time": 40.5419349,
                        "test": [
                          0.9160999211,
                          24196.33479,
                          15453.77957
                        ]
                      },
                      {
                        "learn": [
                          0.9738735774,
                          12539.69084,
                          9358.715863
                        ],
                        "iteration": 365,
                        "passed_time": 23.34045546,
                        "remaining_time": 40.43128076,
                        "test": [
                          0.9161950084,
                          24182.61956,
                          15451.22217
                        ]
                      },
                      {
                        "learn": [
                          0.9738764779,
                          12538.99474,
                          9358.273823
                        ],
                        "iteration": 366,
                        "passed_time": 23.377127,
                        "remaining_time": 40.32076673,
                        "test": [
                          0.916194947,
                          24182.62842,
                          15450.80883
                        ]
                      },
                      {
                        "learn": [
                          0.9738905075,
                          12535.62727,
                          9355.19205
                        ],
                        "iteration": 367,
                        "passed_time": 23.41714749,
                        "remaining_time": 40.21640547,
                        "test": [
                          0.91619221,
                          24183.02332,
                          15451.27185
                        ]
                      },
                      {
                        "learn": [
                          0.9739165885,
                          12529.36473,
                          9351.012629
                        ],
                        "iteration": 368,
                        "passed_time": 23.45432431,
                        "remaining_time": 40.10753019,
                        "test": [
                          0.9161809572,
                          24184.64677,
                          15452.11945
                        ]
                      },
                      {
                        "learn": [
                          0.9739201299,
                          12528.51415,
                          9350.236139
                        ],
                        "iteration": 369,
                        "passed_time": 23.50571815,
                        "remaining_time": 40.02324982,
                        "test": [
                          0.91618552,
                          24183.98851,
                          15450.92233
                        ]
                      },
                      {
                        "learn": [
                          0.9739276982,
                          12526.69613,
                          9348.097907
                        ],
                        "iteration": 370,
                        "passed_time": 23.54365324,
                        "remaining_time": 39.91632854,
                        "test": [
                          0.9161844352,
                          24184.14501,
                          15450.9244
                        ]
                      },
                      {
                        "learn": [
                          0.9739339647,
                          12525.19064,
                          9346.551544
                        ],
                        "iteration": 371,
                        "passed_time": 23.58026871,
                        "remaining_time": 39.8075504,
                        "test": [
                          0.9161785215,
                          24184.99817,
                          15451.24984
                        ]
                      },
                      {
                        "learn": [
                          0.9740181076,
                          12504.95821,
                          9330.888695
                        ],
                        "iteration": 372,
                        "passed_time": 23.6130216,
                        "remaining_time": 39.69266633,
                        "test": [
                          0.9162488798,
                          24174.8458,
                          15446.23019
                        ]
                      },
                      {
                        "learn": [
                          0.9740421144,
                          12499.17971,
                          9326.336117
                        ],
                        "iteration": 373,
                        "passed_time": 23.64464968,
                        "remaining_time": 39.57633878,
                        "test": [
                          0.9162749873,
                          24171.07753,
                          15440.81153
                        ]
                      },
                      {
                        "learn": [
                          0.9742124707,
                          12458.09742,
                          9298.818129
                        ],
                        "iteration": 374,
                        "passed_time": 23.67635966,
                        "remaining_time": 39.46059943,
                        "test": [
                          0.9162824166,
                          24170.0051,
                          15439.15089
                        ]
                      },
                      {
                        "learn": [
                          0.9742541099,
                          12448.03528,
                          9293.881512
                        ],
                        "iteration": 375,
                        "passed_time": 23.70639684,
                        "remaining_time": 39.34253092,
                        "test": [
                          0.9162601016,
                          24173.22616,
                          15438.88231
                        ]
                      },
                      {
                        "learn": [
                          0.9743251303,
                          12430.85438,
                          9279.003094
                        ],
                        "iteration": 376,
                        "passed_time": 23.78543423,
                        "remaining_time": 39.30590325,
                        "test": [
                          0.9162815746,
                          24170.12665,
                          15438.53504
                        ]
                      },
                      {
                        "learn": [
                          0.9743663928,
                          12420.86146,
                          9276.341634
                        ],
                        "iteration": 377,
                        "passed_time": 23.82403626,
                        "remaining_time": 39.20251469,
                        "test": [
                          0.9161627069,
                          24187.27955,
                          15442.13393
                        ]
                      },
                      {
                        "learn": [
                          0.9743984644,
                          12413.08882,
                          9269.884827
                        ],
                        "iteration": 378,
                        "passed_time": 23.85904425,
                        "remaining_time": 39.0935791,
                        "test": [
                          0.91616371,
                          24187.13485,
                          15440.11333
                        ]
                      },
                      {
                        "learn": [
                          0.9744082466,
                          12410.71711,
                          9268.478888
                        ],
                        "iteration": 379,
                        "passed_time": 23.89380081,
                        "remaining_time": 38.98462237,
                        "test": [
                          0.9161715192,
                          24186.00833,
                          15441.68949
                        ]
                      },
                      {
                        "learn": [
                          0.9744639596,
                          12397.20075,
                          9253.740206
                        ],
                        "iteration": 380,
                        "passed_time": 23.93162842,
                        "remaining_time": 38.8810446,
                        "test": [
                          0.9161804061,
                          24184.72628,
                          15432.72803
                        ]
                      },
                      {
                        "learn": [
                          0.9744862432,
                          12391.79045,
                          9249.976736
                        ],
                        "iteration": 381,
                        "passed_time": 23.97072031,
                        "remaining_time": 38.77985642,
                        "test": [
                          0.9161803595,
                          24184.733,
                          15432.62799
                        ]
                      },
                      {
                        "learn": [
                          0.9744942045,
                          12389.85694,
                          9247.519245
                        ],
                        "iteration": 382,
                        "passed_time": 24.01822917,
                        "remaining_time": 38.69255195,
                        "test": [
                          0.916172953,
                          24185.80149,
                          15433.52861
                        ]
                      },
                      {
                        "learn": [
                          0.9745315532,
                          12380.78226,
                          9240.743902
                        ],
                        "iteration": 383,
                        "passed_time": 24.05517658,
                        "remaining_time": 38.58851243,
                        "test": [
                          0.9161843926,
                          24184.15116,
                          15431.79693
                        ]
                      },
                      {
                        "learn": [
                          0.974632835,
                          12356.14005,
                          9223.634033
                        ],
                        "iteration": 384,
                        "passed_time": 24.09010848,
                        "remaining_time": 38.48160186,
                        "test": [
                          0.9162824012,
                          24170.00731,
                          15422.35468
                        ]
                      },
                      {
                        "learn": [
                          0.9746808646,
                          12344.43709,
                          9215.027733
                        ],
                        "iteration": 385,
                        "passed_time": 24.12277123,
                        "remaining_time": 38.37145475,
                        "test": [
                          0.9162768475,
                          24170.80901,
                          15415.97775
                        ]
                      },
                      {
                        "learn": [
                          0.9747415561,
                          12329.63303,
                          9198.682604
                        ],
                        "iteration": 386,
                        "passed_time": 24.16199186,
                        "remaining_time": 38.27209563,
                        "test": [
                          0.9162677115,
                          24172.12775,
                          15419.62222
                        ]
                      },
                      {
                        "learn": [
                          0.9748329744,
                          12307.30039,
                          9181.596419
                        ],
                        "iteration": 387,
                        "passed_time": 24.20187209,
                        "remaining_time": 38.17408691,
                        "test": [
                          0.916282722,
                          24169.96101,
                          15410.5482
                        ]
                      },
                      {
                        "learn": [
                          0.9748478134,
                          12303.67154,
                          9177.6824
                        ],
                        "iteration": 388,
                        "passed_time": 24.23799998,
                        "remaining_time": 38.07048327,
                        "test": [
                          0.9162859224,
                          24169.49902,
                          15410.05305
                        ]
                      },
                      {
                        "learn": [
                          0.974862264,
                          12300.13663,
                          9176.01867
                        ],
                        "iteration": 389,
                        "passed_time": 24.2789636,
                        "remaining_time": 37.97478922,
                        "test": [
                          0.9163026614,
                          24167.0825,
                          15408.16248
                        ]
                      },
                      {
                        "learn": [
                          0.9749298069,
                          12283.60081,
                          9164.941773
                        ],
                        "iteration": 390,
                        "passed_time": 24.31480447,
                        "remaining_time": 37.87139622,
                        "test": [
                          0.9163196474,
                          24164.63007,
                          15406.3242
                        ]
                      },
                      {
                        "learn": [
                          0.975007849,
                          12264.46685,
                          9148.396633
                        ],
                        "iteration": 391,
                        "passed_time": 24.34751792,
                        "remaining_time": 37.76349718,
                        "test": [
                          0.9162615747,
                          24173.01353,
                          15403.42174
                        ]
                      },
                      {
                        "learn": [
                          0.9751027626,
                          12241.15607,
                          9130.80622
                        ],
                        "iteration": 392,
                        "passed_time": 24.39736919,
                        "remaining_time": 37.68245063,
                        "test": [
                          0.9163275356,
                          24163.49109,
                          15395.4176
                        ]
                      },
                      {
                        "learn": [
                          0.9751163272,
                          12237.82099,
                          9128.735834
                        ],
                        "iteration": 393,
                        "passed_time": 24.43453628,
                        "remaining_time": 37.58205326,
                        "test": [
                          0.9163667998,
                          24157.82095,
                          15392.55423
                        ]
                      },
                      {
                        "learn": [
                          0.9751886223,
                          12220.03065,
                          9112.726706
                        ],
                        "iteration": 394,
                        "passed_time": 24.47070964,
                        "remaining_time": 37.48045401,
                        "test": [
                          0.916392566,
                          24154.09931,
                          15393.62999
                        ]
                      },
                      {
                        "learn": [
                          0.9752012801,
                          12216.91317,
                          9109.906527
                        ],
                        "iteration": 395,
                        "passed_time": 24.51324831,
                        "remaining_time": 37.38889389,
                        "test": [
                          0.9164373912,
                          24147.62347,
                          15391.0965
                        ]
                      },
                      {
                        "learn": [
                          0.9752548404,
                          12203.71297,
                          9101.453065
                        ],
                        "iteration": 396,
                        "passed_time": 24.54609543,
                        "remaining_time": 37.28286032,
                        "test": [
                          0.9164256576,
                          24149.31878,
                          15388.33207
                        ]
                      },
                      {
                        "learn": [
                          0.9752899481,
                          12195.05278,
                          9096.226947
                        ],
                        "iteration": 397,
                        "passed_time": 24.58109943,
                        "remaining_time": 37.18045692,
                        "test": [
                          0.9164804503,
                          24141.40113,
                          15383.51907
                        ]
                      },
                      {
                        "learn": [
                          0.9753063701,
                          12190.99976,
                          9092.336221
                        ],
                        "iteration": 398,
                        "passed_time": 24.61548697,
                        "remaining_time": 37.07746283,
                        "test": [
                          0.9164905302,
                          24139.94428,
                          15384.52747
                        ]
                      },
                      {
                        "learn": [
                          0.9754329396,
                          12159.71656,
                          9074.70795
                        ],
                        "iteration": 399,
                        "passed_time": 24.64815363,
                        "remaining_time": 36.97223045,
                        "test": [
                          0.9164732711,
                          24142.43869,
                          15386.27312
                        ]
                      },
                      {
                        "learn": [
                          0.9754432829,
                          12157.15654,
                          9073.335176
                        ],
                        "iteration": 400,
                        "passed_time": 24.68287502,
                        "remaining_time": 36.87042928,
                        "test": [
                          0.9164805443,
                          24141.38755,
                          15384.02169
                        ]
                      },
                      {
                        "learn": [
                          0.9755091093,
                          12140.85146,
                          9060.487715
                        ],
                        "iteration": 401,
                        "passed_time": 24.71454131,
                        "remaining_time": 36.76441717,
                        "test": [
                          0.9164577866,
                          24144.67639,
                          15388.03119
                        ]
                      },
                      {
                        "learn": [
                          0.9755482334,
                          12131.1501,
                          9054.239802
                        ],
                        "iteration": 402,
                        "passed_time": 24.76722406,
                        "remaining_time": 36.6899076,
                        "test": [
                          0.9164396618,
                          24147.29539,
                          15388.03833
                        ]
                      },
                      {
                        "learn": [
                          0.9755825438,
                          12122.63596,
                          9050.964941
                        ],
                        "iteration": 403,
                        "passed_time": 24.8250737,
                        "remaining_time": 36.62312853,
                        "test": [
                          0.9164783135,
                          24141.70995,
                          15388.76377
                        ]
                      },
                      {
                        "learn": [
                          0.9756697598,
                          12100.96635,
                          9040.511266
                        ],
                        "iteration": 404,
                        "passed_time": 24.86231676,
                        "remaining_time": 36.52611968,
                        "test": [
                          0.9165004815,
                          24138.50594,
                          15385.88928
                        ]
                      },
                      {
                        "learn": [
                          0.9757453515,
                          12082.15347,
                          9030.337658
                        ],
                        "iteration": 405,
                        "passed_time": 24.89547435,
                        "remaining_time": 36.42342799,
                        "test": [
                          0.9165222521,
                          24135.35895,
                          15386.53005
                        ]
                      },
                      {
                        "learn": [
                          0.9758284888,
                          12061.42877,
                          9016.179428
                        ],
                        "iteration": 406,
                        "passed_time": 24.93260221,
                        "remaining_time": 36.32686268,
                        "test": [
                          0.9166723639,
                          24113.64878,
                          15380.92339
                        ]
                      },
                      {
                        "learn": [
                          0.9758607294,
                          12053.38218,
                          9009.254397
                        ],
                        "iteration": 407,
                        "passed_time": 24.96486841,
                        "remaining_time": 36.22353455,
                        "test": [
                          0.9167063507,
                          24108.73067,
                          15377.38395
                        ]
                      },
                      {
                        "learn": [
                          0.975971298,
                          12025.74556,
                          8990.79093
                        ],
                        "iteration": 408,
                        "passed_time": 25.00307235,
                        "remaining_time": 36.12913388,
                        "test": [
                          0.9167086646,
                          24108.39579,
                          15376.10101
                        ]
                      },
                      {
                        "learn": [
                          0.9759793132,
                          12023.73971,
                          8989.384851
                        ],
                        "iteration": 409,
                        "passed_time": 25.04905188,
                        "remaining_time": 36.04619661,
                        "test": [
                          0.9167164501,
                          24107.26903,
                          15373.47558
                        ]
                      },
                      {
                        "learn": [
                          0.9760254048,
                          12012.1984,
                          8979.407251
                        ],
                        "iteration": 410,
                        "passed_time": 25.08513245,
                        "remaining_time": 35.94925307,
                        "test": [
                          0.9167527213,
                          24102.01893,
                          15368.54939
                        ]
                      },
                      {
                        "learn": [
                          0.9760342664,
                          12009.97819,
                          8978.287403
                        ],
                        "iteration": 411,
                        "passed_time": 25.11959688,
                        "remaining_time": 35.85029846,
                        "test": [
                          0.9167479625,
                          24102.7078,
                          15368.37187
                        ]
                      },
                      {
                        "learn": [
                          0.9760696936,
                          12001.09807,
                          8973.665271
                        ],
                        "iteration": 412,
                        "passed_time": 25.14869415,
                        "remaining_time": 35.74402776,
                        "test": [
                          0.9167258657,
                          24105.90626,
                          15367.51481
                        ]
                      },
                      {
                        "learn": [
                          0.9761534936,
                          11980.06672,
                          8960.848305
                        ],
                        "iteration": 413,
                        "passed_time": 25.18655617,
                        "remaining_time": 35.65053603,
                        "test": [
                          0.9168008019,
                          24095.05769,
                          15364.76825
                        ]
                      },
                      {
                        "learn": [
                          0.9762032871,
                          11967.55249,
                          8950.733271
                        ],
                        "iteration": 414,
                        "passed_time": 25.22066884,
                        "remaining_time": 35.55202717,
                        "test": [
                          0.9167597687,
                          24100.99871,
                          15361.75022
                        ]
                      },
                      {
                        "learn": [
                          0.9762140778,
                          11964.83882,
                          8948.583883
                        ],
                        "iteration": 415,
                        "passed_time": 25.25708362,
                        "remaining_time": 35.4570597,
                        "test": [
                          0.9167657671,
                          24100.13032,
                          15360.00704
                        ]
                      },
                      {
                        "learn": [
                          0.9763224829,
                          11937.54261,
                          8930.436136
                        ],
                        "iteration": 416,
                        "passed_time": 25.29115637,
                        "remaining_time": 35.35909872,
                        "test": [
                          0.9168644528,
                          24085.83906,
                          15352.04675
                        ]
                      },
                      {
                        "learn": [
                          0.9763287448,
                          11935.96397,
                          8928.667197
                        ],
                        "iteration": 417,
                        "passed_time": 25.32704607,
                        "remaining_time": 35.26397324,
                        "test": [
                          0.9168680552,
                          24085.31721,
                          15350.89929
                        ]
                      },
                      {
                        "learn": [
                          0.9763848794,
                          11921.80295,
                          8919.932821
                        ],
                        "iteration": 418,
                        "passed_time": 25.36394122,
                        "remaining_time": 35.17052469,
                        "test": [
                          0.9168987212,
                          24080.87447,
                          15346.78512
                        ]
                      },
                      {
                        "learn": [
                          0.9763875732,
                          11921.12295,
                          8919.087599
                        ],
                        "iteration": 419,
                        "passed_time": 25.41084133,
                        "remaining_time": 35.09116183,
                        "test": [
                          0.9168985699,
                          24080.89639,
                          15346.78399
                        ]
                      },
                      {
                        "learn": [
                          0.9764418957,
                          11907.40226,
                          8909.765759
                        ],
                        "iteration": 420,
                        "passed_time": 25.44677446,
                        "remaining_time": 34.99687034,
                        "test": [
                          0.9169611478,
                          24071.82786,
                          15342.54291
                        ]
                      },
                      {
                        "learn": [
                          0.9764669681,
                          11901.06418,
                          8906.674138
                        ],
                        "iteration": 421,
                        "passed_time": 25.47615223,
                        "remaining_time": 34.89387675,
                        "test": [
                          0.9169653071,
                          24071.22498,
                          15342.01282
                        ]
                      },
                      {
                        "learn": [
                          0.9764759777,
                          11898.7858,
                          8903.840658
                        ],
                        "iteration": 422,
                        "passed_time": 25.5142182,
                        "remaining_time": 34.8030825,
                        "test": [
                          0.9169709405,
                          24070.40843,
                          15342.10254
                        ]
                      },
                      {
                        "learn": [
                          0.9765605759,
                          11877.37103,
                          8886.844503
                        ],
                        "iteration": 423,
                        "passed_time": 25.54780012,
                        "remaining_time": 34.70644545,
                        "test": [
                          0.9170392779,
                          24060.50077,
                          15339.70295
                        ]
                      },
                      {
                        "learn": [
                          0.9766593548,
                          11852.31768,
                          8868.853837
                        ],
                        "iteration": 424,
                        "passed_time": 25.58092252,
                        "remaining_time": 34.60948341,
                        "test": [
                          0.9170709443,
                          24055.90835,
                          15331.13178
                        ]
                      },
                      {
                        "learn": [
                          0.9767484455,
                          11829.67605,
                          8849.948765
                        ],
                        "iteration": 425,
                        "passed_time": 25.60956137,
                        "remaining_time": 34.50677987,
                        "test": [
                          0.9170206384,
                          24063.20356,
                          15332.10728
                        ]
                      },
                      {
                        "learn": [
                          0.9767562651,
                          11827.68669,
                          8849.23631
                        ],
                        "iteration": 426,
                        "passed_time": 25.64078963,
                        "remaining_time": 34.40789802,
                        "test": [
                          0.9170325486,
                          24061.47657,
                          15329.27088
                        ]
                      },
                      {
                        "learn": [
                          0.9768769604,
                          11796.93855,
                          8825.948758
                        ],
                        "iteration": 427,
                        "passed_time": 25.67456747,
                        "remaining_time": 34.3127397,
                        "test": [
                          0.9170893373,
                          24053.24048,
                          15319.76882
                        ]
                      },
                      {
                        "learn": [
                          0.9769805482,
                          11770.48461,
                          8801.759635
                        ],
                        "iteration": 428,
                        "passed_time": 25.7071495,
                        "remaining_time": 34.21627591,
                        "test": [
                          0.9171120003,
                          24049.95288,
                          15309.46942
                        ]
                      },
                      {
                        "learn": [
                          0.9769956305,
                          11766.62797,
                          8799.120448
                        ],
                        "iteration": 429,
                        "passed_time": 25.74210602,
                        "remaining_time": 34.12325681,
                        "test": [
                          0.9171077652,
                          24050.56728,
                          15309.24656
                        ]
                      },
                      {
                        "learn": [
                          0.9770292421,
                          11758.02874,
                          8795.088741
                        ],
                        "iteration": 430,
                        "passed_time": 25.79165324,
                        "remaining_time": 34.04976959,
                        "test": [
                          0.9170815219,
                          24054.37413,
                          15311.36981
                        ]
                      },
                      {
                        "learn": [
                          0.9771014882,
                          11739.52391,
                          8777.105043
                        ],
                        "iteration": 431,
                        "passed_time": 25.84744941,
                        "remaining_time": 33.9846094,
                        "test": [
                          0.917052675,
                          24058.55796,
                          15309.68298
                        ]
                      },
                      {
                        "learn": [
                          0.9771590852,
                          11724.7503,
                          8767.53835
                        ],
                        "iteration": 432,
                        "passed_time": 25.88431571,
                        "remaining_time": 33.89470441,
                        "test": [
                          0.9170606862,
                          24057.39613,
                          15308.4515
                        ]
                      },
                      {
                        "learn": [
                          0.977203411,
                          11713.36806,
                          8759.773686
                        ],
                        "iteration": 433,
                        "passed_time": 25.92020888,
                        "remaining_time": 33.80377471,
                        "test": [
                          0.917031685,
                          24061.6018,
                          15313.54434
                        ]
                      },
                      {
                        "learn": [
                          0.9772369155,
                          11704.75724,
                          8754.413633
                        ],
                        "iteration": 434,
                        "passed_time": 25.9568107,
                        "remaining_time": 33.7140185,
                        "test": [
                          0.9170768592,
                          24055.05044,
                          15306.9689
                        ]
                      },
                      {
                        "learn": [
                          0.9773072468,
                          11686.66111,
                          8740.830278
                        ],
                        "iteration": 435,
                        "passed_time": 25.99184399,
                        "remaining_time": 33.62247709,
                        "test": [
                          0.9170617154,
                          24057.24686,
                          15305.6483
                        ]
                      },
                      {
                        "learn": [
                          0.9773518417,
                          11675.17237,
                          8735.958149
                        ],
                        "iteration": 436,
                        "passed_time": 26.02643983,
                        "remaining_time": 33.53063072,
                        "test": [
                          0.9170644741,
                          24056.84675,
                          15300.19112
                        ]
                      },
                      {
                        "learn": [
                          0.9774058974,
                          11661.23113,
                          8726.351678
                        ],
                        "iteration": 437,
                        "passed_time": 26.07591326,
                        "remaining_time": 33.45813528,
                        "test": [
                          0.9170896106,
                          24053.20085,
                          15299.44901
                        ]
                      },
                      {
                        "learn": [
                          0.9775132219,
                          11633.5021,
                          8708.504195
                        ],
                        "iteration": 438,
                        "passed_time": 26.10655996,
                        "remaining_time": 33.36168596,
                        "test": [
                          0.9171915769,
                          24038.40553,
                          15292.51581
                        ]
                      },
                      {
                        "learn": [
                          0.9775306995,
                          11628.98021,
                          8704.28183
                        ],
                        "iteration": 439,
                        "passed_time": 26.14887809,
                        "remaining_time": 33.2803903,
                        "test": [
                          0.9171782909,
                          24040.33385,
                          15291.65891
                        ]
                      },
                      {
                        "learn": [
                          0.9775430465,
                          11625.78467,
                          8702.675952
                        ],
                        "iteration": 440,
                        "passed_time": 26.18669175,
                        "remaining_time": 33.19356166,
                        "test": [
                          0.9172093196,
                          24035.83014,
                          15290.34315
                        ]
                      },
                      {
                        "learn": [
                          0.9775721171,
                          11618.25745,
                          8693.844323
                        ],
                        "iteration": 441,
                        "passed_time": 26.22343701,
                        "remaining_time": 33.105606,
                        "test": [
                          0.9172274635,
                          24033.19622,
                          15286.88016
                        ]
                      },
                      {
                        "learn": [
                          0.9776072678,
                          11609.14936,
                          8687.524876
                        ],
                        "iteration": 442,
                        "passed_time": 26.25880802,
                        "remaining_time": 33.01615365,
                        "test": [
                          0.9172415076,
                          24031.15726,
                          15285.78022
                        ]
                      },
                      {
                        "learn": [
                          0.9777025209,
                          11584.43182,
                          8665.770054
                        ],
                        "iteration": 443,
                        "passed_time": 26.28670526,
                        "remaining_time": 32.91758587,
                        "test": [
                          0.9172982275,
                          24022.92078,
                          15277.07866
                        ]
                      },
                      {
                        "learn": [
                          0.9777356577,
                          11575.82067,
                          8657.635418
                        ],
                        "iteration": 444,
                        "passed_time": 26.32278065,
                        "remaining_time": 32.82953542,
                        "test": [
                          0.9172873982,
                          24024.49355,
                          15273.62934
                        ]
                      },
                      {
                        "learn": [
                          0.977738589,
                          11575.05862,
                          8656.360741
                        ],
                        "iteration": 445,
                        "passed_time": 26.3592929,
                        "remaining_time": 32.74226069,
                        "test": [
                          0.9172875692,
                          24024.46872,
                          15273.88878
                        ]
                      },
                      {
                        "learn": [
                          0.977742044,
                          11574.16037,
                          8656.370594
                        ],
                        "iteration": 446,
                        "passed_time": 26.3958266,
                        "remaining_time": 32.65523962,
                        "test": [
                          0.9172826986,
                          24025.17606,
                          15273.06114
                        ]
                      },
                      {
                        "learn": [
                          0.977808417,
                          11556.89045,
                          8641.272802
                        ],
                        "iteration": 447,
                        "passed_time": 26.4260744,
                        "remaining_time": 32.56069882,
                        "test": [
                          0.9172738521,
                          24026.46076,
                          15266.8413
                        ]
                      },
                      {
                        "learn": [
                          0.9778735416,
                          11539.92025,
                          8631.219869
                        ],
                        "iteration": 448,
                        "passed_time": 26.46072452,
                        "remaining_time": 32.4718468,
                        "test": [
                          0.9172940699,
                          24023.52461,
                          15264.99161
                        ]
                      },
                      {
                        "learn": [
                          0.9779608309,
                          11517.13517,
                          8618.878662
                        ],
                        "iteration": 449,
                        "passed_time": 26.49153419,
                        "remaining_time": 32.37854179,
                        "test": [
                          0.9173298451,
                          24018.32825,
                          15261.57089
                        ]
                      },
                      {
                        "learn": [
                          0.9779672203,
                          11515.46558,
                          8618.090807
                        ],
                        "iteration": 450,
                        "passed_time": 26.52689072,
                        "remaining_time": 32.2910488,
                        "test": [
                          0.9173351343,
                          24017.5599,
                          15261.19612
                        ]
                      },
                      {
                        "learn": [
                          0.9781013553,
                          11480.35912,
                          8589.958553
                        ],
                        "iteration": 451,
                        "passed_time": 26.56044552,
                        "remaining_time": 32.20160209,
                        "test": [
                          0.9172087232,
                          24035.91671,
                          15275.27115
                        ]
                      },
                      {
                        "learn": [
                          0.9781389119,
                          11470.5104,
                          8581.527937
                        ],
                        "iteration": 452,
                        "passed_time": 26.59412722,
                        "remaining_time": 32.11255539,
                        "test": [
                          0.9172270985,
                          24033.24921,
                          15275.62673
                        ]
                      },
                      {
                        "learn": [
                          0.9781815407,
                          11459.32126,
                          8574.099092
                        ],
                        "iteration": 453,
                        "passed_time": 26.62720935,
                        "remaining_time": 32.02303151,
                        "test": [
                          0.9172357441,
                          24031.99404,
                          15272.56064
                        ]
                      },
                      {
                        "learn": [
                          0.9781932628,
                          11456.24255,
                          8570.245971
                        ],
                        "iteration": 454,
                        "passed_time": 26.66281023,
                        "remaining_time": 31.93677269,
                        "test": [
                          0.91723745,
                          24031.74638,
                          15269.06374
                        ]
                      },
                      {
                        "learn": [
                          0.9782958437,
                          11429.26518,
                          8550.231591
                        ],
                        "iteration": 455,
                        "passed_time": 26.69491664,
                        "remaining_time": 31.84656722,
                        "test": [
                          0.9172832813,
                          24025.09144,
                          15262.61907
                        ]
                      },
                      {
                        "learn": [
                          0.9783283583,
                          11420.70099,
                          8543.070616
                        ],
                        "iteration": 456,
                        "passed_time": 26.7321214,
                        "remaining_time": 31.76267378,
                        "test": [
                          0.9172743117,
                          24026.39402,
                          15259.23843
                        ]
                      },
                      {
                        "learn": [
                          0.9783344032,
                          11419.10808,
                          8542.543933
                        ],
                        "iteration": 457,
                        "passed_time": 26.76755458,
                        "remaining_time": 31.67688774,
                        "test": [
                          0.9172623474,
                          24028.13137,
                          15259.90527
                        ]
                      },
                      {
                        "learn": [
                          0.9783911233,
                          11404.1508,
                          8529.633923
                        ],
                        "iteration": 458,
                        "passed_time": 26.82294657,
                        "remaining_time": 31.61484552,
                        "test": [
                          0.9172586324,
                          24028.67082,
                          15258.59701
                        ]
                      },
                      {
                        "learn": [
                          0.9783926059,
                          11403.75956,
                          8528.952139
                        ],
                        "iteration": 459,
                        "passed_time": 26.87899897,
                        "remaining_time": 31.55360748,
                        "test": [
                          0.9172594176,
                          24028.55679,
                          15258.47784
                        ]
                      },
                      {
                        "learn": [
                          0.9784991373,
                          11375.61273,
                          8510.31644
                        ],
                        "iteration": 460,
                        "passed_time": 26.90767314,
                        "remaining_time": 31.4603814,
                        "test": [
                          0.9173143482,
                          24020.57932,
                          15260.46121
                        ]
                      },
                      {
                        "learn": [
                          0.9785991991,
                          11349.11166,
                          8491.115082
                        ],
                        "iteration": 461,
                        "passed_time": 26.93566733,
                        "remaining_time": 31.36664291,
                        "test": [
                          0.9174432983,
                          24001.8417,
                          15251.60407
                        ]
                      },
                      {
                        "learn": [
                          0.9787149763,
                          11318.37097,
                          8473.933903
                        ],
                        "iteration": 462,
                        "passed_time": 26.9622696,
                        "remaining_time": 31.27157403,
                        "test": [
                          0.9174673144,
                          23998.35033,
                          15250.3329
                        ]
                      },
                      {
                        "learn": [
                          0.9787601291,
                          11306.35954,
                          8466.345963
                        ],
                        "iteration": 463,
                        "passed_time": 26.99307399,
                        "remaining_time": 31.18165443,
                        "test": [
                          0.917479179,
                          23996.62531,
                          15246.35086
                        ]
                      },
                      {
                        "learn": [
                          0.9787794402,
                          11301.21854,
                          8462.142722
                        ],
                        "iteration": 464,
                        "passed_time": 27.02871942,
                        "remaining_time": 31.0975589,
                        "test": [
                          0.9174392641,
                          24002.42813,
                          15247.83842
                        ]
                      },
                      {
                        "learn": [
                          0.9788165882,
                          11291.32245,
                          8454.918319
                        ],
                        "iteration": 465,
                        "passed_time": 27.0678009,
                        "remaining_time": 31.01760875,
                        "test": [
                          0.9174726178,
                          23997.57927,
                          15242.98522
                        ]
                      },
                      {
                        "learn": [
                          0.978838325,
                          11285.5278,
                          8448.852035
                        ],
                        "iteration": 466,
                        "passed_time": 27.11349968,
                        "remaining_time": 30.94538615,
                        "test": [
                          0.9174861793,
                          23995.60746,
                          15241.01455
                        ]
                      },
                      {
                        "learn": [
                          0.9788674279,
                          11277.76485,
                          8442.08094
                        ],
                        "iteration": 467,
                        "passed_time": 27.15150039,
                        "remaining_time": 30.86452609,
                        "test": [
                          0.9174854001,
                          23995.72076,
                          15239.96339
                        ]
                      },
                      {
                        "learn": [
                          0.9789043754,
                          11267.90171,
                          8432.484456
                        ],
                        "iteration": 468,
                        "passed_time": 27.1916924,
                        "remaining_time": 30.78632978,
                        "test": [
                          0.9174617881,
                          23999.15377,
                          15238.23198
                        ]
                      },
                      {
                        "learn": [
                          0.9789646086,
                          11251.80389,
                          8424.763939
                        ],
                        "iteration": 469,
                        "passed_time": 27.22595026,
                        "remaining_time": 30.70160348,
                        "test": [
                          0.9174879158,
                          23995.35497,
                          15236.84778
                        ]
                      },
                      {
                        "learn": [
                          0.9789971877,
                          11243.08724,
                          8421.478336
                        ],
                        "iteration": 470,
                        "passed_time": 27.25680889,
                        "remaining_time": 30.61327368,
                        "test": [
                          0.9173954069,
                          24008.80247,
                          15243.49474
                        ]
                      },
                      {
                        "learn": [
                          0.9790107662,
                          11239.45228,
                          8418.907149
                        ],
                        "iteration": 471,
                        "passed_time": 27.29256711,
                        "remaining_time": 30.53066829,
                        "test": [
                          0.917391792,
                          24009.32778,
                          15245.43189
                        ]
                      },
                      {
                        "learn": [
                          0.9790634733,
                          11225.33143,
                          8408.005256
                        ],
                        "iteration": 472,
                        "passed_time": 27.3313143,
                        "remaining_time": 30.4515912,
                        "test": [
                          0.9174339513,
                          24003.20039,
                          15239.57747
                        ]
                      },
                      {
                        "learn": [
                          0.9790684136,
                          11224.00696,
                          8407.295922
                        ],
                        "iteration": 473,
                        "passed_time": 27.36495947,
                        "remaining_time": 30.36702253,
                        "test": [
                          0.9174358171,
                          24002.92919,
                          15237.08162
                        ]
                      },
                      {
                        "learn": [
                          0.9790732878,
                          11222.70005,
                          8406.84489
                        ],
                        "iteration": 474,
                        "passed_time": 27.39845095,
                        "remaining_time": 30.28249842,
                        "test": [
                          0.9174744162,
                          23997.3178,
                          15234.18821
                        ]
                      },
                      {
                        "learn": [
                          0.9791258859,
                          11208.58738,
                          8396.833296
                        ],
                        "iteration": 475,
                        "passed_time": 27.4326864,
                        "remaining_time": 30.19900772,
                        "test": [
                          0.9174598726,
                          23999.43224,
                          15235.88315
                        ]
                      },
                      {
                        "learn": [
                          0.9791443711,
                          11203.62336,
                          8392.188637
                        ],
                        "iteration": 476,
                        "passed_time": 27.46781094,
                        "remaining_time": 30.11669837,
                        "test": [
                          0.9174711169,
                          23997.79749,
                          15236.37276
                        ]
                      },
                      {
                        "learn": [
                          0.9791505493,
                          11201.96377,
                          8390.9648
                        ],
                        "iteration": 477,
                        "passed_time": 27.50224244,
                        "remaining_time": 30.03382961,
                        "test": [
                          0.9175032085,
                          23993.13123,
                          15232.36569
                        ]
                      },
                      {
                        "learn": [
                          0.9792671058,
                          11170.60823,
                          8365.367219
                        ],
                        "iteration": 478,
                        "passed_time": 27.53727554,
                        "remaining_time": 29.95181744,
                        "test": [
                          0.9175949547,
                          23979.78591,
                          15217.08661
                        ]
                      },
                      {
                        "learn": [
                          0.9792785365,
                          11167.52846,
                          8363.18371
                        ],
                        "iteration": 479,
                        "passed_time": 27.57043522,
                        "remaining_time": 29.86797149,
                        "test": [
                          0.9175876996,
                          23980.8415,
                          15217.40398
                        ]
                      },
                      {
                        "learn": [
                          0.979351976,
                          11147.72133,
                          8348.974303
                        ],
                        "iteration": 480,
                        "passed_time": 27.59921949,
                        "remaining_time": 29.7796152,
                        "test": [
                          0.9175592947,
                          23984.97386,
                          15218.13103
                        ]
                      },
                      {
                        "learn": [
                          0.9794283473,
                          11127.08607,
                          8339.109974
                        ],
                        "iteration": 481,
                        "passed_time": 27.63363585,
                        "remaining_time": 29.69755886,
                        "test": [
                          0.9175372377,
                          23988.18224,
                          15220.47874
                        ]
                      },
                      {
                        "learn": [
                          0.9794622313,
                          11117.91845,
                          8332.085835
                        ],
                        "iteration": 482,
                        "passed_time": 27.66904267,
                        "remaining_time": 29.61675996,
                        "test": [
                          0.9175166578,
                          23991.17538,
                          15220.17153
                        ]
                      },
                      {
                        "learn": [
                          0.9795497434,
                          11094.20627,
                          8316.17171
                        ],
                        "iteration": 483,
                        "passed_time": 27.7024211,
                        "remaining_time": 29.53398613,
                        "test": [
                          0.9175068837,
                          23992.59678,
                          15221.48465
                        ]
                      },
                      {
                        "learn": [
                          0.9795838749,
                          11084.94427,
                          8311.326058
                        ],
                        "iteration": 484,
                        "passed_time": 27.73453985,
                        "remaining_time": 29.4500784,
                        "test": [
                          0.9174938298,
                          23994.49502,
                          15219.3338
                        ]
                      },
                      {
                        "learn": [
                          0.9796611709,
                          11063.94044,
                          8297.904611
                        ],
                        "iteration": 485,
                        "passed_time": 27.76572309,
                        "remaining_time": 29.36539438,
                        "test": [
                          0.9174730097,
                          23997.52229,
                          15221.46543
                        ]
                      },
                      {
                        "learn": [
                          0.9796676273,
                          11062.18422,
                          8296.725416
                        ],
                        "iteration": 486,
                        "passed_time": 27.79889981,
                        "remaining_time": 29.28302998,
                        "test": [
                          0.9174730031,
                          23997.52326,
                          15221.16853
                        ]
                      },
                      {
                        "learn": [
                          0.9796947808,
                          11054.79506,
                          8294.190692
                        ],
                        "iteration": 487,
                        "passed_time": 27.82650089,
                        "remaining_time": 29.19501733,
                        "test": [
                          0.9174396498,
                          24002.37206,
                          15224.76035
                        ]
                      },
                      {
                        "learn": [
                          0.9797023825,
                          11052.72557,
                          8292.994405
                        ],
                        "iteration": 488,
                        "passed_time": 27.90299065,
                        "remaining_time": 29.15833993,
                        "test": [
                          0.917447819,
                          24001.18454,
                          15222.01043
                        ]
                      },
                      {
                        "learn": [
                          0.9797434339,
                          11041.54301,
                          8281.922454
                        ],
                        "iteration": 489,
                        "passed_time": 27.93728585,
                        "remaining_time": 29.07758323,
                        "test": [
                          0.9174537182,
                          24000.32695,
                          15218.0532
                        ]
                      },
                      {
                        "learn": [
                          0.9797893523,
                          11029.02118,
                          8270.064484
                        ],
                        "iteration": 490,
                        "passed_time": 27.96949714,
                        "remaining_time": 28.99485549,
                        "test": [
                          0.9174679931,
                          23998.25166,
                          15215.06405
                        ]
                      },
                      {
                        "learn": [
                          0.9797967802,
                          11026.9943,
                          8268.886546
                        ],
                        "iteration": 491,
                        "passed_time": 28.03246634,
                        "remaining_time": 28.94409126,
                        "test": [
                          0.917476262,
                          23997.04943,
                          15213.69696
                        ]
                      },
                      {
                        "learn": [
                          0.9798339868,
                          11016.83585,
                          8260.594937
                        ],
                        "iteration": 492,
                        "passed_time": 28.0965609,
                        "remaining_time": 28.89443484,
                        "test": [
                          0.9174899598,
                          23995.05776,
                          15209.89256
                        ]
                      },
                      {
                        "learn": [
                          0.9798647994,
                          11008.41608,
                          8252.544578
                        ],
                        "iteration": 493,
                        "passed_time": 28.16540802,
                        "remaining_time": 28.84958797,
                        "test": [
                          0.917504172,
                          23992.99111,
                          15208.20605
                        ]
                      },
                      {
                        "learn": [
                          0.9798986405,
                          10999.1613,
                          8242.815206
                        ],
                        "iteration": 494,
                        "passed_time": 28.23162437,
                        "remaining_time": 28.80196022,
                        "test": [
                          0.9175541248,
                          23985.7259,
                          15203.49058
                        ]
                      },
                      {
                        "learn": [
                          0.9799857488,
                          10975.30325,
                          8227.079066
                        ],
                        "iteration": 495,
                        "passed_time": 28.28546378,
                        "remaining_time": 28.74168093,
                        "test": [
                          0.9174954318,
                          23994.26208,
                          15204.99737
                        ]
                      },
                      {
                        "learn": [
                          0.9799954706,
                          10972.63732,
                          8225.615148
                        ],
                        "iteration": 496,
                        "passed_time": 28.34248246,
                        "remaining_time": 28.68464522,
                        "test": [
                          0.9175026265,
                          23993.21586,
                          15205.32307
                        ]
                      },
                      {
                        "learn": [
                          0.9800872161,
                          10947.44685,
                          8210.338767
                        ],
                        "iteration": 497,
                        "passed_time": 28.40013807,
                        "remaining_time": 28.62825162,
                        "test": [
                          0.9175473206,
                          23986.71565,
                          15198.43744
                        ]
                      },
                      {
                        "learn": [
                          0.9801285653,
                          10936.07468,
                          8206.18716
                        ],
                        "iteration": 498,
                        "passed_time": 28.47017783,
                        "remaining_time": 28.58428676,
                        "test": [
                          0.9175761517,
                          23982.52158,
                          15196.14067
                        ]
                      }
                    ],
                    "meta": {
                      "test_sets": [
                        "test"
                      ],
                      "test_metrics": [
                        {
                          "best_value": "Max",
                          "name": "R2"
                        },
                        {
                          "best_value": "Min",
                          "name": "RMSE"
                        },
                        {
                          "best_value": "Min",
                          "name": "MAE"
                        }
                      ],
                      "learn_metrics": [
                        {
                          "best_value": "Max",
                          "name": "R2"
                        },
                        {
                          "best_value": "Min",
                          "name": "RMSE"
                        },
                        {
                          "best_value": "Min",
                          "name": "MAE"
                        }
                      ],
                      "launch_mode": "Train",
                      "parameters": "",
                      "iteration_count": 1000,
                      "learn_sets": [
                        "learn"
                      ],
                      "name": "experiment"
                    }
                  }
                }
              }
            },
            "layout": "IPY_MODEL_64c39d54ae424f51b5b1f37623543de6"
          }
        }
      }
    }
  },
  "cells": [
    {
      "cell_type": "markdown",
      "source": [
        "## Ансамбли"
      ],
      "metadata": {
        "id": "zBBTUUlLAf4Q"
      }
    },
    {
      "cell_type": "code",
      "metadata": {
        "id": "qtcjt-1Tz0mt"
      },
      "source": [
        "import pandas as pd\n",
        "import numpy as np\n",
        "\n",
        "from sklearn.model_selection import train_test_split\n",
        "from matplotlib import pyplot as plt\n",
        "\n",
        "import warnings\n",
        "warnings.filterwarnings('ignore')"
      ],
      "execution_count": null,
      "outputs": []
    },
    {
      "cell_type": "code",
      "source": [
        "!wget 'https://drive.google.com/uc?id=1UyGD0iuIsO0Q7mBn8YY6lSuCc8r5MGzH' -O train.csv"
      ],
      "metadata": {
        "colab": {
          "base_uri": "https://localhost:8080/"
        },
        "id": "Kh9qPR79PygW",
        "outputId": "50a08e08-767c-4e42-c520-49dc39158ade"
      },
      "execution_count": null,
      "outputs": [
        {
          "output_type": "stream",
          "name": "stdout",
          "text": [
            "--2024-08-26 09:26:42--  https://drive.google.com/uc?id=1UyGD0iuIsO0Q7mBn8YY6lSuCc8r5MGzH\n",
            "Resolving drive.google.com (drive.google.com)... 74.125.69.139, 74.125.69.101, 74.125.69.113, ...\n",
            "Connecting to drive.google.com (drive.google.com)|74.125.69.139|:443... connected.\n",
            "HTTP request sent, awaiting response... 303 See Other\n",
            "Location: https://drive.usercontent.google.com/download?id=1UyGD0iuIsO0Q7mBn8YY6lSuCc8r5MGzH [following]\n",
            "--2024-08-26 09:26:42--  https://drive.usercontent.google.com/download?id=1UyGD0iuIsO0Q7mBn8YY6lSuCc8r5MGzH\n",
            "Resolving drive.usercontent.google.com (drive.usercontent.google.com)... 173.194.194.132, 2607:f8b0:4001:c10::84\n",
            "Connecting to drive.usercontent.google.com (drive.usercontent.google.com)|173.194.194.132|:443... connected.\n",
            "HTTP request sent, awaiting response... 200 OK\n",
            "Length: 460676 (450K) [application/octet-stream]\n",
            "Saving to: ‘train.csv’\n",
            "\n",
            "train.csv           100%[===================>] 449.88K  --.-KB/s    in 0.004s  \n",
            "\n",
            "2024-08-26 09:26:45 (101 MB/s) - ‘train.csv’ saved [460676/460676]\n",
            "\n"
          ]
        }
      ]
    },
    {
      "cell_type": "code",
      "metadata": {
        "id": "MkYXcbMaz0m5",
        "colab": {
          "base_uri": "https://localhost:8080/",
          "height": 255
        },
        "outputId": "3f7cc35a-a7b2-4e86-ec78-ef6e76680382"
      },
      "source": [
        "data = pd.read_csv('train.csv')\n",
        "data.head()"
      ],
      "execution_count": null,
      "outputs": [
        {
          "output_type": "execute_result",
          "data": {
            "text/plain": [
              "   Id  MSSubClass MSZoning  LotFrontage  LotArea Street Alley LotShape  \\\n",
              "0   1          60       RL         65.0     8450   Pave   NaN      Reg   \n",
              "1   2          20       RL         80.0     9600   Pave   NaN      Reg   \n",
              "2   3          60       RL         68.0    11250   Pave   NaN      IR1   \n",
              "3   4          70       RL         60.0     9550   Pave   NaN      IR1   \n",
              "4   5          60       RL         84.0    14260   Pave   NaN      IR1   \n",
              "\n",
              "  LandContour Utilities  ... PoolArea PoolQC Fence MiscFeature MiscVal MoSold  \\\n",
              "0         Lvl    AllPub  ...        0    NaN   NaN         NaN       0      2   \n",
              "1         Lvl    AllPub  ...        0    NaN   NaN         NaN       0      5   \n",
              "2         Lvl    AllPub  ...        0    NaN   NaN         NaN       0      9   \n",
              "3         Lvl    AllPub  ...        0    NaN   NaN         NaN       0      2   \n",
              "4         Lvl    AllPub  ...        0    NaN   NaN         NaN       0     12   \n",
              "\n",
              "  YrSold  SaleType  SaleCondition  SalePrice  \n",
              "0   2008        WD         Normal     208500  \n",
              "1   2007        WD         Normal     181500  \n",
              "2   2008        WD         Normal     223500  \n",
              "3   2006        WD        Abnorml     140000  \n",
              "4   2008        WD         Normal     250000  \n",
              "\n",
              "[5 rows x 81 columns]"
            ],
            "text/html": [
              "\n",
              "  <div id=\"df-c277b5b7-dce5-466d-a2f9-e748f1488231\" class=\"colab-df-container\">\n",
              "    <div>\n",
              "<style scoped>\n",
              "    .dataframe tbody tr th:only-of-type {\n",
              "        vertical-align: middle;\n",
              "    }\n",
              "\n",
              "    .dataframe tbody tr th {\n",
              "        vertical-align: top;\n",
              "    }\n",
              "\n",
              "    .dataframe thead th {\n",
              "        text-align: right;\n",
              "    }\n",
              "</style>\n",
              "<table border=\"1\" class=\"dataframe\">\n",
              "  <thead>\n",
              "    <tr style=\"text-align: right;\">\n",
              "      <th></th>\n",
              "      <th>Id</th>\n",
              "      <th>MSSubClass</th>\n",
              "      <th>MSZoning</th>\n",
              "      <th>LotFrontage</th>\n",
              "      <th>LotArea</th>\n",
              "      <th>Street</th>\n",
              "      <th>Alley</th>\n",
              "      <th>LotShape</th>\n",
              "      <th>LandContour</th>\n",
              "      <th>Utilities</th>\n",
              "      <th>...</th>\n",
              "      <th>PoolArea</th>\n",
              "      <th>PoolQC</th>\n",
              "      <th>Fence</th>\n",
              "      <th>MiscFeature</th>\n",
              "      <th>MiscVal</th>\n",
              "      <th>MoSold</th>\n",
              "      <th>YrSold</th>\n",
              "      <th>SaleType</th>\n",
              "      <th>SaleCondition</th>\n",
              "      <th>SalePrice</th>\n",
              "    </tr>\n",
              "  </thead>\n",
              "  <tbody>\n",
              "    <tr>\n",
              "      <th>0</th>\n",
              "      <td>1</td>\n",
              "      <td>60</td>\n",
              "      <td>RL</td>\n",
              "      <td>65.0</td>\n",
              "      <td>8450</td>\n",
              "      <td>Pave</td>\n",
              "      <td>NaN</td>\n",
              "      <td>Reg</td>\n",
              "      <td>Lvl</td>\n",
              "      <td>AllPub</td>\n",
              "      <td>...</td>\n",
              "      <td>0</td>\n",
              "      <td>NaN</td>\n",
              "      <td>NaN</td>\n",
              "      <td>NaN</td>\n",
              "      <td>0</td>\n",
              "      <td>2</td>\n",
              "      <td>2008</td>\n",
              "      <td>WD</td>\n",
              "      <td>Normal</td>\n",
              "      <td>208500</td>\n",
              "    </tr>\n",
              "    <tr>\n",
              "      <th>1</th>\n",
              "      <td>2</td>\n",
              "      <td>20</td>\n",
              "      <td>RL</td>\n",
              "      <td>80.0</td>\n",
              "      <td>9600</td>\n",
              "      <td>Pave</td>\n",
              "      <td>NaN</td>\n",
              "      <td>Reg</td>\n",
              "      <td>Lvl</td>\n",
              "      <td>AllPub</td>\n",
              "      <td>...</td>\n",
              "      <td>0</td>\n",
              "      <td>NaN</td>\n",
              "      <td>NaN</td>\n",
              "      <td>NaN</td>\n",
              "      <td>0</td>\n",
              "      <td>5</td>\n",
              "      <td>2007</td>\n",
              "      <td>WD</td>\n",
              "      <td>Normal</td>\n",
              "      <td>181500</td>\n",
              "    </tr>\n",
              "    <tr>\n",
              "      <th>2</th>\n",
              "      <td>3</td>\n",
              "      <td>60</td>\n",
              "      <td>RL</td>\n",
              "      <td>68.0</td>\n",
              "      <td>11250</td>\n",
              "      <td>Pave</td>\n",
              "      <td>NaN</td>\n",
              "      <td>IR1</td>\n",
              "      <td>Lvl</td>\n",
              "      <td>AllPub</td>\n",
              "      <td>...</td>\n",
              "      <td>0</td>\n",
              "      <td>NaN</td>\n",
              "      <td>NaN</td>\n",
              "      <td>NaN</td>\n",
              "      <td>0</td>\n",
              "      <td>9</td>\n",
              "      <td>2008</td>\n",
              "      <td>WD</td>\n",
              "      <td>Normal</td>\n",
              "      <td>223500</td>\n",
              "    </tr>\n",
              "    <tr>\n",
              "      <th>3</th>\n",
              "      <td>4</td>\n",
              "      <td>70</td>\n",
              "      <td>RL</td>\n",
              "      <td>60.0</td>\n",
              "      <td>9550</td>\n",
              "      <td>Pave</td>\n",
              "      <td>NaN</td>\n",
              "      <td>IR1</td>\n",
              "      <td>Lvl</td>\n",
              "      <td>AllPub</td>\n",
              "      <td>...</td>\n",
              "      <td>0</td>\n",
              "      <td>NaN</td>\n",
              "      <td>NaN</td>\n",
              "      <td>NaN</td>\n",
              "      <td>0</td>\n",
              "      <td>2</td>\n",
              "      <td>2006</td>\n",
              "      <td>WD</td>\n",
              "      <td>Abnorml</td>\n",
              "      <td>140000</td>\n",
              "    </tr>\n",
              "    <tr>\n",
              "      <th>4</th>\n",
              "      <td>5</td>\n",
              "      <td>60</td>\n",
              "      <td>RL</td>\n",
              "      <td>84.0</td>\n",
              "      <td>14260</td>\n",
              "      <td>Pave</td>\n",
              "      <td>NaN</td>\n",
              "      <td>IR1</td>\n",
              "      <td>Lvl</td>\n",
              "      <td>AllPub</td>\n",
              "      <td>...</td>\n",
              "      <td>0</td>\n",
              "      <td>NaN</td>\n",
              "      <td>NaN</td>\n",
              "      <td>NaN</td>\n",
              "      <td>0</td>\n",
              "      <td>12</td>\n",
              "      <td>2008</td>\n",
              "      <td>WD</td>\n",
              "      <td>Normal</td>\n",
              "      <td>250000</td>\n",
              "    </tr>\n",
              "  </tbody>\n",
              "</table>\n",
              "<p>5 rows × 81 columns</p>\n",
              "</div>\n",
              "    <div class=\"colab-df-buttons\">\n",
              "\n",
              "  <div class=\"colab-df-container\">\n",
              "    <button class=\"colab-df-convert\" onclick=\"convertToInteractive('df-c277b5b7-dce5-466d-a2f9-e748f1488231')\"\n",
              "            title=\"Convert this dataframe to an interactive table.\"\n",
              "            style=\"display:none;\">\n",
              "\n",
              "  <svg xmlns=\"http://www.w3.org/2000/svg\" height=\"24px\" viewBox=\"0 -960 960 960\">\n",
              "    <path d=\"M120-120v-720h720v720H120Zm60-500h600v-160H180v160Zm220 220h160v-160H400v160Zm0 220h160v-160H400v160ZM180-400h160v-160H180v160Zm440 0h160v-160H620v160ZM180-180h160v-160H180v160Zm440 0h160v-160H620v160Z\"/>\n",
              "  </svg>\n",
              "    </button>\n",
              "\n",
              "  <style>\n",
              "    .colab-df-container {\n",
              "      display:flex;\n",
              "      gap: 12px;\n",
              "    }\n",
              "\n",
              "    .colab-df-convert {\n",
              "      background-color: #E8F0FE;\n",
              "      border: none;\n",
              "      border-radius: 50%;\n",
              "      cursor: pointer;\n",
              "      display: none;\n",
              "      fill: #1967D2;\n",
              "      height: 32px;\n",
              "      padding: 0 0 0 0;\n",
              "      width: 32px;\n",
              "    }\n",
              "\n",
              "    .colab-df-convert:hover {\n",
              "      background-color: #E2EBFA;\n",
              "      box-shadow: 0px 1px 2px rgba(60, 64, 67, 0.3), 0px 1px 3px 1px rgba(60, 64, 67, 0.15);\n",
              "      fill: #174EA6;\n",
              "    }\n",
              "\n",
              "    .colab-df-buttons div {\n",
              "      margin-bottom: 4px;\n",
              "    }\n",
              "\n",
              "    [theme=dark] .colab-df-convert {\n",
              "      background-color: #3B4455;\n",
              "      fill: #D2E3FC;\n",
              "    }\n",
              "\n",
              "    [theme=dark] .colab-df-convert:hover {\n",
              "      background-color: #434B5C;\n",
              "      box-shadow: 0px 1px 3px 1px rgba(0, 0, 0, 0.15);\n",
              "      filter: drop-shadow(0px 1px 2px rgba(0, 0, 0, 0.3));\n",
              "      fill: #FFFFFF;\n",
              "    }\n",
              "  </style>\n",
              "\n",
              "    <script>\n",
              "      const buttonEl =\n",
              "        document.querySelector('#df-c277b5b7-dce5-466d-a2f9-e748f1488231 button.colab-df-convert');\n",
              "      buttonEl.style.display =\n",
              "        google.colab.kernel.accessAllowed ? 'block' : 'none';\n",
              "\n",
              "      async function convertToInteractive(key) {\n",
              "        const element = document.querySelector('#df-c277b5b7-dce5-466d-a2f9-e748f1488231');\n",
              "        const dataTable =\n",
              "          await google.colab.kernel.invokeFunction('convertToInteractive',\n",
              "                                                    [key], {});\n",
              "        if (!dataTable) return;\n",
              "\n",
              "        const docLinkHtml = 'Like what you see? Visit the ' +\n",
              "          '<a target=\"_blank\" href=https://colab.research.google.com/notebooks/data_table.ipynb>data table notebook</a>'\n",
              "          + ' to learn more about interactive tables.';\n",
              "        element.innerHTML = '';\n",
              "        dataTable['output_type'] = 'display_data';\n",
              "        await google.colab.output.renderOutput(dataTable, element);\n",
              "        const docLink = document.createElement('div');\n",
              "        docLink.innerHTML = docLinkHtml;\n",
              "        element.appendChild(docLink);\n",
              "      }\n",
              "    </script>\n",
              "  </div>\n",
              "\n",
              "\n",
              "<div id=\"df-137e4e21-1317-4a00-b8c5-d7a0a1ed0e33\">\n",
              "  <button class=\"colab-df-quickchart\" onclick=\"quickchart('df-137e4e21-1317-4a00-b8c5-d7a0a1ed0e33')\"\n",
              "            title=\"Suggest charts\"\n",
              "            style=\"display:none;\">\n",
              "\n",
              "<svg xmlns=\"http://www.w3.org/2000/svg\" height=\"24px\"viewBox=\"0 0 24 24\"\n",
              "     width=\"24px\">\n",
              "    <g>\n",
              "        <path d=\"M19 3H5c-1.1 0-2 .9-2 2v14c0 1.1.9 2 2 2h14c1.1 0 2-.9 2-2V5c0-1.1-.9-2-2-2zM9 17H7v-7h2v7zm4 0h-2V7h2v10zm4 0h-2v-4h2v4z\"/>\n",
              "    </g>\n",
              "</svg>\n",
              "  </button>\n",
              "\n",
              "<style>\n",
              "  .colab-df-quickchart {\n",
              "      --bg-color: #E8F0FE;\n",
              "      --fill-color: #1967D2;\n",
              "      --hover-bg-color: #E2EBFA;\n",
              "      --hover-fill-color: #174EA6;\n",
              "      --disabled-fill-color: #AAA;\n",
              "      --disabled-bg-color: #DDD;\n",
              "  }\n",
              "\n",
              "  [theme=dark] .colab-df-quickchart {\n",
              "      --bg-color: #3B4455;\n",
              "      --fill-color: #D2E3FC;\n",
              "      --hover-bg-color: #434B5C;\n",
              "      --hover-fill-color: #FFFFFF;\n",
              "      --disabled-bg-color: #3B4455;\n",
              "      --disabled-fill-color: #666;\n",
              "  }\n",
              "\n",
              "  .colab-df-quickchart {\n",
              "    background-color: var(--bg-color);\n",
              "    border: none;\n",
              "    border-radius: 50%;\n",
              "    cursor: pointer;\n",
              "    display: none;\n",
              "    fill: var(--fill-color);\n",
              "    height: 32px;\n",
              "    padding: 0;\n",
              "    width: 32px;\n",
              "  }\n",
              "\n",
              "  .colab-df-quickchart:hover {\n",
              "    background-color: var(--hover-bg-color);\n",
              "    box-shadow: 0 1px 2px rgba(60, 64, 67, 0.3), 0 1px 3px 1px rgba(60, 64, 67, 0.15);\n",
              "    fill: var(--button-hover-fill-color);\n",
              "  }\n",
              "\n",
              "  .colab-df-quickchart-complete:disabled,\n",
              "  .colab-df-quickchart-complete:disabled:hover {\n",
              "    background-color: var(--disabled-bg-color);\n",
              "    fill: var(--disabled-fill-color);\n",
              "    box-shadow: none;\n",
              "  }\n",
              "\n",
              "  .colab-df-spinner {\n",
              "    border: 2px solid var(--fill-color);\n",
              "    border-color: transparent;\n",
              "    border-bottom-color: var(--fill-color);\n",
              "    animation:\n",
              "      spin 1s steps(1) infinite;\n",
              "  }\n",
              "\n",
              "  @keyframes spin {\n",
              "    0% {\n",
              "      border-color: transparent;\n",
              "      border-bottom-color: var(--fill-color);\n",
              "      border-left-color: var(--fill-color);\n",
              "    }\n",
              "    20% {\n",
              "      border-color: transparent;\n",
              "      border-left-color: var(--fill-color);\n",
              "      border-top-color: var(--fill-color);\n",
              "    }\n",
              "    30% {\n",
              "      border-color: transparent;\n",
              "      border-left-color: var(--fill-color);\n",
              "      border-top-color: var(--fill-color);\n",
              "      border-right-color: var(--fill-color);\n",
              "    }\n",
              "    40% {\n",
              "      border-color: transparent;\n",
              "      border-right-color: var(--fill-color);\n",
              "      border-top-color: var(--fill-color);\n",
              "    }\n",
              "    60% {\n",
              "      border-color: transparent;\n",
              "      border-right-color: var(--fill-color);\n",
              "    }\n",
              "    80% {\n",
              "      border-color: transparent;\n",
              "      border-right-color: var(--fill-color);\n",
              "      border-bottom-color: var(--fill-color);\n",
              "    }\n",
              "    90% {\n",
              "      border-color: transparent;\n",
              "      border-bottom-color: var(--fill-color);\n",
              "    }\n",
              "  }\n",
              "</style>\n",
              "\n",
              "  <script>\n",
              "    async function quickchart(key) {\n",
              "      const quickchartButtonEl =\n",
              "        document.querySelector('#' + key + ' button');\n",
              "      quickchartButtonEl.disabled = true;  // To prevent multiple clicks.\n",
              "      quickchartButtonEl.classList.add('colab-df-spinner');\n",
              "      try {\n",
              "        const charts = await google.colab.kernel.invokeFunction(\n",
              "            'suggestCharts', [key], {});\n",
              "      } catch (error) {\n",
              "        console.error('Error during call to suggestCharts:', error);\n",
              "      }\n",
              "      quickchartButtonEl.classList.remove('colab-df-spinner');\n",
              "      quickchartButtonEl.classList.add('colab-df-quickchart-complete');\n",
              "    }\n",
              "    (() => {\n",
              "      let quickchartButtonEl =\n",
              "        document.querySelector('#df-137e4e21-1317-4a00-b8c5-d7a0a1ed0e33 button');\n",
              "      quickchartButtonEl.style.display =\n",
              "        google.colab.kernel.accessAllowed ? 'block' : 'none';\n",
              "    })();\n",
              "  </script>\n",
              "</div>\n",
              "    </div>\n",
              "  </div>\n"
            ],
            "application/vnd.google.colaboratory.intrinsic+json": {
              "type": "dataframe",
              "variable_name": "data"
            }
          },
          "metadata": {},
          "execution_count": 115
        }
      ]
    },
    {
      "cell_type": "code",
      "metadata": {
        "id": "90ch1_Xqz0m9",
        "colab": {
          "base_uri": "https://localhost:8080/"
        },
        "outputId": "b808ffb5-8aad-4098-fe31-07448717cb1c"
      },
      "source": [
        "X_train, X_test, y_train, y_test = train_test_split(data.drop(columns=['SalePrice', 'Id']),\n",
        "                                                    data['SalePrice'],\n",
        "                                                    test_size=0.3,\n",
        "                                                    random_state=42)\n",
        "X_train.shape, X_test.shape"
      ],
      "execution_count": null,
      "outputs": [
        {
          "output_type": "execute_result",
          "data": {
            "text/plain": [
              "((1022, 79), (438, 79))"
            ]
          },
          "metadata": {},
          "execution_count": 116
        }
      ]
    },
    {
      "cell_type": "code",
      "source": [
        "categorials = X_train.select_dtypes('object').columns\n",
        "\n",
        "X_train[categorials] = X_train[categorials].fillna('nan')\n",
        "X_test[categorials] = X_test[categorials].fillna('nan')"
      ],
      "metadata": {
        "id": "8ezuS0G-QlLw"
      },
      "execution_count": null,
      "outputs": []
    },
    {
      "cell_type": "code",
      "metadata": {
        "id": "Ym8QnGbzz0m-"
      },
      "source": [
        "integer = X_train.select_dtypes(['int', 'float']).columns\n",
        "\n",
        "X_train[integer] = X_train[integer].fillna(-999)\n",
        "\n",
        "X_test[integer] = X_test[integer].fillna(-999)"
      ],
      "execution_count": null,
      "outputs": []
    },
    {
      "cell_type": "code",
      "metadata": {
        "id": "B0yS1rFsz0m_",
        "colab": {
          "base_uri": "https://localhost:8080/",
          "height": 255
        },
        "outputId": "3286ec1f-b848-44e8-8fe0-d06914e7b916"
      },
      "source": [
        "from sklearn.preprocessing import OneHotEncoder\n",
        "\n",
        "ohe = OneHotEncoder(sparse=False, handle_unknown='ignore')\n",
        "ohe.fit(X_train[categorials])\n",
        "\n",
        "X_train[ohe.get_feature_names_out()] = ohe.transform(X_train[categorials])\n",
        "X_test[ohe.get_feature_names_out()] = ohe.transform(X_test[categorials])\n",
        "\n",
        "X_train = X_train.drop(categorials, axis=1)\n",
        "X_test = X_test.drop(categorials, axis=1)\n",
        "\n",
        "X_train.head()"
      ],
      "execution_count": null,
      "outputs": [
        {
          "output_type": "execute_result",
          "data": {
            "text/plain": [
              "      MSSubClass  LotFrontage  LotArea  OverallQual  OverallCond  YearBuilt  \\\n",
              "135           20         80.0    10400            7            6       1970   \n",
              "1452         180         35.0     3675            5            5       2005   \n",
              "762           60         72.0     8640            7            5       2009   \n",
              "932           20         84.0    11670            9            5       2006   \n",
              "435           60         43.0    10667            7            6       1996   \n",
              "\n",
              "      YearRemodAdd  MasVnrArea  BsmtFinSF1  BsmtFinSF2  ...  SaleType_ConLw  \\\n",
              "135           1970       288.0           0           0  ...             0.0   \n",
              "1452          2005        80.0         547           0  ...             0.0   \n",
              "762           2009         0.0          24           0  ...             0.0   \n",
              "932           2006       302.0           0           0  ...             0.0   \n",
              "435           1996         0.0         385         344  ...             1.0   \n",
              "\n",
              "      SaleType_New  SaleType_Oth  SaleType_WD  SaleCondition_Abnorml  \\\n",
              "135            0.0           0.0          1.0                    0.0   \n",
              "1452           0.0           0.0          1.0                    0.0   \n",
              "762            0.0           0.0          0.0                    0.0   \n",
              "932            0.0           0.0          1.0                    0.0   \n",
              "435            0.0           0.0          0.0                    0.0   \n",
              "\n",
              "      SaleCondition_AdjLand  SaleCondition_Alloca  SaleCondition_Family  \\\n",
              "135                     0.0                   0.0                   0.0   \n",
              "1452                    0.0                   0.0                   0.0   \n",
              "762                     0.0                   0.0                   0.0   \n",
              "932                     0.0                   0.0                   0.0   \n",
              "435                     0.0                   0.0                   0.0   \n",
              "\n",
              "      SaleCondition_Normal  SaleCondition_Partial  \n",
              "135                    1.0                    0.0  \n",
              "1452                   1.0                    0.0  \n",
              "762                    1.0                    0.0  \n",
              "932                    1.0                    0.0  \n",
              "435                    1.0                    0.0  \n",
              "\n",
              "[5 rows x 298 columns]"
            ],
            "text/html": [
              "\n",
              "  <div id=\"df-a99803b1-91b6-4aa0-a9ba-7091baf08e9b\" class=\"colab-df-container\">\n",
              "    <div>\n",
              "<style scoped>\n",
              "    .dataframe tbody tr th:only-of-type {\n",
              "        vertical-align: middle;\n",
              "    }\n",
              "\n",
              "    .dataframe tbody tr th {\n",
              "        vertical-align: top;\n",
              "    }\n",
              "\n",
              "    .dataframe thead th {\n",
              "        text-align: right;\n",
              "    }\n",
              "</style>\n",
              "<table border=\"1\" class=\"dataframe\">\n",
              "  <thead>\n",
              "    <tr style=\"text-align: right;\">\n",
              "      <th></th>\n",
              "      <th>MSSubClass</th>\n",
              "      <th>LotFrontage</th>\n",
              "      <th>LotArea</th>\n",
              "      <th>OverallQual</th>\n",
              "      <th>OverallCond</th>\n",
              "      <th>YearBuilt</th>\n",
              "      <th>YearRemodAdd</th>\n",
              "      <th>MasVnrArea</th>\n",
              "      <th>BsmtFinSF1</th>\n",
              "      <th>BsmtFinSF2</th>\n",
              "      <th>...</th>\n",
              "      <th>SaleType_ConLw</th>\n",
              "      <th>SaleType_New</th>\n",
              "      <th>SaleType_Oth</th>\n",
              "      <th>SaleType_WD</th>\n",
              "      <th>SaleCondition_Abnorml</th>\n",
              "      <th>SaleCondition_AdjLand</th>\n",
              "      <th>SaleCondition_Alloca</th>\n",
              "      <th>SaleCondition_Family</th>\n",
              "      <th>SaleCondition_Normal</th>\n",
              "      <th>SaleCondition_Partial</th>\n",
              "    </tr>\n",
              "  </thead>\n",
              "  <tbody>\n",
              "    <tr>\n",
              "      <th>135</th>\n",
              "      <td>20</td>\n",
              "      <td>80.0</td>\n",
              "      <td>10400</td>\n",
              "      <td>7</td>\n",
              "      <td>6</td>\n",
              "      <td>1970</td>\n",
              "      <td>1970</td>\n",
              "      <td>288.0</td>\n",
              "      <td>0</td>\n",
              "      <td>0</td>\n",
              "      <td>...</td>\n",
              "      <td>0.0</td>\n",
              "      <td>0.0</td>\n",
              "      <td>0.0</td>\n",
              "      <td>1.0</td>\n",
              "      <td>0.0</td>\n",
              "      <td>0.0</td>\n",
              "      <td>0.0</td>\n",
              "      <td>0.0</td>\n",
              "      <td>1.0</td>\n",
              "      <td>0.0</td>\n",
              "    </tr>\n",
              "    <tr>\n",
              "      <th>1452</th>\n",
              "      <td>180</td>\n",
              "      <td>35.0</td>\n",
              "      <td>3675</td>\n",
              "      <td>5</td>\n",
              "      <td>5</td>\n",
              "      <td>2005</td>\n",
              "      <td>2005</td>\n",
              "      <td>80.0</td>\n",
              "      <td>547</td>\n",
              "      <td>0</td>\n",
              "      <td>...</td>\n",
              "      <td>0.0</td>\n",
              "      <td>0.0</td>\n",
              "      <td>0.0</td>\n",
              "      <td>1.0</td>\n",
              "      <td>0.0</td>\n",
              "      <td>0.0</td>\n",
              "      <td>0.0</td>\n",
              "      <td>0.0</td>\n",
              "      <td>1.0</td>\n",
              "      <td>0.0</td>\n",
              "    </tr>\n",
              "    <tr>\n",
              "      <th>762</th>\n",
              "      <td>60</td>\n",
              "      <td>72.0</td>\n",
              "      <td>8640</td>\n",
              "      <td>7</td>\n",
              "      <td>5</td>\n",
              "      <td>2009</td>\n",
              "      <td>2009</td>\n",
              "      <td>0.0</td>\n",
              "      <td>24</td>\n",
              "      <td>0</td>\n",
              "      <td>...</td>\n",
              "      <td>0.0</td>\n",
              "      <td>0.0</td>\n",
              "      <td>0.0</td>\n",
              "      <td>0.0</td>\n",
              "      <td>0.0</td>\n",
              "      <td>0.0</td>\n",
              "      <td>0.0</td>\n",
              "      <td>0.0</td>\n",
              "      <td>1.0</td>\n",
              "      <td>0.0</td>\n",
              "    </tr>\n",
              "    <tr>\n",
              "      <th>932</th>\n",
              "      <td>20</td>\n",
              "      <td>84.0</td>\n",
              "      <td>11670</td>\n",
              "      <td>9</td>\n",
              "      <td>5</td>\n",
              "      <td>2006</td>\n",
              "      <td>2006</td>\n",
              "      <td>302.0</td>\n",
              "      <td>0</td>\n",
              "      <td>0</td>\n",
              "      <td>...</td>\n",
              "      <td>0.0</td>\n",
              "      <td>0.0</td>\n",
              "      <td>0.0</td>\n",
              "      <td>1.0</td>\n",
              "      <td>0.0</td>\n",
              "      <td>0.0</td>\n",
              "      <td>0.0</td>\n",
              "      <td>0.0</td>\n",
              "      <td>1.0</td>\n",
              "      <td>0.0</td>\n",
              "    </tr>\n",
              "    <tr>\n",
              "      <th>435</th>\n",
              "      <td>60</td>\n",
              "      <td>43.0</td>\n",
              "      <td>10667</td>\n",
              "      <td>7</td>\n",
              "      <td>6</td>\n",
              "      <td>1996</td>\n",
              "      <td>1996</td>\n",
              "      <td>0.0</td>\n",
              "      <td>385</td>\n",
              "      <td>344</td>\n",
              "      <td>...</td>\n",
              "      <td>1.0</td>\n",
              "      <td>0.0</td>\n",
              "      <td>0.0</td>\n",
              "      <td>0.0</td>\n",
              "      <td>0.0</td>\n",
              "      <td>0.0</td>\n",
              "      <td>0.0</td>\n",
              "      <td>0.0</td>\n",
              "      <td>1.0</td>\n",
              "      <td>0.0</td>\n",
              "    </tr>\n",
              "  </tbody>\n",
              "</table>\n",
              "<p>5 rows × 298 columns</p>\n",
              "</div>\n",
              "    <div class=\"colab-df-buttons\">\n",
              "\n",
              "  <div class=\"colab-df-container\">\n",
              "    <button class=\"colab-df-convert\" onclick=\"convertToInteractive('df-a99803b1-91b6-4aa0-a9ba-7091baf08e9b')\"\n",
              "            title=\"Convert this dataframe to an interactive table.\"\n",
              "            style=\"display:none;\">\n",
              "\n",
              "  <svg xmlns=\"http://www.w3.org/2000/svg\" height=\"24px\" viewBox=\"0 -960 960 960\">\n",
              "    <path d=\"M120-120v-720h720v720H120Zm60-500h600v-160H180v160Zm220 220h160v-160H400v160Zm0 220h160v-160H400v160ZM180-400h160v-160H180v160Zm440 0h160v-160H620v160ZM180-180h160v-160H180v160Zm440 0h160v-160H620v160Z\"/>\n",
              "  </svg>\n",
              "    </button>\n",
              "\n",
              "  <style>\n",
              "    .colab-df-container {\n",
              "      display:flex;\n",
              "      gap: 12px;\n",
              "    }\n",
              "\n",
              "    .colab-df-convert {\n",
              "      background-color: #E8F0FE;\n",
              "      border: none;\n",
              "      border-radius: 50%;\n",
              "      cursor: pointer;\n",
              "      display: none;\n",
              "      fill: #1967D2;\n",
              "      height: 32px;\n",
              "      padding: 0 0 0 0;\n",
              "      width: 32px;\n",
              "    }\n",
              "\n",
              "    .colab-df-convert:hover {\n",
              "      background-color: #E2EBFA;\n",
              "      box-shadow: 0px 1px 2px rgba(60, 64, 67, 0.3), 0px 1px 3px 1px rgba(60, 64, 67, 0.15);\n",
              "      fill: #174EA6;\n",
              "    }\n",
              "\n",
              "    .colab-df-buttons div {\n",
              "      margin-bottom: 4px;\n",
              "    }\n",
              "\n",
              "    [theme=dark] .colab-df-convert {\n",
              "      background-color: #3B4455;\n",
              "      fill: #D2E3FC;\n",
              "    }\n",
              "\n",
              "    [theme=dark] .colab-df-convert:hover {\n",
              "      background-color: #434B5C;\n",
              "      box-shadow: 0px 1px 3px 1px rgba(0, 0, 0, 0.15);\n",
              "      filter: drop-shadow(0px 1px 2px rgba(0, 0, 0, 0.3));\n",
              "      fill: #FFFFFF;\n",
              "    }\n",
              "  </style>\n",
              "\n",
              "    <script>\n",
              "      const buttonEl =\n",
              "        document.querySelector('#df-a99803b1-91b6-4aa0-a9ba-7091baf08e9b button.colab-df-convert');\n",
              "      buttonEl.style.display =\n",
              "        google.colab.kernel.accessAllowed ? 'block' : 'none';\n",
              "\n",
              "      async function convertToInteractive(key) {\n",
              "        const element = document.querySelector('#df-a99803b1-91b6-4aa0-a9ba-7091baf08e9b');\n",
              "        const dataTable =\n",
              "          await google.colab.kernel.invokeFunction('convertToInteractive',\n",
              "                                                    [key], {});\n",
              "        if (!dataTable) return;\n",
              "\n",
              "        const docLinkHtml = 'Like what you see? Visit the ' +\n",
              "          '<a target=\"_blank\" href=https://colab.research.google.com/notebooks/data_table.ipynb>data table notebook</a>'\n",
              "          + ' to learn more about interactive tables.';\n",
              "        element.innerHTML = '';\n",
              "        dataTable['output_type'] = 'display_data';\n",
              "        await google.colab.output.renderOutput(dataTable, element);\n",
              "        const docLink = document.createElement('div');\n",
              "        docLink.innerHTML = docLinkHtml;\n",
              "        element.appendChild(docLink);\n",
              "      }\n",
              "    </script>\n",
              "  </div>\n",
              "\n",
              "\n",
              "<div id=\"df-b7674a6a-9da2-444a-9ebd-51d8c8b2e2b0\">\n",
              "  <button class=\"colab-df-quickchart\" onclick=\"quickchart('df-b7674a6a-9da2-444a-9ebd-51d8c8b2e2b0')\"\n",
              "            title=\"Suggest charts\"\n",
              "            style=\"display:none;\">\n",
              "\n",
              "<svg xmlns=\"http://www.w3.org/2000/svg\" height=\"24px\"viewBox=\"0 0 24 24\"\n",
              "     width=\"24px\">\n",
              "    <g>\n",
              "        <path d=\"M19 3H5c-1.1 0-2 .9-2 2v14c0 1.1.9 2 2 2h14c1.1 0 2-.9 2-2V5c0-1.1-.9-2-2-2zM9 17H7v-7h2v7zm4 0h-2V7h2v10zm4 0h-2v-4h2v4z\"/>\n",
              "    </g>\n",
              "</svg>\n",
              "  </button>\n",
              "\n",
              "<style>\n",
              "  .colab-df-quickchart {\n",
              "      --bg-color: #E8F0FE;\n",
              "      --fill-color: #1967D2;\n",
              "      --hover-bg-color: #E2EBFA;\n",
              "      --hover-fill-color: #174EA6;\n",
              "      --disabled-fill-color: #AAA;\n",
              "      --disabled-bg-color: #DDD;\n",
              "  }\n",
              "\n",
              "  [theme=dark] .colab-df-quickchart {\n",
              "      --bg-color: #3B4455;\n",
              "      --fill-color: #D2E3FC;\n",
              "      --hover-bg-color: #434B5C;\n",
              "      --hover-fill-color: #FFFFFF;\n",
              "      --disabled-bg-color: #3B4455;\n",
              "      --disabled-fill-color: #666;\n",
              "  }\n",
              "\n",
              "  .colab-df-quickchart {\n",
              "    background-color: var(--bg-color);\n",
              "    border: none;\n",
              "    border-radius: 50%;\n",
              "    cursor: pointer;\n",
              "    display: none;\n",
              "    fill: var(--fill-color);\n",
              "    height: 32px;\n",
              "    padding: 0;\n",
              "    width: 32px;\n",
              "  }\n",
              "\n",
              "  .colab-df-quickchart:hover {\n",
              "    background-color: var(--hover-bg-color);\n",
              "    box-shadow: 0 1px 2px rgba(60, 64, 67, 0.3), 0 1px 3px 1px rgba(60, 64, 67, 0.15);\n",
              "    fill: var(--button-hover-fill-color);\n",
              "  }\n",
              "\n",
              "  .colab-df-quickchart-complete:disabled,\n",
              "  .colab-df-quickchart-complete:disabled:hover {\n",
              "    background-color: var(--disabled-bg-color);\n",
              "    fill: var(--disabled-fill-color);\n",
              "    box-shadow: none;\n",
              "  }\n",
              "\n",
              "  .colab-df-spinner {\n",
              "    border: 2px solid var(--fill-color);\n",
              "    border-color: transparent;\n",
              "    border-bottom-color: var(--fill-color);\n",
              "    animation:\n",
              "      spin 1s steps(1) infinite;\n",
              "  }\n",
              "\n",
              "  @keyframes spin {\n",
              "    0% {\n",
              "      border-color: transparent;\n",
              "      border-bottom-color: var(--fill-color);\n",
              "      border-left-color: var(--fill-color);\n",
              "    }\n",
              "    20% {\n",
              "      border-color: transparent;\n",
              "      border-left-color: var(--fill-color);\n",
              "      border-top-color: var(--fill-color);\n",
              "    }\n",
              "    30% {\n",
              "      border-color: transparent;\n",
              "      border-left-color: var(--fill-color);\n",
              "      border-top-color: var(--fill-color);\n",
              "      border-right-color: var(--fill-color);\n",
              "    }\n",
              "    40% {\n",
              "      border-color: transparent;\n",
              "      border-right-color: var(--fill-color);\n",
              "      border-top-color: var(--fill-color);\n",
              "    }\n",
              "    60% {\n",
              "      border-color: transparent;\n",
              "      border-right-color: var(--fill-color);\n",
              "    }\n",
              "    80% {\n",
              "      border-color: transparent;\n",
              "      border-right-color: var(--fill-color);\n",
              "      border-bottom-color: var(--fill-color);\n",
              "    }\n",
              "    90% {\n",
              "      border-color: transparent;\n",
              "      border-bottom-color: var(--fill-color);\n",
              "    }\n",
              "  }\n",
              "</style>\n",
              "\n",
              "  <script>\n",
              "    async function quickchart(key) {\n",
              "      const quickchartButtonEl =\n",
              "        document.querySelector('#' + key + ' button');\n",
              "      quickchartButtonEl.disabled = true;  // To prevent multiple clicks.\n",
              "      quickchartButtonEl.classList.add('colab-df-spinner');\n",
              "      try {\n",
              "        const charts = await google.colab.kernel.invokeFunction(\n",
              "            'suggestCharts', [key], {});\n",
              "      } catch (error) {\n",
              "        console.error('Error during call to suggestCharts:', error);\n",
              "      }\n",
              "      quickchartButtonEl.classList.remove('colab-df-spinner');\n",
              "      quickchartButtonEl.classList.add('colab-df-quickchart-complete');\n",
              "    }\n",
              "    (() => {\n",
              "      let quickchartButtonEl =\n",
              "        document.querySelector('#df-b7674a6a-9da2-444a-9ebd-51d8c8b2e2b0 button');\n",
              "      quickchartButtonEl.style.display =\n",
              "        google.colab.kernel.accessAllowed ? 'block' : 'none';\n",
              "    })();\n",
              "  </script>\n",
              "</div>\n",
              "    </div>\n",
              "  </div>\n"
            ],
            "application/vnd.google.colaboratory.intrinsic+json": {
              "type": "dataframe",
              "variable_name": "X_train"
            }
          },
          "metadata": {},
          "execution_count": 119
        }
      ]
    },
    {
      "cell_type": "code",
      "metadata": {
        "colab": {
          "base_uri": "https://localhost:8080/",
          "height": 255
        },
        "id": "7_WizSkWI8LR",
        "outputId": "0ceffe37-a94b-4639-da95-995d06656047"
      },
      "source": [
        "X_train.head()"
      ],
      "execution_count": null,
      "outputs": [
        {
          "output_type": "execute_result",
          "data": {
            "text/plain": [
              "      MSSubClass  LotFrontage  LotArea  OverallQual  OverallCond  YearBuilt  \\\n",
              "135           20         80.0    10400            7            6       1970   \n",
              "1452         180         35.0     3675            5            5       2005   \n",
              "762           60         72.0     8640            7            5       2009   \n",
              "932           20         84.0    11670            9            5       2006   \n",
              "435           60         43.0    10667            7            6       1996   \n",
              "\n",
              "      YearRemodAdd  MasVnrArea  BsmtFinSF1  BsmtFinSF2  ...  SaleType_ConLw  \\\n",
              "135           1970       288.0           0           0  ...             0.0   \n",
              "1452          2005        80.0         547           0  ...             0.0   \n",
              "762           2009         0.0          24           0  ...             0.0   \n",
              "932           2006       302.0           0           0  ...             0.0   \n",
              "435           1996         0.0         385         344  ...             1.0   \n",
              "\n",
              "      SaleType_New  SaleType_Oth  SaleType_WD  SaleCondition_Abnorml  \\\n",
              "135            0.0           0.0          1.0                    0.0   \n",
              "1452           0.0           0.0          1.0                    0.0   \n",
              "762            0.0           0.0          0.0                    0.0   \n",
              "932            0.0           0.0          1.0                    0.0   \n",
              "435            0.0           0.0          0.0                    0.0   \n",
              "\n",
              "      SaleCondition_AdjLand  SaleCondition_Alloca  SaleCondition_Family  \\\n",
              "135                     0.0                   0.0                   0.0   \n",
              "1452                    0.0                   0.0                   0.0   \n",
              "762                     0.0                   0.0                   0.0   \n",
              "932                     0.0                   0.0                   0.0   \n",
              "435                     0.0                   0.0                   0.0   \n",
              "\n",
              "      SaleCondition_Normal  SaleCondition_Partial  \n",
              "135                    1.0                    0.0  \n",
              "1452                   1.0                    0.0  \n",
              "762                    1.0                    0.0  \n",
              "932                    1.0                    0.0  \n",
              "435                    1.0                    0.0  \n",
              "\n",
              "[5 rows x 298 columns]"
            ],
            "text/html": [
              "\n",
              "  <div id=\"df-cb578b99-db51-4b55-b2a9-9291892f23d4\" class=\"colab-df-container\">\n",
              "    <div>\n",
              "<style scoped>\n",
              "    .dataframe tbody tr th:only-of-type {\n",
              "        vertical-align: middle;\n",
              "    }\n",
              "\n",
              "    .dataframe tbody tr th {\n",
              "        vertical-align: top;\n",
              "    }\n",
              "\n",
              "    .dataframe thead th {\n",
              "        text-align: right;\n",
              "    }\n",
              "</style>\n",
              "<table border=\"1\" class=\"dataframe\">\n",
              "  <thead>\n",
              "    <tr style=\"text-align: right;\">\n",
              "      <th></th>\n",
              "      <th>MSSubClass</th>\n",
              "      <th>LotFrontage</th>\n",
              "      <th>LotArea</th>\n",
              "      <th>OverallQual</th>\n",
              "      <th>OverallCond</th>\n",
              "      <th>YearBuilt</th>\n",
              "      <th>YearRemodAdd</th>\n",
              "      <th>MasVnrArea</th>\n",
              "      <th>BsmtFinSF1</th>\n",
              "      <th>BsmtFinSF2</th>\n",
              "      <th>...</th>\n",
              "      <th>SaleType_ConLw</th>\n",
              "      <th>SaleType_New</th>\n",
              "      <th>SaleType_Oth</th>\n",
              "      <th>SaleType_WD</th>\n",
              "      <th>SaleCondition_Abnorml</th>\n",
              "      <th>SaleCondition_AdjLand</th>\n",
              "      <th>SaleCondition_Alloca</th>\n",
              "      <th>SaleCondition_Family</th>\n",
              "      <th>SaleCondition_Normal</th>\n",
              "      <th>SaleCondition_Partial</th>\n",
              "    </tr>\n",
              "  </thead>\n",
              "  <tbody>\n",
              "    <tr>\n",
              "      <th>135</th>\n",
              "      <td>20</td>\n",
              "      <td>80.0</td>\n",
              "      <td>10400</td>\n",
              "      <td>7</td>\n",
              "      <td>6</td>\n",
              "      <td>1970</td>\n",
              "      <td>1970</td>\n",
              "      <td>288.0</td>\n",
              "      <td>0</td>\n",
              "      <td>0</td>\n",
              "      <td>...</td>\n",
              "      <td>0.0</td>\n",
              "      <td>0.0</td>\n",
              "      <td>0.0</td>\n",
              "      <td>1.0</td>\n",
              "      <td>0.0</td>\n",
              "      <td>0.0</td>\n",
              "      <td>0.0</td>\n",
              "      <td>0.0</td>\n",
              "      <td>1.0</td>\n",
              "      <td>0.0</td>\n",
              "    </tr>\n",
              "    <tr>\n",
              "      <th>1452</th>\n",
              "      <td>180</td>\n",
              "      <td>35.0</td>\n",
              "      <td>3675</td>\n",
              "      <td>5</td>\n",
              "      <td>5</td>\n",
              "      <td>2005</td>\n",
              "      <td>2005</td>\n",
              "      <td>80.0</td>\n",
              "      <td>547</td>\n",
              "      <td>0</td>\n",
              "      <td>...</td>\n",
              "      <td>0.0</td>\n",
              "      <td>0.0</td>\n",
              "      <td>0.0</td>\n",
              "      <td>1.0</td>\n",
              "      <td>0.0</td>\n",
              "      <td>0.0</td>\n",
              "      <td>0.0</td>\n",
              "      <td>0.0</td>\n",
              "      <td>1.0</td>\n",
              "      <td>0.0</td>\n",
              "    </tr>\n",
              "    <tr>\n",
              "      <th>762</th>\n",
              "      <td>60</td>\n",
              "      <td>72.0</td>\n",
              "      <td>8640</td>\n",
              "      <td>7</td>\n",
              "      <td>5</td>\n",
              "      <td>2009</td>\n",
              "      <td>2009</td>\n",
              "      <td>0.0</td>\n",
              "      <td>24</td>\n",
              "      <td>0</td>\n",
              "      <td>...</td>\n",
              "      <td>0.0</td>\n",
              "      <td>0.0</td>\n",
              "      <td>0.0</td>\n",
              "      <td>0.0</td>\n",
              "      <td>0.0</td>\n",
              "      <td>0.0</td>\n",
              "      <td>0.0</td>\n",
              "      <td>0.0</td>\n",
              "      <td>1.0</td>\n",
              "      <td>0.0</td>\n",
              "    </tr>\n",
              "    <tr>\n",
              "      <th>932</th>\n",
              "      <td>20</td>\n",
              "      <td>84.0</td>\n",
              "      <td>11670</td>\n",
              "      <td>9</td>\n",
              "      <td>5</td>\n",
              "      <td>2006</td>\n",
              "      <td>2006</td>\n",
              "      <td>302.0</td>\n",
              "      <td>0</td>\n",
              "      <td>0</td>\n",
              "      <td>...</td>\n",
              "      <td>0.0</td>\n",
              "      <td>0.0</td>\n",
              "      <td>0.0</td>\n",
              "      <td>1.0</td>\n",
              "      <td>0.0</td>\n",
              "      <td>0.0</td>\n",
              "      <td>0.0</td>\n",
              "      <td>0.0</td>\n",
              "      <td>1.0</td>\n",
              "      <td>0.0</td>\n",
              "    </tr>\n",
              "    <tr>\n",
              "      <th>435</th>\n",
              "      <td>60</td>\n",
              "      <td>43.0</td>\n",
              "      <td>10667</td>\n",
              "      <td>7</td>\n",
              "      <td>6</td>\n",
              "      <td>1996</td>\n",
              "      <td>1996</td>\n",
              "      <td>0.0</td>\n",
              "      <td>385</td>\n",
              "      <td>344</td>\n",
              "      <td>...</td>\n",
              "      <td>1.0</td>\n",
              "      <td>0.0</td>\n",
              "      <td>0.0</td>\n",
              "      <td>0.0</td>\n",
              "      <td>0.0</td>\n",
              "      <td>0.0</td>\n",
              "      <td>0.0</td>\n",
              "      <td>0.0</td>\n",
              "      <td>1.0</td>\n",
              "      <td>0.0</td>\n",
              "    </tr>\n",
              "  </tbody>\n",
              "</table>\n",
              "<p>5 rows × 298 columns</p>\n",
              "</div>\n",
              "    <div class=\"colab-df-buttons\">\n",
              "\n",
              "  <div class=\"colab-df-container\">\n",
              "    <button class=\"colab-df-convert\" onclick=\"convertToInteractive('df-cb578b99-db51-4b55-b2a9-9291892f23d4')\"\n",
              "            title=\"Convert this dataframe to an interactive table.\"\n",
              "            style=\"display:none;\">\n",
              "\n",
              "  <svg xmlns=\"http://www.w3.org/2000/svg\" height=\"24px\" viewBox=\"0 -960 960 960\">\n",
              "    <path d=\"M120-120v-720h720v720H120Zm60-500h600v-160H180v160Zm220 220h160v-160H400v160Zm0 220h160v-160H400v160ZM180-400h160v-160H180v160Zm440 0h160v-160H620v160ZM180-180h160v-160H180v160Zm440 0h160v-160H620v160Z\"/>\n",
              "  </svg>\n",
              "    </button>\n",
              "\n",
              "  <style>\n",
              "    .colab-df-container {\n",
              "      display:flex;\n",
              "      gap: 12px;\n",
              "    }\n",
              "\n",
              "    .colab-df-convert {\n",
              "      background-color: #E8F0FE;\n",
              "      border: none;\n",
              "      border-radius: 50%;\n",
              "      cursor: pointer;\n",
              "      display: none;\n",
              "      fill: #1967D2;\n",
              "      height: 32px;\n",
              "      padding: 0 0 0 0;\n",
              "      width: 32px;\n",
              "    }\n",
              "\n",
              "    .colab-df-convert:hover {\n",
              "      background-color: #E2EBFA;\n",
              "      box-shadow: 0px 1px 2px rgba(60, 64, 67, 0.3), 0px 1px 3px 1px rgba(60, 64, 67, 0.15);\n",
              "      fill: #174EA6;\n",
              "    }\n",
              "\n",
              "    .colab-df-buttons div {\n",
              "      margin-bottom: 4px;\n",
              "    }\n",
              "\n",
              "    [theme=dark] .colab-df-convert {\n",
              "      background-color: #3B4455;\n",
              "      fill: #D2E3FC;\n",
              "    }\n",
              "\n",
              "    [theme=dark] .colab-df-convert:hover {\n",
              "      background-color: #434B5C;\n",
              "      box-shadow: 0px 1px 3px 1px rgba(0, 0, 0, 0.15);\n",
              "      filter: drop-shadow(0px 1px 2px rgba(0, 0, 0, 0.3));\n",
              "      fill: #FFFFFF;\n",
              "    }\n",
              "  </style>\n",
              "\n",
              "    <script>\n",
              "      const buttonEl =\n",
              "        document.querySelector('#df-cb578b99-db51-4b55-b2a9-9291892f23d4 button.colab-df-convert');\n",
              "      buttonEl.style.display =\n",
              "        google.colab.kernel.accessAllowed ? 'block' : 'none';\n",
              "\n",
              "      async function convertToInteractive(key) {\n",
              "        const element = document.querySelector('#df-cb578b99-db51-4b55-b2a9-9291892f23d4');\n",
              "        const dataTable =\n",
              "          await google.colab.kernel.invokeFunction('convertToInteractive',\n",
              "                                                    [key], {});\n",
              "        if (!dataTable) return;\n",
              "\n",
              "        const docLinkHtml = 'Like what you see? Visit the ' +\n",
              "          '<a target=\"_blank\" href=https://colab.research.google.com/notebooks/data_table.ipynb>data table notebook</a>'\n",
              "          + ' to learn more about interactive tables.';\n",
              "        element.innerHTML = '';\n",
              "        dataTable['output_type'] = 'display_data';\n",
              "        await google.colab.output.renderOutput(dataTable, element);\n",
              "        const docLink = document.createElement('div');\n",
              "        docLink.innerHTML = docLinkHtml;\n",
              "        element.appendChild(docLink);\n",
              "      }\n",
              "    </script>\n",
              "  </div>\n",
              "\n",
              "\n",
              "<div id=\"df-3f890d42-780e-40db-9e3b-dec6719c3b08\">\n",
              "  <button class=\"colab-df-quickchart\" onclick=\"quickchart('df-3f890d42-780e-40db-9e3b-dec6719c3b08')\"\n",
              "            title=\"Suggest charts\"\n",
              "            style=\"display:none;\">\n",
              "\n",
              "<svg xmlns=\"http://www.w3.org/2000/svg\" height=\"24px\"viewBox=\"0 0 24 24\"\n",
              "     width=\"24px\">\n",
              "    <g>\n",
              "        <path d=\"M19 3H5c-1.1 0-2 .9-2 2v14c0 1.1.9 2 2 2h14c1.1 0 2-.9 2-2V5c0-1.1-.9-2-2-2zM9 17H7v-7h2v7zm4 0h-2V7h2v10zm4 0h-2v-4h2v4z\"/>\n",
              "    </g>\n",
              "</svg>\n",
              "  </button>\n",
              "\n",
              "<style>\n",
              "  .colab-df-quickchart {\n",
              "      --bg-color: #E8F0FE;\n",
              "      --fill-color: #1967D2;\n",
              "      --hover-bg-color: #E2EBFA;\n",
              "      --hover-fill-color: #174EA6;\n",
              "      --disabled-fill-color: #AAA;\n",
              "      --disabled-bg-color: #DDD;\n",
              "  }\n",
              "\n",
              "  [theme=dark] .colab-df-quickchart {\n",
              "      --bg-color: #3B4455;\n",
              "      --fill-color: #D2E3FC;\n",
              "      --hover-bg-color: #434B5C;\n",
              "      --hover-fill-color: #FFFFFF;\n",
              "      --disabled-bg-color: #3B4455;\n",
              "      --disabled-fill-color: #666;\n",
              "  }\n",
              "\n",
              "  .colab-df-quickchart {\n",
              "    background-color: var(--bg-color);\n",
              "    border: none;\n",
              "    border-radius: 50%;\n",
              "    cursor: pointer;\n",
              "    display: none;\n",
              "    fill: var(--fill-color);\n",
              "    height: 32px;\n",
              "    padding: 0;\n",
              "    width: 32px;\n",
              "  }\n",
              "\n",
              "  .colab-df-quickchart:hover {\n",
              "    background-color: var(--hover-bg-color);\n",
              "    box-shadow: 0 1px 2px rgba(60, 64, 67, 0.3), 0 1px 3px 1px rgba(60, 64, 67, 0.15);\n",
              "    fill: var(--button-hover-fill-color);\n",
              "  }\n",
              "\n",
              "  .colab-df-quickchart-complete:disabled,\n",
              "  .colab-df-quickchart-complete:disabled:hover {\n",
              "    background-color: var(--disabled-bg-color);\n",
              "    fill: var(--disabled-fill-color);\n",
              "    box-shadow: none;\n",
              "  }\n",
              "\n",
              "  .colab-df-spinner {\n",
              "    border: 2px solid var(--fill-color);\n",
              "    border-color: transparent;\n",
              "    border-bottom-color: var(--fill-color);\n",
              "    animation:\n",
              "      spin 1s steps(1) infinite;\n",
              "  }\n",
              "\n",
              "  @keyframes spin {\n",
              "    0% {\n",
              "      border-color: transparent;\n",
              "      border-bottom-color: var(--fill-color);\n",
              "      border-left-color: var(--fill-color);\n",
              "    }\n",
              "    20% {\n",
              "      border-color: transparent;\n",
              "      border-left-color: var(--fill-color);\n",
              "      border-top-color: var(--fill-color);\n",
              "    }\n",
              "    30% {\n",
              "      border-color: transparent;\n",
              "      border-left-color: var(--fill-color);\n",
              "      border-top-color: var(--fill-color);\n",
              "      border-right-color: var(--fill-color);\n",
              "    }\n",
              "    40% {\n",
              "      border-color: transparent;\n",
              "      border-right-color: var(--fill-color);\n",
              "      border-top-color: var(--fill-color);\n",
              "    }\n",
              "    60% {\n",
              "      border-color: transparent;\n",
              "      border-right-color: var(--fill-color);\n",
              "    }\n",
              "    80% {\n",
              "      border-color: transparent;\n",
              "      border-right-color: var(--fill-color);\n",
              "      border-bottom-color: var(--fill-color);\n",
              "    }\n",
              "    90% {\n",
              "      border-color: transparent;\n",
              "      border-bottom-color: var(--fill-color);\n",
              "    }\n",
              "  }\n",
              "</style>\n",
              "\n",
              "  <script>\n",
              "    async function quickchart(key) {\n",
              "      const quickchartButtonEl =\n",
              "        document.querySelector('#' + key + ' button');\n",
              "      quickchartButtonEl.disabled = true;  // To prevent multiple clicks.\n",
              "      quickchartButtonEl.classList.add('colab-df-spinner');\n",
              "      try {\n",
              "        const charts = await google.colab.kernel.invokeFunction(\n",
              "            'suggestCharts', [key], {});\n",
              "      } catch (error) {\n",
              "        console.error('Error during call to suggestCharts:', error);\n",
              "      }\n",
              "      quickchartButtonEl.classList.remove('colab-df-spinner');\n",
              "      quickchartButtonEl.classList.add('colab-df-quickchart-complete');\n",
              "    }\n",
              "    (() => {\n",
              "      let quickchartButtonEl =\n",
              "        document.querySelector('#df-3f890d42-780e-40db-9e3b-dec6719c3b08 button');\n",
              "      quickchartButtonEl.style.display =\n",
              "        google.colab.kernel.accessAllowed ? 'block' : 'none';\n",
              "    })();\n",
              "  </script>\n",
              "</div>\n",
              "    </div>\n",
              "  </div>\n"
            ],
            "application/vnd.google.colaboratory.intrinsic+json": {
              "type": "dataframe",
              "variable_name": "X_train"
            }
          },
          "metadata": {},
          "execution_count": 120
        }
      ]
    },
    {
      "cell_type": "code",
      "source": [
        "X_test.head()"
      ],
      "metadata": {
        "colab": {
          "base_uri": "https://localhost:8080/",
          "height": 255
        },
        "id": "yr2HKUeucLqG",
        "outputId": "f973d9a6-335f-4c10-e46a-f712e7323d79"
      },
      "execution_count": null,
      "outputs": [
        {
          "output_type": "execute_result",
          "data": {
            "text/plain": [
              "      MSSubClass  LotFrontage  LotArea  OverallQual  OverallCond  YearBuilt  \\\n",
              "892           20         70.0     8414            6            8       1963   \n",
              "1105          60         98.0    12256            8            5       1994   \n",
              "413           30         56.0     8960            5            6       1927   \n",
              "522           50         50.0     5000            6            7       1947   \n",
              "1036          20         89.0    12898            9            5       2007   \n",
              "\n",
              "      YearRemodAdd  MasVnrArea  BsmtFinSF1  BsmtFinSF2  ...  SaleType_ConLw  \\\n",
              "892           2003         0.0         663           0  ...             0.0   \n",
              "1105          1995       362.0        1032           0  ...             0.0   \n",
              "413           1950         0.0           0           0  ...             0.0   \n",
              "522           1950         0.0         399           0  ...             0.0   \n",
              "1036          2008        70.0        1022           0  ...             0.0   \n",
              "\n",
              "      SaleType_New  SaleType_Oth  SaleType_WD  SaleCondition_Abnorml  \\\n",
              "892            0.0           0.0          1.0                    0.0   \n",
              "1105           0.0           0.0          1.0                    0.0   \n",
              "413            0.0           0.0          1.0                    0.0   \n",
              "522            0.0           0.0          1.0                    0.0   \n",
              "1036           0.0           0.0          1.0                    0.0   \n",
              "\n",
              "      SaleCondition_AdjLand  SaleCondition_Alloca  SaleCondition_Family  \\\n",
              "892                     0.0                   0.0                   0.0   \n",
              "1105                    0.0                   0.0                   0.0   \n",
              "413                     0.0                   0.0                   0.0   \n",
              "522                     0.0                   0.0                   0.0   \n",
              "1036                    0.0                   0.0                   0.0   \n",
              "\n",
              "      SaleCondition_Normal  SaleCondition_Partial  \n",
              "892                    1.0                    0.0  \n",
              "1105                   1.0                    0.0  \n",
              "413                    1.0                    0.0  \n",
              "522                    1.0                    0.0  \n",
              "1036                   1.0                    0.0  \n",
              "\n",
              "[5 rows x 298 columns]"
            ],
            "text/html": [
              "\n",
              "  <div id=\"df-5eae34e7-cad4-4895-9251-5948b7b241d0\" class=\"colab-df-container\">\n",
              "    <div>\n",
              "<style scoped>\n",
              "    .dataframe tbody tr th:only-of-type {\n",
              "        vertical-align: middle;\n",
              "    }\n",
              "\n",
              "    .dataframe tbody tr th {\n",
              "        vertical-align: top;\n",
              "    }\n",
              "\n",
              "    .dataframe thead th {\n",
              "        text-align: right;\n",
              "    }\n",
              "</style>\n",
              "<table border=\"1\" class=\"dataframe\">\n",
              "  <thead>\n",
              "    <tr style=\"text-align: right;\">\n",
              "      <th></th>\n",
              "      <th>MSSubClass</th>\n",
              "      <th>LotFrontage</th>\n",
              "      <th>LotArea</th>\n",
              "      <th>OverallQual</th>\n",
              "      <th>OverallCond</th>\n",
              "      <th>YearBuilt</th>\n",
              "      <th>YearRemodAdd</th>\n",
              "      <th>MasVnrArea</th>\n",
              "      <th>BsmtFinSF1</th>\n",
              "      <th>BsmtFinSF2</th>\n",
              "      <th>...</th>\n",
              "      <th>SaleType_ConLw</th>\n",
              "      <th>SaleType_New</th>\n",
              "      <th>SaleType_Oth</th>\n",
              "      <th>SaleType_WD</th>\n",
              "      <th>SaleCondition_Abnorml</th>\n",
              "      <th>SaleCondition_AdjLand</th>\n",
              "      <th>SaleCondition_Alloca</th>\n",
              "      <th>SaleCondition_Family</th>\n",
              "      <th>SaleCondition_Normal</th>\n",
              "      <th>SaleCondition_Partial</th>\n",
              "    </tr>\n",
              "  </thead>\n",
              "  <tbody>\n",
              "    <tr>\n",
              "      <th>892</th>\n",
              "      <td>20</td>\n",
              "      <td>70.0</td>\n",
              "      <td>8414</td>\n",
              "      <td>6</td>\n",
              "      <td>8</td>\n",
              "      <td>1963</td>\n",
              "      <td>2003</td>\n",
              "      <td>0.0</td>\n",
              "      <td>663</td>\n",
              "      <td>0</td>\n",
              "      <td>...</td>\n",
              "      <td>0.0</td>\n",
              "      <td>0.0</td>\n",
              "      <td>0.0</td>\n",
              "      <td>1.0</td>\n",
              "      <td>0.0</td>\n",
              "      <td>0.0</td>\n",
              "      <td>0.0</td>\n",
              "      <td>0.0</td>\n",
              "      <td>1.0</td>\n",
              "      <td>0.0</td>\n",
              "    </tr>\n",
              "    <tr>\n",
              "      <th>1105</th>\n",
              "      <td>60</td>\n",
              "      <td>98.0</td>\n",
              "      <td>12256</td>\n",
              "      <td>8</td>\n",
              "      <td>5</td>\n",
              "      <td>1994</td>\n",
              "      <td>1995</td>\n",
              "      <td>362.0</td>\n",
              "      <td>1032</td>\n",
              "      <td>0</td>\n",
              "      <td>...</td>\n",
              "      <td>0.0</td>\n",
              "      <td>0.0</td>\n",
              "      <td>0.0</td>\n",
              "      <td>1.0</td>\n",
              "      <td>0.0</td>\n",
              "      <td>0.0</td>\n",
              "      <td>0.0</td>\n",
              "      <td>0.0</td>\n",
              "      <td>1.0</td>\n",
              "      <td>0.0</td>\n",
              "    </tr>\n",
              "    <tr>\n",
              "      <th>413</th>\n",
              "      <td>30</td>\n",
              "      <td>56.0</td>\n",
              "      <td>8960</td>\n",
              "      <td>5</td>\n",
              "      <td>6</td>\n",
              "      <td>1927</td>\n",
              "      <td>1950</td>\n",
              "      <td>0.0</td>\n",
              "      <td>0</td>\n",
              "      <td>0</td>\n",
              "      <td>...</td>\n",
              "      <td>0.0</td>\n",
              "      <td>0.0</td>\n",
              "      <td>0.0</td>\n",
              "      <td>1.0</td>\n",
              "      <td>0.0</td>\n",
              "      <td>0.0</td>\n",
              "      <td>0.0</td>\n",
              "      <td>0.0</td>\n",
              "      <td>1.0</td>\n",
              "      <td>0.0</td>\n",
              "    </tr>\n",
              "    <tr>\n",
              "      <th>522</th>\n",
              "      <td>50</td>\n",
              "      <td>50.0</td>\n",
              "      <td>5000</td>\n",
              "      <td>6</td>\n",
              "      <td>7</td>\n",
              "      <td>1947</td>\n",
              "      <td>1950</td>\n",
              "      <td>0.0</td>\n",
              "      <td>399</td>\n",
              "      <td>0</td>\n",
              "      <td>...</td>\n",
              "      <td>0.0</td>\n",
              "      <td>0.0</td>\n",
              "      <td>0.0</td>\n",
              "      <td>1.0</td>\n",
              "      <td>0.0</td>\n",
              "      <td>0.0</td>\n",
              "      <td>0.0</td>\n",
              "      <td>0.0</td>\n",
              "      <td>1.0</td>\n",
              "      <td>0.0</td>\n",
              "    </tr>\n",
              "    <tr>\n",
              "      <th>1036</th>\n",
              "      <td>20</td>\n",
              "      <td>89.0</td>\n",
              "      <td>12898</td>\n",
              "      <td>9</td>\n",
              "      <td>5</td>\n",
              "      <td>2007</td>\n",
              "      <td>2008</td>\n",
              "      <td>70.0</td>\n",
              "      <td>1022</td>\n",
              "      <td>0</td>\n",
              "      <td>...</td>\n",
              "      <td>0.0</td>\n",
              "      <td>0.0</td>\n",
              "      <td>0.0</td>\n",
              "      <td>1.0</td>\n",
              "      <td>0.0</td>\n",
              "      <td>0.0</td>\n",
              "      <td>0.0</td>\n",
              "      <td>0.0</td>\n",
              "      <td>1.0</td>\n",
              "      <td>0.0</td>\n",
              "    </tr>\n",
              "  </tbody>\n",
              "</table>\n",
              "<p>5 rows × 298 columns</p>\n",
              "</div>\n",
              "    <div class=\"colab-df-buttons\">\n",
              "\n",
              "  <div class=\"colab-df-container\">\n",
              "    <button class=\"colab-df-convert\" onclick=\"convertToInteractive('df-5eae34e7-cad4-4895-9251-5948b7b241d0')\"\n",
              "            title=\"Convert this dataframe to an interactive table.\"\n",
              "            style=\"display:none;\">\n",
              "\n",
              "  <svg xmlns=\"http://www.w3.org/2000/svg\" height=\"24px\" viewBox=\"0 -960 960 960\">\n",
              "    <path d=\"M120-120v-720h720v720H120Zm60-500h600v-160H180v160Zm220 220h160v-160H400v160Zm0 220h160v-160H400v160ZM180-400h160v-160H180v160Zm440 0h160v-160H620v160ZM180-180h160v-160H180v160Zm440 0h160v-160H620v160Z\"/>\n",
              "  </svg>\n",
              "    </button>\n",
              "\n",
              "  <style>\n",
              "    .colab-df-container {\n",
              "      display:flex;\n",
              "      gap: 12px;\n",
              "    }\n",
              "\n",
              "    .colab-df-convert {\n",
              "      background-color: #E8F0FE;\n",
              "      border: none;\n",
              "      border-radius: 50%;\n",
              "      cursor: pointer;\n",
              "      display: none;\n",
              "      fill: #1967D2;\n",
              "      height: 32px;\n",
              "      padding: 0 0 0 0;\n",
              "      width: 32px;\n",
              "    }\n",
              "\n",
              "    .colab-df-convert:hover {\n",
              "      background-color: #E2EBFA;\n",
              "      box-shadow: 0px 1px 2px rgba(60, 64, 67, 0.3), 0px 1px 3px 1px rgba(60, 64, 67, 0.15);\n",
              "      fill: #174EA6;\n",
              "    }\n",
              "\n",
              "    .colab-df-buttons div {\n",
              "      margin-bottom: 4px;\n",
              "    }\n",
              "\n",
              "    [theme=dark] .colab-df-convert {\n",
              "      background-color: #3B4455;\n",
              "      fill: #D2E3FC;\n",
              "    }\n",
              "\n",
              "    [theme=dark] .colab-df-convert:hover {\n",
              "      background-color: #434B5C;\n",
              "      box-shadow: 0px 1px 3px 1px rgba(0, 0, 0, 0.15);\n",
              "      filter: drop-shadow(0px 1px 2px rgba(0, 0, 0, 0.3));\n",
              "      fill: #FFFFFF;\n",
              "    }\n",
              "  </style>\n",
              "\n",
              "    <script>\n",
              "      const buttonEl =\n",
              "        document.querySelector('#df-5eae34e7-cad4-4895-9251-5948b7b241d0 button.colab-df-convert');\n",
              "      buttonEl.style.display =\n",
              "        google.colab.kernel.accessAllowed ? 'block' : 'none';\n",
              "\n",
              "      async function convertToInteractive(key) {\n",
              "        const element = document.querySelector('#df-5eae34e7-cad4-4895-9251-5948b7b241d0');\n",
              "        const dataTable =\n",
              "          await google.colab.kernel.invokeFunction('convertToInteractive',\n",
              "                                                    [key], {});\n",
              "        if (!dataTable) return;\n",
              "\n",
              "        const docLinkHtml = 'Like what you see? Visit the ' +\n",
              "          '<a target=\"_blank\" href=https://colab.research.google.com/notebooks/data_table.ipynb>data table notebook</a>'\n",
              "          + ' to learn more about interactive tables.';\n",
              "        element.innerHTML = '';\n",
              "        dataTable['output_type'] = 'display_data';\n",
              "        await google.colab.output.renderOutput(dataTable, element);\n",
              "        const docLink = document.createElement('div');\n",
              "        docLink.innerHTML = docLinkHtml;\n",
              "        element.appendChild(docLink);\n",
              "      }\n",
              "    </script>\n",
              "  </div>\n",
              "\n",
              "\n",
              "<div id=\"df-42a77c7f-034e-4d98-95c1-3ac5d3d4a8f7\">\n",
              "  <button class=\"colab-df-quickchart\" onclick=\"quickchart('df-42a77c7f-034e-4d98-95c1-3ac5d3d4a8f7')\"\n",
              "            title=\"Suggest charts\"\n",
              "            style=\"display:none;\">\n",
              "\n",
              "<svg xmlns=\"http://www.w3.org/2000/svg\" height=\"24px\"viewBox=\"0 0 24 24\"\n",
              "     width=\"24px\">\n",
              "    <g>\n",
              "        <path d=\"M19 3H5c-1.1 0-2 .9-2 2v14c0 1.1.9 2 2 2h14c1.1 0 2-.9 2-2V5c0-1.1-.9-2-2-2zM9 17H7v-7h2v7zm4 0h-2V7h2v10zm4 0h-2v-4h2v4z\"/>\n",
              "    </g>\n",
              "</svg>\n",
              "  </button>\n",
              "\n",
              "<style>\n",
              "  .colab-df-quickchart {\n",
              "      --bg-color: #E8F0FE;\n",
              "      --fill-color: #1967D2;\n",
              "      --hover-bg-color: #E2EBFA;\n",
              "      --hover-fill-color: #174EA6;\n",
              "      --disabled-fill-color: #AAA;\n",
              "      --disabled-bg-color: #DDD;\n",
              "  }\n",
              "\n",
              "  [theme=dark] .colab-df-quickchart {\n",
              "      --bg-color: #3B4455;\n",
              "      --fill-color: #D2E3FC;\n",
              "      --hover-bg-color: #434B5C;\n",
              "      --hover-fill-color: #FFFFFF;\n",
              "      --disabled-bg-color: #3B4455;\n",
              "      --disabled-fill-color: #666;\n",
              "  }\n",
              "\n",
              "  .colab-df-quickchart {\n",
              "    background-color: var(--bg-color);\n",
              "    border: none;\n",
              "    border-radius: 50%;\n",
              "    cursor: pointer;\n",
              "    display: none;\n",
              "    fill: var(--fill-color);\n",
              "    height: 32px;\n",
              "    padding: 0;\n",
              "    width: 32px;\n",
              "  }\n",
              "\n",
              "  .colab-df-quickchart:hover {\n",
              "    background-color: var(--hover-bg-color);\n",
              "    box-shadow: 0 1px 2px rgba(60, 64, 67, 0.3), 0 1px 3px 1px rgba(60, 64, 67, 0.15);\n",
              "    fill: var(--button-hover-fill-color);\n",
              "  }\n",
              "\n",
              "  .colab-df-quickchart-complete:disabled,\n",
              "  .colab-df-quickchart-complete:disabled:hover {\n",
              "    background-color: var(--disabled-bg-color);\n",
              "    fill: var(--disabled-fill-color);\n",
              "    box-shadow: none;\n",
              "  }\n",
              "\n",
              "  .colab-df-spinner {\n",
              "    border: 2px solid var(--fill-color);\n",
              "    border-color: transparent;\n",
              "    border-bottom-color: var(--fill-color);\n",
              "    animation:\n",
              "      spin 1s steps(1) infinite;\n",
              "  }\n",
              "\n",
              "  @keyframes spin {\n",
              "    0% {\n",
              "      border-color: transparent;\n",
              "      border-bottom-color: var(--fill-color);\n",
              "      border-left-color: var(--fill-color);\n",
              "    }\n",
              "    20% {\n",
              "      border-color: transparent;\n",
              "      border-left-color: var(--fill-color);\n",
              "      border-top-color: var(--fill-color);\n",
              "    }\n",
              "    30% {\n",
              "      border-color: transparent;\n",
              "      border-left-color: var(--fill-color);\n",
              "      border-top-color: var(--fill-color);\n",
              "      border-right-color: var(--fill-color);\n",
              "    }\n",
              "    40% {\n",
              "      border-color: transparent;\n",
              "      border-right-color: var(--fill-color);\n",
              "      border-top-color: var(--fill-color);\n",
              "    }\n",
              "    60% {\n",
              "      border-color: transparent;\n",
              "      border-right-color: var(--fill-color);\n",
              "    }\n",
              "    80% {\n",
              "      border-color: transparent;\n",
              "      border-right-color: var(--fill-color);\n",
              "      border-bottom-color: var(--fill-color);\n",
              "    }\n",
              "    90% {\n",
              "      border-color: transparent;\n",
              "      border-bottom-color: var(--fill-color);\n",
              "    }\n",
              "  }\n",
              "</style>\n",
              "\n",
              "  <script>\n",
              "    async function quickchart(key) {\n",
              "      const quickchartButtonEl =\n",
              "        document.querySelector('#' + key + ' button');\n",
              "      quickchartButtonEl.disabled = true;  // To prevent multiple clicks.\n",
              "      quickchartButtonEl.classList.add('colab-df-spinner');\n",
              "      try {\n",
              "        const charts = await google.colab.kernel.invokeFunction(\n",
              "            'suggestCharts', [key], {});\n",
              "      } catch (error) {\n",
              "        console.error('Error during call to suggestCharts:', error);\n",
              "      }\n",
              "      quickchartButtonEl.classList.remove('colab-df-spinner');\n",
              "      quickchartButtonEl.classList.add('colab-df-quickchart-complete');\n",
              "    }\n",
              "    (() => {\n",
              "      let quickchartButtonEl =\n",
              "        document.querySelector('#df-42a77c7f-034e-4d98-95c1-3ac5d3d4a8f7 button');\n",
              "      quickchartButtonEl.style.display =\n",
              "        google.colab.kernel.accessAllowed ? 'block' : 'none';\n",
              "    })();\n",
              "  </script>\n",
              "</div>\n",
              "    </div>\n",
              "  </div>\n"
            ],
            "application/vnd.google.colaboratory.intrinsic+json": {
              "type": "dataframe",
              "variable_name": "X_test"
            }
          },
          "metadata": {},
          "execution_count": 121
        }
      ]
    },
    {
      "cell_type": "markdown",
      "source": [
        "### Voting\n",
        "\n",
        "<img src='https://drive.google.com/uc?id=1se-9Q6cJfXh8mKeDNcQkfa5LfMT6OdYm' width=500>\n"
      ],
      "metadata": {
        "id": "1UT7OCkbAq_H"
      }
    },
    {
      "cell_type": "code",
      "metadata": {
        "id": "qEbFOauuAuWm"
      },
      "source": [
        "from sklearn.tree import DecisionTreeRegressor\n",
        "from sklearn.linear_model import LinearRegression, Ridge\n",
        "from sklearn.ensemble import VotingRegressor\n",
        "\n",
        "vote = VotingRegressor(\n",
        "    estimators=[\n",
        "        ('dt', DecisionTreeRegressor()),\n",
        "        ('lin', LinearRegression()),\n",
        "        ('l2', Ridge())\n",
        "    ]\n",
        ")"
      ],
      "execution_count": null,
      "outputs": []
    },
    {
      "cell_type": "code",
      "source": [
        "vote.fit(X_train, y_train)"
      ],
      "metadata": {
        "colab": {
          "base_uri": "https://localhost:8080/",
          "height": 129
        },
        "outputId": "1db177ab-0c6d-4bda-f333-02b8e9a47db6",
        "id": "yXGyqdSsAuWp"
      },
      "execution_count": null,
      "outputs": [
        {
          "output_type": "execute_result",
          "data": {
            "text/plain": [
              "VotingRegressor(estimators=[('dt', DecisionTreeRegressor()),\n",
              "                            ('lin', LinearRegression()), ('l2', Ridge())])"
            ],
            "text/html": [
              "<style>#sk-container-id-4 {color: black;}#sk-container-id-4 pre{padding: 0;}#sk-container-id-4 div.sk-toggleable {background-color: white;}#sk-container-id-4 label.sk-toggleable__label {cursor: pointer;display: block;width: 100%;margin-bottom: 0;padding: 0.3em;box-sizing: border-box;text-align: center;}#sk-container-id-4 label.sk-toggleable__label-arrow:before {content: \"▸\";float: left;margin-right: 0.25em;color: #696969;}#sk-container-id-4 label.sk-toggleable__label-arrow:hover:before {color: black;}#sk-container-id-4 div.sk-estimator:hover label.sk-toggleable__label-arrow:before {color: black;}#sk-container-id-4 div.sk-toggleable__content {max-height: 0;max-width: 0;overflow: hidden;text-align: left;background-color: #f0f8ff;}#sk-container-id-4 div.sk-toggleable__content pre {margin: 0.2em;color: black;border-radius: 0.25em;background-color: #f0f8ff;}#sk-container-id-4 input.sk-toggleable__control:checked~div.sk-toggleable__content {max-height: 200px;max-width: 100%;overflow: auto;}#sk-container-id-4 input.sk-toggleable__control:checked~label.sk-toggleable__label-arrow:before {content: \"▾\";}#sk-container-id-4 div.sk-estimator input.sk-toggleable__control:checked~label.sk-toggleable__label {background-color: #d4ebff;}#sk-container-id-4 div.sk-label input.sk-toggleable__control:checked~label.sk-toggleable__label {background-color: #d4ebff;}#sk-container-id-4 input.sk-hidden--visually {border: 0;clip: rect(1px 1px 1px 1px);clip: rect(1px, 1px, 1px, 1px);height: 1px;margin: -1px;overflow: hidden;padding: 0;position: absolute;width: 1px;}#sk-container-id-4 div.sk-estimator {font-family: monospace;background-color: #f0f8ff;border: 1px dotted black;border-radius: 0.25em;box-sizing: border-box;margin-bottom: 0.5em;}#sk-container-id-4 div.sk-estimator:hover {background-color: #d4ebff;}#sk-container-id-4 div.sk-parallel-item::after {content: \"\";width: 100%;border-bottom: 1px solid gray;flex-grow: 1;}#sk-container-id-4 div.sk-label:hover label.sk-toggleable__label {background-color: #d4ebff;}#sk-container-id-4 div.sk-serial::before {content: \"\";position: absolute;border-left: 1px solid gray;box-sizing: border-box;top: 0;bottom: 0;left: 50%;z-index: 0;}#sk-container-id-4 div.sk-serial {display: flex;flex-direction: column;align-items: center;background-color: white;padding-right: 0.2em;padding-left: 0.2em;position: relative;}#sk-container-id-4 div.sk-item {position: relative;z-index: 1;}#sk-container-id-4 div.sk-parallel {display: flex;align-items: stretch;justify-content: center;background-color: white;position: relative;}#sk-container-id-4 div.sk-item::before, #sk-container-id-4 div.sk-parallel-item::before {content: \"\";position: absolute;border-left: 1px solid gray;box-sizing: border-box;top: 0;bottom: 0;left: 50%;z-index: -1;}#sk-container-id-4 div.sk-parallel-item {display: flex;flex-direction: column;z-index: 1;position: relative;background-color: white;}#sk-container-id-4 div.sk-parallel-item:first-child::after {align-self: flex-end;width: 50%;}#sk-container-id-4 div.sk-parallel-item:last-child::after {align-self: flex-start;width: 50%;}#sk-container-id-4 div.sk-parallel-item:only-child::after {width: 0;}#sk-container-id-4 div.sk-dashed-wrapped {border: 1px dashed gray;margin: 0 0.4em 0.5em 0.4em;box-sizing: border-box;padding-bottom: 0.4em;background-color: white;}#sk-container-id-4 div.sk-label label {font-family: monospace;font-weight: bold;display: inline-block;line-height: 1.2em;}#sk-container-id-4 div.sk-label-container {text-align: center;}#sk-container-id-4 div.sk-container {/* jupyter's `normalize.less` sets `[hidden] { display: none; }` but bootstrap.min.css set `[hidden] { display: none !important; }` so we also need the `!important` here to be able to override the default hidden behavior on the sphinx rendered scikit-learn.org. See: https://github.com/scikit-learn/scikit-learn/issues/21755 */display: inline-block !important;position: relative;}#sk-container-id-4 div.sk-text-repr-fallback {display: none;}</style><div id=\"sk-container-id-4\" class=\"sk-top-container\"><div class=\"sk-text-repr-fallback\"><pre>VotingRegressor(estimators=[(&#x27;dt&#x27;, DecisionTreeRegressor()),\n",
              "                            (&#x27;lin&#x27;, LinearRegression()), (&#x27;l2&#x27;, Ridge())])</pre><b>In a Jupyter environment, please rerun this cell to show the HTML representation or trust the notebook. <br />On GitHub, the HTML representation is unable to render, please try loading this page with nbviewer.org.</b></div><div class=\"sk-container\" hidden><div class=\"sk-item sk-dashed-wrapped\"><div class=\"sk-label-container\"><div class=\"sk-label sk-toggleable\"><input class=\"sk-toggleable__control sk-hidden--visually\" id=\"sk-estimator-id-4\" type=\"checkbox\" ><label for=\"sk-estimator-id-4\" class=\"sk-toggleable__label sk-toggleable__label-arrow\">VotingRegressor</label><div class=\"sk-toggleable__content\"><pre>VotingRegressor(estimators=[(&#x27;dt&#x27;, DecisionTreeRegressor()),\n",
              "                            (&#x27;lin&#x27;, LinearRegression()), (&#x27;l2&#x27;, Ridge())])</pre></div></div></div><div class=\"sk-parallel\"><div class=\"sk-parallel-item\"><div class=\"sk-item\"><div class=\"sk-label-container\"><div class=\"sk-label sk-toggleable\"><label>dt</label></div></div><div class=\"sk-serial\"><div class=\"sk-item\"><div class=\"sk-estimator sk-toggleable\"><input class=\"sk-toggleable__control sk-hidden--visually\" id=\"sk-estimator-id-5\" type=\"checkbox\" ><label for=\"sk-estimator-id-5\" class=\"sk-toggleable__label sk-toggleable__label-arrow\">DecisionTreeRegressor</label><div class=\"sk-toggleable__content\"><pre>DecisionTreeRegressor()</pre></div></div></div></div></div></div><div class=\"sk-parallel-item\"><div class=\"sk-item\"><div class=\"sk-label-container\"><div class=\"sk-label sk-toggleable\"><label>lin</label></div></div><div class=\"sk-serial\"><div class=\"sk-item\"><div class=\"sk-estimator sk-toggleable\"><input class=\"sk-toggleable__control sk-hidden--visually\" id=\"sk-estimator-id-6\" type=\"checkbox\" ><label for=\"sk-estimator-id-6\" class=\"sk-toggleable__label sk-toggleable__label-arrow\">LinearRegression</label><div class=\"sk-toggleable__content\"><pre>LinearRegression()</pre></div></div></div></div></div></div><div class=\"sk-parallel-item\"><div class=\"sk-item\"><div class=\"sk-label-container\"><div class=\"sk-label sk-toggleable\"><label>l2</label></div></div><div class=\"sk-serial\"><div class=\"sk-item\"><div class=\"sk-estimator sk-toggleable\"><input class=\"sk-toggleable__control sk-hidden--visually\" id=\"sk-estimator-id-7\" type=\"checkbox\" ><label for=\"sk-estimator-id-7\" class=\"sk-toggleable__label sk-toggleable__label-arrow\">Ridge</label><div class=\"sk-toggleable__content\"><pre>Ridge()</pre></div></div></div></div></div></div></div></div></div></div>"
            ]
          },
          "metadata": {},
          "execution_count": 40
        }
      ]
    },
    {
      "cell_type": "code",
      "metadata": {
        "colab": {
          "base_uri": "https://localhost:8080/"
        },
        "outputId": "12f66e10-1666-44f0-ce49-939c0e0c4ffb",
        "id": "aQ0wN1sLAuWr"
      },
      "source": [
        "vote.score(X_train, y_train), vote.score(X_test, y_test)"
      ],
      "execution_count": null,
      "outputs": [
        {
          "output_type": "execute_result",
          "data": {
            "text/plain": [
              "(0.9717614317665708, 0.807834525970397)"
            ]
          },
          "metadata": {},
          "execution_count": 41
        }
      ]
    },
    {
      "cell_type": "code",
      "source": [
        "vote.named_estimators"
      ],
      "metadata": {
        "colab": {
          "base_uri": "https://localhost:8080/"
        },
        "id": "7cWsWygeBpZ7",
        "outputId": "45f27ef0-84da-4acc-cbf2-f8872cbb1efa"
      },
      "execution_count": null,
      "outputs": [
        {
          "output_type": "execute_result",
          "data": {
            "text/plain": [
              "{'dt': DecisionTreeRegressor(), 'lin': LinearRegression(), 'l2': Ridge()}"
            ]
          },
          "metadata": {},
          "execution_count": 42
        }
      ]
    },
    {
      "cell_type": "code",
      "source": [
        "for i in vote.named_estimators:\n",
        "    print(f'train model {i} {vote.named_estimators_[i].score(X_train, y_train)}')\n",
        "    print(f'test model {i} {vote.named_estimators_[i].score(X_test, y_test)}')"
      ],
      "metadata": {
        "colab": {
          "base_uri": "https://localhost:8080/"
        },
        "id": "eoHCscc_Asxj",
        "outputId": "6704f398-f615-4bac-86d9-c3fd38a0d75e"
      },
      "execution_count": null,
      "outputs": [
        {
          "output_type": "stream",
          "name": "stdout",
          "text": [
            "train model dt 1.0\n",
            "test model dt 0.7762527460523947\n",
            "train model lin 0.9405742053126412\n",
            "test model lin 0.12454071580031201\n",
            "train model l2 0.924130269961213\n",
            "test model l2 0.8833066093272545\n"
          ]
        }
      ]
    },
    {
      "cell_type": "code",
      "source": [
        "from sklearn.pipeline import make_pipeline\n",
        "from sklearn.preprocessing import StandardScaler\n",
        "\n",
        "\n",
        "vote = VotingRegressor(\n",
        "    estimators=[\n",
        "        ('dt', DecisionTreeRegressor()),\n",
        "        # ('lin', make_pipeline(StandardScaler(), LinearRegression())),\n",
        "        ('l2', make_pipeline(StandardScaler(), Ridge()))\n",
        "    ]\n",
        ")\n",
        "\n",
        "vote.fit(X_train, y_train)"
      ],
      "metadata": {
        "colab": {
          "base_uri": "https://localhost:8080/",
          "height": 163
        },
        "id": "r3yRE8zBBtzN",
        "outputId": "927fda49-b462-42d2-e3a0-53714ae0f0f9"
      },
      "execution_count": null,
      "outputs": [
        {
          "output_type": "execute_result",
          "data": {
            "text/plain": [
              "VotingRegressor(estimators=[('dt', DecisionTreeRegressor()),\n",
              "                            ('l2',\n",
              "                             Pipeline(steps=[('standardscaler',\n",
              "                                              StandardScaler()),\n",
              "                                             ('ridge', Ridge())]))])"
            ],
            "text/html": [
              "<style>#sk-container-id-6 {color: black;}#sk-container-id-6 pre{padding: 0;}#sk-container-id-6 div.sk-toggleable {background-color: white;}#sk-container-id-6 label.sk-toggleable__label {cursor: pointer;display: block;width: 100%;margin-bottom: 0;padding: 0.3em;box-sizing: border-box;text-align: center;}#sk-container-id-6 label.sk-toggleable__label-arrow:before {content: \"▸\";float: left;margin-right: 0.25em;color: #696969;}#sk-container-id-6 label.sk-toggleable__label-arrow:hover:before {color: black;}#sk-container-id-6 div.sk-estimator:hover label.sk-toggleable__label-arrow:before {color: black;}#sk-container-id-6 div.sk-toggleable__content {max-height: 0;max-width: 0;overflow: hidden;text-align: left;background-color: #f0f8ff;}#sk-container-id-6 div.sk-toggleable__content pre {margin: 0.2em;color: black;border-radius: 0.25em;background-color: #f0f8ff;}#sk-container-id-6 input.sk-toggleable__control:checked~div.sk-toggleable__content {max-height: 200px;max-width: 100%;overflow: auto;}#sk-container-id-6 input.sk-toggleable__control:checked~label.sk-toggleable__label-arrow:before {content: \"▾\";}#sk-container-id-6 div.sk-estimator input.sk-toggleable__control:checked~label.sk-toggleable__label {background-color: #d4ebff;}#sk-container-id-6 div.sk-label input.sk-toggleable__control:checked~label.sk-toggleable__label {background-color: #d4ebff;}#sk-container-id-6 input.sk-hidden--visually {border: 0;clip: rect(1px 1px 1px 1px);clip: rect(1px, 1px, 1px, 1px);height: 1px;margin: -1px;overflow: hidden;padding: 0;position: absolute;width: 1px;}#sk-container-id-6 div.sk-estimator {font-family: monospace;background-color: #f0f8ff;border: 1px dotted black;border-radius: 0.25em;box-sizing: border-box;margin-bottom: 0.5em;}#sk-container-id-6 div.sk-estimator:hover {background-color: #d4ebff;}#sk-container-id-6 div.sk-parallel-item::after {content: \"\";width: 100%;border-bottom: 1px solid gray;flex-grow: 1;}#sk-container-id-6 div.sk-label:hover label.sk-toggleable__label {background-color: #d4ebff;}#sk-container-id-6 div.sk-serial::before {content: \"\";position: absolute;border-left: 1px solid gray;box-sizing: border-box;top: 0;bottom: 0;left: 50%;z-index: 0;}#sk-container-id-6 div.sk-serial {display: flex;flex-direction: column;align-items: center;background-color: white;padding-right: 0.2em;padding-left: 0.2em;position: relative;}#sk-container-id-6 div.sk-item {position: relative;z-index: 1;}#sk-container-id-6 div.sk-parallel {display: flex;align-items: stretch;justify-content: center;background-color: white;position: relative;}#sk-container-id-6 div.sk-item::before, #sk-container-id-6 div.sk-parallel-item::before {content: \"\";position: absolute;border-left: 1px solid gray;box-sizing: border-box;top: 0;bottom: 0;left: 50%;z-index: -1;}#sk-container-id-6 div.sk-parallel-item {display: flex;flex-direction: column;z-index: 1;position: relative;background-color: white;}#sk-container-id-6 div.sk-parallel-item:first-child::after {align-self: flex-end;width: 50%;}#sk-container-id-6 div.sk-parallel-item:last-child::after {align-self: flex-start;width: 50%;}#sk-container-id-6 div.sk-parallel-item:only-child::after {width: 0;}#sk-container-id-6 div.sk-dashed-wrapped {border: 1px dashed gray;margin: 0 0.4em 0.5em 0.4em;box-sizing: border-box;padding-bottom: 0.4em;background-color: white;}#sk-container-id-6 div.sk-label label {font-family: monospace;font-weight: bold;display: inline-block;line-height: 1.2em;}#sk-container-id-6 div.sk-label-container {text-align: center;}#sk-container-id-6 div.sk-container {/* jupyter's `normalize.less` sets `[hidden] { display: none; }` but bootstrap.min.css set `[hidden] { display: none !important; }` so we also need the `!important` here to be able to override the default hidden behavior on the sphinx rendered scikit-learn.org. See: https://github.com/scikit-learn/scikit-learn/issues/21755 */display: inline-block !important;position: relative;}#sk-container-id-6 div.sk-text-repr-fallback {display: none;}</style><div id=\"sk-container-id-6\" class=\"sk-top-container\"><div class=\"sk-text-repr-fallback\"><pre>VotingRegressor(estimators=[(&#x27;dt&#x27;, DecisionTreeRegressor()),\n",
              "                            (&#x27;l2&#x27;,\n",
              "                             Pipeline(steps=[(&#x27;standardscaler&#x27;,\n",
              "                                              StandardScaler()),\n",
              "                                             (&#x27;ridge&#x27;, Ridge())]))])</pre><b>In a Jupyter environment, please rerun this cell to show the HTML representation or trust the notebook. <br />On GitHub, the HTML representation is unable to render, please try loading this page with nbviewer.org.</b></div><div class=\"sk-container\" hidden><div class=\"sk-item sk-dashed-wrapped\"><div class=\"sk-label-container\"><div class=\"sk-label sk-toggleable\"><input class=\"sk-toggleable__control sk-hidden--visually\" id=\"sk-estimator-id-14\" type=\"checkbox\" ><label for=\"sk-estimator-id-14\" class=\"sk-toggleable__label sk-toggleable__label-arrow\">VotingRegressor</label><div class=\"sk-toggleable__content\"><pre>VotingRegressor(estimators=[(&#x27;dt&#x27;, DecisionTreeRegressor()),\n",
              "                            (&#x27;l2&#x27;,\n",
              "                             Pipeline(steps=[(&#x27;standardscaler&#x27;,\n",
              "                                              StandardScaler()),\n",
              "                                             (&#x27;ridge&#x27;, Ridge())]))])</pre></div></div></div><div class=\"sk-parallel\"><div class=\"sk-parallel-item\"><div class=\"sk-item\"><div class=\"sk-label-container\"><div class=\"sk-label sk-toggleable\"><label>dt</label></div></div><div class=\"sk-serial\"><div class=\"sk-item\"><div class=\"sk-estimator sk-toggleable\"><input class=\"sk-toggleable__control sk-hidden--visually\" id=\"sk-estimator-id-15\" type=\"checkbox\" ><label for=\"sk-estimator-id-15\" class=\"sk-toggleable__label sk-toggleable__label-arrow\">DecisionTreeRegressor</label><div class=\"sk-toggleable__content\"><pre>DecisionTreeRegressor()</pre></div></div></div></div></div></div><div class=\"sk-parallel-item\"><div class=\"sk-item\"><div class=\"sk-label-container\"><div class=\"sk-label sk-toggleable\"><label>l2</label></div></div><div class=\"sk-serial\"><div class=\"sk-item\"><div class=\"sk-serial\"><div class=\"sk-item\"><div class=\"sk-estimator sk-toggleable\"><input class=\"sk-toggleable__control sk-hidden--visually\" id=\"sk-estimator-id-16\" type=\"checkbox\" ><label for=\"sk-estimator-id-16\" class=\"sk-toggleable__label sk-toggleable__label-arrow\">StandardScaler</label><div class=\"sk-toggleable__content\"><pre>StandardScaler()</pre></div></div></div><div class=\"sk-item\"><div class=\"sk-estimator sk-toggleable\"><input class=\"sk-toggleable__control sk-hidden--visually\" id=\"sk-estimator-id-17\" type=\"checkbox\" ><label for=\"sk-estimator-id-17\" class=\"sk-toggleable__label sk-toggleable__label-arrow\">Ridge</label><div class=\"sk-toggleable__content\"><pre>Ridge()</pre></div></div></div></div></div></div></div></div></div></div></div></div>"
            ]
          },
          "metadata": {},
          "execution_count": 49
        }
      ]
    },
    {
      "cell_type": "code",
      "metadata": {
        "colab": {
          "base_uri": "https://localhost:8080/"
        },
        "outputId": "e8c26604-36e2-4053-98fe-a3e293d8ea60",
        "id": "MtyZ4OTiB486"
      },
      "source": [
        "vote.score(X_train, y_train), vote.score(X_test, y_test)"
      ],
      "execution_count": null,
      "outputs": [
        {
          "output_type": "execute_result",
          "data": {
            "text/plain": [
              "(0.9845420683393219, 0.8772518569519834)"
            ]
          },
          "metadata": {},
          "execution_count": 50
        }
      ]
    },
    {
      "cell_type": "code",
      "source": [
        "vote.named_estimators"
      ],
      "metadata": {
        "colab": {
          "base_uri": "https://localhost:8080/"
        },
        "outputId": "8662b31c-ed72-496f-a1c0-a7ec6b1ddf87",
        "id": "DrQ9oXdIB488"
      },
      "execution_count": null,
      "outputs": [
        {
          "output_type": "execute_result",
          "data": {
            "text/plain": [
              "{'dt': DecisionTreeRegressor(),\n",
              " 'l2': Pipeline(steps=[('standardscaler', StandardScaler()), ('ridge', Ridge())])}"
            ]
          },
          "metadata": {},
          "execution_count": 51
        }
      ]
    },
    {
      "cell_type": "code",
      "source": [
        "for i in vote.named_estimators:\n",
        "    print(f'train model {i} {vote.named_estimators_[i].score(X_train, y_train)}')\n",
        "    print(f'test model {i} {vote.named_estimators_[i].score(X_test, y_test)}')"
      ],
      "metadata": {
        "colab": {
          "base_uri": "https://localhost:8080/"
        },
        "outputId": "360031b0-1b3a-4104-f285-0f0c403711b1",
        "id": "_Y0Lk1SLB48_"
      },
      "execution_count": null,
      "outputs": [
        {
          "output_type": "stream",
          "name": "stdout",
          "text": [
            "train model dt 1.0\n",
            "test model dt 0.7715991789028007\n",
            "train model l2 0.9381682733572878\n",
            "test model l2 0.8649375634573391\n"
          ]
        }
      ]
    },
    {
      "cell_type": "code",
      "source": [
        "vote = VotingRegressor(\n",
        "    estimators=[\n",
        "        ('dt', DecisionTreeRegressor()),\n",
        "        ('l2', make_pipeline(StandardScaler(), Ridge()))\n",
        "    ],\n",
        "    weights=[0.9, 1]\n",
        ")\n",
        "\n",
        "vote.fit(X_train, y_train)"
      ],
      "metadata": {
        "colab": {
          "base_uri": "https://localhost:8080/",
          "height": 163
        },
        "outputId": "e704b0ed-79c6-414f-ac1d-841d128bfc83",
        "id": "KtwXP2wzCFOP"
      },
      "execution_count": null,
      "outputs": [
        {
          "output_type": "execute_result",
          "data": {
            "text/plain": [
              "VotingRegressor(estimators=[('dt', DecisionTreeRegressor()),\n",
              "                            ('l2',\n",
              "                             Pipeline(steps=[('standardscaler',\n",
              "                                              StandardScaler()),\n",
              "                                             ('ridge', Ridge())]))],\n",
              "                weights=[0.9, 1])"
            ],
            "text/html": [
              "<style>#sk-container-id-9 {color: black;}#sk-container-id-9 pre{padding: 0;}#sk-container-id-9 div.sk-toggleable {background-color: white;}#sk-container-id-9 label.sk-toggleable__label {cursor: pointer;display: block;width: 100%;margin-bottom: 0;padding: 0.3em;box-sizing: border-box;text-align: center;}#sk-container-id-9 label.sk-toggleable__label-arrow:before {content: \"▸\";float: left;margin-right: 0.25em;color: #696969;}#sk-container-id-9 label.sk-toggleable__label-arrow:hover:before {color: black;}#sk-container-id-9 div.sk-estimator:hover label.sk-toggleable__label-arrow:before {color: black;}#sk-container-id-9 div.sk-toggleable__content {max-height: 0;max-width: 0;overflow: hidden;text-align: left;background-color: #f0f8ff;}#sk-container-id-9 div.sk-toggleable__content pre {margin: 0.2em;color: black;border-radius: 0.25em;background-color: #f0f8ff;}#sk-container-id-9 input.sk-toggleable__control:checked~div.sk-toggleable__content {max-height: 200px;max-width: 100%;overflow: auto;}#sk-container-id-9 input.sk-toggleable__control:checked~label.sk-toggleable__label-arrow:before {content: \"▾\";}#sk-container-id-9 div.sk-estimator input.sk-toggleable__control:checked~label.sk-toggleable__label {background-color: #d4ebff;}#sk-container-id-9 div.sk-label input.sk-toggleable__control:checked~label.sk-toggleable__label {background-color: #d4ebff;}#sk-container-id-9 input.sk-hidden--visually {border: 0;clip: rect(1px 1px 1px 1px);clip: rect(1px, 1px, 1px, 1px);height: 1px;margin: -1px;overflow: hidden;padding: 0;position: absolute;width: 1px;}#sk-container-id-9 div.sk-estimator {font-family: monospace;background-color: #f0f8ff;border: 1px dotted black;border-radius: 0.25em;box-sizing: border-box;margin-bottom: 0.5em;}#sk-container-id-9 div.sk-estimator:hover {background-color: #d4ebff;}#sk-container-id-9 div.sk-parallel-item::after {content: \"\";width: 100%;border-bottom: 1px solid gray;flex-grow: 1;}#sk-container-id-9 div.sk-label:hover label.sk-toggleable__label {background-color: #d4ebff;}#sk-container-id-9 div.sk-serial::before {content: \"\";position: absolute;border-left: 1px solid gray;box-sizing: border-box;top: 0;bottom: 0;left: 50%;z-index: 0;}#sk-container-id-9 div.sk-serial {display: flex;flex-direction: column;align-items: center;background-color: white;padding-right: 0.2em;padding-left: 0.2em;position: relative;}#sk-container-id-9 div.sk-item {position: relative;z-index: 1;}#sk-container-id-9 div.sk-parallel {display: flex;align-items: stretch;justify-content: center;background-color: white;position: relative;}#sk-container-id-9 div.sk-item::before, #sk-container-id-9 div.sk-parallel-item::before {content: \"\";position: absolute;border-left: 1px solid gray;box-sizing: border-box;top: 0;bottom: 0;left: 50%;z-index: -1;}#sk-container-id-9 div.sk-parallel-item {display: flex;flex-direction: column;z-index: 1;position: relative;background-color: white;}#sk-container-id-9 div.sk-parallel-item:first-child::after {align-self: flex-end;width: 50%;}#sk-container-id-9 div.sk-parallel-item:last-child::after {align-self: flex-start;width: 50%;}#sk-container-id-9 div.sk-parallel-item:only-child::after {width: 0;}#sk-container-id-9 div.sk-dashed-wrapped {border: 1px dashed gray;margin: 0 0.4em 0.5em 0.4em;box-sizing: border-box;padding-bottom: 0.4em;background-color: white;}#sk-container-id-9 div.sk-label label {font-family: monospace;font-weight: bold;display: inline-block;line-height: 1.2em;}#sk-container-id-9 div.sk-label-container {text-align: center;}#sk-container-id-9 div.sk-container {/* jupyter's `normalize.less` sets `[hidden] { display: none; }` but bootstrap.min.css set `[hidden] { display: none !important; }` so we also need the `!important` here to be able to override the default hidden behavior on the sphinx rendered scikit-learn.org. See: https://github.com/scikit-learn/scikit-learn/issues/21755 */display: inline-block !important;position: relative;}#sk-container-id-9 div.sk-text-repr-fallback {display: none;}</style><div id=\"sk-container-id-9\" class=\"sk-top-container\"><div class=\"sk-text-repr-fallback\"><pre>VotingRegressor(estimators=[(&#x27;dt&#x27;, DecisionTreeRegressor()),\n",
              "                            (&#x27;l2&#x27;,\n",
              "                             Pipeline(steps=[(&#x27;standardscaler&#x27;,\n",
              "                                              StandardScaler()),\n",
              "                                             (&#x27;ridge&#x27;, Ridge())]))],\n",
              "                weights=[0.9, 1])</pre><b>In a Jupyter environment, please rerun this cell to show the HTML representation or trust the notebook. <br />On GitHub, the HTML representation is unable to render, please try loading this page with nbviewer.org.</b></div><div class=\"sk-container\" hidden><div class=\"sk-item sk-dashed-wrapped\"><div class=\"sk-label-container\"><div class=\"sk-label sk-toggleable\"><input class=\"sk-toggleable__control sk-hidden--visually\" id=\"sk-estimator-id-30\" type=\"checkbox\" ><label for=\"sk-estimator-id-30\" class=\"sk-toggleable__label sk-toggleable__label-arrow\">VotingRegressor</label><div class=\"sk-toggleable__content\"><pre>VotingRegressor(estimators=[(&#x27;dt&#x27;, DecisionTreeRegressor()),\n",
              "                            (&#x27;l2&#x27;,\n",
              "                             Pipeline(steps=[(&#x27;standardscaler&#x27;,\n",
              "                                              StandardScaler()),\n",
              "                                             (&#x27;ridge&#x27;, Ridge())]))],\n",
              "                weights=[0.9, 1])</pre></div></div></div><div class=\"sk-parallel\"><div class=\"sk-parallel-item\"><div class=\"sk-item\"><div class=\"sk-label-container\"><div class=\"sk-label sk-toggleable\"><label>dt</label></div></div><div class=\"sk-serial\"><div class=\"sk-item\"><div class=\"sk-estimator sk-toggleable\"><input class=\"sk-toggleable__control sk-hidden--visually\" id=\"sk-estimator-id-31\" type=\"checkbox\" ><label for=\"sk-estimator-id-31\" class=\"sk-toggleable__label sk-toggleable__label-arrow\">DecisionTreeRegressor</label><div class=\"sk-toggleable__content\"><pre>DecisionTreeRegressor()</pre></div></div></div></div></div></div><div class=\"sk-parallel-item\"><div class=\"sk-item\"><div class=\"sk-label-container\"><div class=\"sk-label sk-toggleable\"><label>l2</label></div></div><div class=\"sk-serial\"><div class=\"sk-item\"><div class=\"sk-serial\"><div class=\"sk-item\"><div class=\"sk-estimator sk-toggleable\"><input class=\"sk-toggleable__control sk-hidden--visually\" id=\"sk-estimator-id-32\" type=\"checkbox\" ><label for=\"sk-estimator-id-32\" class=\"sk-toggleable__label sk-toggleable__label-arrow\">StandardScaler</label><div class=\"sk-toggleable__content\"><pre>StandardScaler()</pre></div></div></div><div class=\"sk-item\"><div class=\"sk-estimator sk-toggleable\"><input class=\"sk-toggleable__control sk-hidden--visually\" id=\"sk-estimator-id-33\" type=\"checkbox\" ><label for=\"sk-estimator-id-33\" class=\"sk-toggleable__label sk-toggleable__label-arrow\">Ridge</label><div class=\"sk-toggleable__content\"><pre>Ridge()</pre></div></div></div></div></div></div></div></div></div></div></div></div>"
            ]
          },
          "metadata": {},
          "execution_count": 57
        }
      ]
    },
    {
      "cell_type": "code",
      "metadata": {
        "colab": {
          "base_uri": "https://localhost:8080/"
        },
        "outputId": "c91e31ef-eb39-41c5-c37b-c7b473c9b51a",
        "id": "lKTS2MmOCFOV"
      },
      "source": [
        "vote.score(X_train, y_train), vote.score(X_test, y_test)"
      ],
      "execution_count": null,
      "outputs": [
        {
          "output_type": "execute_result",
          "data": {
            "text/plain": [
              "(0.9828720978829052, 0.8794014144295303)"
            ]
          },
          "metadata": {},
          "execution_count": 58
        }
      ]
    },
    {
      "cell_type": "code",
      "source": [
        "for i in vote.named_estimators:\n",
        "    print(f'train model {i} {vote.named_estimators_[i].score(X_train, y_train)}')\n",
        "    print(f'test model {i} {vote.named_estimators_[i].score(X_test, y_test)}')"
      ],
      "metadata": {
        "colab": {
          "base_uri": "https://localhost:8080/"
        },
        "outputId": "39c88846-43e8-4942-917c-44c144bdf8a6",
        "id": "c0Vg-WukCFOZ"
      },
      "execution_count": null,
      "outputs": [
        {
          "output_type": "stream",
          "name": "stdout",
          "text": [
            "train model dt 1.0\n",
            "test model dt 0.761093143390153\n",
            "train model l2 0.9381682733572878\n",
            "test model l2 0.8649375634573391\n"
          ]
        }
      ]
    },
    {
      "cell_type": "markdown",
      "source": [
        "### Stacking\n",
        "\n",
        "\n",
        "<img src='https://drive.google.com/uc?id=18ek8izAoN_M8YIvd6HOIL3ylHlcQIBJt' width=500>\n"
      ],
      "metadata": {
        "id": "qGMBMAtvCR_T"
      }
    },
    {
      "cell_type": "code",
      "metadata": {
        "id": "vPsuVFCOz0nE"
      },
      "source": [
        "from sklearn.ensemble import StackingRegressor\n",
        "from sklearn.neighbors import KNeighborsRegressor\n",
        "from sklearn.linear_model import RidgeCV\n",
        "\n",
        "\n",
        "lr = LinearRegression()\n",
        "stack = StackingRegressor(\n",
        "    [\n",
        "        ('LinearRegression', lr),\n",
        "        ('KNeighborsRegressor', KNeighborsRegressor()),\n",
        "        ('DecisionTree', DecisionTreeRegressor()),\n",
        "    ], RidgeCV([1, 5, 10])\n",
        ")"
      ],
      "execution_count": null,
      "outputs": []
    },
    {
      "cell_type": "code",
      "metadata": {
        "id": "AloJkNmbz0nE",
        "colab": {
          "base_uri": "https://localhost:8080/",
          "height": 181
        },
        "outputId": "32a05fe9-5cb0-4f21-8c46-ecafe0b0f99e"
      },
      "source": [
        "stack.fit(X_train, y_train)"
      ],
      "execution_count": null,
      "outputs": [
        {
          "output_type": "execute_result",
          "data": {
            "text/plain": [
              "StackingRegressor(estimators=[('LinearRegression', LinearRegression()),\n",
              "                              ('KNeighborsRegressor', KNeighborsRegressor()),\n",
              "                              ('DecisionTree', DecisionTreeRegressor())],\n",
              "                  final_estimator=RidgeCV(alphas=[1, 5, 10]))"
            ],
            "text/html": [
              "<style>#sk-container-id-20 {color: black;}#sk-container-id-20 pre{padding: 0;}#sk-container-id-20 div.sk-toggleable {background-color: white;}#sk-container-id-20 label.sk-toggleable__label {cursor: pointer;display: block;width: 100%;margin-bottom: 0;padding: 0.3em;box-sizing: border-box;text-align: center;}#sk-container-id-20 label.sk-toggleable__label-arrow:before {content: \"▸\";float: left;margin-right: 0.25em;color: #696969;}#sk-container-id-20 label.sk-toggleable__label-arrow:hover:before {color: black;}#sk-container-id-20 div.sk-estimator:hover label.sk-toggleable__label-arrow:before {color: black;}#sk-container-id-20 div.sk-toggleable__content {max-height: 0;max-width: 0;overflow: hidden;text-align: left;background-color: #f0f8ff;}#sk-container-id-20 div.sk-toggleable__content pre {margin: 0.2em;color: black;border-radius: 0.25em;background-color: #f0f8ff;}#sk-container-id-20 input.sk-toggleable__control:checked~div.sk-toggleable__content {max-height: 200px;max-width: 100%;overflow: auto;}#sk-container-id-20 input.sk-toggleable__control:checked~label.sk-toggleable__label-arrow:before {content: \"▾\";}#sk-container-id-20 div.sk-estimator input.sk-toggleable__control:checked~label.sk-toggleable__label {background-color: #d4ebff;}#sk-container-id-20 div.sk-label input.sk-toggleable__control:checked~label.sk-toggleable__label {background-color: #d4ebff;}#sk-container-id-20 input.sk-hidden--visually {border: 0;clip: rect(1px 1px 1px 1px);clip: rect(1px, 1px, 1px, 1px);height: 1px;margin: -1px;overflow: hidden;padding: 0;position: absolute;width: 1px;}#sk-container-id-20 div.sk-estimator {font-family: monospace;background-color: #f0f8ff;border: 1px dotted black;border-radius: 0.25em;box-sizing: border-box;margin-bottom: 0.5em;}#sk-container-id-20 div.sk-estimator:hover {background-color: #d4ebff;}#sk-container-id-20 div.sk-parallel-item::after {content: \"\";width: 100%;border-bottom: 1px solid gray;flex-grow: 1;}#sk-container-id-20 div.sk-label:hover label.sk-toggleable__label {background-color: #d4ebff;}#sk-container-id-20 div.sk-serial::before {content: \"\";position: absolute;border-left: 1px solid gray;box-sizing: border-box;top: 0;bottom: 0;left: 50%;z-index: 0;}#sk-container-id-20 div.sk-serial {display: flex;flex-direction: column;align-items: center;background-color: white;padding-right: 0.2em;padding-left: 0.2em;position: relative;}#sk-container-id-20 div.sk-item {position: relative;z-index: 1;}#sk-container-id-20 div.sk-parallel {display: flex;align-items: stretch;justify-content: center;background-color: white;position: relative;}#sk-container-id-20 div.sk-item::before, #sk-container-id-20 div.sk-parallel-item::before {content: \"\";position: absolute;border-left: 1px solid gray;box-sizing: border-box;top: 0;bottom: 0;left: 50%;z-index: -1;}#sk-container-id-20 div.sk-parallel-item {display: flex;flex-direction: column;z-index: 1;position: relative;background-color: white;}#sk-container-id-20 div.sk-parallel-item:first-child::after {align-self: flex-end;width: 50%;}#sk-container-id-20 div.sk-parallel-item:last-child::after {align-self: flex-start;width: 50%;}#sk-container-id-20 div.sk-parallel-item:only-child::after {width: 0;}#sk-container-id-20 div.sk-dashed-wrapped {border: 1px dashed gray;margin: 0 0.4em 0.5em 0.4em;box-sizing: border-box;padding-bottom: 0.4em;background-color: white;}#sk-container-id-20 div.sk-label label {font-family: monospace;font-weight: bold;display: inline-block;line-height: 1.2em;}#sk-container-id-20 div.sk-label-container {text-align: center;}#sk-container-id-20 div.sk-container {/* jupyter's `normalize.less` sets `[hidden] { display: none; }` but bootstrap.min.css set `[hidden] { display: none !important; }` so we also need the `!important` here to be able to override the default hidden behavior on the sphinx rendered scikit-learn.org. See: https://github.com/scikit-learn/scikit-learn/issues/21755 */display: inline-block !important;position: relative;}#sk-container-id-20 div.sk-text-repr-fallback {display: none;}</style><div id=\"sk-container-id-20\" class=\"sk-top-container\"><div class=\"sk-text-repr-fallback\"><pre>StackingRegressor(estimators=[(&#x27;LinearRegression&#x27;, LinearRegression()),\n",
              "                              (&#x27;KNeighborsRegressor&#x27;, KNeighborsRegressor()),\n",
              "                              (&#x27;DecisionTree&#x27;, DecisionTreeRegressor())],\n",
              "                  final_estimator=RidgeCV(alphas=[1, 5, 10]))</pre><b>In a Jupyter environment, please rerun this cell to show the HTML representation or trust the notebook. <br />On GitHub, the HTML representation is unable to render, please try loading this page with nbviewer.org.</b></div><div class=\"sk-container\" hidden><div class=\"sk-item sk-dashed-wrapped\"><div class=\"sk-label-container\"><div class=\"sk-label sk-toggleable\"><input class=\"sk-toggleable__control sk-hidden--visually\" id=\"sk-estimator-id-52\" type=\"checkbox\" ><label for=\"sk-estimator-id-52\" class=\"sk-toggleable__label sk-toggleable__label-arrow\">StackingRegressor</label><div class=\"sk-toggleable__content\"><pre>StackingRegressor(estimators=[(&#x27;LinearRegression&#x27;, LinearRegression()),\n",
              "                              (&#x27;KNeighborsRegressor&#x27;, KNeighborsRegressor()),\n",
              "                              (&#x27;DecisionTree&#x27;, DecisionTreeRegressor())],\n",
              "                  final_estimator=RidgeCV(alphas=[1, 5, 10]))</pre></div></div></div><div class=\"sk-serial\"><div class=\"sk-item\"><div class=\"sk-parallel\"><div class=\"sk-parallel-item\"><div class=\"sk-item\"><div class=\"sk-label-container\"><div class=\"sk-label sk-toggleable\"><label>LinearRegression</label></div></div><div class=\"sk-serial\"><div class=\"sk-item\"><div class=\"sk-estimator sk-toggleable\"><input class=\"sk-toggleable__control sk-hidden--visually\" id=\"sk-estimator-id-53\" type=\"checkbox\" ><label for=\"sk-estimator-id-53\" class=\"sk-toggleable__label sk-toggleable__label-arrow\">LinearRegression</label><div class=\"sk-toggleable__content\"><pre>LinearRegression()</pre></div></div></div></div></div></div><div class=\"sk-parallel-item\"><div class=\"sk-item\"><div class=\"sk-label-container\"><div class=\"sk-label sk-toggleable\"><label>KNeighborsRegressor</label></div></div><div class=\"sk-serial\"><div class=\"sk-item\"><div class=\"sk-estimator sk-toggleable\"><input class=\"sk-toggleable__control sk-hidden--visually\" id=\"sk-estimator-id-54\" type=\"checkbox\" ><label for=\"sk-estimator-id-54\" class=\"sk-toggleable__label sk-toggleable__label-arrow\">KNeighborsRegressor</label><div class=\"sk-toggleable__content\"><pre>KNeighborsRegressor()</pre></div></div></div></div></div></div><div class=\"sk-parallel-item\"><div class=\"sk-item\"><div class=\"sk-label-container\"><div class=\"sk-label sk-toggleable\"><label>DecisionTree</label></div></div><div class=\"sk-serial\"><div class=\"sk-item\"><div class=\"sk-estimator sk-toggleable\"><input class=\"sk-toggleable__control sk-hidden--visually\" id=\"sk-estimator-id-55\" type=\"checkbox\" ><label for=\"sk-estimator-id-55\" class=\"sk-toggleable__label sk-toggleable__label-arrow\">DecisionTreeRegressor</label><div class=\"sk-toggleable__content\"><pre>DecisionTreeRegressor()</pre></div></div></div></div></div></div></div></div><div class=\"sk-item\"><div class=\"sk-parallel\"><div class=\"sk-parallel-item\"><div class=\"sk-item\"><div class=\"sk-label-container\"><div class=\"sk-label sk-toggleable\"><label>final_estimator</label></div></div><div class=\"sk-serial\"><div class=\"sk-item\"><div class=\"sk-estimator sk-toggleable\"><input class=\"sk-toggleable__control sk-hidden--visually\" id=\"sk-estimator-id-56\" type=\"checkbox\" ><label for=\"sk-estimator-id-56\" class=\"sk-toggleable__label sk-toggleable__label-arrow\">RidgeCV</label><div class=\"sk-toggleable__content\"><pre>RidgeCV(alphas=[1, 5, 10])</pre></div></div></div></div></div></div></div></div></div></div></div></div>"
            ]
          },
          "metadata": {},
          "execution_count": 124
        }
      ]
    },
    {
      "cell_type": "code",
      "source": [
        "stack.final_estimator_.alpha_"
      ],
      "metadata": {
        "colab": {
          "base_uri": "https://localhost:8080/"
        },
        "id": "vnv7-FZjijWV",
        "outputId": "b7ed46ab-61c7-4395-a529-2144849d74c2"
      },
      "execution_count": null,
      "outputs": [
        {
          "output_type": "execute_result",
          "data": {
            "text/plain": [
              "10"
            ]
          },
          "metadata": {},
          "execution_count": 125
        }
      ]
    },
    {
      "cell_type": "code",
      "source": [
        "print(f'train {stack.score(X_train, y_train)}')\n",
        "print(f'on test {stack.score(X_test, y_test)}')"
      ],
      "metadata": {
        "colab": {
          "base_uri": "https://localhost:8080/"
        },
        "id": "QEDrmuoLTdY3",
        "outputId": "4b0a0f99-4832-46e0-e874-41ba5adc1762"
      },
      "execution_count": null,
      "outputs": [
        {
          "output_type": "stream",
          "name": "stdout",
          "text": [
            "train 0.9670062952149283\n",
            "on test 0.7675776975117857\n"
          ]
        }
      ]
    },
    {
      "cell_type": "code",
      "metadata": {
        "id": "sc8zBKZOz0nF",
        "colab": {
          "base_uri": "https://localhost:8080/"
        },
        "outputId": "51456642-f126-4498-a574-f8508a6a4343"
      },
      "source": [
        "for i in stack.named_estimators:\n",
        "    print(f'train model {i} {stack.named_estimators_[i].score(X_train, y_train)}')\n",
        "    print(f'test model {i} {stack.named_estimators_[i].score(X_test, y_test)}')"
      ],
      "execution_count": null,
      "outputs": [
        {
          "output_type": "stream",
          "name": "stdout",
          "text": [
            "train model LinearRegression 0.9405742053126412\n",
            "test model LinearRegression 0.12454071580031201\n",
            "train model KNeighborsRegressor 0.7501837788800589\n",
            "test model KNeighborsRegressor 0.676138613361793\n",
            "train model DecisionTree 1.0\n",
            "test model DecisionTree 0.7304804405860326\n"
          ]
        }
      ]
    },
    {
      "cell_type": "markdown",
      "source": [
        "#### 🧠 Упражнение. Реализация своего стэкинга"
      ],
      "metadata": {
        "id": "Qy2vQI7_HNK7"
      }
    },
    {
      "cell_type": "markdown",
      "source": [
        "1. Обучите базовые модели на тренировочной выборке и соберите новый датасет для мета-модели"
      ],
      "metadata": {
        "id": "t1nNvzOOHrLf"
      }
    },
    {
      "cell_type": "code",
      "source": [
        "# Определение базовых моделей\n",
        "model1 = LinearRegression()\n",
        "model2 = DecisionTreeRegressor()\n",
        "model3 = KNeighborsRegressor()\n",
        "\n",
        "# Обучение базовых моделей\n",
        "...\n",
        "\n",
        "# Получение предсказаний базовых моделей на обучающей выборке\n",
        "pred1_train = ...\n",
        "pred2_train = ...\n",
        "pred3_train = ..."
      ],
      "metadata": {
        "id": "CY5k5PI4HqRO"
      },
      "execution_count": null,
      "outputs": []
    },
    {
      "cell_type": "code",
      "source": [
        "# Формирование нового обучающего набора для мета-модели\n",
        "meta_X_train = ...\n",
        "meta_X_train"
      ],
      "metadata": {
        "colab": {
          "base_uri": "https://localhost:8080/"
        },
        "id": "X400g3cbHzz-",
        "outputId": "f258e88a-bfe2-484a-f242-9570d2fbc52c"
      },
      "execution_count": null,
      "outputs": [
        {
          "output_type": "execute_result",
          "data": {
            "text/plain": [
              "array([[177007.38397421, 174000.        , 212680.        ],\n",
              "       [125278.22135251, 145000.        , 132670.        ],\n",
              "       [227898.64063741, 215200.        , 183418.        ],\n",
              "       ...,\n",
              "       [115196.97582276, 115000.        ,  97900.        ],\n",
              "       [163433.74864486, 189950.        , 157090.        ],\n",
              "       [189116.04125762, 174000.        , 180200.        ]])"
            ]
          },
          "metadata": {},
          "execution_count": 130
        }
      ]
    },
    {
      "cell_type": "markdown",
      "source": [
        "2. Обучите мета-модель на новой тренировочной выборке"
      ],
      "metadata": {
        "id": "joRNQyTvH1gX"
      }
    },
    {
      "cell_type": "code",
      "source": [
        "# Обучение мета-модели\n",
        "meta_model = RidgeCV([1, 5, 10])\n",
        "..."
      ],
      "metadata": {
        "colab": {
          "base_uri": "https://localhost:8080/",
          "height": 94
        },
        "id": "9TSFts0IH4Vs",
        "outputId": "a781eb5e-db89-4eb5-8728-d588ba693917"
      },
      "execution_count": null,
      "outputs": [
        {
          "output_type": "execute_result",
          "data": {
            "text/plain": [
              "RidgeCV(alphas=[1, 5, 10])"
            ],
            "text/html": [
              "<style>#sk-container-id-22 {color: black;}#sk-container-id-22 pre{padding: 0;}#sk-container-id-22 div.sk-toggleable {background-color: white;}#sk-container-id-22 label.sk-toggleable__label {cursor: pointer;display: block;width: 100%;margin-bottom: 0;padding: 0.3em;box-sizing: border-box;text-align: center;}#sk-container-id-22 label.sk-toggleable__label-arrow:before {content: \"▸\";float: left;margin-right: 0.25em;color: #696969;}#sk-container-id-22 label.sk-toggleable__label-arrow:hover:before {color: black;}#sk-container-id-22 div.sk-estimator:hover label.sk-toggleable__label-arrow:before {color: black;}#sk-container-id-22 div.sk-toggleable__content {max-height: 0;max-width: 0;overflow: hidden;text-align: left;background-color: #f0f8ff;}#sk-container-id-22 div.sk-toggleable__content pre {margin: 0.2em;color: black;border-radius: 0.25em;background-color: #f0f8ff;}#sk-container-id-22 input.sk-toggleable__control:checked~div.sk-toggleable__content {max-height: 200px;max-width: 100%;overflow: auto;}#sk-container-id-22 input.sk-toggleable__control:checked~label.sk-toggleable__label-arrow:before {content: \"▾\";}#sk-container-id-22 div.sk-estimator input.sk-toggleable__control:checked~label.sk-toggleable__label {background-color: #d4ebff;}#sk-container-id-22 div.sk-label input.sk-toggleable__control:checked~label.sk-toggleable__label {background-color: #d4ebff;}#sk-container-id-22 input.sk-hidden--visually {border: 0;clip: rect(1px 1px 1px 1px);clip: rect(1px, 1px, 1px, 1px);height: 1px;margin: -1px;overflow: hidden;padding: 0;position: absolute;width: 1px;}#sk-container-id-22 div.sk-estimator {font-family: monospace;background-color: #f0f8ff;border: 1px dotted black;border-radius: 0.25em;box-sizing: border-box;margin-bottom: 0.5em;}#sk-container-id-22 div.sk-estimator:hover {background-color: #d4ebff;}#sk-container-id-22 div.sk-parallel-item::after {content: \"\";width: 100%;border-bottom: 1px solid gray;flex-grow: 1;}#sk-container-id-22 div.sk-label:hover label.sk-toggleable__label {background-color: #d4ebff;}#sk-container-id-22 div.sk-serial::before {content: \"\";position: absolute;border-left: 1px solid gray;box-sizing: border-box;top: 0;bottom: 0;left: 50%;z-index: 0;}#sk-container-id-22 div.sk-serial {display: flex;flex-direction: column;align-items: center;background-color: white;padding-right: 0.2em;padding-left: 0.2em;position: relative;}#sk-container-id-22 div.sk-item {position: relative;z-index: 1;}#sk-container-id-22 div.sk-parallel {display: flex;align-items: stretch;justify-content: center;background-color: white;position: relative;}#sk-container-id-22 div.sk-item::before, #sk-container-id-22 div.sk-parallel-item::before {content: \"\";position: absolute;border-left: 1px solid gray;box-sizing: border-box;top: 0;bottom: 0;left: 50%;z-index: -1;}#sk-container-id-22 div.sk-parallel-item {display: flex;flex-direction: column;z-index: 1;position: relative;background-color: white;}#sk-container-id-22 div.sk-parallel-item:first-child::after {align-self: flex-end;width: 50%;}#sk-container-id-22 div.sk-parallel-item:last-child::after {align-self: flex-start;width: 50%;}#sk-container-id-22 div.sk-parallel-item:only-child::after {width: 0;}#sk-container-id-22 div.sk-dashed-wrapped {border: 1px dashed gray;margin: 0 0.4em 0.5em 0.4em;box-sizing: border-box;padding-bottom: 0.4em;background-color: white;}#sk-container-id-22 div.sk-label label {font-family: monospace;font-weight: bold;display: inline-block;line-height: 1.2em;}#sk-container-id-22 div.sk-label-container {text-align: center;}#sk-container-id-22 div.sk-container {/* jupyter's `normalize.less` sets `[hidden] { display: none; }` but bootstrap.min.css set `[hidden] { display: none !important; }` so we also need the `!important` here to be able to override the default hidden behavior on the sphinx rendered scikit-learn.org. See: https://github.com/scikit-learn/scikit-learn/issues/21755 */display: inline-block !important;position: relative;}#sk-container-id-22 div.sk-text-repr-fallback {display: none;}</style><div id=\"sk-container-id-22\" class=\"sk-top-container\"><div class=\"sk-text-repr-fallback\"><pre>RidgeCV(alphas=[1, 5, 10])</pre><b>In a Jupyter environment, please rerun this cell to show the HTML representation or trust the notebook. <br />On GitHub, the HTML representation is unable to render, please try loading this page with nbviewer.org.</b></div><div class=\"sk-container\" hidden><div class=\"sk-item\"><div class=\"sk-estimator sk-toggleable\"><input class=\"sk-toggleable__control sk-hidden--visually\" id=\"sk-estimator-id-58\" type=\"checkbox\" checked><label for=\"sk-estimator-id-58\" class=\"sk-toggleable__label sk-toggleable__label-arrow\">RidgeCV</label><div class=\"sk-toggleable__content\"><pre>RidgeCV(alphas=[1, 5, 10])</pre></div></div></div></div></div>"
            ]
          },
          "metadata": {},
          "execution_count": 132
        }
      ]
    },
    {
      "cell_type": "markdown",
      "source": [
        "3. Получите предсказания не тестовой выборке базовыми моделями и сделайте итоговое предсказание мета-моделью"
      ],
      "metadata": {
        "id": "RrZ-ifd_H6-v"
      }
    },
    {
      "cell_type": "code",
      "source": [
        "# Получение предсказаний базовых моделей на тестовой выборке\n",
        "pred1_test = ...\n",
        "pred2_test = ...\n",
        "pred3_test = ...\n",
        "\n",
        "# Формирование нового тестового набора для мета-модели\n",
        "meta_X_test = ...\n",
        "\n",
        "# Прогнозирование с помощью мета-модели\n",
        "y_pred = ...\n",
        "\n",
        "# Оценка качества модели\n",
        "r2_score(y_test, y_pred)"
      ],
      "metadata": {
        "colab": {
          "base_uri": "https://localhost:8080/"
        },
        "id": "h1CZ_4CAIAfd",
        "outputId": "56a1a33c-52fd-4230-e5e6-9129ef7efee9"
      },
      "execution_count": null,
      "outputs": [
        {
          "output_type": "execute_result",
          "data": {
            "text/plain": [
              "0.7453477941351987"
            ]
          },
          "metadata": {},
          "execution_count": 133
        }
      ]
    },
    {
      "cell_type": "markdown",
      "source": [
        "##### 🧠 Упражнение (ответ). Реализация своего стэкинга"
      ],
      "metadata": {
        "id": "iG687RUYHnuU"
      }
    },
    {
      "cell_type": "code",
      "source": [
        "# Определение базовых моделей\n",
        "model1 = LinearRegression()\n",
        "model2 = DecisionTreeRegressor()\n",
        "model3 = KNeighborsRegressor()\n",
        "\n",
        "# Обучение базовых моделей\n",
        "model1.fit(X_train, y_train)\n",
        "model2.fit(X_train, y_train)\n",
        "model3.fit(X_train, y_train)\n",
        "\n",
        "# Получение предсказаний базовых моделей на обучающей выборке\n",
        "pred1_train = model1.predict(X_train)\n",
        "pred2_train = model2.predict(X_train)\n",
        "pred3_train = model3.predict(X_train)"
      ],
      "metadata": {
        "id": "dhlxdkMnHN8Y"
      },
      "execution_count": null,
      "outputs": []
    },
    {
      "cell_type": "code",
      "source": [
        "# Формирование нового обучающего набора для мета-модели\n",
        "meta_X_train = np.column_stack((pred1_train, pred2_train, pred3_train))\n",
        "\n",
        "# Обучение мета-модели\n",
        "meta_model = RidgeCV([1, 5, 10])\n",
        "meta_model.fit(meta_X_train, y_train)"
      ],
      "metadata": {
        "colab": {
          "base_uri": "https://localhost:8080/",
          "height": 94
        },
        "id": "ALIMWjbcHWr9",
        "outputId": "42d571b0-2943-4e0c-fa3f-cc7684892b69"
      },
      "execution_count": null,
      "outputs": [
        {
          "output_type": "execute_result",
          "data": {
            "text/plain": [
              "RidgeCV(alphas=[1, 5, 10])"
            ],
            "text/html": [
              "<style>#sk-container-id-23 {color: black;}#sk-container-id-23 pre{padding: 0;}#sk-container-id-23 div.sk-toggleable {background-color: white;}#sk-container-id-23 label.sk-toggleable__label {cursor: pointer;display: block;width: 100%;margin-bottom: 0;padding: 0.3em;box-sizing: border-box;text-align: center;}#sk-container-id-23 label.sk-toggleable__label-arrow:before {content: \"▸\";float: left;margin-right: 0.25em;color: #696969;}#sk-container-id-23 label.sk-toggleable__label-arrow:hover:before {color: black;}#sk-container-id-23 div.sk-estimator:hover label.sk-toggleable__label-arrow:before {color: black;}#sk-container-id-23 div.sk-toggleable__content {max-height: 0;max-width: 0;overflow: hidden;text-align: left;background-color: #f0f8ff;}#sk-container-id-23 div.sk-toggleable__content pre {margin: 0.2em;color: black;border-radius: 0.25em;background-color: #f0f8ff;}#sk-container-id-23 input.sk-toggleable__control:checked~div.sk-toggleable__content {max-height: 200px;max-width: 100%;overflow: auto;}#sk-container-id-23 input.sk-toggleable__control:checked~label.sk-toggleable__label-arrow:before {content: \"▾\";}#sk-container-id-23 div.sk-estimator input.sk-toggleable__control:checked~label.sk-toggleable__label {background-color: #d4ebff;}#sk-container-id-23 div.sk-label input.sk-toggleable__control:checked~label.sk-toggleable__label {background-color: #d4ebff;}#sk-container-id-23 input.sk-hidden--visually {border: 0;clip: rect(1px 1px 1px 1px);clip: rect(1px, 1px, 1px, 1px);height: 1px;margin: -1px;overflow: hidden;padding: 0;position: absolute;width: 1px;}#sk-container-id-23 div.sk-estimator {font-family: monospace;background-color: #f0f8ff;border: 1px dotted black;border-radius: 0.25em;box-sizing: border-box;margin-bottom: 0.5em;}#sk-container-id-23 div.sk-estimator:hover {background-color: #d4ebff;}#sk-container-id-23 div.sk-parallel-item::after {content: \"\";width: 100%;border-bottom: 1px solid gray;flex-grow: 1;}#sk-container-id-23 div.sk-label:hover label.sk-toggleable__label {background-color: #d4ebff;}#sk-container-id-23 div.sk-serial::before {content: \"\";position: absolute;border-left: 1px solid gray;box-sizing: border-box;top: 0;bottom: 0;left: 50%;z-index: 0;}#sk-container-id-23 div.sk-serial {display: flex;flex-direction: column;align-items: center;background-color: white;padding-right: 0.2em;padding-left: 0.2em;position: relative;}#sk-container-id-23 div.sk-item {position: relative;z-index: 1;}#sk-container-id-23 div.sk-parallel {display: flex;align-items: stretch;justify-content: center;background-color: white;position: relative;}#sk-container-id-23 div.sk-item::before, #sk-container-id-23 div.sk-parallel-item::before {content: \"\";position: absolute;border-left: 1px solid gray;box-sizing: border-box;top: 0;bottom: 0;left: 50%;z-index: -1;}#sk-container-id-23 div.sk-parallel-item {display: flex;flex-direction: column;z-index: 1;position: relative;background-color: white;}#sk-container-id-23 div.sk-parallel-item:first-child::after {align-self: flex-end;width: 50%;}#sk-container-id-23 div.sk-parallel-item:last-child::after {align-self: flex-start;width: 50%;}#sk-container-id-23 div.sk-parallel-item:only-child::after {width: 0;}#sk-container-id-23 div.sk-dashed-wrapped {border: 1px dashed gray;margin: 0 0.4em 0.5em 0.4em;box-sizing: border-box;padding-bottom: 0.4em;background-color: white;}#sk-container-id-23 div.sk-label label {font-family: monospace;font-weight: bold;display: inline-block;line-height: 1.2em;}#sk-container-id-23 div.sk-label-container {text-align: center;}#sk-container-id-23 div.sk-container {/* jupyter's `normalize.less` sets `[hidden] { display: none; }` but bootstrap.min.css set `[hidden] { display: none !important; }` so we also need the `!important` here to be able to override the default hidden behavior on the sphinx rendered scikit-learn.org. See: https://github.com/scikit-learn/scikit-learn/issues/21755 */display: inline-block !important;position: relative;}#sk-container-id-23 div.sk-text-repr-fallback {display: none;}</style><div id=\"sk-container-id-23\" class=\"sk-top-container\"><div class=\"sk-text-repr-fallback\"><pre>RidgeCV(alphas=[1, 5, 10])</pre><b>In a Jupyter environment, please rerun this cell to show the HTML representation or trust the notebook. <br />On GitHub, the HTML representation is unable to render, please try loading this page with nbviewer.org.</b></div><div class=\"sk-container\" hidden><div class=\"sk-item\"><div class=\"sk-estimator sk-toggleable\"><input class=\"sk-toggleable__control sk-hidden--visually\" id=\"sk-estimator-id-59\" type=\"checkbox\" checked><label for=\"sk-estimator-id-59\" class=\"sk-toggleable__label sk-toggleable__label-arrow\">RidgeCV</label><div class=\"sk-toggleable__content\"><pre>RidgeCV(alphas=[1, 5, 10])</pre></div></div></div></div></div>"
            ]
          },
          "metadata": {},
          "execution_count": 135
        }
      ]
    },
    {
      "cell_type": "code",
      "source": [
        "# Получение предсказаний базовых моделей на тестовой выборке\n",
        "pred1_test = model1.predict(X_test)\n",
        "pred2_test = model2.predict(X_test)\n",
        "pred3_test = model3.predict(X_test)\n",
        "\n",
        "# Формирование нового тестового набора для мета-модели\n",
        "meta_X_test = np.column_stack((pred1_test, pred2_test, pred3_test))\n",
        "\n",
        "# Прогнозирование с помощью мета-модели\n",
        "y_pred = meta_model.predict(meta_X_test)\n",
        "\n",
        "# Оценка качества модели\n",
        "r2_score(y_test, y_pred)"
      ],
      "metadata": {
        "colab": {
          "base_uri": "https://localhost:8080/"
        },
        "id": "K1m4gN0hHh87",
        "outputId": "468c0304-14d6-4673-b60d-8bf979419a47"
      },
      "execution_count": null,
      "outputs": [
        {
          "output_type": "execute_result",
          "data": {
            "text/plain": [
              "0.7676976993067"
            ]
          },
          "metadata": {},
          "execution_count": 136
        }
      ]
    },
    {
      "cell_type": "markdown",
      "metadata": {
        "id": "WrgYbxN2bshh"
      },
      "source": [
        "## Градиентный бустинг\n",
        "\n",
        "[Видео](https://youtu.be/sDv4f4s2SB8) с подробным объяснением алгоритма"
      ]
    },
    {
      "cell_type": "markdown",
      "metadata": {
        "id": "K2o1-Js-74Fx"
      },
      "source": [
        "**Продемонстрируем работу бустинга**"
      ]
    },
    {
      "cell_type": "code",
      "execution_count": null,
      "metadata": {
        "id": "yWDeUC3C74Fz",
        "outputId": "2dae277b-d7d3-440a-dc5e-4c70541187ac",
        "colab": {
          "base_uri": "https://localhost:8080/",
          "height": 444
        }
      },
      "outputs": [
        {
          "output_type": "execute_result",
          "data": {
            "text/plain": [
              "          age       sex       bmi        bp        s1        s2        s3  \\\n",
              "0    0.038076  0.050680  0.061696  0.021872 -0.044223 -0.034821 -0.043401   \n",
              "1   -0.001882 -0.044642 -0.051474 -0.026328 -0.008449 -0.019163  0.074412   \n",
              "2    0.085299  0.050680  0.044451 -0.005670 -0.045599 -0.034194 -0.032356   \n",
              "3   -0.089063 -0.044642 -0.011595 -0.036656  0.012191  0.024991 -0.036038   \n",
              "4    0.005383 -0.044642 -0.036385  0.021872  0.003935  0.015596  0.008142   \n",
              "..        ...       ...       ...       ...       ...       ...       ...   \n",
              "437  0.041708  0.050680  0.019662  0.059744 -0.005697 -0.002566 -0.028674   \n",
              "438 -0.005515  0.050680 -0.015906 -0.067642  0.049341  0.079165 -0.028674   \n",
              "439  0.041708  0.050680 -0.015906  0.017293 -0.037344 -0.013840 -0.024993   \n",
              "440 -0.045472 -0.044642  0.039062  0.001215  0.016318  0.015283 -0.028674   \n",
              "441 -0.045472 -0.044642 -0.073030 -0.081413  0.083740  0.027809  0.173816   \n",
              "\n",
              "           s4        s5        s6  \n",
              "0   -0.002592  0.019907 -0.017646  \n",
              "1   -0.039493 -0.068332 -0.092204  \n",
              "2   -0.002592  0.002861 -0.025930  \n",
              "3    0.034309  0.022688 -0.009362  \n",
              "4   -0.002592 -0.031988 -0.046641  \n",
              "..        ...       ...       ...  \n",
              "437 -0.002592  0.031193  0.007207  \n",
              "438  0.034309 -0.018114  0.044485  \n",
              "439 -0.011080 -0.046883  0.015491  \n",
              "440  0.026560  0.044529 -0.025930  \n",
              "441 -0.039493 -0.004222  0.003064  \n",
              "\n",
              "[442 rows x 10 columns]"
            ],
            "text/html": [
              "\n",
              "  <div id=\"df-87912560-518f-4871-b1a0-b0ea3b0d309f\" class=\"colab-df-container\">\n",
              "    <div>\n",
              "<style scoped>\n",
              "    .dataframe tbody tr th:only-of-type {\n",
              "        vertical-align: middle;\n",
              "    }\n",
              "\n",
              "    .dataframe tbody tr th {\n",
              "        vertical-align: top;\n",
              "    }\n",
              "\n",
              "    .dataframe thead th {\n",
              "        text-align: right;\n",
              "    }\n",
              "</style>\n",
              "<table border=\"1\" class=\"dataframe\">\n",
              "  <thead>\n",
              "    <tr style=\"text-align: right;\">\n",
              "      <th></th>\n",
              "      <th>age</th>\n",
              "      <th>sex</th>\n",
              "      <th>bmi</th>\n",
              "      <th>bp</th>\n",
              "      <th>s1</th>\n",
              "      <th>s2</th>\n",
              "      <th>s3</th>\n",
              "      <th>s4</th>\n",
              "      <th>s5</th>\n",
              "      <th>s6</th>\n",
              "    </tr>\n",
              "  </thead>\n",
              "  <tbody>\n",
              "    <tr>\n",
              "      <th>0</th>\n",
              "      <td>0.038076</td>\n",
              "      <td>0.050680</td>\n",
              "      <td>0.061696</td>\n",
              "      <td>0.021872</td>\n",
              "      <td>-0.044223</td>\n",
              "      <td>-0.034821</td>\n",
              "      <td>-0.043401</td>\n",
              "      <td>-0.002592</td>\n",
              "      <td>0.019907</td>\n",
              "      <td>-0.017646</td>\n",
              "    </tr>\n",
              "    <tr>\n",
              "      <th>1</th>\n",
              "      <td>-0.001882</td>\n",
              "      <td>-0.044642</td>\n",
              "      <td>-0.051474</td>\n",
              "      <td>-0.026328</td>\n",
              "      <td>-0.008449</td>\n",
              "      <td>-0.019163</td>\n",
              "      <td>0.074412</td>\n",
              "      <td>-0.039493</td>\n",
              "      <td>-0.068332</td>\n",
              "      <td>-0.092204</td>\n",
              "    </tr>\n",
              "    <tr>\n",
              "      <th>2</th>\n",
              "      <td>0.085299</td>\n",
              "      <td>0.050680</td>\n",
              "      <td>0.044451</td>\n",
              "      <td>-0.005670</td>\n",
              "      <td>-0.045599</td>\n",
              "      <td>-0.034194</td>\n",
              "      <td>-0.032356</td>\n",
              "      <td>-0.002592</td>\n",
              "      <td>0.002861</td>\n",
              "      <td>-0.025930</td>\n",
              "    </tr>\n",
              "    <tr>\n",
              "      <th>3</th>\n",
              "      <td>-0.089063</td>\n",
              "      <td>-0.044642</td>\n",
              "      <td>-0.011595</td>\n",
              "      <td>-0.036656</td>\n",
              "      <td>0.012191</td>\n",
              "      <td>0.024991</td>\n",
              "      <td>-0.036038</td>\n",
              "      <td>0.034309</td>\n",
              "      <td>0.022688</td>\n",
              "      <td>-0.009362</td>\n",
              "    </tr>\n",
              "    <tr>\n",
              "      <th>4</th>\n",
              "      <td>0.005383</td>\n",
              "      <td>-0.044642</td>\n",
              "      <td>-0.036385</td>\n",
              "      <td>0.021872</td>\n",
              "      <td>0.003935</td>\n",
              "      <td>0.015596</td>\n",
              "      <td>0.008142</td>\n",
              "      <td>-0.002592</td>\n",
              "      <td>-0.031988</td>\n",
              "      <td>-0.046641</td>\n",
              "    </tr>\n",
              "    <tr>\n",
              "      <th>...</th>\n",
              "      <td>...</td>\n",
              "      <td>...</td>\n",
              "      <td>...</td>\n",
              "      <td>...</td>\n",
              "      <td>...</td>\n",
              "      <td>...</td>\n",
              "      <td>...</td>\n",
              "      <td>...</td>\n",
              "      <td>...</td>\n",
              "      <td>...</td>\n",
              "    </tr>\n",
              "    <tr>\n",
              "      <th>437</th>\n",
              "      <td>0.041708</td>\n",
              "      <td>0.050680</td>\n",
              "      <td>0.019662</td>\n",
              "      <td>0.059744</td>\n",
              "      <td>-0.005697</td>\n",
              "      <td>-0.002566</td>\n",
              "      <td>-0.028674</td>\n",
              "      <td>-0.002592</td>\n",
              "      <td>0.031193</td>\n",
              "      <td>0.007207</td>\n",
              "    </tr>\n",
              "    <tr>\n",
              "      <th>438</th>\n",
              "      <td>-0.005515</td>\n",
              "      <td>0.050680</td>\n",
              "      <td>-0.015906</td>\n",
              "      <td>-0.067642</td>\n",
              "      <td>0.049341</td>\n",
              "      <td>0.079165</td>\n",
              "      <td>-0.028674</td>\n",
              "      <td>0.034309</td>\n",
              "      <td>-0.018114</td>\n",
              "      <td>0.044485</td>\n",
              "    </tr>\n",
              "    <tr>\n",
              "      <th>439</th>\n",
              "      <td>0.041708</td>\n",
              "      <td>0.050680</td>\n",
              "      <td>-0.015906</td>\n",
              "      <td>0.017293</td>\n",
              "      <td>-0.037344</td>\n",
              "      <td>-0.013840</td>\n",
              "      <td>-0.024993</td>\n",
              "      <td>-0.011080</td>\n",
              "      <td>-0.046883</td>\n",
              "      <td>0.015491</td>\n",
              "    </tr>\n",
              "    <tr>\n",
              "      <th>440</th>\n",
              "      <td>-0.045472</td>\n",
              "      <td>-0.044642</td>\n",
              "      <td>0.039062</td>\n",
              "      <td>0.001215</td>\n",
              "      <td>0.016318</td>\n",
              "      <td>0.015283</td>\n",
              "      <td>-0.028674</td>\n",
              "      <td>0.026560</td>\n",
              "      <td>0.044529</td>\n",
              "      <td>-0.025930</td>\n",
              "    </tr>\n",
              "    <tr>\n",
              "      <th>441</th>\n",
              "      <td>-0.045472</td>\n",
              "      <td>-0.044642</td>\n",
              "      <td>-0.073030</td>\n",
              "      <td>-0.081413</td>\n",
              "      <td>0.083740</td>\n",
              "      <td>0.027809</td>\n",
              "      <td>0.173816</td>\n",
              "      <td>-0.039493</td>\n",
              "      <td>-0.004222</td>\n",
              "      <td>0.003064</td>\n",
              "    </tr>\n",
              "  </tbody>\n",
              "</table>\n",
              "<p>442 rows × 10 columns</p>\n",
              "</div>\n",
              "    <div class=\"colab-df-buttons\">\n",
              "\n",
              "  <div class=\"colab-df-container\">\n",
              "    <button class=\"colab-df-convert\" onclick=\"convertToInteractive('df-87912560-518f-4871-b1a0-b0ea3b0d309f')\"\n",
              "            title=\"Convert this dataframe to an interactive table.\"\n",
              "            style=\"display:none;\">\n",
              "\n",
              "  <svg xmlns=\"http://www.w3.org/2000/svg\" height=\"24px\" viewBox=\"0 -960 960 960\">\n",
              "    <path d=\"M120-120v-720h720v720H120Zm60-500h600v-160H180v160Zm220 220h160v-160H400v160Zm0 220h160v-160H400v160ZM180-400h160v-160H180v160Zm440 0h160v-160H620v160ZM180-180h160v-160H180v160Zm440 0h160v-160H620v160Z\"/>\n",
              "  </svg>\n",
              "    </button>\n",
              "\n",
              "  <style>\n",
              "    .colab-df-container {\n",
              "      display:flex;\n",
              "      gap: 12px;\n",
              "    }\n",
              "\n",
              "    .colab-df-convert {\n",
              "      background-color: #E8F0FE;\n",
              "      border: none;\n",
              "      border-radius: 50%;\n",
              "      cursor: pointer;\n",
              "      display: none;\n",
              "      fill: #1967D2;\n",
              "      height: 32px;\n",
              "      padding: 0 0 0 0;\n",
              "      width: 32px;\n",
              "    }\n",
              "\n",
              "    .colab-df-convert:hover {\n",
              "      background-color: #E2EBFA;\n",
              "      box-shadow: 0px 1px 2px rgba(60, 64, 67, 0.3), 0px 1px 3px 1px rgba(60, 64, 67, 0.15);\n",
              "      fill: #174EA6;\n",
              "    }\n",
              "\n",
              "    .colab-df-buttons div {\n",
              "      margin-bottom: 4px;\n",
              "    }\n",
              "\n",
              "    [theme=dark] .colab-df-convert {\n",
              "      background-color: #3B4455;\n",
              "      fill: #D2E3FC;\n",
              "    }\n",
              "\n",
              "    [theme=dark] .colab-df-convert:hover {\n",
              "      background-color: #434B5C;\n",
              "      box-shadow: 0px 1px 3px 1px rgba(0, 0, 0, 0.15);\n",
              "      filter: drop-shadow(0px 1px 2px rgba(0, 0, 0, 0.3));\n",
              "      fill: #FFFFFF;\n",
              "    }\n",
              "  </style>\n",
              "\n",
              "    <script>\n",
              "      const buttonEl =\n",
              "        document.querySelector('#df-87912560-518f-4871-b1a0-b0ea3b0d309f button.colab-df-convert');\n",
              "      buttonEl.style.display =\n",
              "        google.colab.kernel.accessAllowed ? 'block' : 'none';\n",
              "\n",
              "      async function convertToInteractive(key) {\n",
              "        const element = document.querySelector('#df-87912560-518f-4871-b1a0-b0ea3b0d309f');\n",
              "        const dataTable =\n",
              "          await google.colab.kernel.invokeFunction('convertToInteractive',\n",
              "                                                    [key], {});\n",
              "        if (!dataTable) return;\n",
              "\n",
              "        const docLinkHtml = 'Like what you see? Visit the ' +\n",
              "          '<a target=\"_blank\" href=https://colab.research.google.com/notebooks/data_table.ipynb>data table notebook</a>'\n",
              "          + ' to learn more about interactive tables.';\n",
              "        element.innerHTML = '';\n",
              "        dataTable['output_type'] = 'display_data';\n",
              "        await google.colab.output.renderOutput(dataTable, element);\n",
              "        const docLink = document.createElement('div');\n",
              "        docLink.innerHTML = docLinkHtml;\n",
              "        element.appendChild(docLink);\n",
              "      }\n",
              "    </script>\n",
              "  </div>\n",
              "\n",
              "\n",
              "<div id=\"df-ef386002-adc3-45c4-98c5-7a3e21d80716\">\n",
              "  <button class=\"colab-df-quickchart\" onclick=\"quickchart('df-ef386002-adc3-45c4-98c5-7a3e21d80716')\"\n",
              "            title=\"Suggest charts\"\n",
              "            style=\"display:none;\">\n",
              "\n",
              "<svg xmlns=\"http://www.w3.org/2000/svg\" height=\"24px\"viewBox=\"0 0 24 24\"\n",
              "     width=\"24px\">\n",
              "    <g>\n",
              "        <path d=\"M19 3H5c-1.1 0-2 .9-2 2v14c0 1.1.9 2 2 2h14c1.1 0 2-.9 2-2V5c0-1.1-.9-2-2-2zM9 17H7v-7h2v7zm4 0h-2V7h2v10zm4 0h-2v-4h2v4z\"/>\n",
              "    </g>\n",
              "</svg>\n",
              "  </button>\n",
              "\n",
              "<style>\n",
              "  .colab-df-quickchart {\n",
              "      --bg-color: #E8F0FE;\n",
              "      --fill-color: #1967D2;\n",
              "      --hover-bg-color: #E2EBFA;\n",
              "      --hover-fill-color: #174EA6;\n",
              "      --disabled-fill-color: #AAA;\n",
              "      --disabled-bg-color: #DDD;\n",
              "  }\n",
              "\n",
              "  [theme=dark] .colab-df-quickchart {\n",
              "      --bg-color: #3B4455;\n",
              "      --fill-color: #D2E3FC;\n",
              "      --hover-bg-color: #434B5C;\n",
              "      --hover-fill-color: #FFFFFF;\n",
              "      --disabled-bg-color: #3B4455;\n",
              "      --disabled-fill-color: #666;\n",
              "  }\n",
              "\n",
              "  .colab-df-quickchart {\n",
              "    background-color: var(--bg-color);\n",
              "    border: none;\n",
              "    border-radius: 50%;\n",
              "    cursor: pointer;\n",
              "    display: none;\n",
              "    fill: var(--fill-color);\n",
              "    height: 32px;\n",
              "    padding: 0;\n",
              "    width: 32px;\n",
              "  }\n",
              "\n",
              "  .colab-df-quickchart:hover {\n",
              "    background-color: var(--hover-bg-color);\n",
              "    box-shadow: 0 1px 2px rgba(60, 64, 67, 0.3), 0 1px 3px 1px rgba(60, 64, 67, 0.15);\n",
              "    fill: var(--button-hover-fill-color);\n",
              "  }\n",
              "\n",
              "  .colab-df-quickchart-complete:disabled,\n",
              "  .colab-df-quickchart-complete:disabled:hover {\n",
              "    background-color: var(--disabled-bg-color);\n",
              "    fill: var(--disabled-fill-color);\n",
              "    box-shadow: none;\n",
              "  }\n",
              "\n",
              "  .colab-df-spinner {\n",
              "    border: 2px solid var(--fill-color);\n",
              "    border-color: transparent;\n",
              "    border-bottom-color: var(--fill-color);\n",
              "    animation:\n",
              "      spin 1s steps(1) infinite;\n",
              "  }\n",
              "\n",
              "  @keyframes spin {\n",
              "    0% {\n",
              "      border-color: transparent;\n",
              "      border-bottom-color: var(--fill-color);\n",
              "      border-left-color: var(--fill-color);\n",
              "    }\n",
              "    20% {\n",
              "      border-color: transparent;\n",
              "      border-left-color: var(--fill-color);\n",
              "      border-top-color: var(--fill-color);\n",
              "    }\n",
              "    30% {\n",
              "      border-color: transparent;\n",
              "      border-left-color: var(--fill-color);\n",
              "      border-top-color: var(--fill-color);\n",
              "      border-right-color: var(--fill-color);\n",
              "    }\n",
              "    40% {\n",
              "      border-color: transparent;\n",
              "      border-right-color: var(--fill-color);\n",
              "      border-top-color: var(--fill-color);\n",
              "    }\n",
              "    60% {\n",
              "      border-color: transparent;\n",
              "      border-right-color: var(--fill-color);\n",
              "    }\n",
              "    80% {\n",
              "      border-color: transparent;\n",
              "      border-right-color: var(--fill-color);\n",
              "      border-bottom-color: var(--fill-color);\n",
              "    }\n",
              "    90% {\n",
              "      border-color: transparent;\n",
              "      border-bottom-color: var(--fill-color);\n",
              "    }\n",
              "  }\n",
              "</style>\n",
              "\n",
              "  <script>\n",
              "    async function quickchart(key) {\n",
              "      const quickchartButtonEl =\n",
              "        document.querySelector('#' + key + ' button');\n",
              "      quickchartButtonEl.disabled = true;  // To prevent multiple clicks.\n",
              "      quickchartButtonEl.classList.add('colab-df-spinner');\n",
              "      try {\n",
              "        const charts = await google.colab.kernel.invokeFunction(\n",
              "            'suggestCharts', [key], {});\n",
              "      } catch (error) {\n",
              "        console.error('Error during call to suggestCharts:', error);\n",
              "      }\n",
              "      quickchartButtonEl.classList.remove('colab-df-spinner');\n",
              "      quickchartButtonEl.classList.add('colab-df-quickchart-complete');\n",
              "    }\n",
              "    (() => {\n",
              "      let quickchartButtonEl =\n",
              "        document.querySelector('#df-ef386002-adc3-45c4-98c5-7a3e21d80716 button');\n",
              "      quickchartButtonEl.style.display =\n",
              "        google.colab.kernel.accessAllowed ? 'block' : 'none';\n",
              "    })();\n",
              "  </script>\n",
              "</div>\n",
              "    </div>\n",
              "  </div>\n"
            ],
            "application/vnd.google.colaboratory.intrinsic+json": {
              "type": "dataframe",
              "variable_name": "X",
              "summary": "{\n  \"name\": \"X\",\n  \"rows\": 442,\n  \"fields\": [\n    {\n      \"column\": \"age\",\n      \"properties\": {\n        \"dtype\": \"number\",\n        \"std\": 0.047619047619047644,\n        \"min\": -0.1072256316073538,\n        \"max\": 0.11072667545381144,\n        \"num_unique_values\": 58,\n        \"samples\": [\n          0.038075906433423026,\n          -0.09269547780327612,\n          0.01991321417832592\n        ],\n        \"semantic_type\": \"\",\n        \"description\": \"\"\n      }\n    },\n    {\n      \"column\": \"sex\",\n      \"properties\": {\n        \"dtype\": \"number\",\n        \"std\": 0.047619047619047665,\n        \"min\": -0.044641636506989144,\n        \"max\": 0.05068011873981862,\n        \"num_unique_values\": 2,\n        \"samples\": [\n          -0.044641636506989144,\n          0.05068011873981862\n        ],\n        \"semantic_type\": \"\",\n        \"description\": \"\"\n      }\n    },\n    {\n      \"column\": \"bmi\",\n      \"properties\": {\n        \"dtype\": \"number\",\n        \"std\": 0.047619047619047616,\n        \"min\": -0.09027529589850945,\n        \"max\": 0.17055522598064407,\n        \"num_unique_values\": 163,\n        \"samples\": [\n          0.008883414898524095,\n          -0.05470749746044306\n        ],\n        \"semantic_type\": \"\",\n        \"description\": \"\"\n      }\n    },\n    {\n      \"column\": \"bp\",\n      \"properties\": {\n        \"dtype\": \"number\",\n        \"std\": 0.047619047619047596,\n        \"min\": -0.11239880254408448,\n        \"max\": 0.13204361674121307,\n        \"num_unique_values\": 100,\n        \"samples\": [\n          0.03333707926361473,\n          0.02531523648988596\n        ],\n        \"semantic_type\": \"\",\n        \"description\": \"\"\n      }\n    },\n    {\n      \"column\": \"s1\",\n      \"properties\": {\n        \"dtype\": \"number\",\n        \"std\": 0.04761904761904759,\n        \"min\": -0.12678066991651324,\n        \"max\": 0.15391371315651542,\n        \"num_unique_values\": 141,\n        \"samples\": [\n          0.041085578784023497,\n          0.08374011738825825\n        ],\n        \"semantic_type\": \"\",\n        \"description\": \"\"\n      }\n    },\n    {\n      \"column\": \"s2\",\n      \"properties\": {\n        \"dtype\": \"number\",\n        \"std\": 0.047619047619047644,\n        \"min\": -0.11561306597939897,\n        \"max\": 0.19878798965729408,\n        \"num_unique_values\": 302,\n        \"samples\": [\n          0.07415490186505921,\n          0.07008397186179521\n        ],\n        \"semantic_type\": \"\",\n        \"description\": \"\"\n      }\n    },\n    {\n      \"column\": \"s3\",\n      \"properties\": {\n        \"dtype\": \"number\",\n        \"std\": 0.047619047619047596,\n        \"min\": -0.10230705051741597,\n        \"max\": 0.18117906039727852,\n        \"num_unique_values\": 63,\n        \"samples\": [\n          0.09281975309919192,\n          0.15908923357275687\n        ],\n        \"semantic_type\": \"\",\n        \"description\": \"\"\n      }\n    },\n    {\n      \"column\": \"s4\",\n      \"properties\": {\n        \"dtype\": \"number\",\n        \"std\": 0.047619047619047616,\n        \"min\": -0.0763945037500033,\n        \"max\": 0.18523444326019867,\n        \"num_unique_values\": 66,\n        \"samples\": [\n          0.08670845052151895,\n          -0.024732934523729287\n        ],\n        \"semantic_type\": \"\",\n        \"description\": \"\"\n      }\n    },\n    {\n      \"column\": \"s5\",\n      \"properties\": {\n        \"dtype\": \"number\",\n        \"std\": 0.047619047619047616,\n        \"min\": -0.12609712083330468,\n        \"max\": 0.13359728192191356,\n        \"num_unique_values\": 184,\n        \"samples\": [\n          -0.07213275338232743,\n          -0.021395309255276825\n        ],\n        \"semantic_type\": \"\",\n        \"description\": \"\"\n      }\n    },\n    {\n      \"column\": \"s6\",\n      \"properties\": {\n        \"dtype\": \"number\",\n        \"std\": 0.047619047619047644,\n        \"min\": -0.13776722569000302,\n        \"max\": 0.13561183068907107,\n        \"num_unique_values\": 56,\n        \"samples\": [\n          -0.01764612515980379,\n          -0.09634615654165846\n        ],\n        \"semantic_type\": \"\",\n        \"description\": \"\"\n      }\n    }\n  ]\n}"
            }
          },
          "metadata": {},
          "execution_count": 69
        }
      ],
      "source": [
        "from sklearn.datasets import load_diabetes\n",
        "from sklearn.tree import DecisionTreeRegressor\n",
        "from sklearn.metrics import r2_score\n",
        "\n",
        "\n",
        "X, y = load_diabetes(return_X_y=True, as_frame=True)\n",
        "X"
      ]
    },
    {
      "cell_type": "code",
      "execution_count": null,
      "metadata": {
        "id": "ES85Rurj74F1",
        "outputId": "74e544a9-9b88-46a2-8f60-9facfa690a0b",
        "colab": {
          "base_uri": "https://localhost:8080/",
          "height": 478
        }
      },
      "outputs": [
        {
          "output_type": "execute_result",
          "data": {
            "text/plain": [
              "0      151.0\n",
              "1       75.0\n",
              "2      141.0\n",
              "3      206.0\n",
              "4      135.0\n",
              "       ...  \n",
              "437    178.0\n",
              "438    104.0\n",
              "439    132.0\n",
              "440    220.0\n",
              "441     57.0\n",
              "Name: target, Length: 442, dtype: float64"
            ],
            "text/html": [
              "<div>\n",
              "<style scoped>\n",
              "    .dataframe tbody tr th:only-of-type {\n",
              "        vertical-align: middle;\n",
              "    }\n",
              "\n",
              "    .dataframe tbody tr th {\n",
              "        vertical-align: top;\n",
              "    }\n",
              "\n",
              "    .dataframe thead th {\n",
              "        text-align: right;\n",
              "    }\n",
              "</style>\n",
              "<table border=\"1\" class=\"dataframe\">\n",
              "  <thead>\n",
              "    <tr style=\"text-align: right;\">\n",
              "      <th></th>\n",
              "      <th>target</th>\n",
              "    </tr>\n",
              "  </thead>\n",
              "  <tbody>\n",
              "    <tr>\n",
              "      <th>0</th>\n",
              "      <td>151.0</td>\n",
              "    </tr>\n",
              "    <tr>\n",
              "      <th>1</th>\n",
              "      <td>75.0</td>\n",
              "    </tr>\n",
              "    <tr>\n",
              "      <th>2</th>\n",
              "      <td>141.0</td>\n",
              "    </tr>\n",
              "    <tr>\n",
              "      <th>3</th>\n",
              "      <td>206.0</td>\n",
              "    </tr>\n",
              "    <tr>\n",
              "      <th>4</th>\n",
              "      <td>135.0</td>\n",
              "    </tr>\n",
              "    <tr>\n",
              "      <th>...</th>\n",
              "      <td>...</td>\n",
              "    </tr>\n",
              "    <tr>\n",
              "      <th>437</th>\n",
              "      <td>178.0</td>\n",
              "    </tr>\n",
              "    <tr>\n",
              "      <th>438</th>\n",
              "      <td>104.0</td>\n",
              "    </tr>\n",
              "    <tr>\n",
              "      <th>439</th>\n",
              "      <td>132.0</td>\n",
              "    </tr>\n",
              "    <tr>\n",
              "      <th>440</th>\n",
              "      <td>220.0</td>\n",
              "    </tr>\n",
              "    <tr>\n",
              "      <th>441</th>\n",
              "      <td>57.0</td>\n",
              "    </tr>\n",
              "  </tbody>\n",
              "</table>\n",
              "<p>442 rows × 1 columns</p>\n",
              "</div><br><label><b>dtype:</b> float64</label>"
            ]
          },
          "metadata": {},
          "execution_count": 70
        }
      ],
      "source": [
        "y"
      ]
    },
    {
      "cell_type": "code",
      "execution_count": null,
      "metadata": {
        "id": "blW7jY5d74F3",
        "outputId": "441041a4-d52a-4ace-8953-fc3386912d1e",
        "colab": {
          "base_uri": "https://localhost:8080/"
        }
      },
      "outputs": [
        {
          "output_type": "stream",
          "name": "stdout",
          "text": [
            "R2 score 0.5006720154703376\n"
          ]
        }
      ],
      "source": [
        "# Обучаем первое дерево\n",
        "tree1 = DecisionTreeRegressor(max_depth=3,\n",
        "                              random_state=2)\n",
        "tree1.fit(X, y)\n",
        "\n",
        "prediction1 = tree1.predict(X)\n",
        "print(f'R2 score {r2_score(y, prediction1)}')"
      ]
    },
    {
      "cell_type": "code",
      "execution_count": null,
      "metadata": {
        "id": "pst9dgrw74F4",
        "outputId": "4efff2fd-567d-496b-e07f-c1cb1698ae09",
        "colab": {
          "base_uri": "https://localhost:8080/"
        }
      },
      "outputs": [
        {
          "output_type": "execute_result",
          "data": {
            "text/plain": [
              "(141.0, 208.57142857142858, -67.57142857142858)"
            ]
          },
          "metadata": {},
          "execution_count": 72
        }
      ],
      "source": [
        "# Подсчитываем остатки\n",
        "residual1 = y - prediction1\n",
        "y[2], prediction1[2], residual1[2]"
      ]
    },
    {
      "cell_type": "code",
      "execution_count": null,
      "metadata": {
        "id": "PygFa_Sy74F6",
        "outputId": "c78ee7c7-abd4-426c-e20c-c88072ac0d89",
        "colab": {
          "base_uri": "https://localhost:8080/"
        }
      },
      "outputs": [
        {
          "output_type": "stream",
          "name": "stdout",
          "text": [
            "R2 score 0.5785866108916171\n"
          ]
        }
      ],
      "source": [
        "# Обучаем второе дерево на ошибках предыдущих\n",
        "tree2 = DecisionTreeRegressor(max_depth=3,\n",
        "                              random_state=2)\n",
        "\n",
        "tree2.fit(X, residual1)\n",
        "\n",
        "prediction2 = tree1.predict(X) + tree2.predict(X)\n",
        "print(f'R2 score {r2_score(y, prediction2)}')"
      ]
    },
    {
      "cell_type": "code",
      "execution_count": null,
      "metadata": {
        "id": "SmMnvE9074F7",
        "outputId": "dbf8b65f-339b-4a32-e241-54da52440cda",
        "colab": {
          "base_uri": "https://localhost:8080/"
        }
      },
      "outputs": [
        {
          "output_type": "execute_result",
          "data": {
            "text/plain": [
              "(141.0, 207.5052553799773, -66.50525537997731)"
            ]
          },
          "metadata": {},
          "execution_count": 74
        }
      ],
      "source": [
        "# Подсчитываем остатки\n",
        "residual2 = y - prediction2\n",
        "y[2], prediction2[2], residual2[2]"
      ]
    },
    {
      "cell_type": "code",
      "execution_count": null,
      "metadata": {
        "id": "-J_OfaPd74F8",
        "outputId": "8f00c2ea-c7ea-4d67-e459-41223a9b5b5d",
        "colab": {
          "base_uri": "https://localhost:8080/"
        }
      },
      "outputs": [
        {
          "output_type": "stream",
          "name": "stdout",
          "text": [
            "R2 score 0.6271203539706915\n"
          ]
        }
      ],
      "source": [
        "# Обучаем третье дерево на ошибках предыдущих\n",
        "tree3 = DecisionTreeRegressor(max_depth=3,\n",
        "                              random_state=2)\n",
        "\n",
        "tree3.fit(X, residual2)\n",
        "\n",
        "prediction3 = tree1.predict(X) + tree2.predict(X) + tree3.predict(X)\n",
        "print(f'R2 score {r2_score(y, prediction3)}')"
      ]
    },
    {
      "cell_type": "code",
      "execution_count": null,
      "metadata": {
        "id": "zL-xjm4g74F9",
        "outputId": "74972460-a948-4d69-84c4-143ffa845c3f",
        "colab": {
          "base_uri": "https://localhost:8080/"
        }
      },
      "outputs": [
        {
          "output_type": "execute_result",
          "data": {
            "text/plain": [
              "(141.0, 174.76070684814292, -33.76070684814292)"
            ]
          },
          "metadata": {},
          "execution_count": 76
        }
      ],
      "source": [
        "# Подсчитываем остатки\n",
        "residual3 = y - prediction3\n",
        "y[2], prediction3[2], residual3[2]"
      ]
    },
    {
      "cell_type": "markdown",
      "source": [
        "### Обучение градиентного бустинга из sklearn"
      ],
      "metadata": {
        "id": "jWXkqStR8Or3"
      }
    },
    {
      "cell_type": "markdown",
      "metadata": {
        "id": "dfx1Eh4yNkm2"
      },
      "source": [
        "<img src=\"https://drive.google.com/uc?id=1WCvGy1n3t_omeoE48-CC5GS9WsVBH1Yo\" width=800>"
      ]
    },
    {
      "cell_type": "markdown",
      "metadata": {
        "id": "mWDtyih8Nkm2"
      },
      "source": [
        "<img src=\"https://drive.google.com/uc?id=1hvlxUhEaLmvABrKWgv4BDy0E-8noSFYN\" width=800>"
      ]
    },
    {
      "cell_type": "code",
      "source": [
        "from sklearn.ensemble import GradientBoostingRegressor\n",
        "\n",
        "boosting = GradientBoostingRegressor(\n",
        "    learning_rate=1,\n",
        "    n_estimators=100,\n",
        "    random_state=10\n",
        ")"
      ],
      "metadata": {
        "id": "WcEZUKKBTrnr"
      },
      "execution_count": null,
      "outputs": []
    },
    {
      "cell_type": "code",
      "metadata": {
        "colab": {
          "base_uri": "https://localhost:8080/",
          "height": 129
        },
        "outputId": "d5324fe6-b014-4ebe-9cf5-97818e587c78",
        "id": "ao-tHtyLTrI8"
      },
      "source": [
        "%%time\n",
        "boosting.fit(X_train, y_train)"
      ],
      "execution_count": null,
      "outputs": [
        {
          "output_type": "stream",
          "name": "stdout",
          "text": [
            "CPU times: user 1.32 s, sys: 3.88 ms, total: 1.33 s\n",
            "Wall time: 2.49 s\n"
          ]
        },
        {
          "output_type": "execute_result",
          "data": {
            "text/plain": [
              "GradientBoostingRegressor(learning_rate=1, random_state=10)"
            ],
            "text/html": [
              "<style>#sk-container-id-13 {color: black;}#sk-container-id-13 pre{padding: 0;}#sk-container-id-13 div.sk-toggleable {background-color: white;}#sk-container-id-13 label.sk-toggleable__label {cursor: pointer;display: block;width: 100%;margin-bottom: 0;padding: 0.3em;box-sizing: border-box;text-align: center;}#sk-container-id-13 label.sk-toggleable__label-arrow:before {content: \"▸\";float: left;margin-right: 0.25em;color: #696969;}#sk-container-id-13 label.sk-toggleable__label-arrow:hover:before {color: black;}#sk-container-id-13 div.sk-estimator:hover label.sk-toggleable__label-arrow:before {color: black;}#sk-container-id-13 div.sk-toggleable__content {max-height: 0;max-width: 0;overflow: hidden;text-align: left;background-color: #f0f8ff;}#sk-container-id-13 div.sk-toggleable__content pre {margin: 0.2em;color: black;border-radius: 0.25em;background-color: #f0f8ff;}#sk-container-id-13 input.sk-toggleable__control:checked~div.sk-toggleable__content {max-height: 200px;max-width: 100%;overflow: auto;}#sk-container-id-13 input.sk-toggleable__control:checked~label.sk-toggleable__label-arrow:before {content: \"▾\";}#sk-container-id-13 div.sk-estimator input.sk-toggleable__control:checked~label.sk-toggleable__label {background-color: #d4ebff;}#sk-container-id-13 div.sk-label input.sk-toggleable__control:checked~label.sk-toggleable__label {background-color: #d4ebff;}#sk-container-id-13 input.sk-hidden--visually {border: 0;clip: rect(1px 1px 1px 1px);clip: rect(1px, 1px, 1px, 1px);height: 1px;margin: -1px;overflow: hidden;padding: 0;position: absolute;width: 1px;}#sk-container-id-13 div.sk-estimator {font-family: monospace;background-color: #f0f8ff;border: 1px dotted black;border-radius: 0.25em;box-sizing: border-box;margin-bottom: 0.5em;}#sk-container-id-13 div.sk-estimator:hover {background-color: #d4ebff;}#sk-container-id-13 div.sk-parallel-item::after {content: \"\";width: 100%;border-bottom: 1px solid gray;flex-grow: 1;}#sk-container-id-13 div.sk-label:hover label.sk-toggleable__label {background-color: #d4ebff;}#sk-container-id-13 div.sk-serial::before {content: \"\";position: absolute;border-left: 1px solid gray;box-sizing: border-box;top: 0;bottom: 0;left: 50%;z-index: 0;}#sk-container-id-13 div.sk-serial {display: flex;flex-direction: column;align-items: center;background-color: white;padding-right: 0.2em;padding-left: 0.2em;position: relative;}#sk-container-id-13 div.sk-item {position: relative;z-index: 1;}#sk-container-id-13 div.sk-parallel {display: flex;align-items: stretch;justify-content: center;background-color: white;position: relative;}#sk-container-id-13 div.sk-item::before, #sk-container-id-13 div.sk-parallel-item::before {content: \"\";position: absolute;border-left: 1px solid gray;box-sizing: border-box;top: 0;bottom: 0;left: 50%;z-index: -1;}#sk-container-id-13 div.sk-parallel-item {display: flex;flex-direction: column;z-index: 1;position: relative;background-color: white;}#sk-container-id-13 div.sk-parallel-item:first-child::after {align-self: flex-end;width: 50%;}#sk-container-id-13 div.sk-parallel-item:last-child::after {align-self: flex-start;width: 50%;}#sk-container-id-13 div.sk-parallel-item:only-child::after {width: 0;}#sk-container-id-13 div.sk-dashed-wrapped {border: 1px dashed gray;margin: 0 0.4em 0.5em 0.4em;box-sizing: border-box;padding-bottom: 0.4em;background-color: white;}#sk-container-id-13 div.sk-label label {font-family: monospace;font-weight: bold;display: inline-block;line-height: 1.2em;}#sk-container-id-13 div.sk-label-container {text-align: center;}#sk-container-id-13 div.sk-container {/* jupyter's `normalize.less` sets `[hidden] { display: none; }` but bootstrap.min.css set `[hidden] { display: none !important; }` so we also need the `!important` here to be able to override the default hidden behavior on the sphinx rendered scikit-learn.org. See: https://github.com/scikit-learn/scikit-learn/issues/21755 */display: inline-block !important;position: relative;}#sk-container-id-13 div.sk-text-repr-fallback {display: none;}</style><div id=\"sk-container-id-13\" class=\"sk-top-container\"><div class=\"sk-text-repr-fallback\"><pre>GradientBoostingRegressor(learning_rate=1, random_state=10)</pre><b>In a Jupyter environment, please rerun this cell to show the HTML representation or trust the notebook. <br />On GitHub, the HTML representation is unable to render, please try loading this page with nbviewer.org.</b></div><div class=\"sk-container\" hidden><div class=\"sk-item\"><div class=\"sk-estimator sk-toggleable\"><input class=\"sk-toggleable__control sk-hidden--visually\" id=\"sk-estimator-id-45\" type=\"checkbox\" checked><label for=\"sk-estimator-id-45\" class=\"sk-toggleable__label sk-toggleable__label-arrow\">GradientBoostingRegressor</label><div class=\"sk-toggleable__content\"><pre>GradientBoostingRegressor(learning_rate=1, random_state=10)</pre></div></div></div></div></div>"
            ]
          },
          "metadata": {},
          "execution_count": 82
        }
      ]
    },
    {
      "cell_type": "code",
      "metadata": {
        "colab": {
          "base_uri": "https://localhost:8080/"
        },
        "outputId": "08b29b85-cd4d-450e-d35c-60da9add1672",
        "id": "-uD7ki0gTrI-"
      },
      "source": [
        "boosting.score(X_train, y_train), boosting.score(X_test, y_test)"
      ],
      "execution_count": null,
      "outputs": [
        {
          "output_type": "execute_result",
          "data": {
            "text/plain": [
              "(0.9975984364178632, 0.8262436612002945)"
            ]
          },
          "metadata": {},
          "execution_count": 83
        }
      ]
    },
    {
      "cell_type": "markdown",
      "source": [
        "#### lightgbm"
      ],
      "metadata": {
        "id": "AAluyC7FU6C-"
      }
    },
    {
      "cell_type": "markdown",
      "metadata": {
        "id": "2pfebyjpNkm7"
      },
      "source": [
        "<img src=\"https://drive.google.com/uc?id=1o6-ciHPtxodQNeUcCuyyVI2VY8rvxpPh\">"
      ]
    },
    {
      "cell_type": "markdown",
      "metadata": {
        "id": "LePY_ClhNkm9"
      },
      "source": [
        "*Exclusive Feature Bundling (EFB)*\n",
        "\n",
        "Разряжённые данные значат, что многие признаки никогда ненулевые вместе. Это позволяет совместить (\"bundle\") эти фичи в одну без потери информации.<br>\n",
        "Пример, у фичи А диапазон значений (0, 10) и у B - (0, 20). Добавляется смещение 10 к значениям фичи B, теперь их диапазон (10, 30). После, можно соединять A и B и использовать \"feature bundle\" с диапазоном (0, 30), чтобы заменить оригинальные A и B."
      ]
    },
    {
      "cell_type": "code",
      "metadata": {
        "id": "Qp0iN4znAoFI"
      },
      "source": [
        "from lightgbm import LGBMRegressor\n",
        "\n",
        "lgbm = LGBMRegressor(\n",
        "    random_state=10\n",
        ")"
      ],
      "execution_count": null,
      "outputs": []
    },
    {
      "cell_type": "code",
      "source": [
        "%%time\n",
        "lgbm.fit(X_train, y_train)"
      ],
      "metadata": {
        "colab": {
          "base_uri": "https://localhost:8080/",
          "height": 251
        },
        "id": "uqTG6up4jqLI",
        "outputId": "25fcb201-64fb-4d46-f7cb-158e80398ddf"
      },
      "execution_count": null,
      "outputs": [
        {
          "output_type": "stream",
          "name": "stdout",
          "text": [
            "[LightGBM] [Warning] Found whitespace in feature_names, replace with underlines\n",
            "[LightGBM] [Info] Auto-choosing row-wise multi-threading, the overhead of testing was 0.001053 seconds.\n",
            "You can set `force_row_wise=true` to remove the overhead.\n",
            "And if memory is not enough, you can set `force_col_wise=true`.\n",
            "[LightGBM] [Info] Total Bins 3094\n",
            "[LightGBM] [Info] Number of data points in the train set: 1022, number of used features: 186\n",
            "[LightGBM] [Info] Start training from score 181312.692759\n",
            "CPU times: user 213 ms, sys: 3.53 ms, total: 217 ms\n",
            "Wall time: 215 ms\n"
          ]
        },
        {
          "output_type": "execute_result",
          "data": {
            "text/plain": [
              "LGBMRegressor(random_state=10)"
            ],
            "text/html": [
              "<style>#sk-container-id-14 {color: black;}#sk-container-id-14 pre{padding: 0;}#sk-container-id-14 div.sk-toggleable {background-color: white;}#sk-container-id-14 label.sk-toggleable__label {cursor: pointer;display: block;width: 100%;margin-bottom: 0;padding: 0.3em;box-sizing: border-box;text-align: center;}#sk-container-id-14 label.sk-toggleable__label-arrow:before {content: \"▸\";float: left;margin-right: 0.25em;color: #696969;}#sk-container-id-14 label.sk-toggleable__label-arrow:hover:before {color: black;}#sk-container-id-14 div.sk-estimator:hover label.sk-toggleable__label-arrow:before {color: black;}#sk-container-id-14 div.sk-toggleable__content {max-height: 0;max-width: 0;overflow: hidden;text-align: left;background-color: #f0f8ff;}#sk-container-id-14 div.sk-toggleable__content pre {margin: 0.2em;color: black;border-radius: 0.25em;background-color: #f0f8ff;}#sk-container-id-14 input.sk-toggleable__control:checked~div.sk-toggleable__content {max-height: 200px;max-width: 100%;overflow: auto;}#sk-container-id-14 input.sk-toggleable__control:checked~label.sk-toggleable__label-arrow:before {content: \"▾\";}#sk-container-id-14 div.sk-estimator input.sk-toggleable__control:checked~label.sk-toggleable__label {background-color: #d4ebff;}#sk-container-id-14 div.sk-label input.sk-toggleable__control:checked~label.sk-toggleable__label {background-color: #d4ebff;}#sk-container-id-14 input.sk-hidden--visually {border: 0;clip: rect(1px 1px 1px 1px);clip: rect(1px, 1px, 1px, 1px);height: 1px;margin: -1px;overflow: hidden;padding: 0;position: absolute;width: 1px;}#sk-container-id-14 div.sk-estimator {font-family: monospace;background-color: #f0f8ff;border: 1px dotted black;border-radius: 0.25em;box-sizing: border-box;margin-bottom: 0.5em;}#sk-container-id-14 div.sk-estimator:hover {background-color: #d4ebff;}#sk-container-id-14 div.sk-parallel-item::after {content: \"\";width: 100%;border-bottom: 1px solid gray;flex-grow: 1;}#sk-container-id-14 div.sk-label:hover label.sk-toggleable__label {background-color: #d4ebff;}#sk-container-id-14 div.sk-serial::before {content: \"\";position: absolute;border-left: 1px solid gray;box-sizing: border-box;top: 0;bottom: 0;left: 50%;z-index: 0;}#sk-container-id-14 div.sk-serial {display: flex;flex-direction: column;align-items: center;background-color: white;padding-right: 0.2em;padding-left: 0.2em;position: relative;}#sk-container-id-14 div.sk-item {position: relative;z-index: 1;}#sk-container-id-14 div.sk-parallel {display: flex;align-items: stretch;justify-content: center;background-color: white;position: relative;}#sk-container-id-14 div.sk-item::before, #sk-container-id-14 div.sk-parallel-item::before {content: \"\";position: absolute;border-left: 1px solid gray;box-sizing: border-box;top: 0;bottom: 0;left: 50%;z-index: -1;}#sk-container-id-14 div.sk-parallel-item {display: flex;flex-direction: column;z-index: 1;position: relative;background-color: white;}#sk-container-id-14 div.sk-parallel-item:first-child::after {align-self: flex-end;width: 50%;}#sk-container-id-14 div.sk-parallel-item:last-child::after {align-self: flex-start;width: 50%;}#sk-container-id-14 div.sk-parallel-item:only-child::after {width: 0;}#sk-container-id-14 div.sk-dashed-wrapped {border: 1px dashed gray;margin: 0 0.4em 0.5em 0.4em;box-sizing: border-box;padding-bottom: 0.4em;background-color: white;}#sk-container-id-14 div.sk-label label {font-family: monospace;font-weight: bold;display: inline-block;line-height: 1.2em;}#sk-container-id-14 div.sk-label-container {text-align: center;}#sk-container-id-14 div.sk-container {/* jupyter's `normalize.less` sets `[hidden] { display: none; }` but bootstrap.min.css set `[hidden] { display: none !important; }` so we also need the `!important` here to be able to override the default hidden behavior on the sphinx rendered scikit-learn.org. See: https://github.com/scikit-learn/scikit-learn/issues/21755 */display: inline-block !important;position: relative;}#sk-container-id-14 div.sk-text-repr-fallback {display: none;}</style><div id=\"sk-container-id-14\" class=\"sk-top-container\"><div class=\"sk-text-repr-fallback\"><pre>LGBMRegressor(random_state=10)</pre><b>In a Jupyter environment, please rerun this cell to show the HTML representation or trust the notebook. <br />On GitHub, the HTML representation is unable to render, please try loading this page with nbviewer.org.</b></div><div class=\"sk-container\" hidden><div class=\"sk-item\"><div class=\"sk-estimator sk-toggleable\"><input class=\"sk-toggleable__control sk-hidden--visually\" id=\"sk-estimator-id-46\" type=\"checkbox\" checked><label for=\"sk-estimator-id-46\" class=\"sk-toggleable__label sk-toggleable__label-arrow\">LGBMRegressor</label><div class=\"sk-toggleable__content\"><pre>LGBMRegressor(random_state=10)</pre></div></div></div></div></div>"
            ]
          },
          "metadata": {},
          "execution_count": 87
        }
      ]
    },
    {
      "cell_type": "code",
      "metadata": {
        "colab": {
          "base_uri": "https://localhost:8080/"
        },
        "outputId": "948af777-6a3d-4c02-d141-4a08b3b16544",
        "id": "m9-8GphuUByT"
      },
      "source": [
        "lgbm.score(X_train, y_train), lgbm.score(X_test, y_test)"
      ],
      "execution_count": null,
      "outputs": [
        {
          "output_type": "execute_result",
          "data": {
            "text/plain": [
              "(0.9761850066240383, 0.9000974446700329)"
            ]
          },
          "metadata": {},
          "execution_count": 88
        }
      ]
    },
    {
      "cell_type": "markdown",
      "source": [
        "#### xgboost"
      ],
      "metadata": {
        "id": "AJgSl3LNU8Cj"
      }
    },
    {
      "cell_type": "markdown",
      "metadata": {
        "id": "kfdUUdCbNkm4"
      },
      "source": [
        "<img src=\"https://drive.google.com/uc?id=1EURpT0NVlaSxQOgdI3p-sPbzrIEeF29w\" width=550px>"
      ]
    },
    {
      "cell_type": "markdown",
      "metadata": {
        "id": "WHtWYQM-Nkm4"
      },
      "source": [
        "<center><h4><i>Похожесть</i></h4></center><br>\n",
        "$$Similarity = \\frac{(\\sum{Resideal_i})^2}{\\sum{[Prev Proba_i * (1 - Prev Proba_i)]} + \\lambda}$$"
      ]
    },
    {
      "cell_type": "code",
      "source": [
        "0.25 / (0.25 + 1)"
      ],
      "metadata": {
        "colab": {
          "base_uri": "https://localhost:8080/"
        },
        "id": "vpMZ2L8lwdra",
        "outputId": "91ff1bf2-1e06-4e8d-ceee-f65a0f31b911"
      },
      "execution_count": null,
      "outputs": [
        {
          "output_type": "execute_result",
          "data": {
            "text/plain": [
              "0.2"
            ]
          },
          "metadata": {},
          "execution_count": 8
        }
      ]
    },
    {
      "cell_type": "markdown",
      "metadata": {
        "id": "MSGBmLBGNkm5"
      },
      "source": [
        "$Similarity_{10} =\\frac{(-0.5 + 0.5 + 0.5 -0.5)^2}{[(0.5 * (1 - 0.5)) + (0.5 * (1 - 0.5)) + (0.5 * (1 - 0.5)) + (0.5 * (1 - 0.5))] + 0} = 0$<br>\n",
        "$Similarity_{11} =\\frac{(-0.5 + 0.5 + 0.5)^2}{[(0.5 * (1 - 0.5)) + (0.5 * (1 - 0.5)) + (0.5 * (1 - 0.5))] + 0} = 0.33$<br>\n",
        "$Similarity_{21} =\\frac{(-0.5)^2}{0.5 * (1 - 0.5) + 0} = 1$"
      ]
    },
    {
      "cell_type": "markdown",
      "metadata": {
        "id": "iFpcf9u8Nkm5"
      },
      "source": [
        "<center><h4><i>Прирост</i></h4></center><br>\n",
        "$$Gain = Left_{Similarity} + Right_{Similarity} - Root_{Similarity}$$"
      ]
    },
    {
      "cell_type": "markdown",
      "metadata": {
        "id": "yu7i237zNkm5"
      },
      "source": [
        "$Gain = 0.33 + 1 - 0 = 1.33$"
      ]
    },
    {
      "cell_type": "markdown",
      "metadata": {
        "id": "d-sF0OI-Nkm6"
      },
      "source": [
        "<center><h4><i>Стрижка деревьев</i></h4></center><br>\n",
        "$$Gain - \\gamma \\geqslant 0 \\Rightarrow оставляем$$\n",
        "$$Gain - \\gamma < 0 \\Rightarrow убираем$$"
      ]
    },
    {
      "cell_type": "markdown",
      "metadata": {
        "id": "-rHPy5I1Nkm6"
      },
      "source": [
        "$\\lambda$ - регуляризация<br>\n",
        "  * default=1\n",
        "\n",
        "$\\gamma$ - минимальный прирост, чтобы не убирать разделение<br>\n",
        "  * default=0\n",
        "  - range: [0,∞]\n",
        "\n",
        "$\\eta$ - learning rate (скорость обучения)<br>\n",
        "  - default=0.3\n",
        "  - range: [0,1]"
      ]
    },
    {
      "cell_type": "code",
      "metadata": {
        "id": "qA34ZWXyUKfI"
      },
      "source": [
        "from xgboost import XGBRegressor\n",
        "\n",
        "xgb = XGBRegressor(\n",
        "    random_state=10\n",
        ")"
      ],
      "execution_count": null,
      "outputs": []
    },
    {
      "cell_type": "code",
      "source": [
        "%%time\n",
        "xgb.fit(X_train, y_train)"
      ],
      "metadata": {
        "colab": {
          "base_uri": "https://localhost:8080/",
          "height": 303
        },
        "id": "j9ofD5Xqjuho",
        "outputId": "9ea195c8-c059-4549-da25-b9c14dee1730"
      },
      "execution_count": null,
      "outputs": [
        {
          "output_type": "stream",
          "name": "stdout",
          "text": [
            "CPU times: user 2.68 s, sys: 7.82 ms, total: 2.69 s\n",
            "Wall time: 2.23 s\n"
          ]
        },
        {
          "output_type": "execute_result",
          "data": {
            "text/plain": [
              "XGBRegressor(base_score=None, booster=None, callbacks=None,\n",
              "             colsample_bylevel=None, colsample_bynode=None,\n",
              "             colsample_bytree=None, device=None, early_stopping_rounds=None,\n",
              "             enable_categorical=False, eval_metric=None, feature_types=None,\n",
              "             gamma=None, grow_policy=None, importance_type=None,\n",
              "             interaction_constraints=None, learning_rate=None, max_bin=None,\n",
              "             max_cat_threshold=None, max_cat_to_onehot=None,\n",
              "             max_delta_step=None, max_depth=None, max_leaves=None,\n",
              "             min_child_weight=None, missing=nan, monotone_constraints=None,\n",
              "             multi_strategy=None, n_estimators=None, n_jobs=None,\n",
              "             num_parallel_tree=None, random_state=10, ...)"
            ],
            "text/html": [
              "<style>#sk-container-id-19 {color: black;}#sk-container-id-19 pre{padding: 0;}#sk-container-id-19 div.sk-toggleable {background-color: white;}#sk-container-id-19 label.sk-toggleable__label {cursor: pointer;display: block;width: 100%;margin-bottom: 0;padding: 0.3em;box-sizing: border-box;text-align: center;}#sk-container-id-19 label.sk-toggleable__label-arrow:before {content: \"▸\";float: left;margin-right: 0.25em;color: #696969;}#sk-container-id-19 label.sk-toggleable__label-arrow:hover:before {color: black;}#sk-container-id-19 div.sk-estimator:hover label.sk-toggleable__label-arrow:before {color: black;}#sk-container-id-19 div.sk-toggleable__content {max-height: 0;max-width: 0;overflow: hidden;text-align: left;background-color: #f0f8ff;}#sk-container-id-19 div.sk-toggleable__content pre {margin: 0.2em;color: black;border-radius: 0.25em;background-color: #f0f8ff;}#sk-container-id-19 input.sk-toggleable__control:checked~div.sk-toggleable__content {max-height: 200px;max-width: 100%;overflow: auto;}#sk-container-id-19 input.sk-toggleable__control:checked~label.sk-toggleable__label-arrow:before {content: \"▾\";}#sk-container-id-19 div.sk-estimator input.sk-toggleable__control:checked~label.sk-toggleable__label {background-color: #d4ebff;}#sk-container-id-19 div.sk-label input.sk-toggleable__control:checked~label.sk-toggleable__label {background-color: #d4ebff;}#sk-container-id-19 input.sk-hidden--visually {border: 0;clip: rect(1px 1px 1px 1px);clip: rect(1px, 1px, 1px, 1px);height: 1px;margin: -1px;overflow: hidden;padding: 0;position: absolute;width: 1px;}#sk-container-id-19 div.sk-estimator {font-family: monospace;background-color: #f0f8ff;border: 1px dotted black;border-radius: 0.25em;box-sizing: border-box;margin-bottom: 0.5em;}#sk-container-id-19 div.sk-estimator:hover {background-color: #d4ebff;}#sk-container-id-19 div.sk-parallel-item::after {content: \"\";width: 100%;border-bottom: 1px solid gray;flex-grow: 1;}#sk-container-id-19 div.sk-label:hover label.sk-toggleable__label {background-color: #d4ebff;}#sk-container-id-19 div.sk-serial::before {content: \"\";position: absolute;border-left: 1px solid gray;box-sizing: border-box;top: 0;bottom: 0;left: 50%;z-index: 0;}#sk-container-id-19 div.sk-serial {display: flex;flex-direction: column;align-items: center;background-color: white;padding-right: 0.2em;padding-left: 0.2em;position: relative;}#sk-container-id-19 div.sk-item {position: relative;z-index: 1;}#sk-container-id-19 div.sk-parallel {display: flex;align-items: stretch;justify-content: center;background-color: white;position: relative;}#sk-container-id-19 div.sk-item::before, #sk-container-id-19 div.sk-parallel-item::before {content: \"\";position: absolute;border-left: 1px solid gray;box-sizing: border-box;top: 0;bottom: 0;left: 50%;z-index: -1;}#sk-container-id-19 div.sk-parallel-item {display: flex;flex-direction: column;z-index: 1;position: relative;background-color: white;}#sk-container-id-19 div.sk-parallel-item:first-child::after {align-self: flex-end;width: 50%;}#sk-container-id-19 div.sk-parallel-item:last-child::after {align-self: flex-start;width: 50%;}#sk-container-id-19 div.sk-parallel-item:only-child::after {width: 0;}#sk-container-id-19 div.sk-dashed-wrapped {border: 1px dashed gray;margin: 0 0.4em 0.5em 0.4em;box-sizing: border-box;padding-bottom: 0.4em;background-color: white;}#sk-container-id-19 div.sk-label label {font-family: monospace;font-weight: bold;display: inline-block;line-height: 1.2em;}#sk-container-id-19 div.sk-label-container {text-align: center;}#sk-container-id-19 div.sk-container {/* jupyter's `normalize.less` sets `[hidden] { display: none; }` but bootstrap.min.css set `[hidden] { display: none !important; }` so we also need the `!important` here to be able to override the default hidden behavior on the sphinx rendered scikit-learn.org. See: https://github.com/scikit-learn/scikit-learn/issues/21755 */display: inline-block !important;position: relative;}#sk-container-id-19 div.sk-text-repr-fallback {display: none;}</style><div id=\"sk-container-id-19\" class=\"sk-top-container\"><div class=\"sk-text-repr-fallback\"><pre>XGBRegressor(base_score=None, booster=None, callbacks=None,\n",
              "             colsample_bylevel=None, colsample_bynode=None,\n",
              "             colsample_bytree=None, device=None, early_stopping_rounds=None,\n",
              "             enable_categorical=False, eval_metric=None, feature_types=None,\n",
              "             gamma=None, grow_policy=None, importance_type=None,\n",
              "             interaction_constraints=None, learning_rate=None, max_bin=None,\n",
              "             max_cat_threshold=None, max_cat_to_onehot=None,\n",
              "             max_delta_step=None, max_depth=None, max_leaves=None,\n",
              "             min_child_weight=None, missing=nan, monotone_constraints=None,\n",
              "             multi_strategy=None, n_estimators=None, n_jobs=None,\n",
              "             num_parallel_tree=None, random_state=10, ...)</pre><b>In a Jupyter environment, please rerun this cell to show the HTML representation or trust the notebook. <br />On GitHub, the HTML representation is unable to render, please try loading this page with nbviewer.org.</b></div><div class=\"sk-container\" hidden><div class=\"sk-item\"><div class=\"sk-estimator sk-toggleable\"><input class=\"sk-toggleable__control sk-hidden--visually\" id=\"sk-estimator-id-51\" type=\"checkbox\" checked><label for=\"sk-estimator-id-51\" class=\"sk-toggleable__label sk-toggleable__label-arrow\">XGBRegressor</label><div class=\"sk-toggleable__content\"><pre>XGBRegressor(base_score=None, booster=None, callbacks=None,\n",
              "             colsample_bylevel=None, colsample_bynode=None,\n",
              "             colsample_bytree=None, device=None, early_stopping_rounds=None,\n",
              "             enable_categorical=False, eval_metric=None, feature_types=None,\n",
              "             gamma=None, grow_policy=None, importance_type=None,\n",
              "             interaction_constraints=None, learning_rate=None, max_bin=None,\n",
              "             max_cat_threshold=None, max_cat_to_onehot=None,\n",
              "             max_delta_step=None, max_depth=None, max_leaves=None,\n",
              "             min_child_weight=None, missing=nan, monotone_constraints=None,\n",
              "             multi_strategy=None, n_estimators=None, n_jobs=None,\n",
              "             num_parallel_tree=None, random_state=10, ...)</pre></div></div></div></div></div>"
            ]
          },
          "metadata": {},
          "execution_count": 102
        }
      ]
    },
    {
      "cell_type": "code",
      "metadata": {
        "colab": {
          "base_uri": "https://localhost:8080/"
        },
        "outputId": "3ea29aca-1245-4e3c-fcb4-12c0bddf1d79",
        "id": "k_l_OW_UUKfL"
      },
      "source": [
        "xgb.score(X_train, y_train), xgb.score(X_test, y_test)"
      ],
      "execution_count": null,
      "outputs": [
        {
          "output_type": "execute_result",
          "data": {
            "text/plain": [
              "(0.9998237781862409, 0.8986904707264346)"
            ]
          },
          "metadata": {},
          "execution_count": 103
        }
      ]
    },
    {
      "cell_type": "markdown",
      "source": [
        "#### catboost"
      ],
      "metadata": {
        "id": "MYeiJvMdU9g1"
      }
    },
    {
      "cell_type": "markdown",
      "metadata": {
        "id": "IIMRU73YNkm_"
      },
      "source": [
        "<img src=\"https://drive.google.com/uc?id=1fV7uyJxoP7cgo3lOp25cUuHKqm4cghlP\">"
      ]
    },
    {
      "cell_type": "code",
      "source": [
        "# 15 obj\n",
        "# 1 tree 10 -> 5 obj error\n",
        "# 2 tree 10 -> 5 obj error\n",
        "# 3 tree 10 -> 5 obj error"
      ],
      "metadata": {
        "id": "FwhVteY7yIQM"
      },
      "execution_count": null,
      "outputs": []
    },
    {
      "cell_type": "markdown",
      "metadata": {
        "id": "i6lKH2Z5Nkm_"
      },
      "source": [
        "- Предотвращение переобучения\n",
        "    - Обучается несколько модель за одну итерацию и высчитываются остатки по наблюдениям на тех моделях, которые не видели его.\n",
        "    - Высокий уровень рандома (перемешивание выборки и много случайности в начале построения дерева)\n",
        "  \n",
        "- Работа с категориальными признаками"
      ]
    },
    {
      "cell_type": "markdown",
      "metadata": {
        "id": "y2PsdD4ANkm_"
      },
      "source": [
        "<img src=\"https://drive.google.com/uc?id=1MYEseqxrQTqPbt81ZXSJt82YMF2WgW0y\">"
      ]
    },
    {
      "cell_type": "code",
      "source": [
        "!pip install catboost"
      ],
      "metadata": {
        "colab": {
          "base_uri": "https://localhost:8080/"
        },
        "id": "Sq51T8djUXUG",
        "outputId": "415e8c0d-9b40-4567-babb-1f492fc5a228"
      },
      "execution_count": null,
      "outputs": [
        {
          "output_type": "stream",
          "name": "stdout",
          "text": [
            "Collecting catboost\n",
            "  Downloading catboost-1.2.5-cp310-cp310-manylinux2014_x86_64.whl.metadata (1.2 kB)\n",
            "Requirement already satisfied: graphviz in /usr/local/lib/python3.10/dist-packages (from catboost) (0.20.3)\n",
            "Requirement already satisfied: matplotlib in /usr/local/lib/python3.10/dist-packages (from catboost) (3.7.1)\n",
            "Requirement already satisfied: numpy>=1.16.0 in /usr/local/lib/python3.10/dist-packages (from catboost) (1.26.4)\n",
            "Requirement already satisfied: pandas>=0.24 in /usr/local/lib/python3.10/dist-packages (from catboost) (2.1.4)\n",
            "Requirement already satisfied: scipy in /usr/local/lib/python3.10/dist-packages (from catboost) (1.13.1)\n",
            "Requirement already satisfied: plotly in /usr/local/lib/python3.10/dist-packages (from catboost) (5.15.0)\n",
            "Requirement already satisfied: six in /usr/local/lib/python3.10/dist-packages (from catboost) (1.16.0)\n",
            "Requirement already satisfied: python-dateutil>=2.8.2 in /usr/local/lib/python3.10/dist-packages (from pandas>=0.24->catboost) (2.8.2)\n",
            "Requirement already satisfied: pytz>=2020.1 in /usr/local/lib/python3.10/dist-packages (from pandas>=0.24->catboost) (2024.1)\n",
            "Requirement already satisfied: tzdata>=2022.1 in /usr/local/lib/python3.10/dist-packages (from pandas>=0.24->catboost) (2024.1)\n",
            "Requirement already satisfied: contourpy>=1.0.1 in /usr/local/lib/python3.10/dist-packages (from matplotlib->catboost) (1.2.1)\n",
            "Requirement already satisfied: cycler>=0.10 in /usr/local/lib/python3.10/dist-packages (from matplotlib->catboost) (0.12.1)\n",
            "Requirement already satisfied: fonttools>=4.22.0 in /usr/local/lib/python3.10/dist-packages (from matplotlib->catboost) (4.53.1)\n",
            "Requirement already satisfied: kiwisolver>=1.0.1 in /usr/local/lib/python3.10/dist-packages (from matplotlib->catboost) (1.4.5)\n",
            "Requirement already satisfied: packaging>=20.0 in /usr/local/lib/python3.10/dist-packages (from matplotlib->catboost) (24.1)\n",
            "Requirement already satisfied: pillow>=6.2.0 in /usr/local/lib/python3.10/dist-packages (from matplotlib->catboost) (9.4.0)\n",
            "Requirement already satisfied: pyparsing>=2.3.1 in /usr/local/lib/python3.10/dist-packages (from matplotlib->catboost) (3.1.2)\n",
            "Requirement already satisfied: tenacity>=6.2.0 in /usr/local/lib/python3.10/dist-packages (from plotly->catboost) (9.0.0)\n",
            "Downloading catboost-1.2.5-cp310-cp310-manylinux2014_x86_64.whl (98.2 MB)\n",
            "\u001b[2K   \u001b[90m━━━━━━━━━━━━━━━━━━━━━━━━━━━━━━━━━━━━━━━━\u001b[0m \u001b[32m98.2/98.2 MB\u001b[0m \u001b[31m8.1 MB/s\u001b[0m eta \u001b[36m0:00:00\u001b[0m\n",
            "\u001b[?25hInstalling collected packages: catboost\n",
            "Successfully installed catboost-1.2.5\n"
          ]
        }
      ]
    },
    {
      "cell_type": "code",
      "metadata": {
        "id": "gP2jCd2EUTPK"
      },
      "source": [
        "from catboost import CatBoostRegressor\n",
        "\n",
        "cat = CatBoostRegressor(random_state=10)"
      ],
      "execution_count": null,
      "outputs": []
    },
    {
      "cell_type": "code",
      "metadata": {
        "colab": {
          "base_uri": "https://localhost:8080/"
        },
        "outputId": "8fc8f850-d068-43e8-f017-1eac76532c8d",
        "id": "yhZUP8rwUTPN"
      },
      "source": [
        "%%time\n",
        "cat.fit(X_train, y_train)"
      ],
      "execution_count": null,
      "outputs": [
        {
          "output_type": "stream",
          "name": "stdout",
          "text": [
            "Learning rate set to 0.041084\n",
            "0:\tlearn: 75606.6914484\ttotal: 64.6ms\tremaining: 1m 4s\n",
            "1:\tlearn: 73727.8595815\ttotal: 79.4ms\tremaining: 39.6s\n",
            "2:\tlearn: 71982.0304482\ttotal: 93.2ms\tremaining: 31s\n",
            "3:\tlearn: 70286.7504620\ttotal: 102ms\tremaining: 25.3s\n",
            "4:\tlearn: 68590.7520022\ttotal: 115ms\tremaining: 22.8s\n",
            "5:\tlearn: 67040.5236280\ttotal: 127ms\tremaining: 21s\n",
            "6:\tlearn: 65468.7903371\ttotal: 139ms\tremaining: 19.7s\n",
            "7:\tlearn: 64110.3021394\ttotal: 152ms\tremaining: 18.8s\n",
            "8:\tlearn: 62749.7749189\ttotal: 161ms\tremaining: 17.8s\n",
            "9:\tlearn: 61493.4426755\ttotal: 169ms\tremaining: 16.7s\n",
            "10:\tlearn: 60138.6854091\ttotal: 174ms\tremaining: 15.7s\n",
            "11:\tlearn: 58819.7898449\ttotal: 182ms\tremaining: 15s\n",
            "12:\tlearn: 57613.0916028\ttotal: 196ms\tremaining: 14.9s\n",
            "13:\tlearn: 56339.2498215\ttotal: 205ms\tremaining: 14.4s\n",
            "14:\tlearn: 55310.6662027\ttotal: 211ms\tremaining: 13.8s\n",
            "15:\tlearn: 54164.3909310\ttotal: 219ms\tremaining: 13.4s\n",
            "16:\tlearn: 53152.4572944\ttotal: 226ms\tremaining: 13.1s\n",
            "17:\tlearn: 52167.5664906\ttotal: 232ms\tremaining: 12.7s\n",
            "18:\tlearn: 51266.9572729\ttotal: 263ms\tremaining: 13.6s\n",
            "19:\tlearn: 50249.3132523\ttotal: 275ms\tremaining: 13.5s\n",
            "20:\tlearn: 49306.1620023\ttotal: 299ms\tremaining: 13.9s\n",
            "21:\tlearn: 48472.4248767\ttotal: 315ms\tremaining: 14s\n",
            "22:\tlearn: 47609.9490989\ttotal: 330ms\tremaining: 14s\n",
            "23:\tlearn: 46777.4050365\ttotal: 341ms\tremaining: 13.9s\n",
            "24:\tlearn: 45904.5495102\ttotal: 353ms\tremaining: 13.8s\n",
            "25:\tlearn: 45088.9421820\ttotal: 366ms\tremaining: 13.7s\n",
            "26:\tlearn: 44341.2909690\ttotal: 393ms\tremaining: 14.2s\n",
            "27:\tlearn: 43575.2344159\ttotal: 415ms\tremaining: 14.4s\n",
            "28:\tlearn: 42932.5362269\ttotal: 427ms\tremaining: 14.3s\n",
            "29:\tlearn: 42273.2076091\ttotal: 444ms\tremaining: 14.3s\n",
            "30:\tlearn: 41695.8871210\ttotal: 459ms\tremaining: 14.3s\n",
            "31:\tlearn: 41042.0457382\ttotal: 478ms\tremaining: 14.5s\n",
            "32:\tlearn: 40508.9240126\ttotal: 497ms\tremaining: 14.6s\n",
            "33:\tlearn: 39826.3044264\ttotal: 523ms\tremaining: 14.9s\n",
            "34:\tlearn: 39270.7079134\ttotal: 548ms\tremaining: 15.1s\n",
            "35:\tlearn: 38752.9968680\ttotal: 576ms\tremaining: 15.4s\n",
            "36:\tlearn: 38212.9382132\ttotal: 591ms\tremaining: 15.4s\n",
            "37:\tlearn: 37741.2889979\ttotal: 607ms\tremaining: 15.4s\n",
            "38:\tlearn: 37245.6506549\ttotal: 619ms\tremaining: 15.2s\n",
            "39:\tlearn: 36831.3333121\ttotal: 633ms\tremaining: 15.2s\n",
            "40:\tlearn: 36445.6596670\ttotal: 650ms\tremaining: 15.2s\n",
            "41:\tlearn: 36088.8936725\ttotal: 663ms\tremaining: 15.1s\n",
            "42:\tlearn: 35549.0636867\ttotal: 669ms\tremaining: 14.9s\n",
            "43:\tlearn: 35071.9851688\ttotal: 677ms\tremaining: 14.7s\n",
            "44:\tlearn: 34637.5485368\ttotal: 684ms\tremaining: 14.5s\n",
            "45:\tlearn: 34259.0714713\ttotal: 690ms\tremaining: 14.3s\n",
            "46:\tlearn: 33848.6917198\ttotal: 698ms\tremaining: 14.2s\n",
            "47:\tlearn: 33441.6758982\ttotal: 707ms\tremaining: 14s\n",
            "48:\tlearn: 33090.8137336\ttotal: 718ms\tremaining: 13.9s\n",
            "49:\tlearn: 32691.4107260\ttotal: 725ms\tremaining: 13.8s\n",
            "50:\tlearn: 32294.2570554\ttotal: 733ms\tremaining: 13.6s\n",
            "51:\tlearn: 31999.1580349\ttotal: 739ms\tremaining: 13.5s\n",
            "52:\tlearn: 31695.7893394\ttotal: 746ms\tremaining: 13.3s\n",
            "53:\tlearn: 31348.3272721\ttotal: 753ms\tremaining: 13.2s\n",
            "54:\tlearn: 30955.9356644\ttotal: 760ms\tremaining: 13.1s\n",
            "55:\tlearn: 30727.9233750\ttotal: 768ms\tremaining: 12.9s\n",
            "56:\tlearn: 30409.8494549\ttotal: 775ms\tremaining: 12.8s\n",
            "57:\tlearn: 30120.8205937\ttotal: 798ms\tremaining: 13s\n",
            "58:\tlearn: 29782.3181622\ttotal: 815ms\tremaining: 13s\n",
            "59:\tlearn: 29525.1089708\ttotal: 829ms\tremaining: 13s\n",
            "60:\tlearn: 29282.6986016\ttotal: 846ms\tremaining: 13s\n",
            "61:\tlearn: 29004.5869583\ttotal: 866ms\tremaining: 13.1s\n",
            "62:\tlearn: 28779.0440440\ttotal: 878ms\tremaining: 13.1s\n",
            "63:\tlearn: 28626.9520145\ttotal: 890ms\tremaining: 13s\n",
            "64:\tlearn: 28377.3834657\ttotal: 899ms\tremaining: 12.9s\n",
            "65:\tlearn: 28170.4437794\ttotal: 911ms\tremaining: 12.9s\n",
            "66:\tlearn: 27944.5111744\ttotal: 919ms\tremaining: 12.8s\n",
            "67:\tlearn: 27752.1705672\ttotal: 925ms\tremaining: 12.7s\n",
            "68:\tlearn: 27602.3070949\ttotal: 932ms\tremaining: 12.6s\n",
            "69:\tlearn: 27378.5975450\ttotal: 939ms\tremaining: 12.5s\n",
            "70:\tlearn: 27168.8993988\ttotal: 947ms\tremaining: 12.4s\n",
            "71:\tlearn: 26977.8465896\ttotal: 953ms\tremaining: 12.3s\n",
            "72:\tlearn: 26928.6138581\ttotal: 960ms\tremaining: 12.2s\n",
            "73:\tlearn: 26728.8279271\ttotal: 967ms\tremaining: 12.1s\n",
            "74:\tlearn: 26550.7143370\ttotal: 973ms\tremaining: 12s\n",
            "75:\tlearn: 26334.6883921\ttotal: 986ms\tremaining: 12s\n",
            "76:\tlearn: 26170.8109139\ttotal: 999ms\tremaining: 12s\n",
            "77:\tlearn: 26003.7697183\ttotal: 1.01s\tremaining: 12s\n",
            "78:\tlearn: 25816.4626884\ttotal: 1.02s\tremaining: 12s\n",
            "79:\tlearn: 25663.1641384\ttotal: 1.04s\tremaining: 11.9s\n",
            "80:\tlearn: 25474.9980217\ttotal: 1.05s\tremaining: 11.9s\n",
            "81:\tlearn: 25299.0776274\ttotal: 1.06s\tremaining: 11.9s\n",
            "82:\tlearn: 25205.9093741\ttotal: 1.07s\tremaining: 11.8s\n",
            "83:\tlearn: 24996.7274490\ttotal: 1.07s\tremaining: 11.7s\n",
            "84:\tlearn: 24831.1667444\ttotal: 1.08s\tremaining: 11.6s\n",
            "85:\tlearn: 24673.7056046\ttotal: 1.08s\tremaining: 11.5s\n",
            "86:\tlearn: 24552.8058000\ttotal: 1.09s\tremaining: 11.4s\n",
            "87:\tlearn: 24439.5363008\ttotal: 1.1s\tremaining: 11.4s\n",
            "88:\tlearn: 24280.5537111\ttotal: 1.1s\tremaining: 11.3s\n",
            "89:\tlearn: 24135.8836802\ttotal: 1.11s\tremaining: 11.2s\n",
            "90:\tlearn: 23995.1151870\ttotal: 1.11s\tremaining: 11.1s\n",
            "91:\tlearn: 23854.8540075\ttotal: 1.12s\tremaining: 11s\n",
            "92:\tlearn: 23698.7737517\ttotal: 1.13s\tremaining: 11s\n",
            "93:\tlearn: 23572.4555312\ttotal: 1.13s\tremaining: 10.9s\n",
            "94:\tlearn: 23450.1980594\ttotal: 1.14s\tremaining: 10.8s\n",
            "95:\tlearn: 23308.4240121\ttotal: 1.14s\tremaining: 10.8s\n",
            "96:\tlearn: 23191.6069168\ttotal: 1.15s\tremaining: 10.7s\n",
            "97:\tlearn: 23044.8685443\ttotal: 1.15s\tremaining: 10.6s\n",
            "98:\tlearn: 22952.5360305\ttotal: 1.16s\tremaining: 10.6s\n",
            "99:\tlearn: 22850.7032629\ttotal: 1.17s\tremaining: 10.5s\n",
            "100:\tlearn: 22756.5416244\ttotal: 1.18s\tremaining: 10.5s\n",
            "101:\tlearn: 22622.0583832\ttotal: 1.18s\tremaining: 10.4s\n",
            "102:\tlearn: 22495.3871819\ttotal: 1.19s\tremaining: 10.4s\n",
            "103:\tlearn: 22362.3962031\ttotal: 1.2s\tremaining: 10.3s\n",
            "104:\tlearn: 22244.1455300\ttotal: 1.2s\tremaining: 10.3s\n",
            "105:\tlearn: 22180.6415457\ttotal: 1.21s\tremaining: 10.2s\n",
            "106:\tlearn: 22124.9574080\ttotal: 1.21s\tremaining: 10.1s\n",
            "107:\tlearn: 22019.5454401\ttotal: 1.22s\tremaining: 10.1s\n",
            "108:\tlearn: 21946.0011993\ttotal: 1.23s\tremaining: 10s\n",
            "109:\tlearn: 21882.0793221\ttotal: 1.23s\tremaining: 9.96s\n",
            "110:\tlearn: 21767.5147578\ttotal: 1.24s\tremaining: 9.91s\n",
            "111:\tlearn: 21662.5481584\ttotal: 1.24s\tremaining: 9.86s\n",
            "112:\tlearn: 21566.4865275\ttotal: 1.25s\tremaining: 9.8s\n",
            "113:\tlearn: 21490.0995460\ttotal: 1.25s\tremaining: 9.75s\n",
            "114:\tlearn: 21386.0643582\ttotal: 1.26s\tremaining: 9.7s\n",
            "115:\tlearn: 21339.6807330\ttotal: 1.26s\tremaining: 9.64s\n",
            "116:\tlearn: 21318.4914068\ttotal: 1.27s\tremaining: 9.59s\n",
            "117:\tlearn: 21260.2251331\ttotal: 1.28s\tremaining: 9.55s\n",
            "118:\tlearn: 21206.2604478\ttotal: 1.29s\tremaining: 9.57s\n",
            "119:\tlearn: 21123.0580664\ttotal: 1.31s\tremaining: 9.59s\n",
            "120:\tlearn: 21034.4129629\ttotal: 1.32s\tremaining: 9.6s\n",
            "121:\tlearn: 20973.4334387\ttotal: 1.33s\tremaining: 9.55s\n",
            "122:\tlearn: 20874.9553482\ttotal: 1.34s\tremaining: 9.56s\n",
            "123:\tlearn: 20806.1264968\ttotal: 1.35s\tremaining: 9.54s\n",
            "124:\tlearn: 20743.4573013\ttotal: 1.36s\tremaining: 9.51s\n",
            "125:\tlearn: 20626.5975102\ttotal: 1.37s\tremaining: 9.48s\n",
            "126:\tlearn: 20522.8564956\ttotal: 1.38s\tremaining: 9.5s\n",
            "127:\tlearn: 20452.5671549\ttotal: 1.39s\tremaining: 9.47s\n",
            "128:\tlearn: 20385.3010259\ttotal: 1.4s\tremaining: 9.45s\n",
            "129:\tlearn: 20337.1287279\ttotal: 1.41s\tremaining: 9.42s\n",
            "130:\tlearn: 20281.9163848\ttotal: 1.42s\tremaining: 9.39s\n",
            "131:\tlearn: 20200.0062409\ttotal: 1.42s\tremaining: 9.35s\n",
            "132:\tlearn: 20130.7317634\ttotal: 1.43s\tremaining: 9.31s\n",
            "133:\tlearn: 20038.3918446\ttotal: 1.44s\tremaining: 9.28s\n",
            "134:\tlearn: 19945.0606963\ttotal: 1.44s\tremaining: 9.25s\n",
            "135:\tlearn: 19888.2592380\ttotal: 1.45s\tremaining: 9.21s\n",
            "136:\tlearn: 19814.7613727\ttotal: 1.46s\tremaining: 9.18s\n",
            "137:\tlearn: 19761.9392159\ttotal: 1.47s\tremaining: 9.15s\n",
            "138:\tlearn: 19690.6619831\ttotal: 1.47s\tremaining: 9.11s\n",
            "139:\tlearn: 19607.4814110\ttotal: 1.48s\tremaining: 9.12s\n",
            "140:\tlearn: 19591.0044547\ttotal: 1.49s\tremaining: 9.09s\n",
            "141:\tlearn: 19513.6659637\ttotal: 1.51s\tremaining: 9.1s\n",
            "142:\tlearn: 19429.3308887\ttotal: 1.51s\tremaining: 9.07s\n",
            "143:\tlearn: 19377.0427029\ttotal: 1.52s\tremaining: 9.05s\n",
            "144:\tlearn: 19341.9661738\ttotal: 1.53s\tremaining: 9.02s\n",
            "145:\tlearn: 19282.6016739\ttotal: 1.53s\tremaining: 8.98s\n",
            "146:\tlearn: 19245.7496292\ttotal: 1.54s\tremaining: 8.96s\n",
            "147:\tlearn: 19192.8945505\ttotal: 1.55s\tremaining: 8.93s\n",
            "148:\tlearn: 19134.3392790\ttotal: 1.56s\tremaining: 8.89s\n",
            "149:\tlearn: 19076.9109514\ttotal: 1.58s\tremaining: 8.94s\n",
            "150:\tlearn: 19010.5667159\ttotal: 1.59s\tremaining: 8.97s\n",
            "151:\tlearn: 18971.0501973\ttotal: 1.61s\tremaining: 9s\n",
            "152:\tlearn: 18936.1323265\ttotal: 1.62s\tremaining: 8.98s\n",
            "153:\tlearn: 18861.0507477\ttotal: 1.63s\tremaining: 8.95s\n",
            "154:\tlearn: 18842.7834041\ttotal: 1.64s\tremaining: 8.91s\n",
            "155:\tlearn: 18780.5854750\ttotal: 1.64s\tremaining: 8.89s\n",
            "156:\tlearn: 18757.4146434\ttotal: 1.65s\tremaining: 8.86s\n",
            "157:\tlearn: 18726.3440552\ttotal: 1.66s\tremaining: 8.83s\n",
            "158:\tlearn: 18669.8761322\ttotal: 1.67s\tremaining: 8.82s\n",
            "159:\tlearn: 18623.0642440\ttotal: 1.68s\tremaining: 8.81s\n",
            "160:\tlearn: 18577.6556081\ttotal: 1.69s\tremaining: 8.78s\n",
            "161:\tlearn: 18541.7360837\ttotal: 1.69s\tremaining: 8.76s\n",
            "162:\tlearn: 18485.5528527\ttotal: 1.7s\tremaining: 8.73s\n",
            "163:\tlearn: 18439.3495239\ttotal: 1.71s\tremaining: 8.73s\n",
            "164:\tlearn: 18395.0328563\ttotal: 1.72s\tremaining: 8.73s\n",
            "165:\tlearn: 18348.5473695\ttotal: 1.73s\tremaining: 8.7s\n",
            "166:\tlearn: 18294.7069408\ttotal: 1.74s\tremaining: 8.68s\n",
            "167:\tlearn: 18251.7139227\ttotal: 1.75s\tremaining: 8.65s\n",
            "168:\tlearn: 18237.8122523\ttotal: 1.76s\tremaining: 8.64s\n",
            "169:\tlearn: 18228.0188856\ttotal: 1.76s\tremaining: 8.62s\n",
            "170:\tlearn: 18179.3957126\ttotal: 1.77s\tremaining: 8.59s\n",
            "171:\tlearn: 18170.3049762\ttotal: 1.78s\tremaining: 8.56s\n",
            "172:\tlearn: 18124.8961560\ttotal: 1.79s\tremaining: 8.54s\n",
            "173:\tlearn: 18095.6187678\ttotal: 1.79s\tremaining: 8.51s\n",
            "174:\tlearn: 18054.0766913\ttotal: 1.8s\tremaining: 8.5s\n",
            "175:\tlearn: 18005.1158615\ttotal: 1.81s\tremaining: 8.48s\n",
            "176:\tlearn: 17953.8722066\ttotal: 1.82s\tremaining: 8.46s\n",
            "177:\tlearn: 17888.9550853\ttotal: 1.82s\tremaining: 8.43s\n",
            "178:\tlearn: 17846.0213186\ttotal: 1.83s\tremaining: 8.4s\n",
            "179:\tlearn: 17799.7051579\ttotal: 1.84s\tremaining: 8.39s\n",
            "180:\tlearn: 17761.1718756\ttotal: 1.85s\tremaining: 8.37s\n",
            "181:\tlearn: 17720.3738641\ttotal: 1.85s\tremaining: 8.34s\n",
            "182:\tlearn: 17685.9184901\ttotal: 1.86s\tremaining: 8.31s\n",
            "183:\tlearn: 17637.0346238\ttotal: 1.87s\tremaining: 8.29s\n",
            "184:\tlearn: 17582.1510144\ttotal: 1.87s\tremaining: 8.26s\n",
            "185:\tlearn: 17564.8779261\ttotal: 1.88s\tremaining: 8.24s\n",
            "186:\tlearn: 17518.5133778\ttotal: 1.89s\tremaining: 8.22s\n",
            "187:\tlearn: 17480.6520212\ttotal: 1.9s\tremaining: 8.19s\n",
            "188:\tlearn: 17466.3736571\ttotal: 1.9s\tremaining: 8.17s\n",
            "189:\tlearn: 17424.3862794\ttotal: 1.91s\tremaining: 8.15s\n",
            "190:\tlearn: 17356.0945511\ttotal: 1.92s\tremaining: 8.12s\n",
            "191:\tlearn: 17296.1918840\ttotal: 1.93s\tremaining: 8.1s\n",
            "192:\tlearn: 17256.5184129\ttotal: 1.93s\tremaining: 8.08s\n",
            "193:\tlearn: 17215.5641599\ttotal: 1.94s\tremaining: 8.05s\n",
            "194:\tlearn: 17168.5774127\ttotal: 1.94s\tremaining: 8.03s\n",
            "195:\tlearn: 17122.3628575\ttotal: 1.95s\tremaining: 8.01s\n",
            "196:\tlearn: 17063.2149798\ttotal: 1.96s\tremaining: 7.99s\n",
            "197:\tlearn: 17015.0091590\ttotal: 1.97s\tremaining: 7.98s\n",
            "198:\tlearn: 16967.9904587\ttotal: 1.98s\tremaining: 7.97s\n",
            "199:\tlearn: 16950.2665656\ttotal: 1.99s\tremaining: 7.95s\n",
            "200:\tlearn: 16936.1818358\ttotal: 2s\tremaining: 7.93s\n",
            "201:\tlearn: 16878.9963910\ttotal: 2.01s\tremaining: 7.96s\n",
            "202:\tlearn: 16866.2054812\ttotal: 2.02s\tremaining: 7.95s\n",
            "203:\tlearn: 16835.6457872\ttotal: 2.04s\tremaining: 7.95s\n",
            "204:\tlearn: 16822.1108769\ttotal: 2.04s\tremaining: 7.93s\n",
            "205:\tlearn: 16789.9070386\ttotal: 2.06s\tremaining: 7.94s\n",
            "206:\tlearn: 16776.8448090\ttotal: 2.07s\tremaining: 7.93s\n",
            "207:\tlearn: 16762.8750631\ttotal: 2.08s\tremaining: 7.92s\n",
            "208:\tlearn: 16718.8273503\ttotal: 2.09s\tremaining: 7.92s\n",
            "209:\tlearn: 16675.7483013\ttotal: 2.11s\tremaining: 7.92s\n",
            "210:\tlearn: 16664.4014990\ttotal: 2.11s\tremaining: 7.89s\n",
            "211:\tlearn: 16653.6845825\ttotal: 2.13s\tremaining: 7.9s\n",
            "212:\tlearn: 16616.6691766\ttotal: 2.13s\tremaining: 7.88s\n",
            "213:\tlearn: 16589.5856859\ttotal: 2.15s\tremaining: 7.91s\n",
            "214:\tlearn: 16529.8857400\ttotal: 2.17s\tremaining: 7.91s\n",
            "215:\tlearn: 16500.0462319\ttotal: 2.18s\tremaining: 7.91s\n",
            "216:\tlearn: 16486.6866428\ttotal: 2.19s\tremaining: 7.91s\n",
            "217:\tlearn: 16427.6470914\ttotal: 2.21s\tremaining: 7.91s\n",
            "218:\tlearn: 16394.6517515\ttotal: 2.22s\tremaining: 7.91s\n",
            "219:\tlearn: 16350.9186705\ttotal: 2.23s\tremaining: 7.91s\n",
            "220:\tlearn: 16337.5793380\ttotal: 2.24s\tremaining: 7.9s\n",
            "221:\tlearn: 16285.6109769\ttotal: 2.26s\tremaining: 7.91s\n",
            "222:\tlearn: 16229.4909198\ttotal: 2.27s\tremaining: 7.91s\n",
            "223:\tlearn: 16215.7747140\ttotal: 2.29s\tremaining: 7.94s\n",
            "224:\tlearn: 16176.6412645\ttotal: 2.31s\tremaining: 7.94s\n",
            "225:\tlearn: 16136.6122310\ttotal: 2.31s\tremaining: 7.92s\n",
            "226:\tlearn: 16094.8895846\ttotal: 2.33s\tremaining: 7.93s\n",
            "227:\tlearn: 16070.2031977\ttotal: 2.34s\tremaining: 7.94s\n",
            "228:\tlearn: 16025.0837981\ttotal: 2.35s\tremaining: 7.92s\n",
            "229:\tlearn: 16012.2959788\ttotal: 2.35s\tremaining: 7.88s\n",
            "230:\tlearn: 16002.7517353\ttotal: 2.36s\tremaining: 7.87s\n",
            "231:\tlearn: 15993.8274610\ttotal: 2.37s\tremaining: 7.84s\n",
            "232:\tlearn: 15984.5386937\ttotal: 2.38s\tremaining: 7.83s\n",
            "233:\tlearn: 15950.0211088\ttotal: 2.38s\tremaining: 7.81s\n",
            "234:\tlearn: 15906.1446163\ttotal: 2.39s\tremaining: 7.78s\n",
            "235:\tlearn: 15864.6301964\ttotal: 2.4s\tremaining: 7.76s\n",
            "236:\tlearn: 15818.4750735\ttotal: 2.41s\tremaining: 7.75s\n",
            "237:\tlearn: 15773.2084378\ttotal: 2.41s\tremaining: 7.72s\n",
            "238:\tlearn: 15740.9112120\ttotal: 2.42s\tremaining: 7.7s\n",
            "239:\tlearn: 15717.2453503\ttotal: 2.43s\tremaining: 7.69s\n",
            "240:\tlearn: 15675.3502290\ttotal: 2.43s\tremaining: 7.66s\n",
            "241:\tlearn: 15630.9907643\ttotal: 2.44s\tremaining: 7.64s\n",
            "242:\tlearn: 15597.3987490\ttotal: 2.45s\tremaining: 7.63s\n",
            "243:\tlearn: 15554.4364370\ttotal: 2.45s\tremaining: 7.61s\n",
            "244:\tlearn: 15524.2582625\ttotal: 2.46s\tremaining: 7.6s\n",
            "245:\tlearn: 15479.0127417\ttotal: 2.47s\tremaining: 7.57s\n",
            "246:\tlearn: 15441.7493829\ttotal: 2.48s\tremaining: 7.57s\n",
            "247:\tlearn: 15406.7423478\ttotal: 2.52s\tremaining: 7.66s\n",
            "248:\tlearn: 15372.0997874\ttotal: 2.54s\tremaining: 7.66s\n",
            "249:\tlearn: 15327.5757311\ttotal: 2.56s\tremaining: 7.67s\n",
            "250:\tlearn: 15295.2926181\ttotal: 2.58s\tremaining: 7.71s\n",
            "251:\tlearn: 15248.3121274\ttotal: 2.61s\tremaining: 7.76s\n",
            "252:\tlearn: 15221.2440248\ttotal: 2.63s\tremaining: 7.78s\n",
            "253:\tlearn: 15181.1119602\ttotal: 2.64s\tremaining: 7.76s\n",
            "254:\tlearn: 15145.7574396\ttotal: 2.65s\tremaining: 7.74s\n",
            "255:\tlearn: 15133.3630857\ttotal: 2.66s\tremaining: 7.72s\n",
            "256:\tlearn: 15108.5933934\ttotal: 2.67s\tremaining: 7.71s\n",
            "257:\tlearn: 15102.0979805\ttotal: 2.67s\tremaining: 7.68s\n",
            "258:\tlearn: 15064.5034453\ttotal: 2.68s\tremaining: 7.67s\n",
            "259:\tlearn: 15027.4128147\ttotal: 2.69s\tremaining: 7.65s\n",
            "260:\tlearn: 14997.3283830\ttotal: 2.69s\tremaining: 7.63s\n",
            "261:\tlearn: 14955.2271219\ttotal: 2.7s\tremaining: 7.61s\n",
            "262:\tlearn: 14931.6180719\ttotal: 2.71s\tremaining: 7.59s\n",
            "263:\tlearn: 14902.9771295\ttotal: 2.72s\tremaining: 7.59s\n",
            "264:\tlearn: 14860.2936141\ttotal: 2.73s\tremaining: 7.57s\n",
            "265:\tlearn: 14821.1698879\ttotal: 2.74s\tremaining: 7.55s\n",
            "266:\tlearn: 14770.5753600\ttotal: 2.74s\tremaining: 7.53s\n",
            "267:\tlearn: 14734.6622150\ttotal: 2.75s\tremaining: 7.51s\n",
            "268:\tlearn: 14698.5336803\ttotal: 2.77s\tremaining: 7.53s\n",
            "269:\tlearn: 14690.8374929\ttotal: 2.78s\tremaining: 7.51s\n",
            "270:\tlearn: 14659.3650520\ttotal: 2.78s\tremaining: 7.49s\n",
            "271:\tlearn: 14624.0634038\ttotal: 2.79s\tremaining: 7.47s\n",
            "272:\tlearn: 14589.5307198\ttotal: 2.8s\tremaining: 7.46s\n",
            "273:\tlearn: 14559.0920367\ttotal: 2.81s\tremaining: 7.43s\n",
            "274:\tlearn: 14530.8839788\ttotal: 2.81s\tremaining: 7.42s\n",
            "275:\tlearn: 14502.9369072\ttotal: 2.82s\tremaining: 7.4s\n",
            "276:\tlearn: 14475.1114026\ttotal: 2.83s\tremaining: 7.38s\n",
            "277:\tlearn: 14442.6988942\ttotal: 2.84s\tremaining: 7.38s\n",
            "278:\tlearn: 14437.3962896\ttotal: 2.85s\tremaining: 7.36s\n",
            "279:\tlearn: 14388.3995049\ttotal: 2.85s\tremaining: 7.34s\n",
            "280:\tlearn: 14354.1643774\ttotal: 2.87s\tremaining: 7.34s\n",
            "281:\tlearn: 14325.2505256\ttotal: 2.89s\tremaining: 7.36s\n",
            "282:\tlearn: 14298.0957360\ttotal: 2.91s\tremaining: 7.37s\n",
            "283:\tlearn: 14250.7190521\ttotal: 2.92s\tremaining: 7.35s\n",
            "284:\tlearn: 14213.5578741\ttotal: 2.92s\tremaining: 7.33s\n",
            "285:\tlearn: 14188.9429173\ttotal: 2.93s\tremaining: 7.31s\n",
            "286:\tlearn: 14153.8151030\ttotal: 2.94s\tremaining: 7.29s\n",
            "287:\tlearn: 14129.0552880\ttotal: 2.94s\tremaining: 7.28s\n",
            "288:\tlearn: 14098.0431006\ttotal: 2.95s\tremaining: 7.26s\n",
            "289:\tlearn: 14075.2788805\ttotal: 2.96s\tremaining: 7.24s\n",
            "290:\tlearn: 14050.0050287\ttotal: 2.97s\tremaining: 7.24s\n",
            "291:\tlearn: 14026.4038683\ttotal: 2.98s\tremaining: 7.23s\n",
            "292:\tlearn: 13999.0384361\ttotal: 2.99s\tremaining: 7.21s\n",
            "293:\tlearn: 13966.0375223\ttotal: 3s\tremaining: 7.2s\n",
            "294:\tlearn: 13936.6806046\ttotal: 3.01s\tremaining: 7.19s\n",
            "295:\tlearn: 13909.0850124\ttotal: 3.01s\tremaining: 7.17s\n",
            "296:\tlearn: 13870.2756479\ttotal: 3.02s\tremaining: 7.16s\n",
            "297:\tlearn: 13846.9054058\ttotal: 3.03s\tremaining: 7.14s\n",
            "298:\tlearn: 13833.2274171\ttotal: 3.04s\tremaining: 7.12s\n",
            "299:\tlearn: 13802.8360837\ttotal: 3.04s\tremaining: 7.1s\n",
            "300:\tlearn: 13773.0645330\ttotal: 3.06s\tremaining: 7.1s\n",
            "301:\tlearn: 13741.8504374\ttotal: 3.07s\tremaining: 7.09s\n",
            "302:\tlearn: 13707.0048395\ttotal: 3.08s\tremaining: 7.08s\n",
            "303:\tlearn: 13672.3330667\ttotal: 3.08s\tremaining: 7.06s\n",
            "304:\tlearn: 13667.4669702\ttotal: 3.1s\tremaining: 7.05s\n",
            "305:\tlearn: 13651.3084931\ttotal: 3.11s\tremaining: 7.06s\n",
            "306:\tlearn: 13620.9857037\ttotal: 3.12s\tremaining: 7.05s\n",
            "307:\tlearn: 13610.4125969\ttotal: 3.13s\tremaining: 7.03s\n",
            "308:\tlearn: 13575.0870929\ttotal: 3.14s\tremaining: 7.02s\n",
            "309:\tlearn: 13544.7829702\ttotal: 3.15s\tremaining: 7s\n",
            "310:\tlearn: 13522.8755160\ttotal: 3.16s\tremaining: 7s\n",
            "311:\tlearn: 13492.4350644\ttotal: 3.17s\tremaining: 6.99s\n",
            "312:\tlearn: 13450.1290940\ttotal: 3.17s\tremaining: 6.97s\n",
            "313:\tlearn: 13425.3437039\ttotal: 3.18s\tremaining: 6.95s\n",
            "314:\tlearn: 13405.7779536\ttotal: 3.19s\tremaining: 6.94s\n",
            "315:\tlearn: 13374.6129589\ttotal: 3.2s\tremaining: 6.92s\n",
            "316:\tlearn: 13351.8859378\ttotal: 3.21s\tremaining: 6.92s\n",
            "317:\tlearn: 13318.8897509\ttotal: 3.23s\tremaining: 6.93s\n",
            "318:\tlearn: 13293.2023756\ttotal: 3.25s\tremaining: 6.93s\n",
            "319:\tlearn: 13263.0966557\ttotal: 3.26s\tremaining: 6.93s\n",
            "320:\tlearn: 13226.4002181\ttotal: 3.28s\tremaining: 6.93s\n",
            "321:\tlearn: 13196.5354683\ttotal: 3.29s\tremaining: 6.94s\n",
            "322:\tlearn: 13168.6464257\ttotal: 3.31s\tremaining: 6.93s\n",
            "323:\tlearn: 13145.6145698\ttotal: 3.32s\tremaining: 6.92s\n",
            "324:\tlearn: 13119.8371391\ttotal: 3.33s\tremaining: 6.92s\n",
            "325:\tlearn: 13108.1530244\ttotal: 3.35s\tremaining: 6.93s\n",
            "326:\tlearn: 13103.8725246\ttotal: 3.36s\tremaining: 6.92s\n",
            "327:\tlearn: 13073.6152457\ttotal: 3.38s\tremaining: 6.93s\n",
            "328:\tlearn: 13046.8853025\ttotal: 3.39s\tremaining: 6.92s\n",
            "329:\tlearn: 13043.6938987\ttotal: 3.4s\tremaining: 6.9s\n",
            "330:\tlearn: 13018.8504656\ttotal: 3.41s\tremaining: 6.89s\n",
            "331:\tlearn: 13000.7717748\ttotal: 3.41s\tremaining: 6.87s\n",
            "332:\tlearn: 12977.9313828\ttotal: 3.42s\tremaining: 6.86s\n",
            "333:\tlearn: 12943.4397121\ttotal: 3.43s\tremaining: 6.85s\n",
            "334:\tlearn: 12926.0641384\ttotal: 3.44s\tremaining: 6.83s\n",
            "335:\tlearn: 12897.0499836\ttotal: 3.45s\tremaining: 6.82s\n",
            "336:\tlearn: 12869.8341410\ttotal: 3.48s\tremaining: 6.84s\n",
            "337:\tlearn: 12845.9594562\ttotal: 3.5s\tremaining: 6.86s\n",
            "338:\tlearn: 12809.6046458\ttotal: 3.52s\tremaining: 6.86s\n",
            "339:\tlearn: 12789.6152573\ttotal: 3.55s\tremaining: 6.88s\n",
            "340:\tlearn: 12769.5655857\ttotal: 3.56s\tremaining: 6.88s\n",
            "341:\tlearn: 12746.1025033\ttotal: 3.57s\tremaining: 6.87s\n",
            "342:\tlearn: 12726.0959757\ttotal: 3.58s\tremaining: 6.85s\n",
            "343:\tlearn: 12711.4660022\ttotal: 3.58s\tremaining: 6.83s\n",
            "344:\tlearn: 12688.9723776\ttotal: 3.59s\tremaining: 6.81s\n",
            "345:\tlearn: 12685.1511272\ttotal: 3.6s\tremaining: 6.8s\n",
            "346:\tlearn: 12665.3469009\ttotal: 3.6s\tremaining: 6.78s\n",
            "347:\tlearn: 12646.3161175\ttotal: 3.62s\tremaining: 6.79s\n",
            "348:\tlearn: 12619.9421224\ttotal: 3.64s\tremaining: 6.79s\n",
            "349:\tlearn: 12614.0036596\ttotal: 3.65s\tremaining: 6.78s\n",
            "350:\tlearn: 12592.0316792\ttotal: 3.66s\tremaining: 6.77s\n",
            "351:\tlearn: 12582.3009850\ttotal: 3.67s\tremaining: 6.76s\n",
            "352:\tlearn: 12555.0239868\ttotal: 3.68s\tremaining: 6.75s\n",
            "353:\tlearn: 12525.7461656\ttotal: 3.69s\tremaining: 6.73s\n",
            "354:\tlearn: 12501.1843961\ttotal: 3.7s\tremaining: 6.72s\n",
            "355:\tlearn: 12480.1336843\ttotal: 3.71s\tremaining: 6.71s\n",
            "356:\tlearn: 12452.8680309\ttotal: 3.72s\tremaining: 6.7s\n",
            "357:\tlearn: 12434.2996408\ttotal: 3.73s\tremaining: 6.68s\n",
            "358:\tlearn: 12423.1419009\ttotal: 3.73s\tremaining: 6.67s\n",
            "359:\tlearn: 12399.7604308\ttotal: 3.75s\tremaining: 6.67s\n",
            "360:\tlearn: 12367.2382672\ttotal: 3.76s\tremaining: 6.66s\n",
            "361:\tlearn: 12337.4639025\ttotal: 3.77s\tremaining: 6.65s\n",
            "362:\tlearn: 12330.3215128\ttotal: 3.78s\tremaining: 6.63s\n",
            "363:\tlearn: 12301.1464175\ttotal: 3.79s\tremaining: 6.62s\n",
            "364:\tlearn: 12281.9797537\ttotal: 3.79s\tremaining: 6.6s\n",
            "365:\tlearn: 12257.8244640\ttotal: 3.8s\tremaining: 6.58s\n",
            "366:\tlearn: 12237.7384730\ttotal: 3.8s\tremaining: 6.56s\n",
            "367:\tlearn: 12215.5004317\ttotal: 3.81s\tremaining: 6.54s\n",
            "368:\tlearn: 12194.3087606\ttotal: 3.81s\tremaining: 6.53s\n",
            "369:\tlearn: 12158.8427832\ttotal: 3.82s\tremaining: 6.51s\n",
            "370:\tlearn: 12138.9854266\ttotal: 3.83s\tremaining: 6.49s\n",
            "371:\tlearn: 12104.2310412\ttotal: 3.83s\tremaining: 6.47s\n",
            "372:\tlearn: 12097.9431242\ttotal: 3.84s\tremaining: 6.45s\n",
            "373:\tlearn: 12081.9245285\ttotal: 3.85s\tremaining: 6.44s\n",
            "374:\tlearn: 12053.1339929\ttotal: 3.85s\tremaining: 6.42s\n",
            "375:\tlearn: 12047.2750948\ttotal: 3.86s\tremaining: 6.41s\n",
            "376:\tlearn: 12027.7686113\ttotal: 3.87s\tremaining: 6.4s\n",
            "377:\tlearn: 11997.4485801\ttotal: 3.9s\tremaining: 6.42s\n",
            "378:\tlearn: 11968.5231537\ttotal: 3.91s\tremaining: 6.4s\n",
            "379:\tlearn: 11946.2319447\ttotal: 3.92s\tremaining: 6.39s\n",
            "380:\tlearn: 11937.2834990\ttotal: 3.92s\tremaining: 6.38s\n",
            "381:\tlearn: 11894.7897643\ttotal: 3.93s\tremaining: 6.36s\n",
            "382:\tlearn: 11875.0220475\ttotal: 3.95s\tremaining: 6.36s\n",
            "383:\tlearn: 11854.7893877\ttotal: 3.95s\tremaining: 6.34s\n",
            "384:\tlearn: 11851.9678093\ttotal: 3.97s\tremaining: 6.34s\n",
            "385:\tlearn: 11823.0599555\ttotal: 3.98s\tremaining: 6.33s\n",
            "386:\tlearn: 11795.6152648\ttotal: 3.99s\tremaining: 6.32s\n",
            "387:\tlearn: 11772.8761485\ttotal: 4s\tremaining: 6.31s\n",
            "388:\tlearn: 11732.6814843\ttotal: 4.01s\tremaining: 6.29s\n",
            "389:\tlearn: 11715.6457084\ttotal: 4.01s\tremaining: 6.28s\n",
            "390:\tlearn: 11705.3403506\ttotal: 4.02s\tremaining: 6.26s\n",
            "391:\tlearn: 11688.8217195\ttotal: 4.05s\tremaining: 6.28s\n",
            "392:\tlearn: 11668.0166449\ttotal: 4.06s\tremaining: 6.27s\n",
            "393:\tlearn: 11645.6460463\ttotal: 4.07s\tremaining: 6.25s\n",
            "394:\tlearn: 11617.7738510\ttotal: 4.08s\tremaining: 6.25s\n",
            "395:\tlearn: 11601.4276852\ttotal: 4.1s\tremaining: 6.25s\n",
            "396:\tlearn: 11591.1484400\ttotal: 4.11s\tremaining: 6.25s\n",
            "397:\tlearn: 11566.5053748\ttotal: 4.12s\tremaining: 6.23s\n",
            "398:\tlearn: 11540.2227823\ttotal: 4.13s\tremaining: 6.22s\n",
            "399:\tlearn: 11518.5551242\ttotal: 4.13s\tremaining: 6.2s\n",
            "400:\tlearn: 11492.2353603\ttotal: 4.14s\tremaining: 6.18s\n",
            "401:\tlearn: 11470.5212382\ttotal: 4.14s\tremaining: 6.17s\n",
            "402:\tlearn: 11455.9009868\ttotal: 4.15s\tremaining: 6.15s\n",
            "403:\tlearn: 11440.1001193\ttotal: 4.16s\tremaining: 6.13s\n",
            "404:\tlearn: 11429.7199394\ttotal: 4.16s\tremaining: 6.11s\n",
            "405:\tlearn: 11413.7666373\ttotal: 4.17s\tremaining: 6.1s\n",
            "406:\tlearn: 11395.2883809\ttotal: 4.17s\tremaining: 6.08s\n",
            "407:\tlearn: 11375.6196673\ttotal: 4.18s\tremaining: 6.07s\n",
            "408:\tlearn: 11349.0348845\ttotal: 4.19s\tremaining: 6.05s\n",
            "409:\tlearn: 11329.9691750\ttotal: 4.19s\tremaining: 6.03s\n",
            "410:\tlearn: 11326.4880615\ttotal: 4.2s\tremaining: 6.02s\n",
            "411:\tlearn: 11312.2688667\ttotal: 4.21s\tremaining: 6s\n",
            "412:\tlearn: 11290.8036169\ttotal: 4.21s\tremaining: 5.99s\n",
            "413:\tlearn: 11273.8020871\ttotal: 4.22s\tremaining: 5.97s\n",
            "414:\tlearn: 11265.7308196\ttotal: 4.23s\tremaining: 5.96s\n",
            "415:\tlearn: 11242.4636986\ttotal: 4.23s\tremaining: 5.94s\n",
            "416:\tlearn: 11227.8260103\ttotal: 4.24s\tremaining: 5.92s\n",
            "417:\tlearn: 11216.3574908\ttotal: 4.24s\tremaining: 5.91s\n",
            "418:\tlearn: 11199.6878633\ttotal: 4.25s\tremaining: 5.89s\n",
            "419:\tlearn: 11173.4275535\ttotal: 4.25s\tremaining: 5.88s\n",
            "420:\tlearn: 11155.1688962\ttotal: 4.26s\tremaining: 5.86s\n",
            "421:\tlearn: 11135.6936065\ttotal: 4.27s\tremaining: 5.85s\n",
            "422:\tlearn: 11117.7590883\ttotal: 4.28s\tremaining: 5.84s\n",
            "423:\tlearn: 11099.2936660\ttotal: 4.29s\tremaining: 5.82s\n",
            "424:\tlearn: 11078.9750734\ttotal: 4.29s\tremaining: 5.81s\n",
            "425:\tlearn: 11062.8249972\ttotal: 4.3s\tremaining: 5.79s\n",
            "426:\tlearn: 11044.0825546\ttotal: 4.31s\tremaining: 5.78s\n",
            "427:\tlearn: 11012.2883161\ttotal: 4.32s\tremaining: 5.77s\n",
            "428:\tlearn: 11002.1888812\ttotal: 4.35s\tremaining: 5.79s\n",
            "429:\tlearn: 10976.6018925\ttotal: 4.36s\tremaining: 5.78s\n",
            "430:\tlearn: 10958.5992690\ttotal: 4.37s\tremaining: 5.76s\n",
            "431:\tlearn: 10941.7980659\ttotal: 4.38s\tremaining: 5.75s\n",
            "432:\tlearn: 10909.7171837\ttotal: 4.39s\tremaining: 5.75s\n",
            "433:\tlearn: 10891.1068314\ttotal: 4.4s\tremaining: 5.74s\n",
            "434:\tlearn: 10865.1384903\ttotal: 4.41s\tremaining: 5.72s\n",
            "435:\tlearn: 10844.9764193\ttotal: 4.41s\tremaining: 5.71s\n",
            "436:\tlearn: 10827.7513112\ttotal: 4.43s\tremaining: 5.71s\n",
            "437:\tlearn: 10805.4856241\ttotal: 4.45s\tremaining: 5.71s\n",
            "438:\tlearn: 10787.4254289\ttotal: 4.48s\tremaining: 5.72s\n",
            "439:\tlearn: 10770.0015562\ttotal: 4.49s\tremaining: 5.71s\n",
            "440:\tlearn: 10743.3318429\ttotal: 4.49s\tremaining: 5.69s\n",
            "441:\tlearn: 10734.8869753\ttotal: 4.5s\tremaining: 5.68s\n",
            "442:\tlearn: 10713.8359224\ttotal: 4.5s\tremaining: 5.66s\n",
            "443:\tlearn: 10692.5917432\ttotal: 4.51s\tremaining: 5.65s\n",
            "444:\tlearn: 10680.6849355\ttotal: 4.51s\tremaining: 5.63s\n",
            "445:\tlearn: 10678.5866476\ttotal: 4.52s\tremaining: 5.62s\n",
            "446:\tlearn: 10659.7916453\ttotal: 4.53s\tremaining: 5.6s\n",
            "447:\tlearn: 10650.5908272\ttotal: 4.53s\tremaining: 5.58s\n",
            "448:\tlearn: 10629.6673281\ttotal: 4.54s\tremaining: 5.57s\n",
            "449:\tlearn: 10616.5313513\ttotal: 4.54s\tremaining: 5.55s\n",
            "450:\tlearn: 10588.2108652\ttotal: 4.55s\tremaining: 5.54s\n",
            "451:\tlearn: 10556.8105745\ttotal: 4.56s\tremaining: 5.52s\n",
            "452:\tlearn: 10538.0057508\ttotal: 4.56s\tremaining: 5.51s\n",
            "453:\tlearn: 10535.9943215\ttotal: 4.57s\tremaining: 5.49s\n",
            "454:\tlearn: 10517.6410182\ttotal: 4.57s\tremaining: 5.48s\n",
            "455:\tlearn: 10515.9763547\ttotal: 4.58s\tremaining: 5.46s\n",
            "456:\tlearn: 10489.8605280\ttotal: 4.58s\tremaining: 5.45s\n",
            "457:\tlearn: 10468.0699137\ttotal: 4.59s\tremaining: 5.43s\n",
            "458:\tlearn: 10457.1477156\ttotal: 4.6s\tremaining: 5.42s\n",
            "459:\tlearn: 10444.7162945\ttotal: 4.6s\tremaining: 5.4s\n",
            "460:\tlearn: 10428.0547445\ttotal: 4.61s\tremaining: 5.39s\n",
            "461:\tlearn: 10411.2485456\ttotal: 4.61s\tremaining: 5.37s\n",
            "462:\tlearn: 10389.2487048\ttotal: 4.62s\tremaining: 5.36s\n",
            "463:\tlearn: 10370.3376311\ttotal: 4.63s\tremaining: 5.34s\n",
            "464:\tlearn: 10368.6267930\ttotal: 4.63s\tremaining: 5.33s\n",
            "465:\tlearn: 10353.2233756\ttotal: 4.64s\tremaining: 5.32s\n",
            "466:\tlearn: 10351.5547325\ttotal: 4.65s\tremaining: 5.3s\n",
            "467:\tlearn: 10325.8856213\ttotal: 4.65s\tremaining: 5.29s\n",
            "468:\tlearn: 10308.5582156\ttotal: 4.66s\tremaining: 5.28s\n",
            "469:\tlearn: 10295.4557651\ttotal: 4.67s\tremaining: 5.26s\n",
            "470:\tlearn: 10272.7411314\ttotal: 4.67s\tremaining: 5.25s\n",
            "471:\tlearn: 10255.2799661\ttotal: 4.69s\tremaining: 5.25s\n",
            "472:\tlearn: 10241.0724158\ttotal: 4.7s\tremaining: 5.24s\n",
            "473:\tlearn: 10213.2056681\ttotal: 4.71s\tremaining: 5.22s\n",
            "474:\tlearn: 10211.6977638\ttotal: 4.71s\tremaining: 5.21s\n",
            "475:\tlearn: 10188.1834578\ttotal: 4.72s\tremaining: 5.2s\n",
            "476:\tlearn: 10169.8547731\ttotal: 4.73s\tremaining: 5.19s\n",
            "477:\tlearn: 10148.8432744\ttotal: 4.74s\tremaining: 5.17s\n",
            "478:\tlearn: 10147.1100780\ttotal: 4.75s\tremaining: 5.16s\n",
            "479:\tlearn: 10128.3087160\ttotal: 4.75s\tremaining: 5.15s\n",
            "480:\tlearn: 10126.6232784\ttotal: 4.76s\tremaining: 5.13s\n",
            "481:\tlearn: 10121.2138560\ttotal: 4.76s\tremaining: 5.12s\n",
            "482:\tlearn: 10099.0938708\ttotal: 4.77s\tremaining: 5.11s\n",
            "483:\tlearn: 10080.2852755\ttotal: 4.78s\tremaining: 5.09s\n",
            "484:\tlearn: 10065.7106521\ttotal: 4.78s\tremaining: 5.08s\n",
            "485:\tlearn: 10048.0516789\ttotal: 4.79s\tremaining: 5.06s\n",
            "486:\tlearn: 10033.6014329\ttotal: 4.79s\tremaining: 5.05s\n",
            "487:\tlearn: 10020.7172140\ttotal: 4.8s\tremaining: 5.03s\n",
            "488:\tlearn: 10013.9075988\ttotal: 4.8s\tremaining: 5.02s\n",
            "489:\tlearn: 9998.9924641\ttotal: 4.81s\tremaining: 5.01s\n",
            "490:\tlearn: 9983.5014932\ttotal: 4.82s\tremaining: 4.99s\n",
            "491:\tlearn: 9959.5644260\ttotal: 4.82s\tremaining: 4.98s\n",
            "492:\tlearn: 9957.9810220\ttotal: 4.83s\tremaining: 4.96s\n",
            "493:\tlearn: 9956.5411587\ttotal: 4.83s\tremaining: 4.95s\n",
            "494:\tlearn: 9934.8243755\ttotal: 4.84s\tremaining: 4.94s\n",
            "495:\tlearn: 9923.8752091\ttotal: 4.84s\tremaining: 4.92s\n",
            "496:\tlearn: 9902.0952138\ttotal: 4.85s\tremaining: 4.91s\n",
            "497:\tlearn: 9885.7024582\ttotal: 4.86s\tremaining: 4.89s\n",
            "498:\tlearn: 9884.2200127\ttotal: 4.86s\tremaining: 4.88s\n",
            "499:\tlearn: 9870.0548400\ttotal: 4.87s\tremaining: 4.87s\n",
            "500:\tlearn: 9856.4611344\ttotal: 4.87s\tremaining: 4.85s\n",
            "501:\tlearn: 9842.8786062\ttotal: 4.88s\tremaining: 4.84s\n",
            "502:\tlearn: 9831.7277695\ttotal: 4.89s\tremaining: 4.83s\n",
            "503:\tlearn: 9830.3956486\ttotal: 4.9s\tremaining: 4.82s\n",
            "504:\tlearn: 9829.0969759\ttotal: 4.9s\tremaining: 4.8s\n",
            "505:\tlearn: 9821.3724273\ttotal: 4.91s\tremaining: 4.79s\n",
            "506:\tlearn: 9799.8594591\ttotal: 4.91s\tremaining: 4.78s\n",
            "507:\tlearn: 9776.4159699\ttotal: 4.92s\tremaining: 4.77s\n",
            "508:\tlearn: 9763.8958003\ttotal: 4.93s\tremaining: 4.76s\n",
            "509:\tlearn: 9749.2872715\ttotal: 4.94s\tremaining: 4.74s\n",
            "510:\tlearn: 9737.7754743\ttotal: 4.94s\tremaining: 4.73s\n",
            "511:\tlearn: 9729.8711652\ttotal: 4.95s\tremaining: 4.72s\n",
            "512:\tlearn: 9711.7723484\ttotal: 4.95s\tremaining: 4.7s\n",
            "513:\tlearn: 9710.5861630\ttotal: 4.96s\tremaining: 4.69s\n",
            "514:\tlearn: 9696.5932899\ttotal: 4.96s\tremaining: 4.68s\n",
            "515:\tlearn: 9669.2636815\ttotal: 4.97s\tremaining: 4.66s\n",
            "516:\tlearn: 9653.4793879\ttotal: 4.98s\tremaining: 4.65s\n",
            "517:\tlearn: 9638.6904801\ttotal: 4.99s\tremaining: 4.64s\n",
            "518:\tlearn: 9631.6118025\ttotal: 5.02s\tremaining: 4.66s\n",
            "519:\tlearn: 9627.9063876\ttotal: 5.04s\tremaining: 4.65s\n",
            "520:\tlearn: 9616.3593986\ttotal: 5.05s\tremaining: 4.64s\n",
            "521:\tlearn: 9604.2496889\ttotal: 5.06s\tremaining: 4.63s\n",
            "522:\tlearn: 9594.5721934\ttotal: 5.07s\tremaining: 4.62s\n",
            "523:\tlearn: 9593.4125195\ttotal: 5.08s\tremaining: 4.61s\n",
            "524:\tlearn: 9582.2839598\ttotal: 5.08s\tremaining: 4.6s\n",
            "525:\tlearn: 9565.5004112\ttotal: 5.09s\tremaining: 4.59s\n",
            "526:\tlearn: 9549.5888452\ttotal: 5.1s\tremaining: 4.58s\n",
            "527:\tlearn: 9538.8124004\ttotal: 5.11s\tremaining: 4.56s\n",
            "528:\tlearn: 9524.4340476\ttotal: 5.11s\tremaining: 4.55s\n",
            "529:\tlearn: 9502.5813203\ttotal: 5.12s\tremaining: 4.54s\n",
            "530:\tlearn: 9484.5768513\ttotal: 5.12s\tremaining: 4.53s\n",
            "531:\tlearn: 9469.5180964\ttotal: 5.13s\tremaining: 4.51s\n",
            "532:\tlearn: 9458.7408035\ttotal: 5.13s\tremaining: 4.5s\n",
            "533:\tlearn: 9456.3301062\ttotal: 5.14s\tremaining: 4.49s\n",
            "534:\tlearn: 9436.8020889\ttotal: 5.15s\tremaining: 4.47s\n",
            "535:\tlearn: 9423.6723031\ttotal: 5.15s\tremaining: 4.46s\n",
            "536:\tlearn: 9422.6455736\ttotal: 5.16s\tremaining: 4.45s\n",
            "537:\tlearn: 9407.9915766\ttotal: 5.17s\tremaining: 4.43s\n",
            "538:\tlearn: 9397.0658691\ttotal: 5.17s\tremaining: 4.42s\n",
            "539:\tlearn: 9385.2237401\ttotal: 5.18s\tremaining: 4.41s\n",
            "540:\tlearn: 9384.1168002\ttotal: 5.18s\tremaining: 4.4s\n",
            "541:\tlearn: 9365.3638909\ttotal: 5.19s\tremaining: 4.38s\n",
            "542:\tlearn: 9354.1706934\ttotal: 5.2s\tremaining: 4.38s\n",
            "543:\tlearn: 9353.1016946\ttotal: 5.21s\tremaining: 4.36s\n",
            "544:\tlearn: 9345.4674695\ttotal: 5.21s\tremaining: 4.35s\n",
            "545:\tlearn: 9323.8189223\ttotal: 5.22s\tremaining: 4.34s\n",
            "546:\tlearn: 9310.5072816\ttotal: 5.22s\tremaining: 4.33s\n",
            "547:\tlearn: 9300.9532292\ttotal: 5.23s\tremaining: 4.31s\n",
            "548:\tlearn: 9293.5214490\ttotal: 5.24s\tremaining: 4.3s\n",
            "549:\tlearn: 9288.5377886\ttotal: 5.24s\tremaining: 4.29s\n",
            "550:\tlearn: 9269.0892744\ttotal: 5.25s\tremaining: 4.28s\n",
            "551:\tlearn: 9249.6701280\ttotal: 5.25s\tremaining: 4.26s\n",
            "552:\tlearn: 9235.7041908\ttotal: 5.26s\tremaining: 4.25s\n",
            "553:\tlearn: 9222.1936877\ttotal: 5.27s\tremaining: 4.24s\n",
            "554:\tlearn: 9206.2217191\ttotal: 5.28s\tremaining: 4.23s\n",
            "555:\tlearn: 9193.7936461\ttotal: 5.3s\tremaining: 4.23s\n",
            "556:\tlearn: 9177.5448387\ttotal: 5.32s\tremaining: 4.23s\n",
            "557:\tlearn: 9165.5938698\ttotal: 5.33s\tremaining: 4.22s\n",
            "558:\tlearn: 9155.5370030\ttotal: 5.34s\tremaining: 4.21s\n",
            "559:\tlearn: 9154.4876612\ttotal: 5.34s\tremaining: 4.2s\n",
            "560:\tlearn: 9135.2398598\ttotal: 5.35s\tremaining: 4.19s\n",
            "561:\tlearn: 9125.7147729\ttotal: 5.36s\tremaining: 4.17s\n",
            "562:\tlearn: 9109.2236427\ttotal: 5.36s\tremaining: 4.16s\n",
            "563:\tlearn: 9096.3184781\ttotal: 5.37s\tremaining: 4.15s\n",
            "564:\tlearn: 9075.3929889\ttotal: 5.38s\tremaining: 4.14s\n",
            "565:\tlearn: 9064.9049474\ttotal: 5.38s\tremaining: 4.13s\n",
            "566:\tlearn: 9052.6020526\ttotal: 5.39s\tremaining: 4.12s\n",
            "567:\tlearn: 9034.8785998\ttotal: 5.4s\tremaining: 4.1s\n",
            "568:\tlearn: 9020.8324181\ttotal: 5.4s\tremaining: 4.09s\n",
            "569:\tlearn: 9005.7054866\ttotal: 5.41s\tremaining: 4.08s\n",
            "570:\tlearn: 8980.2309010\ttotal: 5.42s\tremaining: 4.07s\n",
            "571:\tlearn: 8967.6994128\ttotal: 5.43s\tremaining: 4.06s\n",
            "572:\tlearn: 8942.2784518\ttotal: 5.44s\tremaining: 4.06s\n",
            "573:\tlearn: 8941.2502154\ttotal: 5.45s\tremaining: 4.04s\n",
            "574:\tlearn: 8933.4717696\ttotal: 5.45s\tremaining: 4.03s\n",
            "575:\tlearn: 8922.8433307\ttotal: 5.46s\tremaining: 4.02s\n",
            "576:\tlearn: 8906.3731650\ttotal: 5.47s\tremaining: 4.01s\n",
            "577:\tlearn: 8891.0529413\ttotal: 5.48s\tremaining: 4s\n",
            "578:\tlearn: 8877.6543777\ttotal: 5.48s\tremaining: 3.99s\n",
            "579:\tlearn: 8876.7583164\ttotal: 5.49s\tremaining: 3.98s\n",
            "580:\tlearn: 8875.8032120\ttotal: 5.5s\tremaining: 3.97s\n",
            "581:\tlearn: 8861.3672503\ttotal: 5.51s\tremaining: 3.96s\n",
            "582:\tlearn: 8845.1920286\ttotal: 5.51s\tremaining: 3.94s\n",
            "583:\tlearn: 8843.2569000\ttotal: 5.52s\tremaining: 3.93s\n",
            "584:\tlearn: 8833.6559430\ttotal: 5.52s\tremaining: 3.92s\n",
            "585:\tlearn: 8819.1512240\ttotal: 5.53s\tremaining: 3.91s\n",
            "586:\tlearn: 8805.7808983\ttotal: 5.54s\tremaining: 3.89s\n",
            "587:\tlearn: 8796.6320845\ttotal: 5.54s\tremaining: 3.88s\n",
            "588:\tlearn: 8794.4899629\ttotal: 5.56s\tremaining: 3.88s\n",
            "589:\tlearn: 8787.4656465\ttotal: 5.56s\tremaining: 3.87s\n",
            "590:\tlearn: 8780.7506830\ttotal: 5.57s\tremaining: 3.86s\n",
            "591:\tlearn: 8770.5256007\ttotal: 5.58s\tremaining: 3.84s\n",
            "592:\tlearn: 8754.3385816\ttotal: 5.59s\tremaining: 3.83s\n",
            "593:\tlearn: 8740.4560290\ttotal: 5.6s\tremaining: 3.83s\n",
            "594:\tlearn: 8734.2494427\ttotal: 5.6s\tremaining: 3.81s\n",
            "595:\tlearn: 8719.2171664\ttotal: 5.61s\tremaining: 3.8s\n",
            "596:\tlearn: 8697.9283542\ttotal: 5.61s\tremaining: 3.79s\n",
            "597:\tlearn: 8682.7436279\ttotal: 5.62s\tremaining: 3.78s\n",
            "598:\tlearn: 8670.7895760\ttotal: 5.63s\tremaining: 3.77s\n",
            "599:\tlearn: 8662.1354803\ttotal: 5.63s\tremaining: 3.75s\n",
            "600:\tlearn: 8648.9041373\ttotal: 5.64s\tremaining: 3.74s\n",
            "601:\tlearn: 8636.7426924\ttotal: 5.64s\tremaining: 3.73s\n",
            "602:\tlearn: 8624.3579773\ttotal: 5.65s\tremaining: 3.72s\n",
            "603:\tlearn: 8622.9957402\ttotal: 5.65s\tremaining: 3.71s\n",
            "604:\tlearn: 8605.8673964\ttotal: 5.66s\tremaining: 3.69s\n",
            "605:\tlearn: 8590.8892552\ttotal: 5.67s\tremaining: 3.68s\n",
            "606:\tlearn: 8582.6598903\ttotal: 5.67s\tremaining: 3.67s\n",
            "607:\tlearn: 8573.2276158\ttotal: 5.68s\tremaining: 3.66s\n",
            "608:\tlearn: 8569.4660023\ttotal: 5.68s\tremaining: 3.65s\n",
            "609:\tlearn: 8550.4337095\ttotal: 5.69s\tremaining: 3.64s\n",
            "610:\tlearn: 8549.6069231\ttotal: 5.7s\tremaining: 3.63s\n",
            "611:\tlearn: 8541.0765329\ttotal: 5.7s\tremaining: 3.62s\n",
            "612:\tlearn: 8540.1381287\ttotal: 5.71s\tremaining: 3.6s\n",
            "613:\tlearn: 8528.1743536\ttotal: 5.71s\tremaining: 3.59s\n",
            "614:\tlearn: 8521.0318156\ttotal: 5.72s\tremaining: 3.58s\n",
            "615:\tlearn: 8512.0295745\ttotal: 5.73s\tremaining: 3.57s\n",
            "616:\tlearn: 8503.5020076\ttotal: 5.73s\tremaining: 3.56s\n",
            "617:\tlearn: 8492.1846766\ttotal: 5.74s\tremaining: 3.55s\n",
            "618:\tlearn: 8483.4950873\ttotal: 5.74s\tremaining: 3.54s\n",
            "619:\tlearn: 8463.9336577\ttotal: 5.75s\tremaining: 3.52s\n",
            "620:\tlearn: 8450.5675132\ttotal: 5.76s\tremaining: 3.51s\n",
            "621:\tlearn: 8449.7420893\ttotal: 5.76s\tremaining: 3.5s\n",
            "622:\tlearn: 8437.0478776\ttotal: 5.77s\tremaining: 3.49s\n",
            "623:\tlearn: 8434.7045255\ttotal: 5.77s\tremaining: 3.48s\n",
            "624:\tlearn: 8433.7689679\ttotal: 5.78s\tremaining: 3.47s\n",
            "625:\tlearn: 8423.4647255\ttotal: 5.79s\tremaining: 3.46s\n",
            "626:\tlearn: 8415.3167021\ttotal: 5.8s\tremaining: 3.45s\n",
            "627:\tlearn: 8411.2223636\ttotal: 5.8s\tremaining: 3.44s\n",
            "628:\tlearn: 8395.6752350\ttotal: 5.81s\tremaining: 3.42s\n",
            "629:\tlearn: 8382.5165400\ttotal: 5.81s\tremaining: 3.41s\n",
            "630:\tlearn: 8371.5240444\ttotal: 5.82s\tremaining: 3.4s\n",
            "631:\tlearn: 8359.3798435\ttotal: 5.83s\tremaining: 3.4s\n",
            "632:\tlearn: 8349.3510189\ttotal: 5.85s\tremaining: 3.39s\n",
            "633:\tlearn: 8346.6233111\ttotal: 5.86s\tremaining: 3.38s\n",
            "634:\tlearn: 8339.3077414\ttotal: 5.88s\tremaining: 3.38s\n",
            "635:\tlearn: 8325.1755738\ttotal: 5.91s\tremaining: 3.38s\n",
            "636:\tlearn: 8314.1570087\ttotal: 5.92s\tremaining: 3.37s\n",
            "637:\tlearn: 8301.6783677\ttotal: 5.93s\tremaining: 3.37s\n",
            "638:\tlearn: 8293.2097421\ttotal: 5.95s\tremaining: 3.36s\n",
            "639:\tlearn: 8292.3366210\ttotal: 5.96s\tremaining: 3.35s\n",
            "640:\tlearn: 8281.2179584\ttotal: 5.97s\tremaining: 3.35s\n",
            "641:\tlearn: 8276.6828298\ttotal: 5.99s\tremaining: 3.34s\n",
            "642:\tlearn: 8268.7457147\ttotal: 6s\tremaining: 3.33s\n",
            "643:\tlearn: 8249.5514796\ttotal: 6.01s\tremaining: 3.32s\n",
            "644:\tlearn: 8247.2670807\ttotal: 6.03s\tremaining: 3.32s\n",
            "645:\tlearn: 8241.5095048\ttotal: 6.04s\tremaining: 3.31s\n",
            "646:\tlearn: 8223.4249978\ttotal: 6.05s\tremaining: 3.3s\n",
            "647:\tlearn: 8207.9448144\ttotal: 6.07s\tremaining: 3.29s\n",
            "648:\tlearn: 8194.6746214\ttotal: 6.08s\tremaining: 3.29s\n",
            "649:\tlearn: 8190.1154632\ttotal: 6.1s\tremaining: 3.28s\n",
            "650:\tlearn: 8178.0665025\ttotal: 6.11s\tremaining: 3.28s\n",
            "651:\tlearn: 8174.3973170\ttotal: 6.13s\tremaining: 3.27s\n",
            "652:\tlearn: 8152.0219002\ttotal: 6.17s\tremaining: 3.28s\n",
            "653:\tlearn: 8144.8417949\ttotal: 6.19s\tremaining: 3.27s\n",
            "654:\tlearn: 8133.4589435\ttotal: 6.2s\tremaining: 3.27s\n",
            "655:\tlearn: 8132.4205374\ttotal: 6.21s\tremaining: 3.25s\n",
            "656:\tlearn: 8126.1336266\ttotal: 6.21s\tremaining: 3.24s\n",
            "657:\tlearn: 8123.6089957\ttotal: 6.22s\tremaining: 3.23s\n",
            "658:\tlearn: 8110.2958390\ttotal: 6.22s\tremaining: 3.22s\n",
            "659:\tlearn: 8096.9897594\ttotal: 6.24s\tremaining: 3.21s\n",
            "660:\tlearn: 8096.2289323\ttotal: 6.25s\tremaining: 3.21s\n",
            "661:\tlearn: 8089.0968331\ttotal: 6.26s\tremaining: 3.2s\n",
            "662:\tlearn: 8072.9962705\ttotal: 6.28s\tremaining: 3.19s\n",
            "663:\tlearn: 8070.6076152\ttotal: 6.3s\tremaining: 3.19s\n",
            "664:\tlearn: 8060.4462448\ttotal: 6.32s\tremaining: 3.18s\n",
            "665:\tlearn: 8046.1049249\ttotal: 6.33s\tremaining: 3.17s\n",
            "666:\tlearn: 8029.1832299\ttotal: 6.35s\tremaining: 3.17s\n",
            "667:\tlearn: 8015.7811465\ttotal: 6.36s\tremaining: 3.16s\n",
            "668:\tlearn: 8005.4383481\ttotal: 6.37s\tremaining: 3.15s\n",
            "669:\tlearn: 7994.5212412\ttotal: 6.38s\tremaining: 3.14s\n",
            "670:\tlearn: 7982.4834377\ttotal: 6.39s\tremaining: 3.13s\n",
            "671:\tlearn: 7972.1022363\ttotal: 6.41s\tremaining: 3.13s\n",
            "672:\tlearn: 7961.5579522\ttotal: 6.42s\tremaining: 3.12s\n",
            "673:\tlearn: 7949.1785790\ttotal: 6.43s\tremaining: 3.11s\n",
            "674:\tlearn: 7930.5146605\ttotal: 6.45s\tremaining: 3.1s\n",
            "675:\tlearn: 7908.9806057\ttotal: 6.47s\tremaining: 3.1s\n",
            "676:\tlearn: 7895.7041119\ttotal: 6.48s\tremaining: 3.09s\n",
            "677:\tlearn: 7882.3537860\ttotal: 6.52s\tremaining: 3.1s\n",
            "678:\tlearn: 7881.3247456\ttotal: 6.54s\tremaining: 3.09s\n",
            "679:\tlearn: 7868.4660241\ttotal: 6.55s\tremaining: 3.08s\n",
            "680:\tlearn: 7859.7813197\ttotal: 6.57s\tremaining: 3.08s\n",
            "681:\tlearn: 7848.1310068\ttotal: 6.58s\tremaining: 3.07s\n",
            "682:\tlearn: 7847.3712303\ttotal: 6.59s\tremaining: 3.06s\n",
            "683:\tlearn: 7829.0014094\ttotal: 6.6s\tremaining: 3.05s\n",
            "684:\tlearn: 7813.8466743\ttotal: 6.62s\tremaining: 3.04s\n",
            "685:\tlearn: 7803.4570768\ttotal: 6.63s\tremaining: 3.03s\n",
            "686:\tlearn: 7794.3264509\ttotal: 6.64s\tremaining: 3.03s\n",
            "687:\tlearn: 7787.6075201\ttotal: 6.66s\tremaining: 3.02s\n",
            "688:\tlearn: 7773.7228913\ttotal: 6.67s\tremaining: 3.01s\n",
            "689:\tlearn: 7759.6591252\ttotal: 6.68s\tremaining: 3s\n",
            "690:\tlearn: 7749.5999472\ttotal: 6.7s\tremaining: 2.99s\n",
            "691:\tlearn: 7743.5726093\ttotal: 6.71s\tremaining: 2.99s\n",
            "692:\tlearn: 7731.5377659\ttotal: 6.73s\tremaining: 2.98s\n",
            "693:\tlearn: 7721.4414799\ttotal: 6.74s\tremaining: 2.97s\n",
            "694:\tlearn: 7720.5075006\ttotal: 6.75s\tremaining: 2.96s\n",
            "695:\tlearn: 7711.7300033\ttotal: 6.77s\tremaining: 2.96s\n",
            "696:\tlearn: 7701.9242806\ttotal: 6.78s\tremaining: 2.95s\n",
            "697:\tlearn: 7689.6213886\ttotal: 6.79s\tremaining: 2.94s\n",
            "698:\tlearn: 7675.7814567\ttotal: 6.81s\tremaining: 2.93s\n",
            "699:\tlearn: 7669.2927501\ttotal: 6.82s\tremaining: 2.92s\n",
            "700:\tlearn: 7659.2855721\ttotal: 6.83s\tremaining: 2.92s\n",
            "701:\tlearn: 7648.2551759\ttotal: 6.85s\tremaining: 2.91s\n",
            "702:\tlearn: 7634.5034522\ttotal: 6.86s\tremaining: 2.9s\n",
            "703:\tlearn: 7632.8190172\ttotal: 6.87s\tremaining: 2.89s\n",
            "704:\tlearn: 7632.0910431\ttotal: 6.88s\tremaining: 2.88s\n",
            "705:\tlearn: 7630.9426452\ttotal: 6.89s\tremaining: 2.87s\n",
            "706:\tlearn: 7629.4710586\ttotal: 6.91s\tremaining: 2.86s\n",
            "707:\tlearn: 7628.0211913\ttotal: 6.92s\tremaining: 2.86s\n",
            "708:\tlearn: 7627.3272011\ttotal: 6.94s\tremaining: 2.85s\n",
            "709:\tlearn: 7624.6320964\ttotal: 6.95s\tremaining: 2.84s\n",
            "710:\tlearn: 7612.1682041\ttotal: 6.97s\tremaining: 2.83s\n",
            "711:\tlearn: 7608.2550031\ttotal: 6.99s\tremaining: 2.83s\n",
            "712:\tlearn: 7601.5680290\ttotal: 7s\tremaining: 2.82s\n",
            "713:\tlearn: 7587.5521786\ttotal: 7.02s\tremaining: 2.81s\n",
            "714:\tlearn: 7574.8137281\ttotal: 7.03s\tremaining: 2.8s\n",
            "715:\tlearn: 7558.7356605\ttotal: 7.05s\tremaining: 2.79s\n",
            "716:\tlearn: 7553.7621017\ttotal: 7.06s\tremaining: 2.79s\n",
            "717:\tlearn: 7538.3496169\ttotal: 7.07s\tremaining: 2.78s\n",
            "718:\tlearn: 7528.1229744\ttotal: 7.08s\tremaining: 2.77s\n",
            "719:\tlearn: 7520.2682806\ttotal: 7.1s\tremaining: 2.76s\n",
            "720:\tlearn: 7512.4421042\ttotal: 7.11s\tremaining: 2.75s\n",
            "721:\tlearn: 7494.5747048\ttotal: 7.14s\tremaining: 2.75s\n",
            "722:\tlearn: 7470.7096165\ttotal: 7.16s\tremaining: 2.74s\n",
            "723:\tlearn: 7465.4914316\ttotal: 7.18s\tremaining: 2.74s\n",
            "724:\tlearn: 7458.7602658\ttotal: 7.2s\tremaining: 2.73s\n",
            "725:\tlearn: 7445.3080038\ttotal: 7.21s\tremaining: 2.72s\n",
            "726:\tlearn: 7436.9507701\ttotal: 7.22s\tremaining: 2.71s\n",
            "727:\tlearn: 7424.8490288\ttotal: 7.23s\tremaining: 2.7s\n",
            "728:\tlearn: 7423.3253556\ttotal: 7.24s\tremaining: 2.69s\n",
            "729:\tlearn: 7416.6469856\ttotal: 7.25s\tremaining: 2.68s\n",
            "730:\tlearn: 7405.3741185\ttotal: 7.26s\tremaining: 2.67s\n",
            "731:\tlearn: 7395.9343078\ttotal: 7.26s\tremaining: 2.66s\n",
            "732:\tlearn: 7389.0101714\ttotal: 7.27s\tremaining: 2.65s\n",
            "733:\tlearn: 7384.3044435\ttotal: 7.28s\tremaining: 2.64s\n",
            "734:\tlearn: 7378.3367670\ttotal: 7.29s\tremaining: 2.63s\n",
            "735:\tlearn: 7377.7113070\ttotal: 7.32s\tremaining: 2.62s\n",
            "736:\tlearn: 7368.2080007\ttotal: 7.33s\tremaining: 2.61s\n",
            "737:\tlearn: 7357.9243486\ttotal: 7.33s\tremaining: 2.6s\n",
            "738:\tlearn: 7343.1200518\ttotal: 7.34s\tremaining: 2.59s\n",
            "739:\tlearn: 7333.0546286\ttotal: 7.35s\tremaining: 2.58s\n",
            "740:\tlearn: 7328.8375933\ttotal: 7.37s\tremaining: 2.58s\n",
            "741:\tlearn: 7318.8256043\ttotal: 7.38s\tremaining: 2.56s\n",
            "742:\tlearn: 7318.1158570\ttotal: 7.39s\tremaining: 2.56s\n",
            "743:\tlearn: 7304.3120099\ttotal: 7.39s\tremaining: 2.54s\n",
            "744:\tlearn: 7295.1421882\ttotal: 7.4s\tremaining: 2.53s\n",
            "745:\tlearn: 7283.1392865\ttotal: 7.41s\tremaining: 2.52s\n",
            "746:\tlearn: 7271.4926296\ttotal: 7.41s\tremaining: 2.51s\n",
            "747:\tlearn: 7260.8082325\ttotal: 7.42s\tremaining: 2.5s\n",
            "748:\tlearn: 7254.5095109\ttotal: 7.43s\tremaining: 2.49s\n",
            "749:\tlearn: 7239.5045447\ttotal: 7.43s\tremaining: 2.48s\n",
            "750:\tlearn: 7228.6367586\ttotal: 7.44s\tremaining: 2.47s\n",
            "751:\tlearn: 7220.8182982\ttotal: 7.45s\tremaining: 2.46s\n",
            "752:\tlearn: 7207.2425217\ttotal: 7.46s\tremaining: 2.45s\n",
            "753:\tlearn: 7203.2006784\ttotal: 7.47s\tremaining: 2.44s\n",
            "754:\tlearn: 7191.2065518\ttotal: 7.48s\tremaining: 2.43s\n",
            "755:\tlearn: 7181.1419084\ttotal: 7.49s\tremaining: 2.42s\n",
            "756:\tlearn: 7168.9312666\ttotal: 7.5s\tremaining: 2.41s\n",
            "757:\tlearn: 7166.0250713\ttotal: 7.52s\tremaining: 2.4s\n",
            "758:\tlearn: 7157.5845874\ttotal: 7.53s\tremaining: 2.39s\n",
            "759:\tlearn: 7150.3089304\ttotal: 7.54s\tremaining: 2.38s\n",
            "760:\tlearn: 7149.2636620\ttotal: 7.55s\tremaining: 2.37s\n",
            "761:\tlearn: 7148.7170648\ttotal: 7.55s\tremaining: 2.36s\n",
            "762:\tlearn: 7140.2684723\ttotal: 7.57s\tremaining: 2.35s\n",
            "763:\tlearn: 7125.9666047\ttotal: 7.58s\tremaining: 2.34s\n",
            "764:\tlearn: 7125.3565226\ttotal: 7.59s\tremaining: 2.33s\n",
            "765:\tlearn: 7115.1010144\ttotal: 7.6s\tremaining: 2.32s\n",
            "766:\tlearn: 7105.8194025\ttotal: 7.62s\tremaining: 2.31s\n",
            "767:\tlearn: 7097.1605237\ttotal: 7.63s\tremaining: 2.3s\n",
            "768:\tlearn: 7077.7035231\ttotal: 7.64s\tremaining: 2.29s\n",
            "769:\tlearn: 7065.5024084\ttotal: 7.65s\tremaining: 2.29s\n",
            "770:\tlearn: 7049.5336250\ttotal: 7.67s\tremaining: 2.28s\n",
            "771:\tlearn: 7039.5166938\ttotal: 7.68s\tremaining: 2.27s\n",
            "772:\tlearn: 7036.3805511\ttotal: 7.69s\tremaining: 2.26s\n",
            "773:\tlearn: 7031.4212762\ttotal: 7.7s\tremaining: 2.25s\n",
            "774:\tlearn: 7022.4504875\ttotal: 7.72s\tremaining: 2.24s\n",
            "775:\tlearn: 7014.2772719\ttotal: 7.73s\tremaining: 2.23s\n",
            "776:\tlearn: 7009.7800547\ttotal: 7.74s\tremaining: 2.22s\n",
            "777:\tlearn: 6989.9050280\ttotal: 7.74s\tremaining: 2.21s\n",
            "778:\tlearn: 6983.7012617\ttotal: 7.75s\tremaining: 2.2s\n",
            "779:\tlearn: 6983.1561784\ttotal: 7.76s\tremaining: 2.19s\n",
            "780:\tlearn: 6970.2632676\ttotal: 7.76s\tremaining: 2.18s\n",
            "781:\tlearn: 6968.7466224\ttotal: 7.77s\tremaining: 2.17s\n",
            "782:\tlearn: 6953.4373736\ttotal: 7.79s\tremaining: 2.16s\n",
            "783:\tlearn: 6951.7634202\ttotal: 7.8s\tremaining: 2.15s\n",
            "784:\tlearn: 6941.8421867\ttotal: 7.81s\tremaining: 2.14s\n",
            "785:\tlearn: 6939.0012197\ttotal: 7.82s\tremaining: 2.13s\n",
            "786:\tlearn: 6935.9976443\ttotal: 7.83s\tremaining: 2.12s\n",
            "787:\tlearn: 6925.3136257\ttotal: 7.84s\tremaining: 2.11s\n",
            "788:\tlearn: 6912.4209747\ttotal: 7.85s\tremaining: 2.1s\n",
            "789:\tlearn: 6909.0102059\ttotal: 7.86s\tremaining: 2.09s\n",
            "790:\tlearn: 6901.4585039\ttotal: 7.87s\tremaining: 2.08s\n",
            "791:\tlearn: 6888.6047296\ttotal: 7.89s\tremaining: 2.07s\n",
            "792:\tlearn: 6887.7570294\ttotal: 7.9s\tremaining: 2.06s\n",
            "793:\tlearn: 6867.1000847\ttotal: 7.94s\tremaining: 2.06s\n",
            "794:\tlearn: 6857.5559781\ttotal: 7.97s\tremaining: 2.05s\n",
            "795:\tlearn: 6854.7480767\ttotal: 7.99s\tremaining: 2.05s\n",
            "796:\tlearn: 6848.8510458\ttotal: 8.01s\tremaining: 2.04s\n",
            "797:\tlearn: 6837.3360236\ttotal: 8.02s\tremaining: 2.03s\n",
            "798:\tlearn: 6826.8400875\ttotal: 8.04s\tremaining: 2.02s\n",
            "799:\tlearn: 6814.8670219\ttotal: 8.05s\tremaining: 2.01s\n",
            "800:\tlearn: 6810.1004659\ttotal: 8.07s\tremaining: 2s\n",
            "801:\tlearn: 6804.5882674\ttotal: 8.09s\tremaining: 2s\n",
            "802:\tlearn: 6801.2935006\ttotal: 8.1s\tremaining: 1.99s\n",
            "803:\tlearn: 6791.4927047\ttotal: 8.11s\tremaining: 1.98s\n",
            "804:\tlearn: 6780.6769098\ttotal: 8.13s\tremaining: 1.97s\n",
            "805:\tlearn: 6780.1019922\ttotal: 8.15s\tremaining: 1.96s\n",
            "806:\tlearn: 6767.4799662\ttotal: 8.16s\tremaining: 1.95s\n",
            "807:\tlearn: 6748.7088324\ttotal: 8.19s\tremaining: 1.95s\n",
            "808:\tlearn: 6739.2255608\ttotal: 8.21s\tremaining: 1.94s\n",
            "809:\tlearn: 6730.4017801\ttotal: 8.22s\tremaining: 1.93s\n",
            "810:\tlearn: 6722.5707419\ttotal: 8.23s\tremaining: 1.92s\n",
            "811:\tlearn: 6712.5123966\ttotal: 8.26s\tremaining: 1.91s\n",
            "812:\tlearn: 6703.6228829\ttotal: 8.3s\tremaining: 1.91s\n",
            "813:\tlearn: 6687.9810198\ttotal: 8.32s\tremaining: 1.9s\n",
            "814:\tlearn: 6676.7630998\ttotal: 8.34s\tremaining: 1.89s\n",
            "815:\tlearn: 6669.0497559\ttotal: 8.37s\tremaining: 1.89s\n",
            "816:\tlearn: 6661.4152359\ttotal: 8.4s\tremaining: 1.88s\n",
            "817:\tlearn: 6658.0144796\ttotal: 8.43s\tremaining: 1.88s\n",
            "818:\tlearn: 6651.1291838\ttotal: 8.46s\tremaining: 1.87s\n",
            "819:\tlearn: 6646.8894517\ttotal: 8.49s\tremaining: 1.86s\n",
            "820:\tlearn: 6641.3888804\ttotal: 8.52s\tremaining: 1.86s\n",
            "821:\tlearn: 6632.6830852\ttotal: 8.58s\tremaining: 1.86s\n",
            "822:\tlearn: 6627.5920141\ttotal: 8.62s\tremaining: 1.85s\n",
            "823:\tlearn: 6623.5112255\ttotal: 8.66s\tremaining: 1.85s\n",
            "824:\tlearn: 6619.5786570\ttotal: 8.68s\tremaining: 1.84s\n",
            "825:\tlearn: 6608.9065015\ttotal: 8.71s\tremaining: 1.83s\n",
            "826:\tlearn: 6602.3814698\ttotal: 8.74s\tremaining: 1.83s\n",
            "827:\tlearn: 6592.9435455\ttotal: 8.78s\tremaining: 1.82s\n",
            "828:\tlearn: 6573.5910439\ttotal: 8.82s\tremaining: 1.82s\n",
            "829:\tlearn: 6565.7850887\ttotal: 8.84s\tremaining: 1.81s\n",
            "830:\tlearn: 6555.9282786\ttotal: 8.86s\tremaining: 1.8s\n",
            "831:\tlearn: 6546.1462881\ttotal: 8.87s\tremaining: 1.79s\n",
            "832:\tlearn: 6526.9882947\ttotal: 8.89s\tremaining: 1.78s\n",
            "833:\tlearn: 6512.5778449\ttotal: 8.9s\tremaining: 1.77s\n",
            "834:\tlearn: 6504.7050091\ttotal: 8.91s\tremaining: 1.76s\n",
            "835:\tlearn: 6497.9041430\ttotal: 8.93s\tremaining: 1.75s\n",
            "836:\tlearn: 6491.7381938\ttotal: 8.94s\tremaining: 1.74s\n",
            "837:\tlearn: 6486.5250512\ttotal: 8.95s\tremaining: 1.73s\n",
            "838:\tlearn: 6479.8277695\ttotal: 8.96s\tremaining: 1.72s\n",
            "839:\tlearn: 6467.5495436\ttotal: 9.01s\tremaining: 1.72s\n",
            "840:\tlearn: 6462.9644409\ttotal: 9.04s\tremaining: 1.71s\n",
            "841:\tlearn: 6455.8367267\ttotal: 9.07s\tremaining: 1.7s\n",
            "842:\tlearn: 6452.8110807\ttotal: 9.09s\tremaining: 1.69s\n",
            "843:\tlearn: 6442.8795267\ttotal: 9.12s\tremaining: 1.68s\n",
            "844:\tlearn: 6433.5408833\ttotal: 9.14s\tremaining: 1.68s\n",
            "845:\tlearn: 6425.5478439\ttotal: 9.16s\tremaining: 1.67s\n",
            "846:\tlearn: 6423.3653206\ttotal: 9.18s\tremaining: 1.66s\n",
            "847:\tlearn: 6420.7922581\ttotal: 9.19s\tremaining: 1.65s\n",
            "848:\tlearn: 6419.9056344\ttotal: 9.21s\tremaining: 1.64s\n",
            "849:\tlearn: 6406.4717636\ttotal: 9.22s\tremaining: 1.63s\n",
            "850:\tlearn: 6398.3200330\ttotal: 9.24s\tremaining: 1.62s\n",
            "851:\tlearn: 6387.7936607\ttotal: 9.27s\tremaining: 1.61s\n",
            "852:\tlearn: 6372.3197494\ttotal: 9.29s\tremaining: 1.6s\n",
            "853:\tlearn: 6370.9741097\ttotal: 9.31s\tremaining: 1.59s\n",
            "854:\tlearn: 6359.7782675\ttotal: 9.34s\tremaining: 1.58s\n",
            "855:\tlearn: 6349.2547194\ttotal: 9.37s\tremaining: 1.58s\n",
            "856:\tlearn: 6340.7858372\ttotal: 9.41s\tremaining: 1.57s\n",
            "857:\tlearn: 6330.3764059\ttotal: 9.43s\tremaining: 1.56s\n",
            "858:\tlearn: 6323.4814796\ttotal: 9.45s\tremaining: 1.55s\n",
            "859:\tlearn: 6316.7879252\ttotal: 9.46s\tremaining: 1.54s\n",
            "860:\tlearn: 6310.4934305\ttotal: 9.48s\tremaining: 1.53s\n",
            "861:\tlearn: 6305.9208696\ttotal: 9.5s\tremaining: 1.52s\n",
            "862:\tlearn: 6294.9557195\ttotal: 9.54s\tremaining: 1.51s\n",
            "863:\tlearn: 6289.0695248\ttotal: 9.57s\tremaining: 1.51s\n",
            "864:\tlearn: 6282.7235848\ttotal: 9.59s\tremaining: 1.5s\n",
            "865:\tlearn: 6274.0074176\ttotal: 9.62s\tremaining: 1.49s\n",
            "866:\tlearn: 6255.8433086\ttotal: 9.64s\tremaining: 1.48s\n",
            "867:\tlearn: 6245.3193845\ttotal: 9.65s\tremaining: 1.47s\n",
            "868:\tlearn: 6244.1275896\ttotal: 9.69s\tremaining: 1.46s\n",
            "869:\tlearn: 6232.2562469\ttotal: 9.7s\tremaining: 1.45s\n",
            "870:\tlearn: 6220.0898271\ttotal: 9.74s\tremaining: 1.44s\n",
            "871:\tlearn: 6212.1339373\ttotal: 9.76s\tremaining: 1.43s\n",
            "872:\tlearn: 6207.8377702\ttotal: 9.78s\tremaining: 1.42s\n",
            "873:\tlearn: 6203.4442007\ttotal: 9.81s\tremaining: 1.41s\n",
            "874:\tlearn: 6197.9843739\ttotal: 9.83s\tremaining: 1.4s\n",
            "875:\tlearn: 6195.4438566\ttotal: 9.85s\tremaining: 1.39s\n",
            "876:\tlearn: 6187.2878256\ttotal: 9.88s\tremaining: 1.39s\n",
            "877:\tlearn: 6178.3365923\ttotal: 9.9s\tremaining: 1.38s\n",
            "878:\tlearn: 6170.7541901\ttotal: 9.91s\tremaining: 1.36s\n",
            "879:\tlearn: 6168.0772464\ttotal: 9.94s\tremaining: 1.35s\n",
            "880:\tlearn: 6157.4811888\ttotal: 9.96s\tremaining: 1.34s\n",
            "881:\tlearn: 6149.2232111\ttotal: 10s\tremaining: 1.34s\n",
            "882:\tlearn: 6146.2524685\ttotal: 10s\tremaining: 1.33s\n",
            "883:\tlearn: 6141.2221438\ttotal: 10s\tremaining: 1.32s\n",
            "884:\tlearn: 6136.5975648\ttotal: 10.1s\tremaining: 1.31s\n",
            "885:\tlearn: 6125.0693665\ttotal: 10.1s\tremaining: 1.3s\n",
            "886:\tlearn: 6112.6438187\ttotal: 10.1s\tremaining: 1.28s\n",
            "887:\tlearn: 6111.8551645\ttotal: 10.1s\tremaining: 1.27s\n",
            "888:\tlearn: 6101.5813449\ttotal: 10.1s\tremaining: 1.26s\n",
            "889:\tlearn: 6097.8676789\ttotal: 10.1s\tremaining: 1.25s\n",
            "890:\tlearn: 6090.9728465\ttotal: 10.1s\tremaining: 1.24s\n",
            "891:\tlearn: 6080.8474334\ttotal: 10.2s\tremaining: 1.23s\n",
            "892:\tlearn: 6080.3573693\ttotal: 10.2s\tremaining: 1.22s\n",
            "893:\tlearn: 6071.8853763\ttotal: 10.2s\tremaining: 1.21s\n",
            "894:\tlearn: 6065.2626391\ttotal: 10.2s\tremaining: 1.2s\n",
            "895:\tlearn: 6052.2947950\ttotal: 10.2s\tremaining: 1.19s\n",
            "896:\tlearn: 6041.2849785\ttotal: 10.2s\tremaining: 1.17s\n",
            "897:\tlearn: 6039.1020810\ttotal: 10.2s\tremaining: 1.16s\n",
            "898:\tlearn: 6036.8318216\ttotal: 10.3s\tremaining: 1.15s\n",
            "899:\tlearn: 6026.5277015\ttotal: 10.3s\tremaining: 1.14s\n",
            "900:\tlearn: 6025.1993066\ttotal: 10.3s\tremaining: 1.13s\n",
            "901:\tlearn: 6019.3148302\ttotal: 10.3s\tremaining: 1.12s\n",
            "902:\tlearn: 6010.5608356\ttotal: 10.3s\tremaining: 1.11s\n",
            "903:\tlearn: 6004.0476306\ttotal: 10.3s\tremaining: 1.1s\n",
            "904:\tlearn: 5993.2124165\ttotal: 10.4s\tremaining: 1.09s\n",
            "905:\tlearn: 5988.2683267\ttotal: 10.4s\tremaining: 1.08s\n",
            "906:\tlearn: 5976.5768804\ttotal: 10.4s\tremaining: 1.07s\n",
            "907:\tlearn: 5963.9262563\ttotal: 10.4s\tremaining: 1.05s\n",
            "908:\tlearn: 5955.4576998\ttotal: 10.4s\tremaining: 1.04s\n",
            "909:\tlearn: 5949.1591634\ttotal: 10.5s\tremaining: 1.03s\n",
            "910:\tlearn: 5944.4174244\ttotal: 10.5s\tremaining: 1.02s\n",
            "911:\tlearn: 5932.6137168\ttotal: 10.5s\tremaining: 1.01s\n",
            "912:\tlearn: 5926.8861379\ttotal: 10.5s\tremaining: 1s\n",
            "913:\tlearn: 5911.0117147\ttotal: 10.6s\tremaining: 993ms\n",
            "914:\tlearn: 5904.5466058\ttotal: 10.6s\tremaining: 982ms\n",
            "915:\tlearn: 5898.8122378\ttotal: 10.6s\tremaining: 971ms\n",
            "916:\tlearn: 5894.0489863\ttotal: 10.6s\tremaining: 960ms\n",
            "917:\tlearn: 5884.2677226\ttotal: 10.6s\tremaining: 950ms\n",
            "918:\tlearn: 5877.1506704\ttotal: 10.6s\tremaining: 938ms\n",
            "919:\tlearn: 5876.6725208\ttotal: 10.7s\tremaining: 927ms\n",
            "920:\tlearn: 5868.8565003\ttotal: 10.7s\tremaining: 916ms\n",
            "921:\tlearn: 5862.7905373\ttotal: 10.7s\tremaining: 905ms\n",
            "922:\tlearn: 5858.1528035\ttotal: 10.7s\tremaining: 893ms\n",
            "923:\tlearn: 5851.4687989\ttotal: 10.7s\tremaining: 882ms\n",
            "924:\tlearn: 5841.0261987\ttotal: 10.7s\tremaining: 871ms\n",
            "925:\tlearn: 5834.8669842\ttotal: 10.8s\tremaining: 862ms\n",
            "926:\tlearn: 5825.4872084\ttotal: 10.8s\tremaining: 850ms\n",
            "927:\tlearn: 5821.2103251\ttotal: 10.8s\tremaining: 838ms\n",
            "928:\tlearn: 5819.3529159\ttotal: 10.8s\tremaining: 826ms\n",
            "929:\tlearn: 5810.1373978\ttotal: 10.8s\tremaining: 815ms\n",
            "930:\tlearn: 5802.5985664\ttotal: 10.8s\tremaining: 803ms\n",
            "931:\tlearn: 5798.8864461\ttotal: 10.8s\tremaining: 792ms\n",
            "932:\tlearn: 5798.3034139\ttotal: 10.9s\tremaining: 780ms\n",
            "933:\tlearn: 5796.0972718\ttotal: 10.9s\tremaining: 768ms\n",
            "934:\tlearn: 5784.6640525\ttotal: 10.9s\tremaining: 757ms\n",
            "935:\tlearn: 5775.2509944\ttotal: 10.9s\tremaining: 745ms\n",
            "936:\tlearn: 5765.1426807\ttotal: 10.9s\tremaining: 733ms\n",
            "937:\tlearn: 5759.7752985\ttotal: 10.9s\tremaining: 722ms\n",
            "938:\tlearn: 5747.3674001\ttotal: 10.9s\tremaining: 711ms\n",
            "939:\tlearn: 5735.4486809\ttotal: 10.9s\tremaining: 699ms\n",
            "940:\tlearn: 5732.9173733\ttotal: 11s\tremaining: 687ms\n",
            "941:\tlearn: 5723.6452117\ttotal: 11s\tremaining: 676ms\n",
            "942:\tlearn: 5714.6036033\ttotal: 11s\tremaining: 664ms\n",
            "943:\tlearn: 5711.3614859\ttotal: 11s\tremaining: 652ms\n",
            "944:\tlearn: 5701.8504187\ttotal: 11s\tremaining: 641ms\n",
            "945:\tlearn: 5694.9578663\ttotal: 11s\tremaining: 629ms\n",
            "946:\tlearn: 5693.0358388\ttotal: 11.1s\tremaining: 619ms\n",
            "947:\tlearn: 5688.9477643\ttotal: 11.1s\tremaining: 608ms\n",
            "948:\tlearn: 5681.6380096\ttotal: 11.1s\tremaining: 596ms\n",
            "949:\tlearn: 5674.5333967\ttotal: 11.1s\tremaining: 584ms\n",
            "950:\tlearn: 5669.9589803\ttotal: 11.1s\tremaining: 573ms\n",
            "951:\tlearn: 5658.3009963\ttotal: 11.1s\tremaining: 561ms\n",
            "952:\tlearn: 5655.4653366\ttotal: 11.1s\tremaining: 549ms\n",
            "953:\tlearn: 5648.3087377\ttotal: 11.1s\tremaining: 537ms\n",
            "954:\tlearn: 5636.1807913\ttotal: 11.1s\tremaining: 525ms\n",
            "955:\tlearn: 5628.6582106\ttotal: 11.2s\tremaining: 513ms\n",
            "956:\tlearn: 5624.6244921\ttotal: 11.2s\tremaining: 502ms\n",
            "957:\tlearn: 5622.1405803\ttotal: 11.2s\tremaining: 490ms\n",
            "958:\tlearn: 5614.0470668\ttotal: 11.2s\tremaining: 478ms\n",
            "959:\tlearn: 5607.8770129\ttotal: 11.2s\tremaining: 466ms\n",
            "960:\tlearn: 5604.4345134\ttotal: 11.2s\tremaining: 454ms\n",
            "961:\tlearn: 5594.0989265\ttotal: 11.2s\tremaining: 442ms\n",
            "962:\tlearn: 5584.8666538\ttotal: 11.2s\tremaining: 431ms\n",
            "963:\tlearn: 5576.3132172\ttotal: 11.2s\tremaining: 419ms\n",
            "964:\tlearn: 5575.7218120\ttotal: 11.2s\tremaining: 407ms\n",
            "965:\tlearn: 5567.6545574\ttotal: 11.2s\tremaining: 395ms\n",
            "966:\tlearn: 5559.9804719\ttotal: 11.2s\tremaining: 384ms\n",
            "967:\tlearn: 5554.7676531\ttotal: 11.2s\tremaining: 372ms\n",
            "968:\tlearn: 5546.2362332\ttotal: 11.3s\tremaining: 360ms\n",
            "969:\tlearn: 5540.9671891\ttotal: 11.3s\tremaining: 348ms\n",
            "970:\tlearn: 5532.6807119\ttotal: 11.3s\tremaining: 337ms\n",
            "971:\tlearn: 5526.6396486\ttotal: 11.3s\tremaining: 325ms\n",
            "972:\tlearn: 5521.6599520\ttotal: 11.3s\tremaining: 313ms\n",
            "973:\tlearn: 5517.7388745\ttotal: 11.3s\tremaining: 302ms\n",
            "974:\tlearn: 5514.7559439\ttotal: 11.3s\tremaining: 290ms\n",
            "975:\tlearn: 5505.5485690\ttotal: 11.3s\tremaining: 279ms\n",
            "976:\tlearn: 5496.4020480\ttotal: 11.4s\tremaining: 267ms\n",
            "977:\tlearn: 5488.5017500\ttotal: 11.4s\tremaining: 256ms\n",
            "978:\tlearn: 5481.4934915\ttotal: 11.4s\tremaining: 244ms\n",
            "979:\tlearn: 5471.3406590\ttotal: 11.4s\tremaining: 232ms\n",
            "980:\tlearn: 5467.0507812\ttotal: 11.4s\tremaining: 221ms\n",
            "981:\tlearn: 5457.6266839\ttotal: 11.4s\tremaining: 209ms\n",
            "982:\tlearn: 5454.3218727\ttotal: 11.4s\tremaining: 197ms\n",
            "983:\tlearn: 5447.8253312\ttotal: 11.4s\tremaining: 186ms\n",
            "984:\tlearn: 5438.3282154\ttotal: 11.4s\tremaining: 174ms\n",
            "985:\tlearn: 5429.8709820\ttotal: 11.5s\tremaining: 163ms\n",
            "986:\tlearn: 5422.4814400\ttotal: 11.5s\tremaining: 151ms\n",
            "987:\tlearn: 5413.5053548\ttotal: 11.5s\tremaining: 140ms\n",
            "988:\tlearn: 5411.1992473\ttotal: 11.5s\tremaining: 128ms\n",
            "989:\tlearn: 5404.8487331\ttotal: 11.5s\tremaining: 116ms\n",
            "990:\tlearn: 5396.7080678\ttotal: 11.5s\tremaining: 105ms\n",
            "991:\tlearn: 5386.7219523\ttotal: 11.6s\tremaining: 93.2ms\n",
            "992:\tlearn: 5379.8440692\ttotal: 11.6s\tremaining: 81.6ms\n",
            "993:\tlearn: 5379.5174671\ttotal: 11.6s\tremaining: 69.9ms\n",
            "994:\tlearn: 5373.4672996\ttotal: 11.6s\tremaining: 58.3ms\n",
            "995:\tlearn: 5369.2587207\ttotal: 11.6s\tremaining: 46.6ms\n",
            "996:\tlearn: 5359.1267689\ttotal: 11.6s\tremaining: 34.9ms\n",
            "997:\tlearn: 5353.9211579\ttotal: 11.6s\tremaining: 23.3ms\n",
            "998:\tlearn: 5347.1406438\ttotal: 11.6s\tremaining: 11.6ms\n",
            "999:\tlearn: 5340.9711615\ttotal: 11.6s\tremaining: 0us\n",
            "CPU times: user 12.1 s, sys: 799 ms, total: 12.8 s\n",
            "Wall time: 12.7 s\n"
          ]
        },
        {
          "output_type": "execute_result",
          "data": {
            "text/plain": [
              "<catboost.core.CatBoostRegressor at 0x7e3d1ee2e2f0>"
            ]
          },
          "metadata": {},
          "execution_count": 24
        }
      ]
    },
    {
      "cell_type": "code",
      "metadata": {
        "colab": {
          "base_uri": "https://localhost:8080/"
        },
        "outputId": "c2b28f5b-c632-42d0-8455-6c5246e8971e",
        "id": "LjYJtJVcUTPR"
      },
      "source": [
        "cat.score(X_train, y_train), cat.score(X_test, y_test)"
      ],
      "execution_count": null,
      "outputs": [
        {
          "output_type": "execute_result",
          "data": {
            "text/plain": [
              "(0.9952603447277865, 0.9193565066045533)"
            ]
          },
          "metadata": {},
          "execution_count": 25
        }
      ]
    },
    {
      "cell_type": "markdown",
      "metadata": {
        "id": "CzHfXO7QNkno"
      },
      "source": [
        "[Гиперпараметры catboost](https://catboost.ai/docs/concepts/python-reference_parameters-list.html#python-reference_parameters-list)"
      ]
    },
    {
      "cell_type": "code",
      "source": [
        "from google.colab import output\n",
        "output.enable_custom_widget_manager()"
      ],
      "metadata": {
        "id": "_H1c6RsTRJoO"
      },
      "execution_count": null,
      "outputs": []
    },
    {
      "cell_type": "code",
      "source": [
        "%%time\n",
        "model_catb = CatBoostRegressor(silent=True, random_state=21,\n",
        "                               eval_metric='R2',\n",
        "                              #  cat_features=CAT_FEATURE_NAMES,\n",
        "                               early_stopping_rounds=20,\n",
        "                               use_best_model=True,\n",
        "                               custom_metric=['RMSE', 'MAE']\n",
        "                              )\n",
        "model_catb.fit(X_train, y_train, plot=True, eval_set=(X_test, y_test))"
      ],
      "metadata": {
        "colab": {
          "base_uri": "https://localhost:8080/",
          "height": 89,
          "referenced_widgets": [
            "58b6e04061ba42489d29c331fa337777"
          ]
        },
        "id": "v7pkh9-h3hnG",
        "outputId": "49b8a765-e64a-4a11-9098-269c24d38ac4"
      },
      "execution_count": null,
      "outputs": [
        {
          "output_type": "display_data",
          "data": {
            "text/plain": [
              "MetricVisualizer(layout=Layout(align_self='stretch', height='500px'))"
            ],
            "application/vnd.jupyter.widget-view+json": {
              "version_major": 2,
              "version_minor": 0,
              "model_id": "58b6e04061ba42489d29c331fa337777"
            }
          },
          "metadata": {}
        },
        {
          "output_type": "stream",
          "name": "stdout",
          "text": [
            "CPU times: user 5.65 s, sys: 419 ms, total: 6.07 s\n",
            "Wall time: 6.51 s\n"
          ]
        },
        {
          "output_type": "execute_result",
          "data": {
            "text/plain": [
              "<catboost.core.CatBoostRegressor at 0x7e3cbc9a8490>"
            ]
          },
          "metadata": {},
          "execution_count": 106
        }
      ]
    },
    {
      "cell_type": "code",
      "source": [
        "model_catb.score(X_train, y_train), model_catb.score(X_test, y_test)"
      ],
      "metadata": {
        "colab": {
          "base_uri": "https://localhost:8080/"
        },
        "id": "71r2gKSKGNGX",
        "outputId": "8f788491-bbe1-4506-993f-d4f2d1b8a239"
      },
      "execution_count": null,
      "outputs": [
        {
          "output_type": "execute_result",
          "data": {
            "text/plain": [
              "(0.9853142848487139, 0.9158610405617645)"
            ]
          },
          "metadata": {},
          "execution_count": 107
        }
      ]
    },
    {
      "cell_type": "code",
      "metadata": {
        "colab": {
          "base_uri": "https://localhost:8080/",
          "height": 255
        },
        "outputId": "d578e1a3-e1fd-4a85-e2df-4db9fd8d6b6d",
        "id": "1gN3BxtMGVWx"
      },
      "source": [
        "data = pd.read_csv('train.csv')\n",
        "data.head()"
      ],
      "execution_count": null,
      "outputs": [
        {
          "output_type": "execute_result",
          "data": {
            "text/plain": [
              "   Id  MSSubClass MSZoning  LotFrontage  LotArea Street Alley LotShape  \\\n",
              "0   1          60       RL         65.0     8450   Pave   NaN      Reg   \n",
              "1   2          20       RL         80.0     9600   Pave   NaN      Reg   \n",
              "2   3          60       RL         68.0    11250   Pave   NaN      IR1   \n",
              "3   4          70       RL         60.0     9550   Pave   NaN      IR1   \n",
              "4   5          60       RL         84.0    14260   Pave   NaN      IR1   \n",
              "\n",
              "  LandContour Utilities  ... PoolArea PoolQC Fence MiscFeature MiscVal MoSold  \\\n",
              "0         Lvl    AllPub  ...        0    NaN   NaN         NaN       0      2   \n",
              "1         Lvl    AllPub  ...        0    NaN   NaN         NaN       0      5   \n",
              "2         Lvl    AllPub  ...        0    NaN   NaN         NaN       0      9   \n",
              "3         Lvl    AllPub  ...        0    NaN   NaN         NaN       0      2   \n",
              "4         Lvl    AllPub  ...        0    NaN   NaN         NaN       0     12   \n",
              "\n",
              "  YrSold  SaleType  SaleCondition  SalePrice  \n",
              "0   2008        WD         Normal     208500  \n",
              "1   2007        WD         Normal     181500  \n",
              "2   2008        WD         Normal     223500  \n",
              "3   2006        WD        Abnorml     140000  \n",
              "4   2008        WD         Normal     250000  \n",
              "\n",
              "[5 rows x 81 columns]"
            ],
            "text/html": [
              "\n",
              "  <div id=\"df-00c125fa-1118-446c-9b13-e7c63738751e\" class=\"colab-df-container\">\n",
              "    <div>\n",
              "<style scoped>\n",
              "    .dataframe tbody tr th:only-of-type {\n",
              "        vertical-align: middle;\n",
              "    }\n",
              "\n",
              "    .dataframe tbody tr th {\n",
              "        vertical-align: top;\n",
              "    }\n",
              "\n",
              "    .dataframe thead th {\n",
              "        text-align: right;\n",
              "    }\n",
              "</style>\n",
              "<table border=\"1\" class=\"dataframe\">\n",
              "  <thead>\n",
              "    <tr style=\"text-align: right;\">\n",
              "      <th></th>\n",
              "      <th>Id</th>\n",
              "      <th>MSSubClass</th>\n",
              "      <th>MSZoning</th>\n",
              "      <th>LotFrontage</th>\n",
              "      <th>LotArea</th>\n",
              "      <th>Street</th>\n",
              "      <th>Alley</th>\n",
              "      <th>LotShape</th>\n",
              "      <th>LandContour</th>\n",
              "      <th>Utilities</th>\n",
              "      <th>...</th>\n",
              "      <th>PoolArea</th>\n",
              "      <th>PoolQC</th>\n",
              "      <th>Fence</th>\n",
              "      <th>MiscFeature</th>\n",
              "      <th>MiscVal</th>\n",
              "      <th>MoSold</th>\n",
              "      <th>YrSold</th>\n",
              "      <th>SaleType</th>\n",
              "      <th>SaleCondition</th>\n",
              "      <th>SalePrice</th>\n",
              "    </tr>\n",
              "  </thead>\n",
              "  <tbody>\n",
              "    <tr>\n",
              "      <th>0</th>\n",
              "      <td>1</td>\n",
              "      <td>60</td>\n",
              "      <td>RL</td>\n",
              "      <td>65.0</td>\n",
              "      <td>8450</td>\n",
              "      <td>Pave</td>\n",
              "      <td>NaN</td>\n",
              "      <td>Reg</td>\n",
              "      <td>Lvl</td>\n",
              "      <td>AllPub</td>\n",
              "      <td>...</td>\n",
              "      <td>0</td>\n",
              "      <td>NaN</td>\n",
              "      <td>NaN</td>\n",
              "      <td>NaN</td>\n",
              "      <td>0</td>\n",
              "      <td>2</td>\n",
              "      <td>2008</td>\n",
              "      <td>WD</td>\n",
              "      <td>Normal</td>\n",
              "      <td>208500</td>\n",
              "    </tr>\n",
              "    <tr>\n",
              "      <th>1</th>\n",
              "      <td>2</td>\n",
              "      <td>20</td>\n",
              "      <td>RL</td>\n",
              "      <td>80.0</td>\n",
              "      <td>9600</td>\n",
              "      <td>Pave</td>\n",
              "      <td>NaN</td>\n",
              "      <td>Reg</td>\n",
              "      <td>Lvl</td>\n",
              "      <td>AllPub</td>\n",
              "      <td>...</td>\n",
              "      <td>0</td>\n",
              "      <td>NaN</td>\n",
              "      <td>NaN</td>\n",
              "      <td>NaN</td>\n",
              "      <td>0</td>\n",
              "      <td>5</td>\n",
              "      <td>2007</td>\n",
              "      <td>WD</td>\n",
              "      <td>Normal</td>\n",
              "      <td>181500</td>\n",
              "    </tr>\n",
              "    <tr>\n",
              "      <th>2</th>\n",
              "      <td>3</td>\n",
              "      <td>60</td>\n",
              "      <td>RL</td>\n",
              "      <td>68.0</td>\n",
              "      <td>11250</td>\n",
              "      <td>Pave</td>\n",
              "      <td>NaN</td>\n",
              "      <td>IR1</td>\n",
              "      <td>Lvl</td>\n",
              "      <td>AllPub</td>\n",
              "      <td>...</td>\n",
              "      <td>0</td>\n",
              "      <td>NaN</td>\n",
              "      <td>NaN</td>\n",
              "      <td>NaN</td>\n",
              "      <td>0</td>\n",
              "      <td>9</td>\n",
              "      <td>2008</td>\n",
              "      <td>WD</td>\n",
              "      <td>Normal</td>\n",
              "      <td>223500</td>\n",
              "    </tr>\n",
              "    <tr>\n",
              "      <th>3</th>\n",
              "      <td>4</td>\n",
              "      <td>70</td>\n",
              "      <td>RL</td>\n",
              "      <td>60.0</td>\n",
              "      <td>9550</td>\n",
              "      <td>Pave</td>\n",
              "      <td>NaN</td>\n",
              "      <td>IR1</td>\n",
              "      <td>Lvl</td>\n",
              "      <td>AllPub</td>\n",
              "      <td>...</td>\n",
              "      <td>0</td>\n",
              "      <td>NaN</td>\n",
              "      <td>NaN</td>\n",
              "      <td>NaN</td>\n",
              "      <td>0</td>\n",
              "      <td>2</td>\n",
              "      <td>2006</td>\n",
              "      <td>WD</td>\n",
              "      <td>Abnorml</td>\n",
              "      <td>140000</td>\n",
              "    </tr>\n",
              "    <tr>\n",
              "      <th>4</th>\n",
              "      <td>5</td>\n",
              "      <td>60</td>\n",
              "      <td>RL</td>\n",
              "      <td>84.0</td>\n",
              "      <td>14260</td>\n",
              "      <td>Pave</td>\n",
              "      <td>NaN</td>\n",
              "      <td>IR1</td>\n",
              "      <td>Lvl</td>\n",
              "      <td>AllPub</td>\n",
              "      <td>...</td>\n",
              "      <td>0</td>\n",
              "      <td>NaN</td>\n",
              "      <td>NaN</td>\n",
              "      <td>NaN</td>\n",
              "      <td>0</td>\n",
              "      <td>12</td>\n",
              "      <td>2008</td>\n",
              "      <td>WD</td>\n",
              "      <td>Normal</td>\n",
              "      <td>250000</td>\n",
              "    </tr>\n",
              "  </tbody>\n",
              "</table>\n",
              "<p>5 rows × 81 columns</p>\n",
              "</div>\n",
              "    <div class=\"colab-df-buttons\">\n",
              "\n",
              "  <div class=\"colab-df-container\">\n",
              "    <button class=\"colab-df-convert\" onclick=\"convertToInteractive('df-00c125fa-1118-446c-9b13-e7c63738751e')\"\n",
              "            title=\"Convert this dataframe to an interactive table.\"\n",
              "            style=\"display:none;\">\n",
              "\n",
              "  <svg xmlns=\"http://www.w3.org/2000/svg\" height=\"24px\" viewBox=\"0 -960 960 960\">\n",
              "    <path d=\"M120-120v-720h720v720H120Zm60-500h600v-160H180v160Zm220 220h160v-160H400v160Zm0 220h160v-160H400v160ZM180-400h160v-160H180v160Zm440 0h160v-160H620v160ZM180-180h160v-160H180v160Zm440 0h160v-160H620v160Z\"/>\n",
              "  </svg>\n",
              "    </button>\n",
              "\n",
              "  <style>\n",
              "    .colab-df-container {\n",
              "      display:flex;\n",
              "      gap: 12px;\n",
              "    }\n",
              "\n",
              "    .colab-df-convert {\n",
              "      background-color: #E8F0FE;\n",
              "      border: none;\n",
              "      border-radius: 50%;\n",
              "      cursor: pointer;\n",
              "      display: none;\n",
              "      fill: #1967D2;\n",
              "      height: 32px;\n",
              "      padding: 0 0 0 0;\n",
              "      width: 32px;\n",
              "    }\n",
              "\n",
              "    .colab-df-convert:hover {\n",
              "      background-color: #E2EBFA;\n",
              "      box-shadow: 0px 1px 2px rgba(60, 64, 67, 0.3), 0px 1px 3px 1px rgba(60, 64, 67, 0.15);\n",
              "      fill: #174EA6;\n",
              "    }\n",
              "\n",
              "    .colab-df-buttons div {\n",
              "      margin-bottom: 4px;\n",
              "    }\n",
              "\n",
              "    [theme=dark] .colab-df-convert {\n",
              "      background-color: #3B4455;\n",
              "      fill: #D2E3FC;\n",
              "    }\n",
              "\n",
              "    [theme=dark] .colab-df-convert:hover {\n",
              "      background-color: #434B5C;\n",
              "      box-shadow: 0px 1px 3px 1px rgba(0, 0, 0, 0.15);\n",
              "      filter: drop-shadow(0px 1px 2px rgba(0, 0, 0, 0.3));\n",
              "      fill: #FFFFFF;\n",
              "    }\n",
              "  </style>\n",
              "\n",
              "    <script>\n",
              "      const buttonEl =\n",
              "        document.querySelector('#df-00c125fa-1118-446c-9b13-e7c63738751e button.colab-df-convert');\n",
              "      buttonEl.style.display =\n",
              "        google.colab.kernel.accessAllowed ? 'block' : 'none';\n",
              "\n",
              "      async function convertToInteractive(key) {\n",
              "        const element = document.querySelector('#df-00c125fa-1118-446c-9b13-e7c63738751e');\n",
              "        const dataTable =\n",
              "          await google.colab.kernel.invokeFunction('convertToInteractive',\n",
              "                                                    [key], {});\n",
              "        if (!dataTable) return;\n",
              "\n",
              "        const docLinkHtml = 'Like what you see? Visit the ' +\n",
              "          '<a target=\"_blank\" href=https://colab.research.google.com/notebooks/data_table.ipynb>data table notebook</a>'\n",
              "          + ' to learn more about interactive tables.';\n",
              "        element.innerHTML = '';\n",
              "        dataTable['output_type'] = 'display_data';\n",
              "        await google.colab.output.renderOutput(dataTable, element);\n",
              "        const docLink = document.createElement('div');\n",
              "        docLink.innerHTML = docLinkHtml;\n",
              "        element.appendChild(docLink);\n",
              "      }\n",
              "    </script>\n",
              "  </div>\n",
              "\n",
              "\n",
              "<div id=\"df-449697bc-27f2-405f-9ab4-5bc18330cdad\">\n",
              "  <button class=\"colab-df-quickchart\" onclick=\"quickchart('df-449697bc-27f2-405f-9ab4-5bc18330cdad')\"\n",
              "            title=\"Suggest charts\"\n",
              "            style=\"display:none;\">\n",
              "\n",
              "<svg xmlns=\"http://www.w3.org/2000/svg\" height=\"24px\"viewBox=\"0 0 24 24\"\n",
              "     width=\"24px\">\n",
              "    <g>\n",
              "        <path d=\"M19 3H5c-1.1 0-2 .9-2 2v14c0 1.1.9 2 2 2h14c1.1 0 2-.9 2-2V5c0-1.1-.9-2-2-2zM9 17H7v-7h2v7zm4 0h-2V7h2v10zm4 0h-2v-4h2v4z\"/>\n",
              "    </g>\n",
              "</svg>\n",
              "  </button>\n",
              "\n",
              "<style>\n",
              "  .colab-df-quickchart {\n",
              "      --bg-color: #E8F0FE;\n",
              "      --fill-color: #1967D2;\n",
              "      --hover-bg-color: #E2EBFA;\n",
              "      --hover-fill-color: #174EA6;\n",
              "      --disabled-fill-color: #AAA;\n",
              "      --disabled-bg-color: #DDD;\n",
              "  }\n",
              "\n",
              "  [theme=dark] .colab-df-quickchart {\n",
              "      --bg-color: #3B4455;\n",
              "      --fill-color: #D2E3FC;\n",
              "      --hover-bg-color: #434B5C;\n",
              "      --hover-fill-color: #FFFFFF;\n",
              "      --disabled-bg-color: #3B4455;\n",
              "      --disabled-fill-color: #666;\n",
              "  }\n",
              "\n",
              "  .colab-df-quickchart {\n",
              "    background-color: var(--bg-color);\n",
              "    border: none;\n",
              "    border-radius: 50%;\n",
              "    cursor: pointer;\n",
              "    display: none;\n",
              "    fill: var(--fill-color);\n",
              "    height: 32px;\n",
              "    padding: 0;\n",
              "    width: 32px;\n",
              "  }\n",
              "\n",
              "  .colab-df-quickchart:hover {\n",
              "    background-color: var(--hover-bg-color);\n",
              "    box-shadow: 0 1px 2px rgba(60, 64, 67, 0.3), 0 1px 3px 1px rgba(60, 64, 67, 0.15);\n",
              "    fill: var(--button-hover-fill-color);\n",
              "  }\n",
              "\n",
              "  .colab-df-quickchart-complete:disabled,\n",
              "  .colab-df-quickchart-complete:disabled:hover {\n",
              "    background-color: var(--disabled-bg-color);\n",
              "    fill: var(--disabled-fill-color);\n",
              "    box-shadow: none;\n",
              "  }\n",
              "\n",
              "  .colab-df-spinner {\n",
              "    border: 2px solid var(--fill-color);\n",
              "    border-color: transparent;\n",
              "    border-bottom-color: var(--fill-color);\n",
              "    animation:\n",
              "      spin 1s steps(1) infinite;\n",
              "  }\n",
              "\n",
              "  @keyframes spin {\n",
              "    0% {\n",
              "      border-color: transparent;\n",
              "      border-bottom-color: var(--fill-color);\n",
              "      border-left-color: var(--fill-color);\n",
              "    }\n",
              "    20% {\n",
              "      border-color: transparent;\n",
              "      border-left-color: var(--fill-color);\n",
              "      border-top-color: var(--fill-color);\n",
              "    }\n",
              "    30% {\n",
              "      border-color: transparent;\n",
              "      border-left-color: var(--fill-color);\n",
              "      border-top-color: var(--fill-color);\n",
              "      border-right-color: var(--fill-color);\n",
              "    }\n",
              "    40% {\n",
              "      border-color: transparent;\n",
              "      border-right-color: var(--fill-color);\n",
              "      border-top-color: var(--fill-color);\n",
              "    }\n",
              "    60% {\n",
              "      border-color: transparent;\n",
              "      border-right-color: var(--fill-color);\n",
              "    }\n",
              "    80% {\n",
              "      border-color: transparent;\n",
              "      border-right-color: var(--fill-color);\n",
              "      border-bottom-color: var(--fill-color);\n",
              "    }\n",
              "    90% {\n",
              "      border-color: transparent;\n",
              "      border-bottom-color: var(--fill-color);\n",
              "    }\n",
              "  }\n",
              "</style>\n",
              "\n",
              "  <script>\n",
              "    async function quickchart(key) {\n",
              "      const quickchartButtonEl =\n",
              "        document.querySelector('#' + key + ' button');\n",
              "      quickchartButtonEl.disabled = true;  // To prevent multiple clicks.\n",
              "      quickchartButtonEl.classList.add('colab-df-spinner');\n",
              "      try {\n",
              "        const charts = await google.colab.kernel.invokeFunction(\n",
              "            'suggestCharts', [key], {});\n",
              "      } catch (error) {\n",
              "        console.error('Error during call to suggestCharts:', error);\n",
              "      }\n",
              "      quickchartButtonEl.classList.remove('colab-df-spinner');\n",
              "      quickchartButtonEl.classList.add('colab-df-quickchart-complete');\n",
              "    }\n",
              "    (() => {\n",
              "      let quickchartButtonEl =\n",
              "        document.querySelector('#df-449697bc-27f2-405f-9ab4-5bc18330cdad button');\n",
              "      quickchartButtonEl.style.display =\n",
              "        google.colab.kernel.accessAllowed ? 'block' : 'none';\n",
              "    })();\n",
              "  </script>\n",
              "</div>\n",
              "    </div>\n",
              "  </div>\n"
            ],
            "application/vnd.google.colaboratory.intrinsic+json": {
              "type": "dataframe",
              "variable_name": "data"
            }
          },
          "metadata": {},
          "execution_count": 108
        }
      ]
    },
    {
      "cell_type": "code",
      "metadata": {
        "colab": {
          "base_uri": "https://localhost:8080/"
        },
        "outputId": "c8af1234-a4f5-432f-e6c9-acbb48c7a368",
        "id": "zl0U6NNqGVW4"
      },
      "source": [
        "X_train, X_test, y_train, y_test = train_test_split(data.drop(columns=['SalePrice', 'Id']),\n",
        "                                                    data['SalePrice'],\n",
        "                                                    test_size=0.3,\n",
        "                                                    random_state=42)\n",
        "X_train.shape, X_test.shape"
      ],
      "execution_count": null,
      "outputs": [
        {
          "output_type": "execute_result",
          "data": {
            "text/plain": [
              "((1022, 79), (438, 79))"
            ]
          },
          "metadata": {},
          "execution_count": 109
        }
      ]
    },
    {
      "cell_type": "code",
      "source": [
        "categorials = X_train.select_dtypes('object').columns\n",
        "\n",
        "X_train[categorials] = X_train[categorials].fillna('nan')\n",
        "X_test[categorials] = X_test[categorials].fillna('nan')"
      ],
      "metadata": {
        "id": "ciZ9FXquGVW6"
      },
      "execution_count": null,
      "outputs": []
    },
    {
      "cell_type": "code",
      "metadata": {
        "id": "0mH_wJFaGVW8"
      },
      "source": [
        "integer = X_train.select_dtypes(['int', 'float']).columns\n",
        "\n",
        "X_train[integer] = X_train[integer].fillna(-999)\n",
        "\n",
        "X_test[integer] = X_test[integer].fillna(-999)"
      ],
      "execution_count": null,
      "outputs": []
    },
    {
      "cell_type": "code",
      "source": [
        "%%time\n",
        "model_catb = CatBoostRegressor(silent=True, random_state=21,\n",
        "                               eval_metric='R2',\n",
        "                               cat_features=list(categorials),\n",
        "                               early_stopping_rounds=20,\n",
        "                               use_best_model=True,\n",
        "                               custom_metric=['RMSE', 'MAE']\n",
        "                              )\n",
        "model_catb.fit(X_train, y_train, plot=True, eval_set=(X_test, y_test))"
      ],
      "metadata": {
        "colab": {
          "base_uri": "https://localhost:8080/",
          "height": 89,
          "referenced_widgets": [
            "31a414b60acb41c4b20114754423c670"
          ]
        },
        "id": "rVwdpaZrGYv2",
        "outputId": "a7486dab-faa0-4b98-8568-71a1bc3d7180"
      },
      "execution_count": null,
      "outputs": [
        {
          "output_type": "display_data",
          "data": {
            "text/plain": [
              "MetricVisualizer(layout=Layout(align_self='stretch', height='500px'))"
            ],
            "application/vnd.jupyter.widget-view+json": {
              "version_major": 2,
              "version_minor": 0,
              "model_id": "31a414b60acb41c4b20114754423c670"
            }
          },
          "metadata": {}
        },
        {
          "output_type": "stream",
          "name": "stdout",
          "text": [
            "CPU times: user 30 s, sys: 2.83 s, total: 32.8 s\n",
            "Wall time: 28.8 s\n"
          ]
        },
        {
          "output_type": "execute_result",
          "data": {
            "text/plain": [
              "<catboost.core.CatBoostRegressor at 0x7e3cbc8571f0>"
            ]
          },
          "metadata": {},
          "execution_count": 113
        }
      ]
    },
    {
      "cell_type": "code",
      "source": [
        "model_catb.score(X_train, y_train), model_catb.score(X_test, y_test)"
      ],
      "metadata": {
        "colab": {
          "base_uri": "https://localhost:8080/"
        },
        "id": "_4SU4ZGLGeNz",
        "outputId": "9e996bdc-083e-4746-c1a6-e390210f4ae9"
      },
      "execution_count": null,
      "outputs": [
        {
          "output_type": "execute_result",
          "data": {
            "text/plain": [
              "(0.9723473821472837, 0.9175949547329999)"
            ]
          },
          "metadata": {},
          "execution_count": 114
        }
      ]
    },
    {
      "cell_type": "markdown",
      "source": [
        "# Дополнительные материалы:\n",
        "1. Ансамблевые методы: бэггинг, бустинг и стекинг - https://neurohive.io/ru/osnovy-data-science/ansamblevye-metody-begging-busting-i-steking/\n",
        "3. Бустинг - https://medium.com/mlreview/gradient-boosting-from-scratch-1e317ae4587d\n",
        "6. CatBoost против Light GBM против XGBoost - https://machinelearningmastery.ru/catboost-vs-light-gbm-vs-xgboost-5f93620723db/\n"
      ],
      "metadata": {
        "id": "-_E4dV_iI-TI"
      }
    }
  ]
}