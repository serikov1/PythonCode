{
  "nbformat": 4,
  "nbformat_minor": 0,
  "metadata": {
    "colab": {
      "provenance": [],
      "toc_visible": true,
      "collapsed_sections": [
        "HPPui17WOL6f",
        "e3PPjWO9T3uE"
      ],
      "gpuType": "T4"
    },
    "kernelspec": {
      "display_name": "Python 3",
      "name": "python3"
    },
    "language_info": {
      "codemirror_mode": {
        "name": "ipython",
        "version": 3
      },
      "file_extension": ".py",
      "mimetype": "text/x-python",
      "name": "python",
      "nbconvert_exporter": "python",
      "pygments_lexer": "ipython3",
      "version": "3.7.6"
    },
    "toc": {
      "base_numbering": 1,
      "nav_menu": {},
      "number_sections": true,
      "sideBar": true,
      "skip_h1_title": false,
      "title_cell": "Table of Contents",
      "title_sidebar": "Contents",
      "toc_cell": false,
      "toc_position": {},
      "toc_section_display": true,
      "toc_window_display": false
    },
    "varInspector": {
      "cols": {
        "lenName": 16,
        "lenType": 16,
        "lenVar": 40
      },
      "kernels_config": {
        "python": {
          "delete_cmd_postfix": "",
          "delete_cmd_prefix": "del ",
          "library": "var_list.py",
          "varRefreshCmd": "print(var_dic_list())"
        },
        "r": {
          "delete_cmd_postfix": ") ",
          "delete_cmd_prefix": "rm(",
          "library": "var_list.r",
          "varRefreshCmd": "cat(var_dic_list()) "
        }
      },
      "types_to_exclude": [
        "module",
        "function",
        "builtin_function_or_method",
        "instance",
        "_Feature"
      ],
      "window_display": false
    },
    "accelerator": "GPU"
  },
  "cells": [
    {
      "cell_type": "markdown",
      "source": [
        "## PyTorch"
      ],
      "metadata": {
        "id": "6WC1eDfK9GCM"
      }
    },
    {
      "cell_type": "markdown",
      "metadata": {
        "id": "TgH4-Qsklrdm"
      },
      "source": [
        "torch.cuda - это пакет для поддержки CUDA. Он поддерживает такую же функциональность как и CPU, но использует CUDA ядра для вычислений. С полным функционалом можно ознакомиться [здесь](https://pytorch.org/docs/stable/cuda.html?highlight=cuda#module-torch.cuda)"
      ]
    },
    {
      "cell_type": "code",
      "source": [
        "import torch"
      ],
      "metadata": {
        "id": "ru9LlIC69IiS"
      },
      "execution_count": null,
      "outputs": []
    },
    {
      "cell_type": "code",
      "metadata": {
        "id": "cKi3yXWzlrdn"
      },
      "source": [
        "print(f\"Поддерживается ли CUDA : {torch.cuda.is_available()}\")\n",
        "print(f'Количество гпу девайсов: {torch.cuda.device_count()}')\n",
        "print(f\"Характеристики видеокарты : {torch.cuda.get_device_properties(0)}\")"
      ],
      "execution_count": null,
      "outputs": []
    },
    {
      "cell_type": "markdown",
      "metadata": {
        "id": "ZYuP3-cHlrdo"
      },
      "source": [
        "Давайте посмотрим, как работать с cuda. Допустим мы инициализуем два тензора:"
      ]
    },
    {
      "cell_type": "code",
      "metadata": {
        "id": "tDl0l9wQlrdo"
      },
      "source": [
        "a = torch.normal(mean=torch.zeros(2, 4))\n",
        "b = torch.normal(mean=torch.zeros(2, 4))\n",
        "print(f\"a:\\n{a}\\nb:\\n{b}\")"
      ],
      "execution_count": null,
      "outputs": []
    },
    {
      "cell_type": "markdown",
      "metadata": {
        "id": "i1K9I_VKlrdp"
      },
      "source": [
        "Наши тензоры автоматом загружены в память cpu. Но мы легко можем перевести их на cpu таким способом:"
      ]
    },
    {
      "cell_type": "code",
      "metadata": {
        "id": "lDb6ruPvlrdq"
      },
      "source": [
        "a = a.cuda()\n",
        "a"
      ],
      "execution_count": null,
      "outputs": []
    },
    {
      "cell_type": "markdown",
      "metadata": {
        "id": "Ha5DoFO5lrdq"
      },
      "source": [
        "Теперь, если мы попробуем сложить эти два тензора, то у нас вылезет ошибка, т.к. один тензор на cpu, а другой на cuda:"
      ]
    },
    {
      "cell_type": "code",
      "metadata": {
        "id": "UGwUNC2xlrdw"
      },
      "source": [
        "a + b"
      ],
      "execution_count": null,
      "outputs": []
    },
    {
      "cell_type": "markdown",
      "metadata": {
        "id": "Hc627l3ulrdw"
      },
      "source": [
        "Мы не можем производить никакие операции с тензорами, находящимеся на разных устройствах. Что бы сложить их нам нужно оба тензора перевести на одно устройство:"
      ]
    },
    {
      "cell_type": "code",
      "metadata": {
        "id": "Xv7Vbf0glrdx"
      },
      "source": [
        "a + b.cuda()"
      ],
      "execution_count": null,
      "outputs": []
    },
    {
      "cell_type": "code",
      "metadata": {
        "id": "X-WcdeyTlrdx"
      },
      "source": [
        "a.cpu() + b"
      ],
      "execution_count": null,
      "outputs": []
    },
    {
      "cell_type": "code",
      "metadata": {
        "id": "gmcJ4-dYlrdz"
      },
      "source": [
        "(a + b.cuda()).cpu()"
      ],
      "execution_count": null,
      "outputs": []
    },
    {
      "cell_type": "markdown",
      "metadata": {
        "id": "MBhzRlf5lrdz"
      },
      "source": [
        "Так же мы можем задать следующее определение устройства. Если  есть куда, то выбираем куду. В ином случае - цпу:"
      ]
    },
    {
      "cell_type": "code",
      "metadata": {
        "id": "6_7usJoelrd0"
      },
      "source": [
        "device = \"cuda\" if torch.cuda.is_available() else \"cpu\"\n",
        "print(device)"
      ],
      "execution_count": null,
      "outputs": []
    },
    {
      "cell_type": "markdown",
      "metadata": {
        "id": "q4RrmCBTlrd0"
      },
      "source": [
        "У каждого тензора есть поле device, которое по умолчанию стоит cpu. Но мы можем менять его при инициализации или в процессе использования:"
      ]
    },
    {
      "cell_type": "code",
      "metadata": {
        "id": "Tf4O-Jbzlrd7"
      },
      "source": [
        "torch.randn(10, 10, device=device)"
      ],
      "execution_count": null,
      "outputs": []
    },
    {
      "cell_type": "code",
      "metadata": {
        "id": "PQwfJX44lrd8"
      },
      "source": [
        "a = torch.tensor((2 ,3))\n",
        "print(a)"
      ],
      "execution_count": null,
      "outputs": []
    },
    {
      "cell_type": "markdown",
      "metadata": {
        "id": "LtemnxcGlrd9"
      },
      "source": [
        "Переместить можно не только a.cuda(), но и так:"
      ]
    },
    {
      "cell_type": "code",
      "metadata": {
        "id": "TrYYeQ2Ylrd9"
      },
      "source": [
        "a.to(device)"
      ],
      "execution_count": null,
      "outputs": []
    },
    {
      "cell_type": "markdown",
      "metadata": {
        "id": "QJfvB_s_lrd-"
      },
      "source": [
        "Но следует запомнить что .cuda() immutable функция. Т.е. она возвращает новый тензор, а не перезаписывает существующий a:"
      ]
    },
    {
      "cell_type": "code",
      "metadata": {
        "id": "DHVkYlxWlrd-"
      },
      "source": [
        "a"
      ],
      "execution_count": null,
      "outputs": []
    },
    {
      "cell_type": "markdown",
      "metadata": {
        "id": "1r-u4QZ3lrd_"
      },
      "source": [
        "Как видим наш тензор a все на том же cpu. Что бы интерпретатор запомнил что a у нас на куде необходимо присвоить значение выражение в тензор:"
      ]
    },
    {
      "cell_type": "code",
      "metadata": {
        "id": "8PZP4VMqlrd_"
      },
      "source": [
        "a = a.cuda()"
      ],
      "execution_count": null,
      "outputs": []
    },
    {
      "cell_type": "code",
      "metadata": {
        "id": "jSnuqWi4lreA"
      },
      "source": [
        "a"
      ],
      "execution_count": null,
      "outputs": []
    },
    {
      "cell_type": "markdown",
      "metadata": {
        "id": "KiV-LOESlreG"
      },
      "source": [
        "Проверяем, находится ли сейчас тензор на куде:"
      ]
    },
    {
      "cell_type": "code",
      "metadata": {
        "id": "6w2LyZpklreH"
      },
      "source": [
        "a.is_cuda"
      ],
      "execution_count": null,
      "outputs": []
    },
    {
      "cell_type": "markdown",
      "metadata": {
        "id": "zuo6jRyclrfl"
      },
      "source": [
        "### Слои"
      ]
    },
    {
      "cell_type": "markdown",
      "metadata": {
        "id": "PkcMK9v7lrfl"
      },
      "source": [
        "Все основные модули которые будут рассматриваться ниже находятся в [torch.nn](https://pytorch.org/docs/stable/nn.html#). Все кроме оптимизаторов - они находятся в [torch.optim](https://pytorch.org/docs/stable/optim.html)"
      ]
    },
    {
      "cell_type": "markdown",
      "metadata": {
        "id": "PqyiBsZslrfm"
      },
      "source": [
        "**Линейный слой (Линейное преобразование)**\n",
        "\n",
        "[pytorch doc](https://pytorch.org/docs/stable/generated/torch.nn.Linear.html)"
      ]
    },
    {
      "cell_type": "code",
      "metadata": {
        "id": "wW0hJOqRlrfr"
      },
      "source": [
        "layer = torch.nn.Linear(\n",
        "    in_features=3,\n",
        "    out_features=2,\n",
        "    bias=True\n",
        ")"
      ],
      "execution_count": null,
      "outputs": []
    },
    {
      "cell_type": "code",
      "metadata": {
        "id": "vBymHmwoO6Gc"
      },
      "source": [
        "layer.weight, layer.bias"
      ],
      "execution_count": null,
      "outputs": []
    },
    {
      "cell_type": "code",
      "source": [
        "model = torch.nn.Sequential(\n",
        "    torch.nn.Linear(3, 1)\n",
        ")\n",
        "model"
      ],
      "metadata": {
        "id": "SQCl0MM8ANnP"
      },
      "execution_count": null,
      "outputs": []
    },
    {
      "cell_type": "code",
      "source": [
        "model = torch.nn.Sequential()\n",
        "model.add_module('L1', torch.nn.Linear(3, 1))\n",
        "model"
      ],
      "metadata": {
        "id": "pivS-okhAhkB"
      },
      "execution_count": null,
      "outputs": []
    },
    {
      "cell_type": "code",
      "source": [
        "import torchsummary\n",
        "\n",
        "torchsummary.summary(model.to('cuda'), (3,))"
      ],
      "metadata": {
        "id": "qEHUEC4XAqzc"
      },
      "execution_count": null,
      "outputs": []
    },
    {
      "cell_type": "markdown",
      "metadata": {
        "id": "eHImPO4olrgZ"
      },
      "source": [
        "### Алгоритм обучения в pytorch"
      ]
    },
    {
      "cell_type": "code",
      "metadata": {
        "id": "phZxJlZ5lrgZ"
      },
      "source": [
        "import torch\n",
        "from torch import nn\n",
        "from torch import optim"
      ],
      "execution_count": null,
      "outputs": []
    },
    {
      "cell_type": "markdown",
      "metadata": {
        "id": "leaG6UYdlrgb"
      },
      "source": [
        "1. Для начала нам нужна модель через которую мы будем прогонять данные и получать какой-то результат. Для этого возьмем линейное преобразование:"
      ]
    },
    {
      "cell_type": "code",
      "metadata": {
        "id": "8p_Y5Ix8lrge"
      },
      "source": [
        "# torch.manual_seed(1)\n",
        "\n",
        "model = nn.Sequential(\n",
        "    nn.Linear(2, 1),\n",
        "    nn.Sigmoid()\n",
        ")\n",
        "\n",
        "torchsummary.summary(model.to('cuda'), (2,))"
      ],
      "execution_count": null,
      "outputs": []
    },
    {
      "cell_type": "markdown",
      "metadata": {
        "id": "MCYlfLIZlrgf"
      },
      "source": [
        "У слоя в pytorch мы всегда можем посмотреть веса и отклонение:"
      ]
    },
    {
      "cell_type": "code",
      "source": [
        "model.weight"
      ],
      "metadata": {
        "id": "xMrNY_ZlBB0x"
      },
      "execution_count": null,
      "outputs": []
    },
    {
      "cell_type": "code",
      "source": [
        "model[0], model[1]"
      ],
      "metadata": {
        "id": "R94cC8N3BHph"
      },
      "execution_count": null,
      "outputs": []
    },
    {
      "cell_type": "code",
      "metadata": {
        "id": "QfmjSh0wlrgg"
      },
      "source": [
        "print('w: ', model[0].weight)\n",
        "print('b: ', model[0].bias)"
      ],
      "execution_count": null,
      "outputs": []
    },
    {
      "cell_type": "markdown",
      "metadata": {
        "id": "EcEQk9xklrgg"
      },
      "source": [
        "2. Теперь нам нужно определить функцию ошибок для подсчета градиента:"
      ]
    },
    {
      "cell_type": "code",
      "metadata": {
        "id": "ktjXPigolrgh"
      },
      "source": [
        "criterion = nn.BCELoss()"
      ],
      "execution_count": null,
      "outputs": []
    },
    {
      "cell_type": "markdown",
      "metadata": {
        "id": "9s5fLcGGlrgm"
      },
      "source": [
        "3. Так же нам нужен оптимизатор который будет изменять веса нашей модели:"
      ]
    },
    {
      "cell_type": "code",
      "metadata": {
        "id": "TQoaffbOlrgm"
      },
      "source": [
        "optimizer = torch.optim.SGD(model.parameters(), lr=0.01)"
      ],
      "execution_count": null,
      "outputs": []
    },
    {
      "cell_type": "markdown",
      "metadata": {
        "id": "jsft9Mrulrgn"
      },
      "source": [
        "4. Нам нужны данные (х) и верные метки (y) по которым мы поймем правильные ли предсказания делает модель. (В данном случае у нас всего пара значений (данные, метки). О том как организовывать много данных ниже и в дальнейших вебинарах):"
      ]
    },
    {
      "cell_type": "code",
      "metadata": {
        "id": "0aXEA3OGlrgn"
      },
      "source": [
        "x = torch.randn(2)\n",
        "y = torch.zeros((1,))\n",
        "\n",
        "x, y"
      ],
      "execution_count": null,
      "outputs": []
    },
    {
      "cell_type": "markdown",
      "metadata": {
        "id": "hT-kKVE7lrgo"
      },
      "source": [
        "5. Перед тем как считать градиенты и менять веса, нам нужно обнулить градиенты хранящиеся в свойстве тензора .grad. Для этого выполняем следующую строчку кода:"
      ]
    },
    {
      "cell_type": "code",
      "metadata": {
        "id": "JdByvAdylrgo"
      },
      "source": [
        "optimizer.zero_grad()"
      ],
      "execution_count": null,
      "outputs": []
    },
    {
      "cell_type": "markdown",
      "metadata": {
        "id": "nleewGB2lrgp"
      },
      "source": [
        "6. Затем делаем предсказание на наших данных х, получаем предсказание модели и сохраняем это предсказание в переменную pred:"
      ]
    },
    {
      "cell_type": "code",
      "metadata": {
        "id": "6vd31Yqxlrgp"
      },
      "source": [
        "x = x.to(device)\n",
        "pred = model(x)\n",
        "\n",
        "pred"
      ],
      "execution_count": null,
      "outputs": []
    },
    {
      "cell_type": "markdown",
      "metadata": {
        "id": "8_xyEM2Ilrgq"
      },
      "source": [
        "7. Переменная pred имеет ту же размерность, что и y. y - это наша правильная метка (ground truth). На этом этапе мы сравниваем предсказанное с реальным и получаем некую численную оценку этого через функцию потерь:"
      ]
    },
    {
      "cell_type": "code",
      "metadata": {
        "id": "KMATmsD0lrgq"
      },
      "source": [
        "y = y.to(device)\n",
        "loss = criterion(pred, y)\n",
        "print('loss: ', loss, ' \\nloss_item :', loss.item())"
      ],
      "execution_count": null,
      "outputs": []
    },
    {
      "cell_type": "markdown",
      "metadata": {
        "id": "1LBFt80flrgr"
      },
      "source": [
        "Стоит отметить, что если мы посмотрим на переменную .grad наших весов и отклонения, то ничего не будет:"
      ]
    },
    {
      "cell_type": "code",
      "metadata": {
        "id": "CUIp6jQtlrgs"
      },
      "source": [
        "print('dL/dw: ', model[0].weight.grad)\n",
        "print('dL/db: ', model[0].bias.grad)"
      ],
      "execution_count": null,
      "outputs": []
    },
    {
      "cell_type": "markdown",
      "metadata": {
        "id": "UpKSxAbulrgs"
      },
      "source": [
        "Это потому что мы не начинали идти в обратном направлении и высчитывать градиенты."
      ]
    },
    {
      "cell_type": "markdown",
      "metadata": {
        "id": "MyCJdzdclrgt"
      },
      "source": [
        "8. Что ж, самое время это сделать. Проходим в обратном направлении и вычислим градиенты:"
      ]
    },
    {
      "cell_type": "code",
      "metadata": {
        "id": "JroDNpxJlrgt"
      },
      "source": [
        "loss.backward()"
      ],
      "execution_count": null,
      "outputs": []
    },
    {
      "cell_type": "markdown",
      "metadata": {
        "id": "qlzi3IZflrgu"
      },
      "source": [
        "Теперь если мы посмотрим на grad весов, то уже что-то увидим:"
      ]
    },
    {
      "cell_type": "code",
      "metadata": {
        "id": "S2jqTzv5lrgu"
      },
      "source": [
        "print('w: ', model[0].weight.grad)\n",
        "print('b: ', model[0].bias.grad)"
      ],
      "execution_count": null,
      "outputs": []
    },
    {
      "cell_type": "markdown",
      "metadata": {
        "id": "96uo8Dyulrgv"
      },
      "source": [
        "9. Теперь самое время поменять веса. Для этого надо сделать так называемый шаг оптимизатора. Здесь оптимизатор имея информацию о высчитанных градиентах и значениях весов меняет последние:"
      ]
    },
    {
      "cell_type": "code",
      "metadata": {
        "id": "JOQ1VXTOlrgv"
      },
      "source": [
        "# Веса до\n",
        "print('BEFORE:\\n','w: ', model[0].weight)\n",
        "print('b: ', model[0].bias, '\\n')\n",
        "\n",
        "# Делаем шаг оптимизатора\n",
        "optimizer.step()\n",
        "\n",
        "# Веса после\n",
        "print('AFTER:\\n''w: ', model[0].weight)\n",
        "print('b: ', model[0].bias)"
      ],
      "execution_count": null,
      "outputs": []
    },
    {
      "cell_type": "markdown",
      "source": [
        "\n",
        "Шаги обучения:\n",
        "1. Проход по батчу\n",
        "2. Обнуление градиента\n",
        "3. Предсказание модели на батче\n",
        "4. Подсчет ошибки\n",
        "5. Подсчет градиентов\n",
        "6. Шаг оптимизации\n",
        "7. Логирование информации"
      ],
      "metadata": {
        "id": "2jBNfmDbCrMr"
      }
    },
    {
      "cell_type": "markdown",
      "source": [
        "### Создание сети через класс"
      ],
      "metadata": {
        "id": "gSrUASayC7wD"
      }
    },
    {
      "cell_type": "markdown",
      "source": [
        "Напишим небольшую полносвязную сеть на торче."
      ],
      "metadata": {
        "id": "Rg5iDYoFvmNu"
      }
    },
    {
      "cell_type": "code",
      "execution_count": null,
      "metadata": {
        "id": "ITonhzkPtZ2T"
      },
      "outputs": [],
      "source": [
        "class Net(nn.Module):\n",
        "    def __init__(self):\n",
        "        # torch.manual_seed(1)\n",
        "        super().__init__()\n",
        "        self.fc = nn.Linear(2, 1)\n",
        "        self.sigmoid = nn.Sigmoid()\n",
        "\n",
        "    def forward(self, x):\n",
        "        # print('input', x)\n",
        "        output = self.fc(x)\n",
        "        # print('output fc', output)\n",
        "        output = self.sigmoid(output)\n",
        "        # print('output sigmoid', output)\n",
        "        return output"
      ]
    },
    {
      "cell_type": "code",
      "execution_count": null,
      "metadata": {
        "id": "jXIFauNttZ2V"
      },
      "outputs": [],
      "source": [
        "model = Net()\n",
        "model = model.to(device)\n",
        "model"
      ]
    },
    {
      "cell_type": "code",
      "source": [
        "torchsummary.summary(model, (2,))"
      ],
      "metadata": {
        "id": "soadZelZDLgJ"
      },
      "execution_count": null,
      "outputs": []
    },
    {
      "cell_type": "code",
      "source": [
        "model.fc.weight"
      ],
      "metadata": {
        "id": "UGwi27D3Dt4h"
      },
      "execution_count": null,
      "outputs": []
    },
    {
      "cell_type": "code",
      "source": [
        "model['fc']"
      ],
      "metadata": {
        "id": "ZkPV5ht2DvI8"
      },
      "execution_count": null,
      "outputs": []
    },
    {
      "cell_type": "code",
      "metadata": {
        "id": "r4MXOM5uDj7r"
      },
      "source": [
        "criterion = nn.BCELoss()\n",
        "optimizer = torch.optim.SGD(model.parameters(), lr=0.01)"
      ],
      "execution_count": null,
      "outputs": []
    },
    {
      "cell_type": "code",
      "metadata": {
        "id": "bgVFjWjWDj73"
      },
      "source": [
        "optimizer.zero_grad()"
      ],
      "execution_count": null,
      "outputs": []
    },
    {
      "cell_type": "code",
      "source": [
        "pred = model(x)\n",
        "pred"
      ],
      "metadata": {
        "id": "OCf1xz_oDcI4"
      },
      "execution_count": null,
      "outputs": []
    },
    {
      "cell_type": "code",
      "metadata": {
        "id": "a87ZbTYZDj77"
      },
      "source": [
        "loss = criterion(pred, y)\n",
        "print('loss: ', loss, ' \\nloss_item :', loss.item())"
      ],
      "execution_count": null,
      "outputs": []
    },
    {
      "cell_type": "code",
      "metadata": {
        "id": "8Zh3PW89Dj7-"
      },
      "source": [
        "loss.backward()"
      ],
      "execution_count": null,
      "outputs": []
    },
    {
      "cell_type": "code",
      "metadata": {
        "id": "Es4Te_-CDj7_"
      },
      "source": [
        "# Веса до\n",
        "print('BEFORE:\\n','w: ', model.fc.weight)\n",
        "print('b: ', model.fc.bias, '\\n')\n",
        "\n",
        "# Делаем шаг оптимизатора\n",
        "optimizer.step()\n",
        "\n",
        "# Веса после\n",
        "print('AFTER:\\n''w: ', model.fc.weight)\n",
        "print('b: ', model.fc.bias)"
      ],
      "execution_count": null,
      "outputs": []
    },
    {
      "cell_type": "markdown",
      "source": [
        "**Возьмем несколько объектов**"
      ],
      "metadata": {
        "id": "cjqYA1zfM1--"
      }
    },
    {
      "cell_type": "code",
      "source": [
        "x = torch.randn((3, 2))\n",
        "y = torch.zeros((3,))\n",
        "\n",
        "x = x.to(device)\n",
        "y = y.to(device)\n",
        "x, y"
      ],
      "metadata": {
        "id": "QEoUpxejM4Zy"
      },
      "execution_count": null,
      "outputs": []
    },
    {
      "cell_type": "code",
      "source": [
        "pred = model(x)\n",
        "pred"
      ],
      "metadata": {
        "id": "GbH5O-dLM9mS"
      },
      "execution_count": null,
      "outputs": []
    },
    {
      "cell_type": "code",
      "source": [
        "loss = criterion(pred, y)"
      ],
      "metadata": {
        "id": "5avKWInANCoy"
      },
      "execution_count": null,
      "outputs": []
    },
    {
      "cell_type": "code",
      "source": [
        "loss = criterion(pred.squeeze(), y)\n",
        "loss.item()"
      ],
      "metadata": {
        "id": "Att-pdqtNTMi"
      },
      "execution_count": null,
      "outputs": []
    },
    {
      "cell_type": "markdown",
      "source": [
        "## Решение задачи классификации"
      ],
      "metadata": {
        "id": "3MJDe_aGDefn"
      }
    },
    {
      "cell_type": "code",
      "execution_count": null,
      "metadata": {
        "id": "QssAD3QHtZ2q"
      },
      "outputs": [],
      "source": [
        "from sklearn.datasets import make_classification\n",
        "\n",
        "\n",
        "x_train, y_train = make_classification(random_state=10,\n",
        "                                       n_samples=40,\n",
        "                                       n_features=2,\n",
        "                                       n_informative=2,\n",
        "                                       n_redundant=0)\n",
        "X_train = torch.FloatTensor(x_train)\n",
        "y_train = torch.FloatTensor(y_train)\n",
        "\n",
        "x_test, y_test = make_classification(random_state=10,\n",
        "                                     n_samples=10,\n",
        "                                     n_features=2,\n",
        "                                     n_informative=2,\n",
        "                                     n_redundant=0,\n",
        "                                     shuffle=True)\n",
        "X_test = torch.FloatTensor(x_test)\n",
        "y_test = torch.FloatTensor(y_test)"
      ]
    },
    {
      "cell_type": "code",
      "execution_count": null,
      "metadata": {
        "id": "5JTEgh3BtZ2r"
      },
      "outputs": [],
      "source": [
        "import matplotlib.pyplot as plt\n",
        "\n",
        "plt.scatter(X_train.numpy()[:, 0], X_train.numpy()[:, 1], c=y_train.numpy())\n",
        "plt.scatter(X_test.numpy()[:, 0], X_test.numpy()[:, 1], c=y_test.numpy(), marker='+');"
      ]
    },
    {
      "cell_type": "markdown",
      "source": [
        "#### 🧠 Упражнение. Обучение модели на бинарную классификацию"
      ],
      "metadata": {
        "id": "5fM7imv8LA5y"
      }
    },
    {
      "cell_type": "markdown",
      "source": [
        "1. Создайте сеть из одного линейного слоя для задачи классификации"
      ],
      "metadata": {
        "id": "tpMHKUF5LD5b"
      }
    },
    {
      "cell_type": "code",
      "source": [
        "class Net(nn.Module):\n",
        "    def __init__(self):\n",
        "        super().__init__()\n",
        "        self.fc = ...\n",
        "        self.sigmoid = ...\n",
        "\n",
        "    def forward(self, x):\n",
        "        x = ...\n",
        "        output = ...\n",
        "        return output"
      ],
      "metadata": {
        "id": "CF-DYH6tMGCn"
      },
      "execution_count": null,
      "outputs": []
    },
    {
      "cell_type": "markdown",
      "source": [
        "2. Создайте объекты для подсчета функции потерь и для оптимизатора"
      ],
      "metadata": {
        "id": "hyujUlqzMRhD"
      }
    },
    {
      "cell_type": "code",
      "source": [
        "crit = ...\n",
        "opt = ..."
      ],
      "metadata": {
        "id": "-z9ucXoPMWHw"
      },
      "execution_count": null,
      "outputs": []
    },
    {
      "cell_type": "markdown",
      "source": [
        "3. Реализуйте обучение 1000 эпох\n",
        "\n",
        "- На одной эпохе обучайтесь на всей тренировочной выборке\n",
        "- Каждые 10 эпох печатайте значение функции потерь на всей тренировочной и на всей тестовой выборках"
      ],
      "metadata": {
        "id": "V5KugFwyMoxw"
      }
    },
    {
      "cell_type": "code",
      "source": [
        "for epoch in range(1000):\n",
        "    ...\n",
        "    ...\n",
        "    ...\n",
        "    ...\n",
        "    ...\n",
        "\n",
        "    if epoch % 10 == 0:\n",
        "        pred_test = ...\n",
        "        loss_test = ...\n",
        "        pred_train = ...\n",
        "        loss_train = ...\n",
        "        print(f'Iter {epoch}: train loss {loss_train.item():.2f} test loss {loss_test.item():.2f}')"
      ],
      "metadata": {
        "id": "bnLQuCr7Moeb"
      },
      "execution_count": null,
      "outputs": []
    },
    {
      "cell_type": "markdown",
      "source": [
        "4. После всего обучения посчитайте метрику accuracy на тесте и трейне"
      ],
      "metadata": {
        "id": "Z-agyd9qN3RG"
      }
    },
    {
      "cell_type": "code",
      "source": [
        "pred_train = ...\n",
        "pred_train_cls = ...\n",
        "\n",
        "..."
      ],
      "metadata": {
        "id": "yfxlZqbhN3RI"
      },
      "execution_count": null,
      "outputs": []
    },
    {
      "cell_type": "code",
      "source": [
        "pred_test = ...\n",
        "pred_test_cls = ...\n",
        "\n",
        "..."
      ],
      "metadata": {
        "id": "loqqvK9eN3RJ"
      },
      "execution_count": null,
      "outputs": []
    },
    {
      "cell_type": "markdown",
      "source": [
        "##### 🧠 Упражнение (ответ). Обучение модели на бинарную классификацию"
      ],
      "metadata": {
        "id": "HPPui17WOL6f"
      }
    },
    {
      "cell_type": "markdown",
      "source": [
        "1. Создайте сеть из одного линейного слоя для задачи классификации"
      ],
      "metadata": {
        "id": "kSGmIK6-MFTL"
      }
    },
    {
      "cell_type": "code",
      "source": [
        "class Net(nn.Module):\n",
        "    def __init__(self):\n",
        "        super().__init__()\n",
        "        self.fc = nn.Linear(2, 1)\n",
        "        self.sigmoid = nn.Sigmoid()\n",
        "\n",
        "    def forward(self, x):\n",
        "        output = self.fc(x)\n",
        "        output = self.sigmoid(output)\n",
        "        return output"
      ],
      "metadata": {
        "id": "UvLUTEqEEaqI"
      },
      "execution_count": null,
      "outputs": []
    },
    {
      "cell_type": "code",
      "source": [
        "model = Net()\n",
        "model"
      ],
      "metadata": {
        "id": "Dc9rqd60Eh-r"
      },
      "execution_count": null,
      "outputs": []
    },
    {
      "cell_type": "markdown",
      "source": [
        "2. Создайте объекты для подсчета функции потерь и для оптимизатора"
      ],
      "metadata": {
        "id": "OJrBj9wnMYeU"
      }
    },
    {
      "cell_type": "code",
      "source": [
        "crit = nn.BCELoss()\n",
        "opt = optim.SGD(model.parameters(), lr=0.01)"
      ],
      "metadata": {
        "id": "POrByr7pEmw-"
      },
      "execution_count": null,
      "outputs": []
    },
    {
      "cell_type": "markdown",
      "source": [
        "3. Реализуйте обучение 1000 эпох\n",
        "\n",
        "- На одной эпохе обучайтесь на всей тренировочной выборке\n",
        "- Каждые 10 эпох печатайте значение функции потерь на всей тренировочной и на всей тестовой выборках"
      ],
      "metadata": {
        "id": "kef74PhyMaFl"
      }
    },
    {
      "cell_type": "markdown",
      "source": [
        "\n",
        "1. Проход по батчу\n",
        "2. Обнуление градиента\n",
        "3. Предсказание модели на батче\n",
        "4. Подсчет ошибки\n",
        "5. Подсчет градиентов\n",
        "6. Шаг оптимизации\n",
        "7. Логирование информации\n"
      ],
      "metadata": {
        "id": "zIyjTvt_FYO7"
      }
    },
    {
      "cell_type": "code",
      "source": [
        "for epoch in range(1000):\n",
        "    opt.zero_grad()\n",
        "    pred = model(X_train)\n",
        "    # loss = crit(pred, y_train)\n",
        "    loss = crit(pred.squeeze(), y_train)\n",
        "    loss.backward()\n",
        "    opt.step()\n",
        "\n",
        "    if epoch % 10 == 0:\n",
        "        pred_test = model(X_test)\n",
        "        loss_test = crit(pred_test.squeeze(), y_test)\n",
        "        pred_train = model(X_train)\n",
        "        loss_train = crit(pred_train.squeeze(), y_train)\n",
        "        print(f'Iter {epoch}: train loss {loss_train.item():.2f} test loss {loss_test.item():.2f}')"
      ],
      "metadata": {
        "id": "juod3L12FCEw"
      },
      "execution_count": null,
      "outputs": []
    },
    {
      "cell_type": "markdown",
      "source": [
        "4. После всего обучения посчитайте метрику accuracy на тесте и трейне"
      ],
      "metadata": {
        "id": "-3wZjkG4Nxtv"
      }
    },
    {
      "cell_type": "code",
      "source": [
        "pred_train = model(X_train)\n",
        "pred_train_cls = torch.where(pred_train >= 0.5, 1, 0).squeeze()\n",
        "\n",
        "(pred_train_cls == y_train).numpy().mean()"
      ],
      "metadata": {
        "id": "Oti_abWBEeNV"
      },
      "execution_count": null,
      "outputs": []
    },
    {
      "cell_type": "code",
      "source": [
        "pred_test = model(X_test)\n",
        "pred_test_cls = torch.where(pred_test >= 0.5, 1, 0).squeeze()\n",
        "\n",
        "(pred_test_cls == y_test).numpy().mean()"
      ],
      "metadata": {
        "id": "R-L0lnf3GTJU"
      },
      "execution_count": null,
      "outputs": []
    },
    {
      "cell_type": "markdown",
      "source": [
        "### Классификация изображений"
      ],
      "metadata": {
        "id": "6dFAcQbOHNqw"
      }
    },
    {
      "cell_type": "markdown",
      "source": [
        "Ссылка на датасет на каггл: https://www.kaggle.com/datasets/ashfakyeafi/glasses-classification-dataset/data\n",
        "\n",
        "Ссылка на датасет на google drive: https://drive.google.com/file/d/1iC5c4pJwk-Wb07mP-Qr2tjcvJuRCnoOs"
      ],
      "metadata": {
        "id": "MI1N-CqKRGfg"
      }
    },
    {
      "cell_type": "code",
      "source": [
        "!wget 'https://drive.google.com/uc?id=1iC5c4pJwk-Wb07mP-Qr2tjcvJuRCnoOs' -O glasses.zip"
      ],
      "metadata": {
        "id": "Qt4L8Sk9GTAl"
      },
      "execution_count": null,
      "outputs": []
    },
    {
      "cell_type": "code",
      "source": [
        "!unzip glasses.zip"
      ],
      "metadata": {
        "id": "wZn96KuMGSz4"
      },
      "execution_count": null,
      "outputs": []
    },
    {
      "cell_type": "markdown",
      "source": [
        "Здесь удобней не загружать все изображения в ОЗУ, а работать с ними через генератор\n",
        "\n",
        "[ImageFolder](https://pytorch.org/vision/main/generated/torchvision.datasets.ImageFolder.html).\n"
      ],
      "metadata": {
        "id": "4O2zk0mSrKPc"
      }
    },
    {
      "cell_type": "code",
      "source": [
        "from torchvision.datasets import ImageFolder\n",
        "\n",
        "train_data = ImageFolder('/content/train')\n",
        "\n",
        "classes = train_data.classes\n",
        "len(classes)"
      ],
      "metadata": {
        "id": "22SVmwkypi8Q"
      },
      "execution_count": null,
      "outputs": []
    },
    {
      "cell_type": "code",
      "source": [
        "train_data"
      ],
      "metadata": {
        "id": "UbfF5QBRRoOH"
      },
      "execution_count": null,
      "outputs": []
    },
    {
      "cell_type": "code",
      "source": [
        "test_data = ImageFolder('/content/validate')\n",
        "\n",
        "test_data"
      ],
      "metadata": {
        "id": "cVVMt4S9R-j0"
      },
      "execution_count": null,
      "outputs": []
    },
    {
      "cell_type": "markdown",
      "source": [
        "[DataLoader](https://pytorch.org/tutorials/beginner/basics/data_tutorial.html#preparing-your-data-for-training-with-dataloaders) - объект для генерации батча изображений."
      ],
      "metadata": {
        "id": "EufvWIqBsbZO"
      }
    },
    {
      "cell_type": "code",
      "source": [
        "import torch\n",
        "\n",
        "batch_size = 32\n",
        "\n",
        "train_loader = torch.utils.data.DataLoader(\n",
        "    train_data,\n",
        "    batch_size=batch_size,\n",
        "    shuffle=True)\n",
        "\n",
        "test_loader = torch.utils.data.DataLoader(\n",
        "    test_data,\n",
        "    batch_size=batch_size,\n",
        "    shuffle=True)"
      ],
      "metadata": {
        "id": "bvKqp_U8poSz"
      },
      "execution_count": null,
      "outputs": []
    },
    {
      "cell_type": "code",
      "source": [
        "torch.manual_seed(1)\n",
        "for data, y in train_loader:\n",
        "    print(data.shape)\n",
        "    print(y.shape)\n",
        "    break"
      ],
      "metadata": {
        "id": "Vauxvqi0SQar"
      },
      "execution_count": null,
      "outputs": []
    },
    {
      "cell_type": "markdown",
      "source": [
        "Нужно добавить преобразование изображений в тензоры. Для этого берем модуль [transforms](https://pytorch.org/vision/stable/transforms.html)"
      ],
      "metadata": {
        "id": "93hBVxX1ShMG"
      }
    },
    {
      "cell_type": "code",
      "source": [
        "from torchvision.transforms import transforms\n",
        "\n",
        "transform = transforms.ToTensor()\n",
        "\n",
        "\n",
        "# transform = transforms.Compose([\n",
        "#     transforms.Resize((100, 100)),\n",
        "#     # transforms.CenterCrop(64),\n",
        "#     transforms.ToTensor()\n",
        "# ])"
      ],
      "metadata": {
        "id": "kfPFnxTVSo5r"
      },
      "execution_count": null,
      "outputs": []
    },
    {
      "cell_type": "code",
      "source": [
        "train_data = ImageFolder('/content/train', transform=transform)\n",
        "test_data = ImageFolder('/content/validate', transform=transform)\n",
        "\n",
        "\n",
        "train_loader = torch.utils.data.DataLoader(\n",
        "    train_data,\n",
        "    batch_size=batch_size,\n",
        "    shuffle=True)\n",
        "\n",
        "test_loader = torch.utils.data.DataLoader(\n",
        "    test_data,\n",
        "    batch_size=batch_size,\n",
        "    shuffle=True)"
      ],
      "metadata": {
        "id": "Rfy6Y6VtSqi6"
      },
      "execution_count": null,
      "outputs": []
    },
    {
      "cell_type": "code",
      "source": [
        "torch.manual_seed(1)\n",
        "for data, y in train_loader:\n",
        "    print(data.shape)\n",
        "    print(y.shape)\n",
        "    break"
      ],
      "metadata": {
        "id": "hj2hFdp1S2-W"
      },
      "execution_count": null,
      "outputs": []
    },
    {
      "cell_type": "code",
      "source": [
        "y"
      ],
      "metadata": {
        "id": "EU8HXSvtVo7C"
      },
      "execution_count": null,
      "outputs": []
    },
    {
      "cell_type": "code",
      "source": [
        "import matplotlib.pyplot as plt\n",
        "\n",
        "\n",
        "torch.manual_seed(1)\n",
        "ind = 3\n",
        "for data, y in train_loader:\n",
        "    plt.imshow(data[ind].permute(1, 2, 0))\n",
        "    print(classes[y[ind]])\n",
        "    break"
      ],
      "metadata": {
        "id": "6s1PppLEqb9G"
      },
      "execution_count": null,
      "outputs": []
    },
    {
      "cell_type": "code",
      "source": [
        "data[0].shape"
      ],
      "metadata": {
        "id": "kNVNarYsU1SM"
      },
      "execution_count": null,
      "outputs": []
    },
    {
      "cell_type": "code",
      "source": [
        "64 * 64 * 3"
      ],
      "metadata": {
        "id": "xC10YixYU2gW"
      },
      "execution_count": null,
      "outputs": []
    },
    {
      "cell_type": "markdown",
      "source": [
        "#### 🧠 Упражнение. Подготовка сети"
      ],
      "metadata": {
        "id": "4XC_3gJfT0Nf"
      }
    },
    {
      "cell_type": "markdown",
      "source": [
        "- Постройте сеть с двумя линейными слоями\n",
        "- Со слоем Flatten в начале\n",
        "- С функцией активации ReLU на промежуточных слоях\n",
        "- С размером скрытого представления 50"
      ],
      "metadata": {
        "id": "DRZyv1TxUEfx"
      }
    },
    {
      "cell_type": "code",
      "source": [
        "import torch.nn.functional as F\n",
        "\n",
        "\n",
        "class Net(nn.Module):\n",
        "    def __init__(self, input_dim, hidden_dim, output_dim):\n",
        "        super().__init__()\n",
        "        torch.manual_seed(1)\n",
        "        self.flat = ...\n",
        "        self.fc1 = ...\n",
        "        self.fc2 = ...\n",
        "        self.relu =...\n",
        "\n",
        "    def forward(self, x):\n",
        "        ...\n",
        "        return x\n",
        "\n",
        "\n",
        "\n",
        "net = Net(64 * 64 * 3, 50, 2)\n",
        "net = net.to(device)\n",
        "net"
      ],
      "metadata": {
        "id": "r1CAJcQ2Tu5K"
      },
      "execution_count": null,
      "outputs": []
    },
    {
      "cell_type": "code",
      "source": [
        "torchsummary.summary(net, (64, 64, 3))"
      ],
      "metadata": {
        "id": "PteR2RFXU6WI"
      },
      "execution_count": null,
      "outputs": []
    },
    {
      "cell_type": "markdown",
      "source": [
        "##### 🧠 Упражнение (ответ). Подготовка сети"
      ],
      "metadata": {
        "id": "e3PPjWO9T3uE"
      }
    },
    {
      "cell_type": "code",
      "source": [
        "import torch.nn.functional as F\n",
        "\n",
        "\n",
        "class Net(nn.Module):\n",
        "    def __init__(self, input_dim, hidden_dim, output_dim):\n",
        "        super().__init__()\n",
        "        torch.manual_seed(1)\n",
        "        self.flat = nn.Flatten()\n",
        "        self.fc1 = nn.Linear(input_dim, hidden_dim)\n",
        "        self.fc2 = nn.Linear(hidden_dim, output_dim)\n",
        "        self.relu = nn.ReLU()\n",
        "\n",
        "    def forward(self, x):\n",
        "        x = self.flat(x)\n",
        "        x = self.fc1(x)\n",
        "        x = self.relu(x)\n",
        "        x = self.fc2(x)\n",
        "        return x\n",
        "\n",
        "    def predict(self, x):\n",
        "        ...\n",
        "        return x\n",
        "\n",
        "\n",
        "net = Net(64 * 64 * 3, 50, 2)\n",
        "net = net.to(device)\n",
        "net"
      ],
      "metadata": {
        "id": "itK0tQLxafwS"
      },
      "execution_count": null,
      "outputs": []
    },
    {
      "cell_type": "code",
      "source": [
        "torchsummary.summary(net, (64, 64, 3))"
      ],
      "metadata": {
        "id": "PftSord3fDnj"
      },
      "execution_count": null,
      "outputs": []
    },
    {
      "cell_type": "markdown",
      "source": [
        "### Обучение модели"
      ],
      "metadata": {
        "id": "rUiuRy8DTs3i"
      }
    },
    {
      "cell_type": "code",
      "source": [
        "example = data[:1].to(device)\n",
        "example.shape"
      ],
      "metadata": {
        "id": "fLCyEtAbVRjA"
      },
      "execution_count": null,
      "outputs": []
    },
    {
      "cell_type": "code",
      "source": [
        "pred = net(example)\n",
        "pred"
      ],
      "metadata": {
        "id": "rONroyY5VMA5"
      },
      "execution_count": null,
      "outputs": []
    },
    {
      "cell_type": "code",
      "source": [
        "criterion = nn.CrossEntropyLoss()\n",
        "optimizer = optim.SGD(net.parameters(), lr=0.01)"
      ],
      "metadata": {
        "id": "v4ojH1LRV2zf"
      },
      "execution_count": null,
      "outputs": []
    },
    {
      "cell_type": "code",
      "source": [
        "num_epochs = 100\n",
        "\n",
        "for epoch in range(num_epochs):\n",
        "    running_loss = 0.0\n",
        "    running_items = 0.0\n",
        "    running_correct = 0.0\n",
        "\n",
        "    for i, data in enumerate(train_loader):\n",
        "        inputs, labels = data[0].to(device), data[1].to(device)\n",
        "\n",
        "        optimizer.zero_grad()\n",
        "        outputs = net(inputs)\n",
        "        loss = criterion(outputs, labels)\n",
        "        loss.backward()\n",
        "        optimizer.step()\n",
        "\n",
        "        running_loss += loss.item()\n",
        "        running_items += len(labels)\n",
        "        _, predicted = torch.max(outputs, 1)\n",
        "        running_correct += (predicted == labels).sum().item()\n",
        "\n",
        "    if epoch % 10 == 0:\n",
        "        print(f'Epoch [{epoch + 1}/{num_epochs}]. ' \\\n",
        "              f'Loss: {running_loss / running_items:.3f}. ' \\\n",
        "              f'Acc: {running_correct / running_items:.3f}')\n",
        "        running_loss, running_items, running_correct = 0.0, 0.0, 0.0"
      ],
      "metadata": {
        "id": "gz7qUeIsWYad"
      },
      "execution_count": null,
      "outputs": []
    },
    {
      "cell_type": "code",
      "source": [
        "pred = net(example)\n",
        "pred\n",
        "# nn.Softmax()(pred)"
      ],
      "metadata": {
        "id": "k8XSDjuugSXP"
      },
      "execution_count": null,
      "outputs": []
    },
    {
      "cell_type": "markdown",
      "metadata": {
        "id": "LPFEiskvlrhC"
      },
      "source": [
        "#### Сохранение модели"
      ]
    },
    {
      "cell_type": "code",
      "metadata": {
        "id": "KD7mnuaeAhhs"
      },
      "source": [
        "PATH_WEIGHTS = 'net_weights.pth'\n",
        "torch.save(net.state_dict(), PATH_WEIGHTS)"
      ],
      "execution_count": null,
      "outputs": []
    },
    {
      "cell_type": "code",
      "metadata": {
        "id": "vfaFpun1Ahhs"
      },
      "source": [
        "print(\"Model state_dict: \")\n",
        "for param in net.state_dict():\n",
        "    print(param, \"\\t\", net.state_dict()[param].size())"
      ],
      "execution_count": null,
      "outputs": []
    },
    {
      "cell_type": "code",
      "metadata": {
        "id": "7uo21kDtpehh"
      },
      "source": [
        "PATH_MODEL = 'net.pth'\n",
        "torch.save(net, PATH_MODEL)"
      ],
      "execution_count": null,
      "outputs": []
    },
    {
      "cell_type": "markdown",
      "metadata": {
        "id": "ehNiDFWtAhht"
      },
      "source": [
        "#### Загрузка и использование модели"
      ]
    },
    {
      "cell_type": "code",
      "metadata": {
        "id": "3bobKodiAhht"
      },
      "source": [
        "net2 = Net(64 * 64 * 3, 50, 2)\n",
        "net2.load_state_dict(torch.load(PATH_WEIGHTS))\n",
        "net2"
      ],
      "execution_count": null,
      "outputs": []
    },
    {
      "cell_type": "code",
      "metadata": {
        "id": "EcC_eMaxphxr"
      },
      "source": [
        "net2 = torch.load(PATH_MODEL)"
      ],
      "execution_count": null,
      "outputs": []
    },
    {
      "cell_type": "code",
      "metadata": {
        "id": "bnItAZIgAhht"
      },
      "source": [
        "torch.manual_seed(1)\n",
        "\n",
        "for imgs, y in test_loader:\n",
        "    break\n",
        "\n",
        "imgs = imgs.to(device)[:8]\n",
        "y = y.to(device)[:8]\n",
        "imgs.shape, y.shape"
      ],
      "execution_count": null,
      "outputs": []
    },
    {
      "cell_type": "code",
      "metadata": {
        "id": "xaZVP7lWAhhu"
      },
      "source": [
        "import torchvision\n",
        "\n",
        "outputs = net(imgs)\n",
        "imgs = torchvision.utils.make_grid(imgs).cpu()\n",
        "plt.figure(figsize=(10, 5))\n",
        "plt.imshow(imgs.permute(1, 2, 0).numpy())"
      ],
      "execution_count": null,
      "outputs": []
    },
    {
      "cell_type": "code",
      "metadata": {
        "id": "OK5qzXeCAhhv"
      },
      "source": [
        "print(outputs)"
      ],
      "execution_count": null,
      "outputs": []
    },
    {
      "cell_type": "code",
      "metadata": {
        "id": "VF-ezeboAhhv"
      },
      "source": [
        "_, predicted = torch.max(outputs, 1)\n",
        "\n",
        "predicted"
      ],
      "execution_count": null,
      "outputs": []
    },
    {
      "cell_type": "code",
      "metadata": {
        "id": "oxPcScN3ROv2"
      },
      "source": [
        "import numpy as np\n",
        "\n",
        "gt = np.array([classes[labels[j]] for j in range(len(labels))])\n",
        "pred = np.array([classes[predicted[j]] for j in range(len(labels))])\n",
        "\n",
        "print(gt)\n",
        "print(pred)\n",
        "print(f'Accuracy is {(gt == pred).sum() / len(gt)}')"
      ],
      "execution_count": null,
      "outputs": []
    },
    {
      "cell_type": "markdown",
      "source": [
        "## Дополнительные материалы\n",
        "1. Официальная документация PyTorch https://pytorch.org/tutorials/\n",
        "2. Метод обратного распространения ошибки https://youtu.be/EuhoXsuu8SQ\n",
        "3. Функции активаций https://youtu.be/Gs8T_qF-FAA\n"
      ],
      "metadata": {
        "id": "QEuIPEK1xxuD"
      }
    }
  ]
}